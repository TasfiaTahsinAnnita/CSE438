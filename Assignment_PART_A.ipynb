{
  "cells": [
    {
      "cell_type": "markdown",
      "metadata": {
        "id": "view-in-github",
        "colab_type": "text"
      },
      "source": [
        "<a href=\"https://colab.research.google.com/github/TasfiaTahsinAnnita/CSE438/blob/main/Assignment_PART_A.ipynb\" target=\"_parent\"><img src=\"https://colab.research.google.com/assets/colab-badge.svg\" alt=\"Open In Colab\"/></a>"
      ]
    },
    {
      "cell_type": "code",
      "execution_count": null,
      "metadata": {
        "colab": {
          "base_uri": "https://localhost:8080/"
        },
        "id": "Q_suqfSZSaRh",
        "outputId": "ad25e3fe-8e25-43ef-e0bd-4030de7a0a24"
      },
      "outputs": [
        {
          "name": "stdout",
          "output_type": "stream",
          "text": [
            "Requirement already satisfied: yt_dlp in /usr/local/lib/python3.11/dist-packages (2025.6.30)\n"
          ]
        }
      ],
      "source": [
        "!pip install yt_dlp\n",
        "!pip install opencv-python-headless --quiet"
      ]
    },
    {
      "cell_type": "code",
      "execution_count": null,
      "metadata": {
        "id": "q7VceA4VBRZr"
      },
      "outputs": [],
      "source": [
        "import yt_dlp\n",
        "import cv2\n",
        "import numpy as np\n",
        "import urllib.request\n",
        "import os\n",
        "from IPython.display import display, Video"
      ]
    },
    {
      "cell_type": "markdown",
      "metadata": {
        "id": "-fQ03j5JECHh"
      },
      "source": [
        "# **Download Video from YouTube**\n",
        "\n",
        "The script starts by defining a function to download a video from YouTube using the yt-dlp library. This function takes a video URL and the path where the video should be saved locally.\n",
        "\n",
        "yt-dlp.YoutubeDL(): Initializes the downloader with options to save the video to the given path and choose the best available quality.\n",
        "\n",
        "ydl.download([video_url]): Downloads the video from the provided URL."
      ]
    },
    {
      "cell_type": "code",
      "execution_count": null,
      "metadata": {
        "id": "zjzSuKEDBtXg"
      },
      "outputs": [],
      "source": [
        "def download_youtube_video(video_url, output_path):\n",
        "    ydl_opts = {\n",
        "        'outtmpl': output_path,  # Path to save the video\n",
        "        'format': 'best',  # Download the best available quality\n",
        "    }\n",
        "    with yt_dlp.YoutubeDL(ydl_opts) as ydl:\n",
        "        ydl.download([video_url])"
      ]
    },
    {
      "cell_type": "markdown",
      "metadata": {
        "id": "Bgh-CrY2HGDL"
      },
      "source": [
        "# **Check if Video Exists or Download**\n",
        "\n",
        "Next, the script defines the YouTube video URL and checks whether the video already exists locally. If the video doesn't exist, it will be downloaded using the download_youtube_video function defined above.\n",
        "\n",
        "VIDEO_PATH: This is the path where the video will be saved (in this case, downloaded_video.mp4).\n",
        "\n",
        "os.path.exists(): Checks if the video already exists at the specified path. If it doesn't, the script proceeds to download the video."
      ]
    },
    {
      "cell_type": "code",
      "execution_count": null,
      "metadata": {
        "colab": {
          "base_uri": "https://localhost:8080/"
        },
        "id": "KhfU30kFHCAY",
        "outputId": "fbeb812d-58c6-427b-e751-a5ca90161f3a"
      },
      "outputs": [
        {
          "name": "stdout",
          "output_type": "stream",
          "text": [
            "[youtube] Extracting URL: https://youtu.be/RJ60ON-GSo8?si=UcRD_5Wc9OsS00b9\n",
            "[youtube] RJ60ON-GSo8: Downloading webpage\n",
            "[youtube] RJ60ON-GSo8: Downloading tv client config\n",
            "[youtube] RJ60ON-GSo8: Downloading player 6e20d3a8-main\n",
            "[youtube] RJ60ON-GSo8: Downloading tv player API JSON\n",
            "[youtube] RJ60ON-GSo8: Downloading ios player API JSON\n",
            "[youtube] RJ60ON-GSo8: Downloading m3u8 information\n",
            "[info] RJ60ON-GSo8: Downloading 1 format(s): 18\n",
            "[download] Destination: downloaded_video.mp4\n",
            "[download] 100% of   10.39MiB in 00:00:00 at 20.51MiB/s  \n"
          ]
        }
      ],
      "source": [
        "# YouTube video URL\n",
        "video_url = \"https://youtu.be/RJ60ON-GSo8?si=UcRD_5Wc9OsS00b9\"  # Replace with your video URL\n",
        "VIDEO_PATH = \"downloaded_video.mp4\"\n",
        "\n",
        "# Check if video exists, else download it\n",
        "if not os.path.exists(VIDEO_PATH):\n",
        "    download_youtube_video(video_url, VIDEO_PATH)"
      ]
    },
    {
      "cell_type": "markdown",
      "metadata": {
        "id": "1cRVvnwCHaGc"
      },
      "source": [
        "# **Open Video Using OpenCV**\n",
        "Once the video is downloaded (or if it already exists), the script opens the video using OpenCV's cv2.VideoCapture() method. It then retrieves the video's frame width, height, and FPS.\n",
        "\n",
        "cv2.VideoCapture(): Opens the video file.\n",
        "\n",
        "cap.get(): Retrieves properties like the video’s frame dimensions and frames per second (FPS)."
      ]
    },
    {
      "cell_type": "code",
      "execution_count": null,
      "metadata": {
        "id": "kM_i6eApHVjN"
      },
      "outputs": [],
      "source": [
        "# 2. Open the downloaded video using OpenCV\n",
        "cap = cv2.VideoCapture(VIDEO_PATH)\n",
        "\n",
        "frame_width = int(cap.get(cv2.CAP_PROP_FRAME_WIDTH))\n",
        "frame_height = int(cap.get(cv2.CAP_PROP_FRAME_HEIGHT))\n",
        "fps = cap.get(cv2.CAP_PROP_FPS)"
      ]
    },
    {
      "cell_type": "markdown",
      "metadata": {
        "id": "lSoeadj4HteS"
      },
      "source": [
        "# **Initialize Video Output Writers**\n",
        "The script creates two video writers using OpenCV to save processed videos:\n",
        "\n",
        "Global Histogram Equalization (HE) Output.\n",
        "\n",
        "CLAHE Comparison Output.\n",
        "\n",
        "cv2.VideoWriter(): Initializes the video writers. The first argument is the output file name, the second argument defines the codec, the third argument is the FPS, and the fourth argument defines the output frame size."
      ]
    },
    {
      "cell_type": "code",
      "execution_count": null,
      "metadata": {
        "id": "Ve5bHtjdHs5_"
      },
      "outputs": [],
      "source": [
        "# 3. Initialize Video Output Writers (same as before)\n",
        "out = cv2.VideoWriter('outputyt_hist_eq_grid.mp4',\n",
        "                      cv2.VideoWriter_fourcc(*'mp4v'),\n",
        "                      fps if fps > 0 else 24,\n",
        "                      (frame_width * 2, frame_height * 2))\n",
        "\n",
        "clahe_out = cv2.VideoWriter('outputyt_clahe_comparison.mp4',\n",
        "                            cv2.VideoWriter_fourcc(*'mp4v'),\n",
        "                            fps if fps > 0 else 24,\n",
        "                            (frame_width * 2, frame_height))"
      ]
    },
    {
      "cell_type": "markdown",
      "metadata": {
        "id": "2mQl-tS6IBbY"
      },
      "source": [
        "\n",
        "\n",
        "## **Histogram**\n",
        "----\n",
        "The histogram of gray level digital image with intensity values between $[0, L - 1]$ is a discrete function:\n",
        "\n",
        "<font size=\"5\">\n",
        "$$h(r_k) = n_k$$\n",
        "</font>\n",
        "\n",
        "* $r_k$ : $k$-th intensity value\n",
        "* $n_k$ : the number of pixels with $r_k$ value in the image\n",
        "\n",
        "\n"
      ]
    },
    {
      "cell_type": "code",
      "execution_count": null,
      "metadata": {
        "id": "uafssjxBIDXd"
      },
      "outputs": [],
      "source": [
        "# 4. Histogram Helper Function (same as before)\n",
        "def make_histogram_panel(bgr_frame, size=(320, 240), bins=64):\n",
        "    panel = np.zeros((size[1], size[0], 3), dtype=np.uint8)\n",
        "    colors = ('b', 'g', 'r')\n",
        "    for i, color in enumerate(colors):\n",
        "        hist = cv2.calcHist([bgr_frame], [i], None, [bins], [0, 256])\n",
        "        cv2.normalize(hist, hist, alpha=0, beta=size[1], norm_type=cv2.NORM_MINMAX)\n",
        "        bin_width = int(size[0] / bins)\n",
        "        for j in range(1, bins):\n",
        "            cv2.line(panel,\n",
        "                     (bin_width*(j-1), size[1] - int(hist[j-1])),\n",
        "                     (bin_width*j, size[1] - int(hist[j])),\n",
        "                     color=(255 if color == 'b' else 0,\n",
        "                            255 if color == 'g' else 0,\n",
        "                            255 if color == 'r' else 0),\n",
        "                     thickness=2)\n",
        "    return panel\n"
      ]
    },
    {
      "cell_type": "markdown",
      "metadata": {
        "id": "-kzKCXTDIb2q"
      },
      "source": [
        "# **RMS Contrast Function**\n",
        "\n",
        "The Root Mean Square (RMS) contrast function calculates the contrast of a grayscale image. It is defined as the standard deviation of pixel intensities.\n",
        "\n",
        "The Root Mean Square (RMS) Contrast is a measure of image contrast, calculated as:\n",
        "\n",
        "![image.png](data:image/png;base64,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)\n",
        "\n",
        "Where:\n",
        "\n",
        "𝐼𝑖 is the pixel intensity at position\n",
        "𝑖,\n",
        "\n",
        "𝜇 is the mean pixel intensity,\n",
        "\n",
        "𝑁 is the total number of pixels in the image.\n",
        "\n",
        "This function calculates the square root of the average squared deviation from the mean of pixel values."
      ]
    },
    {
      "cell_type": "code",
      "execution_count": null,
      "metadata": {
        "id": "2uAlubisI-Pn"
      },
      "outputs": [],
      "source": [
        "# 5. RMS Contrast Function (same as before)\n",
        "def rms_contrast(gray_img):\n",
        "    return np.sqrt(np.mean(np.square(gray_img - np.mean(gray_img))))"
      ]
    },
    {
      "cell_type": "markdown",
      "metadata": {
        "id": "eRIUn3VOJCcO"
      },
      "source": [
        "# **Main Processing Loop**\n",
        "\n",
        "The main loop processes the video frame by frame:\n",
        "\n",
        "Global Histogram Equalization (HE): Enhances the global contrast of the image.\n",
        "\n",
        "CLAHE (Contrast Limited Adaptive Histogram Equalization): Enhances local contrast.\n",
        "\n",
        "Global Histogram Equalization: Uses cv2.equalizeHist() to enhance the contrast of the Y-channel (luminance) in the YCrCb color space.\n",
        "\n",
        "CLAHE: Applies adaptive histogram equalization using cv2.createCLAHE()."
      ]
    },
    {
      "cell_type": "markdown",
      "metadata": {
        "id": "09rKRNy8JcoR"
      },
      "source": [
        "# **Writing Output Videos**\n",
        "\n",
        "After processing each frame, the script:\n",
        "\n",
        "Creates a 2x2 grid of the original and processed frames along with their histograms.\n",
        "\n",
        "Saves the 2x2 grid and the CLAHE comparison side by side.\n",
        "\n",
        "np.hstack(): Stacks images horizontally.\n",
        "\n",
        "np.vstack(): Stacks images vertically.\n",
        "\n",
        "The resulting frames are written to the video files using out.write() and clahe_out.write()."
      ]
    },
    {
      "cell_type": "markdown",
      "metadata": {
        "id": "BWAWtjcnJxJq"
      },
      "source": [
        "# **Print RMS Contrast**\n",
        "For each frame, the RMS contrast of the processed frames (Global HE and CLAHE) is printed to the console.\n",
        "\n",
        "This helps to track the contrast changes between the original and processed frames."
      ]
    },
    {
      "cell_type": "code",
      "execution_count": null,
      "metadata": {
        "colab": {
          "base_uri": "https://localhost:8080/"
        },
        "id": "5WwHdDXtJBpC",
        "outputId": "14a40f06-7a3d-4366-f9e9-1ae85a3a5860"
      },
      "outputs": [
        {
          "name": "stderr",
          "output_type": "stream",
          "text": [
            "/tmp/ipython-input-28-1976214917.py:11: DeprecationWarning: Conversion of an array with ndim > 0 to a scalar is deprecated, and will error in future. Ensure you extract a single element from your array before performing this operation. (Deprecated NumPy 1.25.)\n",
            "  (bin_width*(j-1), size[1] - int(hist[j-1])),\n",
            "/tmp/ipython-input-28-1976214917.py:12: DeprecationWarning: Conversion of an array with ndim > 0 to a scalar is deprecated, and will error in future. Ensure you extract a single element from your array before performing this operation. (Deprecated NumPy 1.25.)\n",
            "  (bin_width*j, size[1] - int(hist[j])),\n"
          ]
        },
        {
          "name": "stdout",
          "output_type": "stream",
          "text": [
            "RMS Contrast – HE: 73.36, CLAHE: 56.45\n",
            "RMS Contrast – HE: 73.34, CLAHE: 56.46\n",
            "RMS Contrast – HE: 73.35, CLAHE: 56.55\n",
            "RMS Contrast – HE: 73.34, CLAHE: 56.62\n",
            "RMS Contrast – HE: 73.37, CLAHE: 56.63\n",
            "RMS Contrast – HE: 73.38, CLAHE: 56.71\n"
          ]
        },
        {
          "name": "stderr",
          "output_type": "stream",
          "text": [
            "/tmp/ipython-input-28-1976214917.py:11: DeprecationWarning: Conversion of an array with ndim > 0 to a scalar is deprecated, and will error in future. Ensure you extract a single element from your array before performing this operation. (Deprecated NumPy 1.25.)\n",
            "  (bin_width*(j-1), size[1] - int(hist[j-1])),\n",
            "/tmp/ipython-input-28-1976214917.py:12: DeprecationWarning: Conversion of an array with ndim > 0 to a scalar is deprecated, and will error in future. Ensure you extract a single element from your array before performing this operation. (Deprecated NumPy 1.25.)\n",
            "  (bin_width*j, size[1] - int(hist[j])),\n"
          ]
        },
        {
          "name": "stdout",
          "output_type": "stream",
          "text": [
            "RMS Contrast – HE: 73.40, CLAHE: 56.73\n",
            "RMS Contrast – HE: 73.40, CLAHE: 56.56\n",
            "RMS Contrast – HE: 73.42, CLAHE: 56.72\n",
            "RMS Contrast – HE: 73.40, CLAHE: 56.72\n",
            "RMS Contrast – HE: 73.37, CLAHE: 56.62\n",
            "RMS Contrast – HE: 73.37, CLAHE: 56.63\n",
            "RMS Contrast – HE: 73.36, CLAHE: 56.70\n",
            "RMS Contrast – HE: 73.37, CLAHE: 56.74\n",
            "RMS Contrast – HE: 73.38, CLAHE: 56.66\n",
            "RMS Contrast – HE: 73.36, CLAHE: 56.70\n",
            "RMS Contrast – HE: 73.35, CLAHE: 56.74\n",
            "RMS Contrast – HE: 73.41, CLAHE: 56.75\n",
            "RMS Contrast – HE: 73.38, CLAHE: 56.76\n",
            "RMS Contrast – HE: 73.36, CLAHE: 56.61\n",
            "RMS Contrast – HE: 73.37, CLAHE: 56.72\n",
            "RMS Contrast – HE: 73.35, CLAHE: 56.74\n",
            "RMS Contrast – HE: 73.37, CLAHE: 56.62\n",
            "RMS Contrast – HE: 73.40, CLAHE: 56.62\n",
            "RMS Contrast – HE: 73.36, CLAHE: 56.74\n",
            "RMS Contrast – HE: 73.39, CLAHE: 56.70\n",
            "RMS Contrast – HE: 73.35, CLAHE: 56.68\n",
            "RMS Contrast – HE: 73.36, CLAHE: 56.73\n",
            "RMS Contrast – HE: 73.37, CLAHE: 56.63\n",
            "RMS Contrast – HE: 73.38, CLAHE: 56.73\n",
            "RMS Contrast – HE: 73.36, CLAHE: 56.65\n",
            "RMS Contrast – HE: 73.36, CLAHE: 56.44\n",
            "RMS Contrast – HE: 73.37, CLAHE: 56.62\n",
            "RMS Contrast – HE: 73.38, CLAHE: 56.53\n",
            "RMS Contrast – HE: 73.40, CLAHE: 56.52\n",
            "RMS Contrast – HE: 73.39, CLAHE: 56.60\n",
            "RMS Contrast – HE: 73.35, CLAHE: 56.52\n",
            "RMS Contrast – HE: 73.34, CLAHE: 56.47\n",
            "RMS Contrast – HE: 73.36, CLAHE: 56.47\n",
            "RMS Contrast – HE: 73.38, CLAHE: 56.38\n",
            "RMS Contrast – HE: 73.39, CLAHE: 56.42\n",
            "RMS Contrast – HE: 73.37, CLAHE: 56.39\n",
            "RMS Contrast – HE: 73.37, CLAHE: 56.39\n",
            "RMS Contrast – HE: 73.41, CLAHE: 56.19\n",
            "RMS Contrast – HE: 73.35, CLAHE: 56.35\n",
            "RMS Contrast – HE: 73.37, CLAHE: 56.26\n",
            "RMS Contrast – HE: 73.35, CLAHE: 56.31\n",
            "RMS Contrast – HE: 73.36, CLAHE: 56.29\n",
            "RMS Contrast – HE: 73.37, CLAHE: 56.23\n",
            "RMS Contrast – HE: 73.38, CLAHE: 56.28\n",
            "RMS Contrast – HE: 73.38, CLAHE: 56.39\n",
            "RMS Contrast – HE: 73.38, CLAHE: 56.35\n",
            "RMS Contrast – HE: 73.39, CLAHE: 56.36\n",
            "RMS Contrast – HE: 73.38, CLAHE: 56.33\n",
            "RMS Contrast – HE: 73.38, CLAHE: 56.35\n",
            "RMS Contrast – HE: 73.41, CLAHE: 56.26\n",
            "RMS Contrast – HE: 73.37, CLAHE: 56.48\n",
            "RMS Contrast – HE: 73.38, CLAHE: 56.48\n",
            "RMS Contrast – HE: 73.33, CLAHE: 56.44\n",
            "RMS Contrast – HE: 73.36, CLAHE: 56.43\n",
            "RMS Contrast – HE: 73.37, CLAHE: 56.44\n",
            "RMS Contrast – HE: 73.36, CLAHE: 56.57\n",
            "RMS Contrast – HE: 73.38, CLAHE: 56.56\n",
            "RMS Contrast – HE: 73.37, CLAHE: 56.57\n",
            "RMS Contrast – HE: 73.35, CLAHE: 56.73\n",
            "RMS Contrast – HE: 73.33, CLAHE: 56.62\n",
            "RMS Contrast – HE: 73.37, CLAHE: 56.88\n",
            "RMS Contrast – HE: 73.36, CLAHE: 56.91\n",
            "RMS Contrast – HE: 73.34, CLAHE: 56.85\n",
            "RMS Contrast – HE: 73.36, CLAHE: 56.92\n"
          ]
        },
        {
          "name": "stderr",
          "output_type": "stream",
          "text": [
            "/tmp/ipython-input-28-1976214917.py:11: DeprecationWarning: Conversion of an array with ndim > 0 to a scalar is deprecated, and will error in future. Ensure you extract a single element from your array before performing this operation. (Deprecated NumPy 1.25.)\n",
            "  (bin_width*(j-1), size[1] - int(hist[j-1])),\n",
            "/tmp/ipython-input-28-1976214917.py:12: DeprecationWarning: Conversion of an array with ndim > 0 to a scalar is deprecated, and will error in future. Ensure you extract a single element from your array before performing this operation. (Deprecated NumPy 1.25.)\n",
            "  (bin_width*j, size[1] - int(hist[j])),\n"
          ]
        },
        {
          "name": "stdout",
          "output_type": "stream",
          "text": [
            "RMS Contrast – HE: 73.36, CLAHE: 57.03\n",
            "RMS Contrast – HE: 73.39, CLAHE: 57.10\n",
            "RMS Contrast – HE: 73.40, CLAHE: 57.12\n",
            "RMS Contrast – HE: 73.36, CLAHE: 57.19\n",
            "RMS Contrast – HE: 73.34, CLAHE: 57.19\n",
            "RMS Contrast – HE: 73.38, CLAHE: 57.20\n",
            "RMS Contrast – HE: 73.42, CLAHE: 57.32\n",
            "RMS Contrast – HE: 73.35, CLAHE: 57.43\n",
            "RMS Contrast – HE: 73.34, CLAHE: 57.24\n",
            "RMS Contrast – HE: 73.40, CLAHE: 57.23\n",
            "RMS Contrast – HE: 73.36, CLAHE: 57.30\n",
            "RMS Contrast – HE: 73.34, CLAHE: 57.21\n",
            "RMS Contrast – HE: 73.35, CLAHE: 57.13\n",
            "RMS Contrast – HE: 73.39, CLAHE: 57.18\n",
            "RMS Contrast – HE: 73.38, CLAHE: 57.06\n",
            "RMS Contrast – HE: 73.37, CLAHE: 57.04\n",
            "RMS Contrast – HE: 73.35, CLAHE: 57.05\n",
            "RMS Contrast – HE: 73.38, CLAHE: 57.03\n",
            "RMS Contrast – HE: 73.35, CLAHE: 57.06\n",
            "RMS Contrast – HE: 73.31, CLAHE: 56.94\n"
          ]
        },
        {
          "name": "stderr",
          "output_type": "stream",
          "text": [
            "/tmp/ipython-input-28-1976214917.py:11: DeprecationWarning: Conversion of an array with ndim > 0 to a scalar is deprecated, and will error in future. Ensure you extract a single element from your array before performing this operation. (Deprecated NumPy 1.25.)\n",
            "  (bin_width*(j-1), size[1] - int(hist[j-1])),\n",
            "/tmp/ipython-input-28-1976214917.py:12: DeprecationWarning: Conversion of an array with ndim > 0 to a scalar is deprecated, and will error in future. Ensure you extract a single element from your array before performing this operation. (Deprecated NumPy 1.25.)\n",
            "  (bin_width*j, size[1] - int(hist[j])),\n"
          ]
        },
        {
          "name": "stdout",
          "output_type": "stream",
          "text": [
            "RMS Contrast – HE: 73.35, CLAHE: 56.95\n",
            "RMS Contrast – HE: 73.32, CLAHE: 56.92\n",
            "RMS Contrast – HE: 73.34, CLAHE: 56.87\n",
            "RMS Contrast – HE: 73.30, CLAHE: 56.70\n",
            "RMS Contrast – HE: 73.31, CLAHE: 56.77\n",
            "RMS Contrast – HE: 73.31, CLAHE: 56.72\n",
            "RMS Contrast – HE: 73.30, CLAHE: 56.71\n",
            "RMS Contrast – HE: 73.31, CLAHE: 56.77\n",
            "RMS Contrast – HE: 73.31, CLAHE: 56.64\n",
            "RMS Contrast – HE: 73.25, CLAHE: 56.59\n",
            "RMS Contrast – HE: 73.29, CLAHE: 56.70\n",
            "RMS Contrast – HE: 73.32, CLAHE: 56.57\n",
            "RMS Contrast – HE: 73.29, CLAHE: 56.61\n",
            "RMS Contrast – HE: 73.34, CLAHE: 56.66\n",
            "RMS Contrast – HE: 73.31, CLAHE: 56.59\n",
            "RMS Contrast – HE: 73.30, CLAHE: 56.49\n",
            "RMS Contrast – HE: 73.30, CLAHE: 56.47\n",
            "RMS Contrast – HE: 73.31, CLAHE: 56.49\n",
            "RMS Contrast – HE: 73.27, CLAHE: 56.45\n",
            "RMS Contrast – HE: 73.25, CLAHE: 56.53\n",
            "RMS Contrast – HE: 73.30, CLAHE: 56.59\n",
            "RMS Contrast – HE: 73.31, CLAHE: 56.62\n",
            "RMS Contrast – HE: 73.30, CLAHE: 56.59\n",
            "RMS Contrast – HE: 73.31, CLAHE: 56.48\n",
            "RMS Contrast – HE: 73.32, CLAHE: 56.51\n",
            "RMS Contrast – HE: 73.29, CLAHE: 56.53\n",
            "RMS Contrast – HE: 73.29, CLAHE: 56.48\n",
            "RMS Contrast – HE: 73.30, CLAHE: 56.49\n",
            "RMS Contrast – HE: 73.30, CLAHE: 56.50\n"
          ]
        },
        {
          "name": "stderr",
          "output_type": "stream",
          "text": [
            "/tmp/ipython-input-28-1976214917.py:11: DeprecationWarning: Conversion of an array with ndim > 0 to a scalar is deprecated, and will error in future. Ensure you extract a single element from your array before performing this operation. (Deprecated NumPy 1.25.)\n",
            "  (bin_width*(j-1), size[1] - int(hist[j-1])),\n",
            "/tmp/ipython-input-28-1976214917.py:12: DeprecationWarning: Conversion of an array with ndim > 0 to a scalar is deprecated, and will error in future. Ensure you extract a single element from your array before performing this operation. (Deprecated NumPy 1.25.)\n",
            "  (bin_width*j, size[1] - int(hist[j])),\n"
          ]
        },
        {
          "name": "stdout",
          "output_type": "stream",
          "text": [
            "RMS Contrast – HE: 73.33, CLAHE: 56.38\n",
            "RMS Contrast – HE: 73.35, CLAHE: 56.34\n",
            "RMS Contrast – HE: 73.34, CLAHE: 56.38\n",
            "RMS Contrast – HE: 73.28, CLAHE: 56.45\n",
            "RMS Contrast – HE: 73.31, CLAHE: 56.40\n",
            "RMS Contrast – HE: 73.33, CLAHE: 56.36\n",
            "RMS Contrast – HE: 73.28, CLAHE: 56.37\n",
            "RMS Contrast – HE: 73.28, CLAHE: 56.41\n",
            "RMS Contrast – HE: 73.30, CLAHE: 56.38\n",
            "RMS Contrast – HE: 73.31, CLAHE: 56.35\n",
            "RMS Contrast – HE: 73.30, CLAHE: 56.41\n",
            "RMS Contrast – HE: 73.28, CLAHE: 56.39\n",
            "RMS Contrast – HE: 73.34, CLAHE: 56.40\n"
          ]
        },
        {
          "name": "stderr",
          "output_type": "stream",
          "text": [
            "/tmp/ipython-input-28-1976214917.py:11: DeprecationWarning: Conversion of an array with ndim > 0 to a scalar is deprecated, and will error in future. Ensure you extract a single element from your array before performing this operation. (Deprecated NumPy 1.25.)\n",
            "  (bin_width*(j-1), size[1] - int(hist[j-1])),\n",
            "/tmp/ipython-input-28-1976214917.py:12: DeprecationWarning: Conversion of an array with ndim > 0 to a scalar is deprecated, and will error in future. Ensure you extract a single element from your array before performing this operation. (Deprecated NumPy 1.25.)\n",
            "  (bin_width*j, size[1] - int(hist[j])),\n"
          ]
        },
        {
          "name": "stdout",
          "output_type": "stream",
          "text": [
            "RMS Contrast – HE: 73.31, CLAHE: 56.42\n",
            "RMS Contrast – HE: 73.29, CLAHE: 56.51\n",
            "RMS Contrast – HE: 73.30, CLAHE: 56.53\n",
            "RMS Contrast – HE: 73.34, CLAHE: 56.61\n",
            "RMS Contrast – HE: 73.30, CLAHE: 56.52\n",
            "RMS Contrast – HE: 73.33, CLAHE: 56.52\n",
            "RMS Contrast – HE: 73.33, CLAHE: 56.56\n",
            "RMS Contrast – HE: 73.30, CLAHE: 56.63\n",
            "RMS Contrast – HE: 73.31, CLAHE: 56.55\n"
          ]
        },
        {
          "name": "stderr",
          "output_type": "stream",
          "text": [
            "/tmp/ipython-input-28-1976214917.py:11: DeprecationWarning: Conversion of an array with ndim > 0 to a scalar is deprecated, and will error in future. Ensure you extract a single element from your array before performing this operation. (Deprecated NumPy 1.25.)\n",
            "  (bin_width*(j-1), size[1] - int(hist[j-1])),\n",
            "/tmp/ipython-input-28-1976214917.py:12: DeprecationWarning: Conversion of an array with ndim > 0 to a scalar is deprecated, and will error in future. Ensure you extract a single element from your array before performing this operation. (Deprecated NumPy 1.25.)\n",
            "  (bin_width*j, size[1] - int(hist[j])),\n"
          ]
        },
        {
          "name": "stdout",
          "output_type": "stream",
          "text": [
            "RMS Contrast – HE: 73.28, CLAHE: 56.61\n",
            "RMS Contrast – HE: 73.29, CLAHE: 56.49\n",
            "RMS Contrast – HE: 73.27, CLAHE: 56.55\n",
            "RMS Contrast – HE: 73.34, CLAHE: 56.46\n"
          ]
        },
        {
          "name": "stderr",
          "output_type": "stream",
          "text": [
            "/tmp/ipython-input-28-1976214917.py:11: DeprecationWarning: Conversion of an array with ndim > 0 to a scalar is deprecated, and will error in future. Ensure you extract a single element from your array before performing this operation. (Deprecated NumPy 1.25.)\n",
            "  (bin_width*(j-1), size[1] - int(hist[j-1])),\n",
            "/tmp/ipython-input-28-1976214917.py:12: DeprecationWarning: Conversion of an array with ndim > 0 to a scalar is deprecated, and will error in future. Ensure you extract a single element from your array before performing this operation. (Deprecated NumPy 1.25.)\n",
            "  (bin_width*j, size[1] - int(hist[j])),\n"
          ]
        },
        {
          "name": "stdout",
          "output_type": "stream",
          "text": [
            "RMS Contrast – HE: 73.35, CLAHE: 56.41\n",
            "RMS Contrast – HE: 73.34, CLAHE: 56.39\n",
            "RMS Contrast – HE: 73.34, CLAHE: 56.42\n",
            "RMS Contrast – HE: 73.33, CLAHE: 56.51\n",
            "RMS Contrast – HE: 73.31, CLAHE: 56.49\n",
            "RMS Contrast – HE: 73.32, CLAHE: 56.50\n",
            "RMS Contrast – HE: 73.31, CLAHE: 56.58\n",
            "RMS Contrast – HE: 73.35, CLAHE: 56.44\n",
            "RMS Contrast – HE: 73.34, CLAHE: 56.55\n",
            "RMS Contrast – HE: 73.33, CLAHE: 56.42\n",
            "RMS Contrast – HE: 73.32, CLAHE: 56.48\n",
            "RMS Contrast – HE: 73.29, CLAHE: 56.48\n",
            "RMS Contrast – HE: 73.33, CLAHE: 56.48\n",
            "RMS Contrast – HE: 73.33, CLAHE: 56.49\n",
            "RMS Contrast – HE: 73.34, CLAHE: 56.44\n",
            "RMS Contrast – HE: 73.36, CLAHE: 56.42\n",
            "RMS Contrast – HE: 73.34, CLAHE: 56.45\n",
            "RMS Contrast – HE: 73.34, CLAHE: 56.54\n",
            "RMS Contrast – HE: 73.32, CLAHE: 56.50\n"
          ]
        },
        {
          "name": "stderr",
          "output_type": "stream",
          "text": [
            "/tmp/ipython-input-28-1976214917.py:11: DeprecationWarning: Conversion of an array with ndim > 0 to a scalar is deprecated, and will error in future. Ensure you extract a single element from your array before performing this operation. (Deprecated NumPy 1.25.)\n",
            "  (bin_width*(j-1), size[1] - int(hist[j-1])),\n",
            "/tmp/ipython-input-28-1976214917.py:12: DeprecationWarning: Conversion of an array with ndim > 0 to a scalar is deprecated, and will error in future. Ensure you extract a single element from your array before performing this operation. (Deprecated NumPy 1.25.)\n",
            "  (bin_width*j, size[1] - int(hist[j])),\n"
          ]
        },
        {
          "name": "stdout",
          "output_type": "stream",
          "text": [
            "RMS Contrast – HE: 73.35, CLAHE: 56.36\n",
            "RMS Contrast – HE: 73.32, CLAHE: 56.49\n",
            "RMS Contrast – HE: 73.35, CLAHE: 56.42\n",
            "RMS Contrast – HE: 73.35, CLAHE: 56.39\n",
            "RMS Contrast – HE: 73.39, CLAHE: 56.45\n",
            "RMS Contrast – HE: 73.33, CLAHE: 56.34\n",
            "RMS Contrast – HE: 73.33, CLAHE: 56.36\n",
            "RMS Contrast – HE: 73.39, CLAHE: 56.40\n",
            "RMS Contrast – HE: 73.35, CLAHE: 56.34\n",
            "RMS Contrast – HE: 73.36, CLAHE: 56.37\n",
            "RMS Contrast – HE: 73.30, CLAHE: 56.45\n",
            "RMS Contrast – HE: 73.32, CLAHE: 56.40\n",
            "RMS Contrast – HE: 73.34, CLAHE: 56.43\n",
            "RMS Contrast – HE: 73.36, CLAHE: 56.44\n",
            "RMS Contrast – HE: 73.37, CLAHE: 56.36\n",
            "RMS Contrast – HE: 73.37, CLAHE: 56.37\n"
          ]
        },
        {
          "name": "stderr",
          "output_type": "stream",
          "text": [
            "/tmp/ipython-input-28-1976214917.py:11: DeprecationWarning: Conversion of an array with ndim > 0 to a scalar is deprecated, and will error in future. Ensure you extract a single element from your array before performing this operation. (Deprecated NumPy 1.25.)\n",
            "  (bin_width*(j-1), size[1] - int(hist[j-1])),\n",
            "/tmp/ipython-input-28-1976214917.py:12: DeprecationWarning: Conversion of an array with ndim > 0 to a scalar is deprecated, and will error in future. Ensure you extract a single element from your array before performing this operation. (Deprecated NumPy 1.25.)\n",
            "  (bin_width*j, size[1] - int(hist[j])),\n"
          ]
        },
        {
          "name": "stdout",
          "output_type": "stream",
          "text": [
            "RMS Contrast – HE: 73.34, CLAHE: 56.51\n",
            "RMS Contrast – HE: 73.36, CLAHE: 56.43\n",
            "RMS Contrast – HE: 73.35, CLAHE: 56.49\n",
            "RMS Contrast – HE: 73.33, CLAHE: 56.51\n",
            "RMS Contrast – HE: 73.37, CLAHE: 56.40\n",
            "RMS Contrast – HE: 73.36, CLAHE: 56.40\n",
            "RMS Contrast – HE: 73.31, CLAHE: 56.37\n",
            "RMS Contrast – HE: 73.34, CLAHE: 56.29\n",
            "RMS Contrast – HE: 73.34, CLAHE: 56.37\n",
            "RMS Contrast – HE: 73.34, CLAHE: 56.43\n"
          ]
        },
        {
          "name": "stderr",
          "output_type": "stream",
          "text": [
            "/tmp/ipython-input-28-1976214917.py:11: DeprecationWarning: Conversion of an array with ndim > 0 to a scalar is deprecated, and will error in future. Ensure you extract a single element from your array before performing this operation. (Deprecated NumPy 1.25.)\n",
            "  (bin_width*(j-1), size[1] - int(hist[j-1])),\n",
            "/tmp/ipython-input-28-1976214917.py:12: DeprecationWarning: Conversion of an array with ndim > 0 to a scalar is deprecated, and will error in future. Ensure you extract a single element from your array before performing this operation. (Deprecated NumPy 1.25.)\n",
            "  (bin_width*j, size[1] - int(hist[j])),\n"
          ]
        },
        {
          "name": "stdout",
          "output_type": "stream",
          "text": [
            "RMS Contrast – HE: 73.39, CLAHE: 56.38\n",
            "RMS Contrast – HE: 73.39, CLAHE: 56.39\n",
            "RMS Contrast – HE: 73.34, CLAHE: 56.37\n",
            "RMS Contrast – HE: 73.40, CLAHE: 56.36\n",
            "RMS Contrast – HE: 73.34, CLAHE: 56.34\n",
            "RMS Contrast – HE: 73.37, CLAHE: 56.37\n",
            "RMS Contrast – HE: 73.35, CLAHE: 56.35\n",
            "RMS Contrast – HE: 73.35, CLAHE: 56.46\n",
            "RMS Contrast – HE: 73.32, CLAHE: 56.49\n",
            "RMS Contrast – HE: 73.34, CLAHE: 56.48\n",
            "RMS Contrast – HE: 73.34, CLAHE: 56.57\n",
            "RMS Contrast – HE: 73.32, CLAHE: 56.50\n",
            "RMS Contrast – HE: 73.36, CLAHE: 56.41\n",
            "RMS Contrast – HE: 73.33, CLAHE: 56.43\n",
            "RMS Contrast – HE: 73.34, CLAHE: 56.37\n",
            "RMS Contrast – HE: 73.37, CLAHE: 56.34\n",
            "RMS Contrast – HE: 73.35, CLAHE: 56.40\n",
            "RMS Contrast – HE: 73.32, CLAHE: 56.36\n"
          ]
        },
        {
          "name": "stderr",
          "output_type": "stream",
          "text": [
            "/tmp/ipython-input-28-1976214917.py:11: DeprecationWarning: Conversion of an array with ndim > 0 to a scalar is deprecated, and will error in future. Ensure you extract a single element from your array before performing this operation. (Deprecated NumPy 1.25.)\n",
            "  (bin_width*(j-1), size[1] - int(hist[j-1])),\n",
            "/tmp/ipython-input-28-1976214917.py:12: DeprecationWarning: Conversion of an array with ndim > 0 to a scalar is deprecated, and will error in future. Ensure you extract a single element from your array before performing this operation. (Deprecated NumPy 1.25.)\n",
            "  (bin_width*j, size[1] - int(hist[j])),\n"
          ]
        },
        {
          "name": "stdout",
          "output_type": "stream",
          "text": [
            "RMS Contrast – HE: 73.38, CLAHE: 56.34\n",
            "RMS Contrast – HE: 73.38, CLAHE: 56.34\n",
            "RMS Contrast – HE: 73.34, CLAHE: 56.38\n",
            "RMS Contrast – HE: 73.38, CLAHE: 56.31\n",
            "RMS Contrast – HE: 73.38, CLAHE: 56.38\n",
            "RMS Contrast – HE: 73.36, CLAHE: 56.36\n",
            "RMS Contrast – HE: 73.38, CLAHE: 56.32\n",
            "RMS Contrast – HE: 73.38, CLAHE: 56.38\n",
            "RMS Contrast – HE: 73.38, CLAHE: 56.29\n",
            "RMS Contrast – HE: 73.38, CLAHE: 56.25\n",
            "RMS Contrast – HE: 73.38, CLAHE: 56.33\n",
            "RMS Contrast – HE: 73.38, CLAHE: 56.26\n",
            "RMS Contrast – HE: 73.37, CLAHE: 56.19\n",
            "RMS Contrast – HE: 73.39, CLAHE: 56.30\n",
            "RMS Contrast – HE: 73.34, CLAHE: 56.15\n",
            "RMS Contrast – HE: 73.41, CLAHE: 56.15\n",
            "RMS Contrast – HE: 73.39, CLAHE: 56.22\n",
            "RMS Contrast – HE: 73.39, CLAHE: 56.13\n",
            "RMS Contrast – HE: 73.38, CLAHE: 56.15\n"
          ]
        },
        {
          "name": "stderr",
          "output_type": "stream",
          "text": [
            "/tmp/ipython-input-28-1976214917.py:11: DeprecationWarning: Conversion of an array with ndim > 0 to a scalar is deprecated, and will error in future. Ensure you extract a single element from your array before performing this operation. (Deprecated NumPy 1.25.)\n",
            "  (bin_width*(j-1), size[1] - int(hist[j-1])),\n",
            "/tmp/ipython-input-28-1976214917.py:12: DeprecationWarning: Conversion of an array with ndim > 0 to a scalar is deprecated, and will error in future. Ensure you extract a single element from your array before performing this operation. (Deprecated NumPy 1.25.)\n",
            "  (bin_width*j, size[1] - int(hist[j])),\n"
          ]
        },
        {
          "name": "stdout",
          "output_type": "stream",
          "text": [
            "RMS Contrast – HE: 73.35, CLAHE: 56.23\n",
            "RMS Contrast – HE: 73.40, CLAHE: 56.18\n",
            "RMS Contrast – HE: 73.37, CLAHE: 56.15\n",
            "RMS Contrast – HE: 73.36, CLAHE: 56.22\n",
            "RMS Contrast – HE: 73.36, CLAHE: 56.13\n",
            "RMS Contrast – HE: 73.37, CLAHE: 56.17\n",
            "RMS Contrast – HE: 73.38, CLAHE: 56.17\n",
            "RMS Contrast – HE: 73.35, CLAHE: 56.19\n",
            "RMS Contrast – HE: 73.33, CLAHE: 56.17\n",
            "RMS Contrast – HE: 73.38, CLAHE: 56.16\n"
          ]
        },
        {
          "name": "stderr",
          "output_type": "stream",
          "text": [
            "/tmp/ipython-input-28-1976214917.py:11: DeprecationWarning: Conversion of an array with ndim > 0 to a scalar is deprecated, and will error in future. Ensure you extract a single element from your array before performing this operation. (Deprecated NumPy 1.25.)\n",
            "  (bin_width*(j-1), size[1] - int(hist[j-1])),\n",
            "/tmp/ipython-input-28-1976214917.py:12: DeprecationWarning: Conversion of an array with ndim > 0 to a scalar is deprecated, and will error in future. Ensure you extract a single element from your array before performing this operation. (Deprecated NumPy 1.25.)\n",
            "  (bin_width*j, size[1] - int(hist[j])),\n"
          ]
        },
        {
          "name": "stdout",
          "output_type": "stream",
          "text": [
            "RMS Contrast – HE: 73.34, CLAHE: 56.08\n",
            "RMS Contrast – HE: 73.38, CLAHE: 56.12\n",
            "RMS Contrast – HE: 73.37, CLAHE: 56.21\n",
            "RMS Contrast – HE: 73.38, CLAHE: 56.16\n",
            "RMS Contrast – HE: 73.33, CLAHE: 56.19\n",
            "RMS Contrast – HE: 73.33, CLAHE: 56.22\n",
            "RMS Contrast – HE: 73.38, CLAHE: 56.13\n",
            "RMS Contrast – HE: 73.41, CLAHE: 56.15\n",
            "RMS Contrast – HE: 73.38, CLAHE: 56.28\n",
            "RMS Contrast – HE: 73.36, CLAHE: 56.20\n",
            "RMS Contrast – HE: 73.41, CLAHE: 56.17\n",
            "RMS Contrast – HE: 73.38, CLAHE: 56.31\n",
            "RMS Contrast – HE: 73.39, CLAHE: 56.29\n",
            "RMS Contrast – HE: 73.38, CLAHE: 56.22\n",
            "RMS Contrast – HE: 73.41, CLAHE: 56.29\n",
            "RMS Contrast – HE: 73.36, CLAHE: 56.28\n",
            "RMS Contrast – HE: 73.37, CLAHE: 56.19\n",
            "RMS Contrast – HE: 73.33, CLAHE: 56.22\n",
            "RMS Contrast – HE: 73.40, CLAHE: 56.29\n",
            "RMS Contrast – HE: 73.36, CLAHE: 56.28\n",
            "RMS Contrast – HE: 73.33, CLAHE: 56.30\n",
            "RMS Contrast – HE: 73.35, CLAHE: 56.26\n",
            "RMS Contrast – HE: 73.34, CLAHE: 56.23\n",
            "RMS Contrast – HE: 73.37, CLAHE: 56.26\n",
            "RMS Contrast – HE: 73.37, CLAHE: 56.24\n",
            "RMS Contrast – HE: 73.36, CLAHE: 56.37\n",
            "RMS Contrast – HE: 73.33, CLAHE: 56.33\n",
            "RMS Contrast – HE: 73.36, CLAHE: 56.28\n",
            "RMS Contrast – HE: 73.34, CLAHE: 56.39\n",
            "RMS Contrast – HE: 73.33, CLAHE: 56.35\n"
          ]
        },
        {
          "name": "stderr",
          "output_type": "stream",
          "text": [
            "/tmp/ipython-input-28-1976214917.py:11: DeprecationWarning: Conversion of an array with ndim > 0 to a scalar is deprecated, and will error in future. Ensure you extract a single element from your array before performing this operation. (Deprecated NumPy 1.25.)\n",
            "  (bin_width*(j-1), size[1] - int(hist[j-1])),\n",
            "/tmp/ipython-input-28-1976214917.py:12: DeprecationWarning: Conversion of an array with ndim > 0 to a scalar is deprecated, and will error in future. Ensure you extract a single element from your array before performing this operation. (Deprecated NumPy 1.25.)\n",
            "  (bin_width*j, size[1] - int(hist[j])),\n"
          ]
        },
        {
          "name": "stdout",
          "output_type": "stream",
          "text": [
            "RMS Contrast – HE: 73.34, CLAHE: 56.25\n",
            "RMS Contrast – HE: 73.34, CLAHE: 56.29\n",
            "RMS Contrast – HE: 73.36, CLAHE: 56.26\n",
            "RMS Contrast – HE: 73.35, CLAHE: 56.27\n",
            "RMS Contrast – HE: 73.32, CLAHE: 56.38\n",
            "RMS Contrast – HE: 73.35, CLAHE: 56.38\n",
            "RMS Contrast – HE: 73.30, CLAHE: 56.27\n",
            "RMS Contrast – HE: 73.36, CLAHE: 56.28\n",
            "RMS Contrast – HE: 73.35, CLAHE: 56.31\n",
            "RMS Contrast – HE: 73.33, CLAHE: 56.24\n",
            "RMS Contrast – HE: 73.37, CLAHE: 56.25\n",
            "RMS Contrast – HE: 73.37, CLAHE: 56.40\n",
            "RMS Contrast – HE: 73.39, CLAHE: 56.33\n",
            "RMS Contrast – HE: 73.37, CLAHE: 56.36\n",
            "RMS Contrast – HE: 73.33, CLAHE: 56.31\n",
            "RMS Contrast – HE: 73.37, CLAHE: 56.25\n",
            "RMS Contrast – HE: 73.35, CLAHE: 56.39\n",
            "RMS Contrast – HE: 73.33, CLAHE: 56.33\n",
            "RMS Contrast – HE: 73.35, CLAHE: 56.33\n",
            "RMS Contrast – HE: 73.34, CLAHE: 56.38\n",
            "RMS Contrast – HE: 73.35, CLAHE: 56.34\n",
            "RMS Contrast – HE: 73.37, CLAHE: 56.33\n",
            "RMS Contrast – HE: 73.35, CLAHE: 56.33\n",
            "RMS Contrast – HE: 73.36, CLAHE: 56.31\n",
            "RMS Contrast – HE: 73.37, CLAHE: 56.34\n",
            "RMS Contrast – HE: 73.33, CLAHE: 56.40\n",
            "RMS Contrast – HE: 73.36, CLAHE: 56.41\n",
            "RMS Contrast – HE: 73.36, CLAHE: 56.42\n",
            "RMS Contrast – HE: 73.37, CLAHE: 56.44\n",
            "RMS Contrast – HE: 73.33, CLAHE: 56.47\n",
            "RMS Contrast – HE: 73.35, CLAHE: 56.53\n",
            "RMS Contrast – HE: 73.39, CLAHE: 56.56\n",
            "RMS Contrast – HE: 73.36, CLAHE: 56.53\n",
            "RMS Contrast – HE: 73.39, CLAHE: 56.53\n",
            "RMS Contrast – HE: 73.40, CLAHE: 56.54\n",
            "RMS Contrast – HE: 73.40, CLAHE: 56.48\n",
            "RMS Contrast – HE: 73.37, CLAHE: 56.59\n"
          ]
        },
        {
          "name": "stderr",
          "output_type": "stream",
          "text": [
            "/tmp/ipython-input-28-1976214917.py:11: DeprecationWarning: Conversion of an array with ndim > 0 to a scalar is deprecated, and will error in future. Ensure you extract a single element from your array before performing this operation. (Deprecated NumPy 1.25.)\n",
            "  (bin_width*(j-1), size[1] - int(hist[j-1])),\n",
            "/tmp/ipython-input-28-1976214917.py:12: DeprecationWarning: Conversion of an array with ndim > 0 to a scalar is deprecated, and will error in future. Ensure you extract a single element from your array before performing this operation. (Deprecated NumPy 1.25.)\n",
            "  (bin_width*j, size[1] - int(hist[j])),\n"
          ]
        },
        {
          "name": "stdout",
          "output_type": "stream",
          "text": [
            "RMS Contrast – HE: 73.34, CLAHE: 56.39\n",
            "RMS Contrast – HE: 73.32, CLAHE: 56.28\n",
            "RMS Contrast – HE: 73.37, CLAHE: 56.45\n",
            "RMS Contrast – HE: 73.33, CLAHE: 56.48\n",
            "RMS Contrast – HE: 73.35, CLAHE: 56.46\n",
            "RMS Contrast – HE: 73.35, CLAHE: 56.57\n",
            "RMS Contrast – HE: 73.33, CLAHE: 56.52\n",
            "RMS Contrast – HE: 73.31, CLAHE: 56.56\n",
            "RMS Contrast – HE: 73.30, CLAHE: 56.58\n",
            "RMS Contrast – HE: 73.31, CLAHE: 56.54\n",
            "RMS Contrast – HE: 73.31, CLAHE: 56.52\n",
            "RMS Contrast – HE: 73.34, CLAHE: 56.58\n",
            "RMS Contrast – HE: 73.33, CLAHE: 56.50\n",
            "RMS Contrast – HE: 73.33, CLAHE: 56.52\n",
            "RMS Contrast – HE: 73.34, CLAHE: 56.65\n",
            "RMS Contrast – HE: 73.34, CLAHE: 56.54\n",
            "RMS Contrast – HE: 73.34, CLAHE: 56.55\n",
            "RMS Contrast – HE: 73.33, CLAHE: 56.50\n",
            "RMS Contrast – HE: 73.33, CLAHE: 56.56\n",
            "RMS Contrast – HE: 73.34, CLAHE: 56.46\n",
            "RMS Contrast – HE: 73.30, CLAHE: 56.69\n",
            "RMS Contrast – HE: 73.35, CLAHE: 56.78\n",
            "RMS Contrast – HE: 73.34, CLAHE: 56.94\n",
            "RMS Contrast – HE: 73.34, CLAHE: 56.97\n",
            "RMS Contrast – HE: 73.31, CLAHE: 56.97\n",
            "RMS Contrast – HE: 73.32, CLAHE: 56.89\n",
            "RMS Contrast – HE: 73.39, CLAHE: 56.81\n",
            "RMS Contrast – HE: 73.39, CLAHE: 56.63\n",
            "RMS Contrast – HE: 73.39, CLAHE: 56.42\n",
            "RMS Contrast – HE: 73.39, CLAHE: 56.37\n",
            "RMS Contrast – HE: 73.38, CLAHE: 56.20\n",
            "RMS Contrast – HE: 73.39, CLAHE: 56.13\n",
            "RMS Contrast – HE: 73.39, CLAHE: 56.06\n",
            "RMS Contrast – HE: 73.36, CLAHE: 56.01\n",
            "RMS Contrast – HE: 73.40, CLAHE: 55.95\n",
            "RMS Contrast – HE: 73.37, CLAHE: 55.90\n",
            "RMS Contrast – HE: 73.37, CLAHE: 55.87\n",
            "RMS Contrast – HE: 73.39, CLAHE: 56.02\n",
            "RMS Contrast – HE: 73.36, CLAHE: 55.92\n",
            "RMS Contrast – HE: 73.36, CLAHE: 55.78\n",
            "RMS Contrast – HE: 73.36, CLAHE: 55.70\n",
            "RMS Contrast – HE: 73.40, CLAHE: 55.80\n",
            "RMS Contrast – HE: 73.36, CLAHE: 55.70\n",
            "RMS Contrast – HE: 73.42, CLAHE: 55.61\n",
            "RMS Contrast – HE: 73.38, CLAHE: 55.54\n",
            "RMS Contrast – HE: 73.38, CLAHE: 55.37\n",
            "RMS Contrast – HE: 73.35, CLAHE: 55.40\n",
            "RMS Contrast – HE: 73.36, CLAHE: 55.45\n"
          ]
        },
        {
          "name": "stderr",
          "output_type": "stream",
          "text": [
            "/tmp/ipython-input-28-1976214917.py:11: DeprecationWarning: Conversion of an array with ndim > 0 to a scalar is deprecated, and will error in future. Ensure you extract a single element from your array before performing this operation. (Deprecated NumPy 1.25.)\n",
            "  (bin_width*(j-1), size[1] - int(hist[j-1])),\n",
            "/tmp/ipython-input-28-1976214917.py:12: DeprecationWarning: Conversion of an array with ndim > 0 to a scalar is deprecated, and will error in future. Ensure you extract a single element from your array before performing this operation. (Deprecated NumPy 1.25.)\n",
            "  (bin_width*j, size[1] - int(hist[j])),\n"
          ]
        },
        {
          "name": "stdout",
          "output_type": "stream",
          "text": [
            "RMS Contrast – HE: 73.40, CLAHE: 55.28\n",
            "RMS Contrast – HE: 73.38, CLAHE: 55.44\n",
            "RMS Contrast – HE: 73.37, CLAHE: 55.23\n",
            "RMS Contrast – HE: 73.38, CLAHE: 55.26\n",
            "RMS Contrast – HE: 73.39, CLAHE: 55.43\n",
            "RMS Contrast – HE: 73.34, CLAHE: 55.43\n",
            "RMS Contrast – HE: 73.36, CLAHE: 55.44\n",
            "RMS Contrast – HE: 73.35, CLAHE: 55.44\n",
            "RMS Contrast – HE: 73.33, CLAHE: 55.41\n",
            "RMS Contrast – HE: 73.38, CLAHE: 55.42\n",
            "RMS Contrast – HE: 73.36, CLAHE: 55.46\n",
            "RMS Contrast – HE: 73.35, CLAHE: 55.38\n",
            "RMS Contrast – HE: 73.38, CLAHE: 55.38\n",
            "RMS Contrast – HE: 73.35, CLAHE: 55.39\n"
          ]
        },
        {
          "name": "stderr",
          "output_type": "stream",
          "text": [
            "/tmp/ipython-input-28-1976214917.py:11: DeprecationWarning: Conversion of an array with ndim > 0 to a scalar is deprecated, and will error in future. Ensure you extract a single element from your array before performing this operation. (Deprecated NumPy 1.25.)\n",
            "  (bin_width*(j-1), size[1] - int(hist[j-1])),\n",
            "/tmp/ipython-input-28-1976214917.py:12: DeprecationWarning: Conversion of an array with ndim > 0 to a scalar is deprecated, and will error in future. Ensure you extract a single element from your array before performing this operation. (Deprecated NumPy 1.25.)\n",
            "  (bin_width*j, size[1] - int(hist[j])),\n"
          ]
        },
        {
          "name": "stdout",
          "output_type": "stream",
          "text": [
            "RMS Contrast – HE: 73.33, CLAHE: 55.35\n",
            "RMS Contrast – HE: 73.35, CLAHE: 55.36\n",
            "RMS Contrast – HE: 73.35, CLAHE: 55.33\n",
            "RMS Contrast – HE: 73.36, CLAHE: 55.40\n",
            "RMS Contrast – HE: 73.36, CLAHE: 55.38\n",
            "RMS Contrast – HE: 73.36, CLAHE: 55.33\n",
            "RMS Contrast – HE: 73.36, CLAHE: 55.40\n",
            "RMS Contrast – HE: 73.35, CLAHE: 55.36\n",
            "RMS Contrast – HE: 73.39, CLAHE: 55.41\n",
            "RMS Contrast – HE: 73.36, CLAHE: 55.40\n",
            "RMS Contrast – HE: 73.38, CLAHE: 55.38\n",
            "RMS Contrast – HE: 73.36, CLAHE: 55.43\n",
            "RMS Contrast – HE: 73.38, CLAHE: 55.37\n",
            "RMS Contrast – HE: 73.37, CLAHE: 55.39\n",
            "RMS Contrast – HE: 73.38, CLAHE: 55.41\n",
            "RMS Contrast – HE: 73.39, CLAHE: 55.40\n",
            "RMS Contrast – HE: 73.37, CLAHE: 55.42\n",
            "RMS Contrast – HE: 73.38, CLAHE: 55.47\n",
            "RMS Contrast – HE: 73.38, CLAHE: 55.42\n",
            "RMS Contrast – HE: 73.35, CLAHE: 55.41\n",
            "RMS Contrast – HE: 73.38, CLAHE: 55.42\n",
            "RMS Contrast – HE: 73.37, CLAHE: 55.40\n",
            "RMS Contrast – HE: 73.39, CLAHE: 55.44\n",
            "RMS Contrast – HE: 73.38, CLAHE: 55.50\n",
            "RMS Contrast – HE: 73.37, CLAHE: 55.49\n",
            "RMS Contrast – HE: 73.38, CLAHE: 55.46\n",
            "RMS Contrast – HE: 73.36, CLAHE: 55.49\n",
            "RMS Contrast – HE: 73.40, CLAHE: 55.51\n",
            "RMS Contrast – HE: 73.39, CLAHE: 55.48\n"
          ]
        },
        {
          "name": "stderr",
          "output_type": "stream",
          "text": [
            "/tmp/ipython-input-28-1976214917.py:11: DeprecationWarning: Conversion of an array with ndim > 0 to a scalar is deprecated, and will error in future. Ensure you extract a single element from your array before performing this operation. (Deprecated NumPy 1.25.)\n",
            "  (bin_width*(j-1), size[1] - int(hist[j-1])),\n",
            "/tmp/ipython-input-28-1976214917.py:12: DeprecationWarning: Conversion of an array with ndim > 0 to a scalar is deprecated, and will error in future. Ensure you extract a single element from your array before performing this operation. (Deprecated NumPy 1.25.)\n",
            "  (bin_width*j, size[1] - int(hist[j])),\n"
          ]
        },
        {
          "name": "stdout",
          "output_type": "stream",
          "text": [
            "RMS Contrast – HE: 73.35, CLAHE: 55.66\n",
            "RMS Contrast – HE: 73.35, CLAHE: 55.63\n",
            "RMS Contrast – HE: 73.35, CLAHE: 55.60\n",
            "RMS Contrast – HE: 73.36, CLAHE: 55.60\n",
            "RMS Contrast – HE: 73.34, CLAHE: 55.57\n",
            "RMS Contrast – HE: 73.38, CLAHE: 55.46\n",
            "RMS Contrast – HE: 73.34, CLAHE: 55.61\n",
            "RMS Contrast – HE: 73.37, CLAHE: 55.61\n",
            "RMS Contrast – HE: 73.40, CLAHE: 55.62\n",
            "RMS Contrast – HE: 73.33, CLAHE: 55.82\n",
            "RMS Contrast – HE: 73.34, CLAHE: 55.71\n",
            "RMS Contrast – HE: 73.38, CLAHE: 55.67\n",
            "RMS Contrast – HE: 73.37, CLAHE: 55.70\n",
            "RMS Contrast – HE: 73.38, CLAHE: 55.70\n",
            "RMS Contrast – HE: 73.33, CLAHE: 55.79\n",
            "RMS Contrast – HE: 73.35, CLAHE: 55.91\n",
            "RMS Contrast – HE: 73.34, CLAHE: 55.82\n",
            "RMS Contrast – HE: 73.35, CLAHE: 55.81\n",
            "RMS Contrast – HE: 73.37, CLAHE: 55.77\n",
            "RMS Contrast – HE: 73.36, CLAHE: 55.81\n",
            "RMS Contrast – HE: 73.34, CLAHE: 55.88\n",
            "RMS Contrast – HE: 73.37, CLAHE: 55.85\n",
            "RMS Contrast – HE: 73.36, CLAHE: 55.92\n",
            "RMS Contrast – HE: 73.34, CLAHE: 55.88\n",
            "RMS Contrast – HE: 73.34, CLAHE: 55.83\n",
            "RMS Contrast – HE: 73.35, CLAHE: 55.86\n",
            "RMS Contrast – HE: 73.37, CLAHE: 55.95\n",
            "RMS Contrast – HE: 73.36, CLAHE: 55.97\n",
            "RMS Contrast – HE: 73.35, CLAHE: 55.97\n",
            "RMS Contrast – HE: 73.35, CLAHE: 55.93\n",
            "RMS Contrast – HE: 73.35, CLAHE: 55.93\n",
            "RMS Contrast – HE: 73.37, CLAHE: 55.97\n",
            "RMS Contrast – HE: 73.34, CLAHE: 56.00\n",
            "RMS Contrast – HE: 73.36, CLAHE: 56.14\n",
            "RMS Contrast – HE: 73.34, CLAHE: 56.07\n",
            "RMS Contrast – HE: 73.36, CLAHE: 56.08\n",
            "RMS Contrast – HE: 73.35, CLAHE: 55.95\n",
            "RMS Contrast – HE: 73.34, CLAHE: 55.91\n",
            "RMS Contrast – HE: 73.35, CLAHE: 55.92\n",
            "RMS Contrast – HE: 73.39, CLAHE: 56.05\n",
            "RMS Contrast – HE: 73.36, CLAHE: 55.99\n",
            "RMS Contrast – HE: 73.39, CLAHE: 55.98\n",
            "RMS Contrast – HE: 73.36, CLAHE: 55.93\n",
            "RMS Contrast – HE: 73.34, CLAHE: 55.89\n",
            "RMS Contrast – HE: 73.38, CLAHE: 55.96\n",
            "RMS Contrast – HE: 73.38, CLAHE: 55.96\n",
            "RMS Contrast – HE: 73.41, CLAHE: 55.98\n",
            "RMS Contrast – HE: 73.39, CLAHE: 56.01\n",
            "RMS Contrast – HE: 73.37, CLAHE: 56.00\n",
            "RMS Contrast – HE: 73.36, CLAHE: 55.98\n",
            "RMS Contrast – HE: 73.36, CLAHE: 55.89\n",
            "RMS Contrast – HE: 73.37, CLAHE: 56.01\n",
            "RMS Contrast – HE: 73.35, CLAHE: 56.06\n",
            "RMS Contrast – HE: 73.37, CLAHE: 56.12\n",
            "RMS Contrast – HE: 73.35, CLAHE: 56.11\n",
            "RMS Contrast – HE: 73.36, CLAHE: 56.09\n",
            "RMS Contrast – HE: 73.36, CLAHE: 56.10\n",
            "RMS Contrast – HE: 73.37, CLAHE: 56.04\n",
            "RMS Contrast – HE: 73.40, CLAHE: 56.12\n",
            "RMS Contrast – HE: 73.38, CLAHE: 56.15\n",
            "RMS Contrast – HE: 73.37, CLAHE: 56.22\n"
          ]
        },
        {
          "name": "stderr",
          "output_type": "stream",
          "text": [
            "/tmp/ipython-input-28-1976214917.py:11: DeprecationWarning: Conversion of an array with ndim > 0 to a scalar is deprecated, and will error in future. Ensure you extract a single element from your array before performing this operation. (Deprecated NumPy 1.25.)\n",
            "  (bin_width*(j-1), size[1] - int(hist[j-1])),\n",
            "/tmp/ipython-input-28-1976214917.py:12: DeprecationWarning: Conversion of an array with ndim > 0 to a scalar is deprecated, and will error in future. Ensure you extract a single element from your array before performing this operation. (Deprecated NumPy 1.25.)\n",
            "  (bin_width*j, size[1] - int(hist[j])),\n"
          ]
        },
        {
          "name": "stdout",
          "output_type": "stream",
          "text": [
            "RMS Contrast – HE: 73.38, CLAHE: 56.18\n",
            "RMS Contrast – HE: 73.38, CLAHE: 56.20\n",
            "RMS Contrast – HE: 73.39, CLAHE: 56.11\n",
            "RMS Contrast – HE: 73.36, CLAHE: 56.18\n",
            "RMS Contrast – HE: 73.34, CLAHE: 56.24\n",
            "RMS Contrast – HE: 73.35, CLAHE: 56.24\n",
            "RMS Contrast – HE: 73.36, CLAHE: 56.30\n",
            "RMS Contrast – HE: 73.36, CLAHE: 56.30\n",
            "RMS Contrast – HE: 73.38, CLAHE: 56.30\n",
            "RMS Contrast – HE: 73.41, CLAHE: 56.33\n",
            "RMS Contrast – HE: 73.37, CLAHE: 56.22\n",
            "RMS Contrast – HE: 73.43, CLAHE: 56.30\n",
            "RMS Contrast – HE: 73.38, CLAHE: 56.32\n",
            "RMS Contrast – HE: 73.37, CLAHE: 56.09\n",
            "RMS Contrast – HE: 73.37, CLAHE: 56.05\n"
          ]
        },
        {
          "name": "stderr",
          "output_type": "stream",
          "text": [
            "/tmp/ipython-input-28-1976214917.py:11: DeprecationWarning: Conversion of an array with ndim > 0 to a scalar is deprecated, and will error in future. Ensure you extract a single element from your array before performing this operation. (Deprecated NumPy 1.25.)\n",
            "  (bin_width*(j-1), size[1] - int(hist[j-1])),\n",
            "/tmp/ipython-input-28-1976214917.py:12: DeprecationWarning: Conversion of an array with ndim > 0 to a scalar is deprecated, and will error in future. Ensure you extract a single element from your array before performing this operation. (Deprecated NumPy 1.25.)\n",
            "  (bin_width*j, size[1] - int(hist[j])),\n"
          ]
        },
        {
          "name": "stdout",
          "output_type": "stream",
          "text": [
            "RMS Contrast – HE: 73.37, CLAHE: 56.34\n",
            "RMS Contrast – HE: 73.39, CLAHE: 56.53\n",
            "RMS Contrast – HE: 73.37, CLAHE: 56.57\n",
            "RMS Contrast – HE: 73.40, CLAHE: 56.53\n",
            "RMS Contrast – HE: 73.34, CLAHE: 56.62\n",
            "RMS Contrast – HE: 73.36, CLAHE: 56.66\n",
            "RMS Contrast – HE: 73.33, CLAHE: 56.72\n",
            "RMS Contrast – HE: 73.37, CLAHE: 56.76\n",
            "RMS Contrast – HE: 73.33, CLAHE: 56.77\n",
            "RMS Contrast – HE: 73.32, CLAHE: 56.84\n",
            "RMS Contrast – HE: 73.35, CLAHE: 56.85\n",
            "RMS Contrast – HE: 73.38, CLAHE: 56.81\n",
            "RMS Contrast – HE: 73.35, CLAHE: 56.91\n",
            "RMS Contrast – HE: 73.34, CLAHE: 56.94\n",
            "RMS Contrast – HE: 73.34, CLAHE: 56.93\n",
            "RMS Contrast – HE: 73.34, CLAHE: 56.94\n",
            "RMS Contrast – HE: 73.38, CLAHE: 56.90\n",
            "RMS Contrast – HE: 73.36, CLAHE: 56.87\n",
            "RMS Contrast – HE: 73.32, CLAHE: 56.92\n",
            "RMS Contrast – HE: 73.34, CLAHE: 56.91\n",
            "RMS Contrast – HE: 73.34, CLAHE: 56.81\n",
            "RMS Contrast – HE: 73.36, CLAHE: 56.87\n",
            "RMS Contrast – HE: 73.35, CLAHE: 56.86\n",
            "RMS Contrast – HE: 73.35, CLAHE: 56.90\n",
            "RMS Contrast – HE: 73.38, CLAHE: 56.95\n",
            "RMS Contrast – HE: 73.36, CLAHE: 56.98\n",
            "RMS Contrast – HE: 73.35, CLAHE: 56.91\n",
            "RMS Contrast – HE: 73.32, CLAHE: 56.89\n"
          ]
        },
        {
          "name": "stderr",
          "output_type": "stream",
          "text": [
            "/tmp/ipython-input-28-1976214917.py:11: DeprecationWarning: Conversion of an array with ndim > 0 to a scalar is deprecated, and will error in future. Ensure you extract a single element from your array before performing this operation. (Deprecated NumPy 1.25.)\n",
            "  (bin_width*(j-1), size[1] - int(hist[j-1])),\n",
            "/tmp/ipython-input-28-1976214917.py:12: DeprecationWarning: Conversion of an array with ndim > 0 to a scalar is deprecated, and will error in future. Ensure you extract a single element from your array before performing this operation. (Deprecated NumPy 1.25.)\n",
            "  (bin_width*j, size[1] - int(hist[j])),\n"
          ]
        },
        {
          "name": "stdout",
          "output_type": "stream",
          "text": [
            "RMS Contrast – HE: 73.33, CLAHE: 56.94\n",
            "RMS Contrast – HE: 73.36, CLAHE: 56.94\n",
            "RMS Contrast – HE: 73.39, CLAHE: 56.91\n",
            "RMS Contrast – HE: 73.39, CLAHE: 56.94\n",
            "RMS Contrast – HE: 73.34, CLAHE: 56.95\n",
            "RMS Contrast – HE: 73.35, CLAHE: 57.03\n",
            "RMS Contrast – HE: 73.35, CLAHE: 56.94\n",
            "RMS Contrast – HE: 73.33, CLAHE: 57.03\n",
            "RMS Contrast – HE: 73.35, CLAHE: 57.00\n",
            "RMS Contrast – HE: 73.34, CLAHE: 56.92\n",
            "RMS Contrast – HE: 73.35, CLAHE: 56.96\n",
            "RMS Contrast – HE: 73.39, CLAHE: 56.98\n",
            "RMS Contrast – HE: 73.37, CLAHE: 57.01\n",
            "RMS Contrast – HE: 73.38, CLAHE: 57.13\n",
            "RMS Contrast – HE: 73.31, CLAHE: 57.10\n",
            "RMS Contrast – HE: 73.22, CLAHE: 57.34\n",
            "RMS Contrast – HE: 73.27, CLAHE: 57.47\n",
            "RMS Contrast – HE: 73.22, CLAHE: 57.48\n",
            "RMS Contrast – HE: 73.16, CLAHE: 57.67\n",
            "RMS Contrast – HE: 73.23, CLAHE: 57.80\n",
            "RMS Contrast – HE: 73.20, CLAHE: 57.68\n",
            "RMS Contrast – HE: 73.18, CLAHE: 57.63\n",
            "RMS Contrast – HE: 73.21, CLAHE: 57.61\n",
            "RMS Contrast – HE: 73.23, CLAHE: 57.67\n",
            "RMS Contrast – HE: 73.22, CLAHE: 57.67\n",
            "RMS Contrast – HE: 73.23, CLAHE: 57.60\n",
            "RMS Contrast – HE: 73.21, CLAHE: 57.58\n",
            "RMS Contrast – HE: 73.15, CLAHE: 57.56\n",
            "RMS Contrast – HE: 73.22, CLAHE: 57.65\n",
            "RMS Contrast – HE: 73.24, CLAHE: 57.76\n",
            "RMS Contrast – HE: 73.25, CLAHE: 57.86\n",
            "RMS Contrast – HE: 73.24, CLAHE: 57.93\n",
            "RMS Contrast – HE: 73.22, CLAHE: 57.96\n",
            "RMS Contrast – HE: 73.22, CLAHE: 57.91\n",
            "RMS Contrast – HE: 73.18, CLAHE: 57.89\n",
            "RMS Contrast – HE: 73.23, CLAHE: 58.00\n",
            "RMS Contrast – HE: 73.25, CLAHE: 58.01\n",
            "RMS Contrast – HE: 73.21, CLAHE: 58.07\n",
            "RMS Contrast – HE: 73.22, CLAHE: 58.05\n",
            "RMS Contrast – HE: 73.24, CLAHE: 58.19\n",
            "RMS Contrast – HE: 73.23, CLAHE: 58.15\n",
            "RMS Contrast – HE: 73.22, CLAHE: 58.28\n",
            "RMS Contrast – HE: 73.26, CLAHE: 58.30\n",
            "RMS Contrast – HE: 73.25, CLAHE: 58.31\n",
            "RMS Contrast – HE: 73.22, CLAHE: 58.38\n",
            "RMS Contrast – HE: 73.25, CLAHE: 58.35\n",
            "RMS Contrast – HE: 73.22, CLAHE: 58.35\n",
            "RMS Contrast – HE: 73.25, CLAHE: 58.33\n",
            "RMS Contrast – HE: 73.27, CLAHE: 58.39\n",
            "RMS Contrast – HE: 73.22, CLAHE: 58.40\n",
            "RMS Contrast – HE: 73.23, CLAHE: 58.42\n",
            "RMS Contrast – HE: 73.25, CLAHE: 58.45\n",
            "RMS Contrast – HE: 73.25, CLAHE: 58.50\n",
            "RMS Contrast – HE: 73.22, CLAHE: 58.52\n",
            "RMS Contrast – HE: 73.22, CLAHE: 58.50\n",
            "RMS Contrast – HE: 73.25, CLAHE: 58.46\n",
            "RMS Contrast – HE: 73.27, CLAHE: 58.41\n",
            "RMS Contrast – HE: 73.25, CLAHE: 58.47\n",
            "RMS Contrast – HE: 73.23, CLAHE: 58.44\n",
            "RMS Contrast – HE: 73.24, CLAHE: 58.47\n",
            "RMS Contrast – HE: 73.26, CLAHE: 58.44\n",
            "RMS Contrast – HE: 73.27, CLAHE: 58.49\n"
          ]
        },
        {
          "name": "stderr",
          "output_type": "stream",
          "text": [
            "/tmp/ipython-input-28-1976214917.py:11: DeprecationWarning: Conversion of an array with ndim > 0 to a scalar is deprecated, and will error in future. Ensure you extract a single element from your array before performing this operation. (Deprecated NumPy 1.25.)\n",
            "  (bin_width*(j-1), size[1] - int(hist[j-1])),\n",
            "/tmp/ipython-input-28-1976214917.py:12: DeprecationWarning: Conversion of an array with ndim > 0 to a scalar is deprecated, and will error in future. Ensure you extract a single element from your array before performing this operation. (Deprecated NumPy 1.25.)\n",
            "  (bin_width*j, size[1] - int(hist[j])),\n"
          ]
        },
        {
          "name": "stdout",
          "output_type": "stream",
          "text": [
            "RMS Contrast – HE: 73.28, CLAHE: 58.51\n",
            "RMS Contrast – HE: 73.28, CLAHE: 58.56\n",
            "RMS Contrast – HE: 73.28, CLAHE: 58.44\n",
            "RMS Contrast – HE: 73.29, CLAHE: 58.47\n",
            "RMS Contrast – HE: 73.28, CLAHE: 58.56\n",
            "RMS Contrast – HE: 73.26, CLAHE: 58.45\n",
            "RMS Contrast – HE: 73.27, CLAHE: 58.49\n",
            "RMS Contrast – HE: 73.28, CLAHE: 58.41\n",
            "RMS Contrast – HE: 73.26, CLAHE: 58.36\n",
            "RMS Contrast – HE: 73.28, CLAHE: 58.33\n",
            "RMS Contrast – HE: 73.24, CLAHE: 58.34\n",
            "RMS Contrast – HE: 73.27, CLAHE: 58.26\n",
            "RMS Contrast – HE: 73.25, CLAHE: 58.25\n",
            "RMS Contrast – HE: 73.24, CLAHE: 58.18\n",
            "RMS Contrast – HE: 73.26, CLAHE: 57.99\n"
          ]
        },
        {
          "name": "stderr",
          "output_type": "stream",
          "text": [
            "/tmp/ipython-input-28-1976214917.py:11: DeprecationWarning: Conversion of an array with ndim > 0 to a scalar is deprecated, and will error in future. Ensure you extract a single element from your array before performing this operation. (Deprecated NumPy 1.25.)\n",
            "  (bin_width*(j-1), size[1] - int(hist[j-1])),\n",
            "/tmp/ipython-input-28-1976214917.py:12: DeprecationWarning: Conversion of an array with ndim > 0 to a scalar is deprecated, and will error in future. Ensure you extract a single element from your array before performing this operation. (Deprecated NumPy 1.25.)\n",
            "  (bin_width*j, size[1] - int(hist[j])),\n"
          ]
        },
        {
          "name": "stdout",
          "output_type": "stream",
          "text": [
            "RMS Contrast – HE: 73.28, CLAHE: 57.95\n",
            "RMS Contrast – HE: 73.30, CLAHE: 57.77\n",
            "RMS Contrast – HE: 73.27, CLAHE: 57.70\n",
            "RMS Contrast – HE: 73.28, CLAHE: 57.64\n",
            "RMS Contrast – HE: 73.26, CLAHE: 57.50\n",
            "RMS Contrast – HE: 73.24, CLAHE: 57.38\n",
            "RMS Contrast – HE: 73.24, CLAHE: 57.32\n",
            "RMS Contrast – HE: 73.25, CLAHE: 57.23\n",
            "RMS Contrast – HE: 73.26, CLAHE: 57.12\n",
            "RMS Contrast – HE: 73.28, CLAHE: 57.05\n",
            "RMS Contrast – HE: 73.24, CLAHE: 56.90\n",
            "RMS Contrast – HE: 73.25, CLAHE: 56.88\n",
            "RMS Contrast – HE: 73.27, CLAHE: 56.94\n",
            "RMS Contrast – HE: 73.30, CLAHE: 56.86\n",
            "RMS Contrast – HE: 73.30, CLAHE: 56.91\n",
            "RMS Contrast – HE: 73.27, CLAHE: 56.86\n",
            "RMS Contrast – HE: 73.28, CLAHE: 56.82\n",
            "RMS Contrast – HE: 73.26, CLAHE: 56.65\n",
            "RMS Contrast – HE: 73.25, CLAHE: 56.57\n",
            "RMS Contrast – HE: 73.25, CLAHE: 56.69\n",
            "RMS Contrast – HE: 73.25, CLAHE: 56.52\n",
            "RMS Contrast – HE: 73.28, CLAHE: 56.44\n"
          ]
        },
        {
          "name": "stderr",
          "output_type": "stream",
          "text": [
            "/tmp/ipython-input-28-1976214917.py:11: DeprecationWarning: Conversion of an array with ndim > 0 to a scalar is deprecated, and will error in future. Ensure you extract a single element from your array before performing this operation. (Deprecated NumPy 1.25.)\n",
            "  (bin_width*(j-1), size[1] - int(hist[j-1])),\n",
            "/tmp/ipython-input-28-1976214917.py:12: DeprecationWarning: Conversion of an array with ndim > 0 to a scalar is deprecated, and will error in future. Ensure you extract a single element from your array before performing this operation. (Deprecated NumPy 1.25.)\n",
            "  (bin_width*j, size[1] - int(hist[j])),\n"
          ]
        },
        {
          "name": "stdout",
          "output_type": "stream",
          "text": [
            "RMS Contrast – HE: 73.29, CLAHE: 56.35\n",
            "RMS Contrast – HE: 73.30, CLAHE: 56.30\n",
            "RMS Contrast – HE: 73.29, CLAHE: 56.29\n",
            "RMS Contrast – HE: 73.30, CLAHE: 56.35\n",
            "RMS Contrast – HE: 73.34, CLAHE: 56.24\n",
            "RMS Contrast – HE: 73.32, CLAHE: 56.27\n",
            "RMS Contrast – HE: 73.26, CLAHE: 56.26\n",
            "RMS Contrast – HE: 73.23, CLAHE: 56.15\n",
            "RMS Contrast – HE: 73.26, CLAHE: 56.21\n",
            "RMS Contrast – HE: 73.30, CLAHE: 56.22\n",
            "RMS Contrast – HE: 73.26, CLAHE: 56.23\n",
            "RMS Contrast – HE: 73.31, CLAHE: 56.29\n",
            "RMS Contrast – HE: 73.25, CLAHE: 56.12\n",
            "RMS Contrast – HE: 73.23, CLAHE: 56.06\n",
            "RMS Contrast – HE: 73.24, CLAHE: 56.22\n",
            "RMS Contrast – HE: 73.25, CLAHE: 56.26\n",
            "RMS Contrast – HE: 73.26, CLAHE: 56.22\n",
            "RMS Contrast – HE: 73.27, CLAHE: 56.37\n",
            "RMS Contrast – HE: 73.27, CLAHE: 56.36\n",
            "RMS Contrast – HE: 73.30, CLAHE: 56.29\n",
            "RMS Contrast – HE: 73.33, CLAHE: 56.33\n",
            "RMS Contrast – HE: 73.27, CLAHE: 56.36\n",
            "RMS Contrast – HE: 73.32, CLAHE: 56.36\n",
            "RMS Contrast – HE: 73.29, CLAHE: 56.48\n",
            "RMS Contrast – HE: 73.23, CLAHE: 56.46\n",
            "RMS Contrast – HE: 73.28, CLAHE: 56.34\n",
            "RMS Contrast – HE: 73.26, CLAHE: 56.42\n",
            "RMS Contrast – HE: 73.28, CLAHE: 56.48\n",
            "RMS Contrast – HE: 73.31, CLAHE: 56.52\n",
            "RMS Contrast – HE: 73.32, CLAHE: 56.68\n",
            "RMS Contrast – HE: 73.29, CLAHE: 56.71\n",
            "RMS Contrast – HE: 73.28, CLAHE: 56.75\n",
            "RMS Contrast – HE: 73.29, CLAHE: 56.88\n",
            "RMS Contrast – HE: 73.30, CLAHE: 56.88\n",
            "RMS Contrast – HE: 73.29, CLAHE: 56.89\n",
            "RMS Contrast – HE: 73.26, CLAHE: 57.05\n",
            "RMS Contrast – HE: 73.29, CLAHE: 57.07\n",
            "RMS Contrast – HE: 73.30, CLAHE: 57.10\n",
            "RMS Contrast – HE: 73.29, CLAHE: 57.21\n",
            "RMS Contrast – HE: 73.25, CLAHE: 57.22\n"
          ]
        },
        {
          "name": "stderr",
          "output_type": "stream",
          "text": [
            "/tmp/ipython-input-28-1976214917.py:11: DeprecationWarning: Conversion of an array with ndim > 0 to a scalar is deprecated, and will error in future. Ensure you extract a single element from your array before performing this operation. (Deprecated NumPy 1.25.)\n",
            "  (bin_width*(j-1), size[1] - int(hist[j-1])),\n",
            "/tmp/ipython-input-28-1976214917.py:12: DeprecationWarning: Conversion of an array with ndim > 0 to a scalar is deprecated, and will error in future. Ensure you extract a single element from your array before performing this operation. (Deprecated NumPy 1.25.)\n",
            "  (bin_width*j, size[1] - int(hist[j])),\n"
          ]
        },
        {
          "name": "stdout",
          "output_type": "stream",
          "text": [
            "RMS Contrast – HE: 73.28, CLAHE: 57.22\n",
            "RMS Contrast – HE: 73.24, CLAHE: 57.15\n",
            "RMS Contrast – HE: 73.24, CLAHE: 57.19\n",
            "RMS Contrast – HE: 73.29, CLAHE: 57.29\n",
            "RMS Contrast – HE: 73.28, CLAHE: 57.23\n",
            "RMS Contrast – HE: 73.25, CLAHE: 57.27\n",
            "RMS Contrast – HE: 73.28, CLAHE: 57.28\n",
            "RMS Contrast – HE: 73.25, CLAHE: 57.31\n",
            "RMS Contrast – HE: 73.27, CLAHE: 57.29\n",
            "RMS Contrast – HE: 73.24, CLAHE: 57.39\n",
            "RMS Contrast – HE: 73.25, CLAHE: 57.45\n",
            "RMS Contrast – HE: 73.25, CLAHE: 57.43\n",
            "RMS Contrast – HE: 73.22, CLAHE: 57.37\n",
            "RMS Contrast – HE: 73.22, CLAHE: 57.33\n",
            "RMS Contrast – HE: 73.26, CLAHE: 57.36\n",
            "RMS Contrast – HE: 73.28, CLAHE: 57.39\n",
            "RMS Contrast – HE: 73.29, CLAHE: 57.33\n",
            "RMS Contrast – HE: 73.25, CLAHE: 57.35\n",
            "RMS Contrast – HE: 73.27, CLAHE: 57.18\n",
            "RMS Contrast – HE: 73.24, CLAHE: 57.22\n",
            "RMS Contrast – HE: 73.26, CLAHE: 57.19\n",
            "RMS Contrast – HE: 73.29, CLAHE: 57.21\n",
            "RMS Contrast – HE: 73.24, CLAHE: 57.25\n",
            "RMS Contrast – HE: 73.25, CLAHE: 57.21\n",
            "RMS Contrast – HE: 73.24, CLAHE: 57.20\n",
            "RMS Contrast – HE: 73.31, CLAHE: 57.33\n",
            "RMS Contrast – HE: 73.26, CLAHE: 57.38\n",
            "RMS Contrast – HE: 73.24, CLAHE: 57.45\n"
          ]
        },
        {
          "name": "stderr",
          "output_type": "stream",
          "text": [
            "/tmp/ipython-input-28-1976214917.py:11: DeprecationWarning: Conversion of an array with ndim > 0 to a scalar is deprecated, and will error in future. Ensure you extract a single element from your array before performing this operation. (Deprecated NumPy 1.25.)\n",
            "  (bin_width*(j-1), size[1] - int(hist[j-1])),\n",
            "/tmp/ipython-input-28-1976214917.py:12: DeprecationWarning: Conversion of an array with ndim > 0 to a scalar is deprecated, and will error in future. Ensure you extract a single element from your array before performing this operation. (Deprecated NumPy 1.25.)\n",
            "  (bin_width*j, size[1] - int(hist[j])),\n"
          ]
        },
        {
          "name": "stdout",
          "output_type": "stream",
          "text": [
            "RMS Contrast – HE: 73.27, CLAHE: 57.39\n",
            "RMS Contrast – HE: 73.26, CLAHE: 57.44\n",
            "RMS Contrast – HE: 73.25, CLAHE: 57.42\n",
            "RMS Contrast – HE: 73.28, CLAHE: 57.47\n",
            "RMS Contrast – HE: 73.25, CLAHE: 57.47\n",
            "RMS Contrast – HE: 73.24, CLAHE: 57.32\n",
            "RMS Contrast – HE: 73.29, CLAHE: 57.32\n",
            "RMS Contrast – HE: 73.30, CLAHE: 57.31\n",
            "RMS Contrast – HE: 73.30, CLAHE: 57.33\n",
            "RMS Contrast – HE: 73.28, CLAHE: 57.37\n",
            "RMS Contrast – HE: 73.28, CLAHE: 57.32\n",
            "RMS Contrast – HE: 73.24, CLAHE: 57.30\n",
            "RMS Contrast – HE: 73.27, CLAHE: 57.24\n",
            "RMS Contrast – HE: 73.30, CLAHE: 57.29\n",
            "RMS Contrast – HE: 73.30, CLAHE: 57.38\n",
            "RMS Contrast – HE: 73.25, CLAHE: 57.39\n"
          ]
        },
        {
          "name": "stderr",
          "output_type": "stream",
          "text": [
            "/tmp/ipython-input-28-1976214917.py:11: DeprecationWarning: Conversion of an array with ndim > 0 to a scalar is deprecated, and will error in future. Ensure you extract a single element from your array before performing this operation. (Deprecated NumPy 1.25.)\n",
            "  (bin_width*(j-1), size[1] - int(hist[j-1])),\n",
            "/tmp/ipython-input-28-1976214917.py:12: DeprecationWarning: Conversion of an array with ndim > 0 to a scalar is deprecated, and will error in future. Ensure you extract a single element from your array before performing this operation. (Deprecated NumPy 1.25.)\n",
            "  (bin_width*j, size[1] - int(hist[j])),\n"
          ]
        },
        {
          "name": "stdout",
          "output_type": "stream",
          "text": [
            "RMS Contrast – HE: 73.29, CLAHE: 57.43\n",
            "RMS Contrast – HE: 73.27, CLAHE: 57.45\n",
            "RMS Contrast – HE: 73.29, CLAHE: 57.45\n",
            "RMS Contrast – HE: 73.29, CLAHE: 57.39\n",
            "RMS Contrast – HE: 73.29, CLAHE: 57.47\n",
            "RMS Contrast – HE: 73.30, CLAHE: 57.53\n",
            "RMS Contrast – HE: 73.30, CLAHE: 57.55\n",
            "RMS Contrast – HE: 73.30, CLAHE: 57.57\n",
            "RMS Contrast – HE: 73.31, CLAHE: 57.58\n",
            "RMS Contrast – HE: 73.29, CLAHE: 57.60\n",
            "RMS Contrast – HE: 73.28, CLAHE: 57.65\n",
            "RMS Contrast – HE: 73.30, CLAHE: 57.64\n",
            "RMS Contrast – HE: 73.31, CLAHE: 57.63\n",
            "RMS Contrast – HE: 73.30, CLAHE: 57.75\n",
            "RMS Contrast – HE: 73.28, CLAHE: 57.86\n",
            "RMS Contrast – HE: 73.29, CLAHE: 57.75\n",
            "RMS Contrast – HE: 73.29, CLAHE: 57.85\n",
            "RMS Contrast – HE: 73.31, CLAHE: 57.83\n",
            "RMS Contrast – HE: 73.27, CLAHE: 57.94\n",
            "RMS Contrast – HE: 73.27, CLAHE: 57.89\n",
            "RMS Contrast – HE: 73.27, CLAHE: 57.86\n",
            "RMS Contrast – HE: 73.26, CLAHE: 57.85\n",
            "RMS Contrast – HE: 73.26, CLAHE: 57.83\n",
            "RMS Contrast – HE: 73.27, CLAHE: 57.79\n",
            "RMS Contrast – HE: 73.27, CLAHE: 57.73\n",
            "RMS Contrast – HE: 73.27, CLAHE: 57.75\n",
            "RMS Contrast – HE: 73.30, CLAHE: 57.84\n",
            "RMS Contrast – HE: 73.28, CLAHE: 57.88\n",
            "RMS Contrast – HE: 73.31, CLAHE: 57.86\n",
            "RMS Contrast – HE: 73.28, CLAHE: 57.76\n",
            "RMS Contrast – HE: 73.31, CLAHE: 57.69\n"
          ]
        },
        {
          "name": "stderr",
          "output_type": "stream",
          "text": [
            "/tmp/ipython-input-28-1976214917.py:11: DeprecationWarning: Conversion of an array with ndim > 0 to a scalar is deprecated, and will error in future. Ensure you extract a single element from your array before performing this operation. (Deprecated NumPy 1.25.)\n",
            "  (bin_width*(j-1), size[1] - int(hist[j-1])),\n",
            "/tmp/ipython-input-28-1976214917.py:12: DeprecationWarning: Conversion of an array with ndim > 0 to a scalar is deprecated, and will error in future. Ensure you extract a single element from your array before performing this operation. (Deprecated NumPy 1.25.)\n",
            "  (bin_width*j, size[1] - int(hist[j])),\n"
          ]
        },
        {
          "name": "stdout",
          "output_type": "stream",
          "text": [
            "RMS Contrast – HE: 73.30, CLAHE: 57.77\n",
            "RMS Contrast – HE: 73.31, CLAHE: 57.72\n",
            "RMS Contrast – HE: 73.31, CLAHE: 57.70\n",
            "RMS Contrast – HE: 73.32, CLAHE: 57.60\n",
            "RMS Contrast – HE: 73.32, CLAHE: 57.52\n",
            "RMS Contrast – HE: 73.33, CLAHE: 57.53\n",
            "RMS Contrast – HE: 73.30, CLAHE: 57.51\n",
            "RMS Contrast – HE: 73.32, CLAHE: 57.57\n",
            "RMS Contrast – HE: 73.30, CLAHE: 57.58\n",
            "RMS Contrast – HE: 73.30, CLAHE: 57.57\n",
            "RMS Contrast – HE: 73.30, CLAHE: 57.55\n",
            "RMS Contrast – HE: 73.31, CLAHE: 57.58\n",
            "RMS Contrast – HE: 73.29, CLAHE: 57.54\n",
            "RMS Contrast – HE: 73.29, CLAHE: 57.57\n",
            "RMS Contrast – HE: 73.32, CLAHE: 57.64\n",
            "RMS Contrast – HE: 73.33, CLAHE: 57.64\n",
            "RMS Contrast – HE: 73.33, CLAHE: 57.69\n",
            "RMS Contrast – HE: 73.26, CLAHE: 57.74\n",
            "RMS Contrast – HE: 73.28, CLAHE: 57.80\n",
            "RMS Contrast – HE: 73.28, CLAHE: 57.77\n",
            "RMS Contrast – HE: 73.28, CLAHE: 57.79\n",
            "RMS Contrast – HE: 73.27, CLAHE: 57.80\n",
            "RMS Contrast – HE: 73.28, CLAHE: 57.81\n",
            "RMS Contrast – HE: 73.31, CLAHE: 57.85\n",
            "RMS Contrast – HE: 73.31, CLAHE: 57.92\n",
            "RMS Contrast – HE: 73.29, CLAHE: 57.90\n",
            "RMS Contrast – HE: 73.29, CLAHE: 57.94\n",
            "RMS Contrast – HE: 73.29, CLAHE: 57.92\n",
            "RMS Contrast – HE: 73.30, CLAHE: 57.96\n",
            "RMS Contrast – HE: 73.28, CLAHE: 57.93\n",
            "RMS Contrast – HE: 73.31, CLAHE: 57.98\n",
            "RMS Contrast – HE: 73.27, CLAHE: 57.92\n",
            "RMS Contrast – HE: 73.30, CLAHE: 57.94\n",
            "RMS Contrast – HE: 73.31, CLAHE: 57.96\n",
            "RMS Contrast – HE: 73.34, CLAHE: 58.03\n",
            "RMS Contrast – HE: 73.34, CLAHE: 58.06\n",
            "RMS Contrast – HE: 73.31, CLAHE: 58.07\n",
            "RMS Contrast – HE: 73.31, CLAHE: 58.01\n",
            "RMS Contrast – HE: 73.29, CLAHE: 57.99\n"
          ]
        },
        {
          "name": "stderr",
          "output_type": "stream",
          "text": [
            "/tmp/ipython-input-28-1976214917.py:11: DeprecationWarning: Conversion of an array with ndim > 0 to a scalar is deprecated, and will error in future. Ensure you extract a single element from your array before performing this operation. (Deprecated NumPy 1.25.)\n",
            "  (bin_width*(j-1), size[1] - int(hist[j-1])),\n",
            "/tmp/ipython-input-28-1976214917.py:12: DeprecationWarning: Conversion of an array with ndim > 0 to a scalar is deprecated, and will error in future. Ensure you extract a single element from your array before performing this operation. (Deprecated NumPy 1.25.)\n",
            "  (bin_width*j, size[1] - int(hist[j])),\n"
          ]
        },
        {
          "name": "stdout",
          "output_type": "stream",
          "text": [
            "RMS Contrast – HE: 73.28, CLAHE: 57.96\n",
            "RMS Contrast – HE: 73.32, CLAHE: 57.96\n",
            "RMS Contrast – HE: 73.31, CLAHE: 58.03\n",
            "RMS Contrast – HE: 73.33, CLAHE: 58.02\n",
            "RMS Contrast – HE: 73.31, CLAHE: 58.00\n",
            "RMS Contrast – HE: 73.30, CLAHE: 58.00\n",
            "RMS Contrast – HE: 73.35, CLAHE: 58.00\n",
            "RMS Contrast – HE: 73.33, CLAHE: 58.01\n",
            "RMS Contrast – HE: 73.31, CLAHE: 58.01\n",
            "RMS Contrast – HE: 73.33, CLAHE: 57.92\n",
            "RMS Contrast – HE: 73.29, CLAHE: 57.97\n",
            "RMS Contrast – HE: 73.31, CLAHE: 57.91\n",
            "RMS Contrast – HE: 73.34, CLAHE: 57.90\n",
            "RMS Contrast – HE: 73.31, CLAHE: 57.86\n",
            "RMS Contrast – HE: 73.34, CLAHE: 57.86\n",
            "RMS Contrast – HE: 73.35, CLAHE: 57.86\n",
            "RMS Contrast – HE: 73.33, CLAHE: 57.80\n",
            "RMS Contrast – HE: 73.35, CLAHE: 57.82\n",
            "RMS Contrast – HE: 73.33, CLAHE: 57.82\n",
            "RMS Contrast – HE: 73.34, CLAHE: 57.84\n",
            "RMS Contrast – HE: 73.34, CLAHE: 57.96\n",
            "RMS Contrast – HE: 73.32, CLAHE: 57.98\n",
            "RMS Contrast – HE: 73.32, CLAHE: 58.02\n",
            "RMS Contrast – HE: 73.35, CLAHE: 58.00\n",
            "RMS Contrast – HE: 73.34, CLAHE: 57.87\n",
            "RMS Contrast – HE: 73.35, CLAHE: 57.91\n",
            "RMS Contrast – HE: 73.34, CLAHE: 57.91\n",
            "RMS Contrast – HE: 73.35, CLAHE: 57.96\n",
            "RMS Contrast – HE: 73.35, CLAHE: 57.97\n",
            "RMS Contrast – HE: 73.36, CLAHE: 58.01\n",
            "RMS Contrast – HE: 73.38, CLAHE: 57.90\n"
          ]
        },
        {
          "name": "stderr",
          "output_type": "stream",
          "text": [
            "/tmp/ipython-input-28-1976214917.py:11: DeprecationWarning: Conversion of an array with ndim > 0 to a scalar is deprecated, and will error in future. Ensure you extract a single element from your array before performing this operation. (Deprecated NumPy 1.25.)\n",
            "  (bin_width*(j-1), size[1] - int(hist[j-1])),\n",
            "/tmp/ipython-input-28-1976214917.py:12: DeprecationWarning: Conversion of an array with ndim > 0 to a scalar is deprecated, and will error in future. Ensure you extract a single element from your array before performing this operation. (Deprecated NumPy 1.25.)\n",
            "  (bin_width*j, size[1] - int(hist[j])),\n"
          ]
        },
        {
          "name": "stdout",
          "output_type": "stream",
          "text": [
            "RMS Contrast – HE: 73.35, CLAHE: 57.91\n",
            "RMS Contrast – HE: 73.35, CLAHE: 57.90\n",
            "RMS Contrast – HE: 73.37, CLAHE: 57.96\n",
            "RMS Contrast – HE: 73.36, CLAHE: 57.97\n",
            "RMS Contrast – HE: 73.36, CLAHE: 58.01\n",
            "RMS Contrast – HE: 73.34, CLAHE: 57.91\n",
            "RMS Contrast – HE: 73.33, CLAHE: 57.90\n",
            "RMS Contrast – HE: 73.37, CLAHE: 57.98\n",
            "RMS Contrast – HE: 73.34, CLAHE: 57.99\n",
            "RMS Contrast – HE: 73.33, CLAHE: 57.96\n",
            "RMS Contrast – HE: 73.36, CLAHE: 58.05\n",
            "RMS Contrast – HE: 73.36, CLAHE: 57.98\n",
            "RMS Contrast – HE: 73.33, CLAHE: 58.01\n",
            "RMS Contrast – HE: 73.33, CLAHE: 58.04\n",
            "RMS Contrast – HE: 73.36, CLAHE: 58.03\n",
            "RMS Contrast – HE: 73.35, CLAHE: 58.13\n",
            "RMS Contrast – HE: 73.32, CLAHE: 58.12\n",
            "RMS Contrast – HE: 73.35, CLAHE: 58.09\n",
            "RMS Contrast – HE: 73.32, CLAHE: 58.07\n",
            "RMS Contrast – HE: 73.34, CLAHE: 58.30\n",
            "RMS Contrast – HE: 73.35, CLAHE: 58.35\n",
            "RMS Contrast – HE: 73.32, CLAHE: 58.37\n",
            "RMS Contrast – HE: 73.32, CLAHE: 58.36\n",
            "RMS Contrast – HE: 73.33, CLAHE: 58.39\n",
            "RMS Contrast – HE: 73.32, CLAHE: 58.34\n",
            "RMS Contrast – HE: 73.31, CLAHE: 58.34\n",
            "RMS Contrast – HE: 73.33, CLAHE: 58.34\n",
            "RMS Contrast – HE: 73.32, CLAHE: 58.43\n",
            "RMS Contrast – HE: 73.30, CLAHE: 58.37\n",
            "RMS Contrast – HE: 73.32, CLAHE: 58.31\n",
            "RMS Contrast – HE: 73.31, CLAHE: 58.30\n",
            "RMS Contrast – HE: 73.31, CLAHE: 58.26\n",
            "RMS Contrast – HE: 73.30, CLAHE: 58.31\n",
            "RMS Contrast – HE: 73.36, CLAHE: 58.37\n",
            "RMS Contrast – HE: 73.34, CLAHE: 58.37\n",
            "RMS Contrast – HE: 73.31, CLAHE: 58.38\n",
            "RMS Contrast – HE: 73.34, CLAHE: 58.34\n",
            "RMS Contrast – HE: 73.33, CLAHE: 58.31\n",
            "RMS Contrast – HE: 73.33, CLAHE: 58.33\n",
            "RMS Contrast – HE: 73.28, CLAHE: 58.37\n",
            "RMS Contrast – HE: 73.26, CLAHE: 58.33\n",
            "RMS Contrast – HE: 73.30, CLAHE: 58.38\n",
            "RMS Contrast – HE: 73.28, CLAHE: 58.36\n",
            "RMS Contrast – HE: 73.30, CLAHE: 58.30\n",
            "RMS Contrast – HE: 73.33, CLAHE: 58.29\n",
            "RMS Contrast – HE: 73.32, CLAHE: 58.24\n",
            "RMS Contrast – HE: 73.33, CLAHE: 58.33\n",
            "RMS Contrast – HE: 73.33, CLAHE: 58.31\n",
            "RMS Contrast – HE: 73.31, CLAHE: 58.30\n",
            "RMS Contrast – HE: 73.32, CLAHE: 58.23\n",
            "RMS Contrast – HE: 73.32, CLAHE: 58.30\n",
            "RMS Contrast – HE: 73.32, CLAHE: 58.27\n",
            "RMS Contrast – HE: 73.32, CLAHE: 58.26\n",
            "RMS Contrast – HE: 73.36, CLAHE: 58.38\n",
            "RMS Contrast – HE: 73.34, CLAHE: 58.40\n",
            "RMS Contrast – HE: 73.33, CLAHE: 58.44\n",
            "RMS Contrast – HE: 73.38, CLAHE: 58.36\n",
            "RMS Contrast – HE: 73.33, CLAHE: 58.38\n",
            "RMS Contrast – HE: 73.36, CLAHE: 58.33\n",
            "RMS Contrast – HE: 73.36, CLAHE: 58.41\n",
            "RMS Contrast – HE: 73.36, CLAHE: 58.46\n",
            "RMS Contrast – HE: 73.33, CLAHE: 58.45\n"
          ]
        },
        {
          "name": "stderr",
          "output_type": "stream",
          "text": [
            "/tmp/ipython-input-28-1976214917.py:11: DeprecationWarning: Conversion of an array with ndim > 0 to a scalar is deprecated, and will error in future. Ensure you extract a single element from your array before performing this operation. (Deprecated NumPy 1.25.)\n",
            "  (bin_width*(j-1), size[1] - int(hist[j-1])),\n",
            "/tmp/ipython-input-28-1976214917.py:12: DeprecationWarning: Conversion of an array with ndim > 0 to a scalar is deprecated, and will error in future. Ensure you extract a single element from your array before performing this operation. (Deprecated NumPy 1.25.)\n",
            "  (bin_width*j, size[1] - int(hist[j])),\n"
          ]
        },
        {
          "name": "stdout",
          "output_type": "stream",
          "text": [
            "RMS Contrast – HE: 73.35, CLAHE: 58.42\n",
            "RMS Contrast – HE: 73.35, CLAHE: 58.41\n",
            "RMS Contrast – HE: 73.35, CLAHE: 58.36\n",
            "RMS Contrast – HE: 73.33, CLAHE: 58.49\n",
            "RMS Contrast – HE: 73.33, CLAHE: 58.51\n",
            "RMS Contrast – HE: 73.33, CLAHE: 58.49\n",
            "RMS Contrast – HE: 73.33, CLAHE: 58.42\n",
            "RMS Contrast – HE: 73.35, CLAHE: 58.43\n",
            "RMS Contrast – HE: 73.35, CLAHE: 58.42\n",
            "RMS Contrast – HE: 73.35, CLAHE: 58.50\n",
            "RMS Contrast – HE: 73.34, CLAHE: 58.50\n",
            "RMS Contrast – HE: 73.34, CLAHE: 58.52\n",
            "RMS Contrast – HE: 73.35, CLAHE: 58.49\n",
            "RMS Contrast – HE: 73.37, CLAHE: 58.44\n"
          ]
        },
        {
          "name": "stderr",
          "output_type": "stream",
          "text": [
            "/tmp/ipython-input-28-1976214917.py:11: DeprecationWarning: Conversion of an array with ndim > 0 to a scalar is deprecated, and will error in future. Ensure you extract a single element from your array before performing this operation. (Deprecated NumPy 1.25.)\n",
            "  (bin_width*(j-1), size[1] - int(hist[j-1])),\n",
            "/tmp/ipython-input-28-1976214917.py:12: DeprecationWarning: Conversion of an array with ndim > 0 to a scalar is deprecated, and will error in future. Ensure you extract a single element from your array before performing this operation. (Deprecated NumPy 1.25.)\n",
            "  (bin_width*j, size[1] - int(hist[j])),\n"
          ]
        },
        {
          "name": "stdout",
          "output_type": "stream",
          "text": [
            "RMS Contrast – HE: 73.34, CLAHE: 58.46\n",
            "RMS Contrast – HE: 73.35, CLAHE: 58.47\n",
            "RMS Contrast – HE: 73.38, CLAHE: 58.49\n",
            "RMS Contrast – HE: 73.38, CLAHE: 58.53\n",
            "RMS Contrast – HE: 73.38, CLAHE: 58.56\n",
            "RMS Contrast – HE: 73.39, CLAHE: 58.49\n",
            "RMS Contrast – HE: 73.36, CLAHE: 58.41\n",
            "RMS Contrast – HE: 73.36, CLAHE: 58.40\n",
            "RMS Contrast – HE: 73.36, CLAHE: 58.43\n",
            "RMS Contrast – HE: 73.38, CLAHE: 58.41\n",
            "RMS Contrast – HE: 73.33, CLAHE: 58.42\n",
            "RMS Contrast – HE: 73.31, CLAHE: 58.33\n",
            "RMS Contrast – HE: 73.30, CLAHE: 58.25\n",
            "RMS Contrast – HE: 73.33, CLAHE: 58.24\n",
            "RMS Contrast – HE: 73.38, CLAHE: 58.16\n",
            "RMS Contrast – HE: 73.37, CLAHE: 58.22\n",
            "RMS Contrast – HE: 73.31, CLAHE: 58.24\n",
            "RMS Contrast – HE: 73.35, CLAHE: 58.19\n",
            "RMS Contrast – HE: 73.35, CLAHE: 58.14\n",
            "RMS Contrast – HE: 73.35, CLAHE: 58.25\n",
            "RMS Contrast – HE: 73.35, CLAHE: 58.19\n",
            "RMS Contrast – HE: 73.35, CLAHE: 58.28\n",
            "RMS Contrast – HE: 73.29, CLAHE: 58.32\n",
            "RMS Contrast – HE: 73.31, CLAHE: 58.26\n",
            "RMS Contrast – HE: 73.31, CLAHE: 58.42\n",
            "RMS Contrast – HE: 73.30, CLAHE: 58.38\n",
            "RMS Contrast – HE: 73.31, CLAHE: 58.35\n",
            "RMS Contrast – HE: 73.30, CLAHE: 58.34\n",
            "RMS Contrast – HE: 73.31, CLAHE: 58.31\n",
            "RMS Contrast – HE: 73.32, CLAHE: 58.29\n",
            "RMS Contrast – HE: 73.30, CLAHE: 58.37\n"
          ]
        },
        {
          "name": "stderr",
          "output_type": "stream",
          "text": [
            "/tmp/ipython-input-28-1976214917.py:11: DeprecationWarning: Conversion of an array with ndim > 0 to a scalar is deprecated, and will error in future. Ensure you extract a single element from your array before performing this operation. (Deprecated NumPy 1.25.)\n",
            "  (bin_width*(j-1), size[1] - int(hist[j-1])),\n",
            "/tmp/ipython-input-28-1976214917.py:12: DeprecationWarning: Conversion of an array with ndim > 0 to a scalar is deprecated, and will error in future. Ensure you extract a single element from your array before performing this operation. (Deprecated NumPy 1.25.)\n",
            "  (bin_width*j, size[1] - int(hist[j])),\n"
          ]
        },
        {
          "name": "stdout",
          "output_type": "stream",
          "text": [
            "RMS Contrast – HE: 73.31, CLAHE: 58.36\n",
            "RMS Contrast – HE: 73.33, CLAHE: 58.32\n",
            "RMS Contrast – HE: 73.34, CLAHE: 58.30\n",
            "RMS Contrast – HE: 73.30, CLAHE: 58.27\n",
            "RMS Contrast – HE: 73.28, CLAHE: 58.21\n",
            "RMS Contrast – HE: 73.30, CLAHE: 58.40\n",
            "RMS Contrast – HE: 73.31, CLAHE: 58.38\n",
            "RMS Contrast – HE: 73.30, CLAHE: 58.36\n",
            "RMS Contrast – HE: 73.30, CLAHE: 58.37\n",
            "RMS Contrast – HE: 73.32, CLAHE: 58.27\n",
            "RMS Contrast – HE: 73.33, CLAHE: 58.25\n",
            "RMS Contrast – HE: 73.30, CLAHE: 58.35\n",
            "RMS Contrast – HE: 73.31, CLAHE: 58.28\n",
            "RMS Contrast – HE: 73.30, CLAHE: 58.30\n",
            "RMS Contrast – HE: 73.33, CLAHE: 58.26\n",
            "RMS Contrast – HE: 73.33, CLAHE: 58.30\n",
            "RMS Contrast – HE: 73.31, CLAHE: 58.26\n",
            "RMS Contrast – HE: 73.30, CLAHE: 58.50\n",
            "RMS Contrast – HE: 73.29, CLAHE: 58.31\n",
            "RMS Contrast – HE: 73.31, CLAHE: 58.29\n",
            "RMS Contrast – HE: 73.31, CLAHE: 58.31\n",
            "RMS Contrast – HE: 73.31, CLAHE: 58.31\n",
            "RMS Contrast – HE: 73.31, CLAHE: 58.71\n",
            "RMS Contrast – HE: 73.29, CLAHE: 58.70\n",
            "RMS Contrast – HE: 73.25, CLAHE: 58.59\n",
            "RMS Contrast – HE: 73.31, CLAHE: 58.62\n",
            "RMS Contrast – HE: 73.24, CLAHE: 58.71\n",
            "RMS Contrast – HE: 73.26, CLAHE: 58.66\n",
            "RMS Contrast – HE: 73.29, CLAHE: 58.79\n",
            "RMS Contrast – HE: 73.23, CLAHE: 58.74\n",
            "RMS Contrast – HE: 73.29, CLAHE: 58.49\n",
            "RMS Contrast – HE: 73.27, CLAHE: 58.44\n",
            "RMS Contrast – HE: 73.26, CLAHE: 58.59\n",
            "RMS Contrast – HE: 73.32, CLAHE: 58.60\n",
            "RMS Contrast – HE: 73.29, CLAHE: 58.65\n",
            "RMS Contrast – HE: 73.25, CLAHE: 58.56\n",
            "RMS Contrast – HE: 73.30, CLAHE: 58.46\n",
            "RMS Contrast – HE: 73.28, CLAHE: 58.42\n",
            "RMS Contrast – HE: 73.27, CLAHE: 58.52\n",
            "RMS Contrast – HE: 73.28, CLAHE: 58.51\n",
            "RMS Contrast – HE: 73.25, CLAHE: 58.52\n",
            "RMS Contrast – HE: 73.27, CLAHE: 58.42\n",
            "RMS Contrast – HE: 73.29, CLAHE: 58.38\n",
            "RMS Contrast – HE: 73.28, CLAHE: 58.46\n",
            "RMS Contrast – HE: 73.24, CLAHE: 58.53\n",
            "RMS Contrast – HE: 73.30, CLAHE: 58.48\n",
            "RMS Contrast – HE: 73.29, CLAHE: 58.52\n",
            "RMS Contrast – HE: 73.30, CLAHE: 58.45\n",
            "RMS Contrast – HE: 73.30, CLAHE: 58.40\n",
            "RMS Contrast – HE: 73.30, CLAHE: 58.46\n",
            "RMS Contrast – HE: 73.29, CLAHE: 58.54\n",
            "RMS Contrast – HE: 73.29, CLAHE: 58.62\n",
            "RMS Contrast – HE: 73.30, CLAHE: 58.70\n",
            "RMS Contrast – HE: 73.26, CLAHE: 58.56\n",
            "RMS Contrast – HE: 73.29, CLAHE: 58.53\n",
            "RMS Contrast – HE: 73.28, CLAHE: 58.51\n",
            "RMS Contrast – HE: 73.31, CLAHE: 58.57\n",
            "RMS Contrast – HE: 73.28, CLAHE: 58.65\n",
            "RMS Contrast – HE: 73.32, CLAHE: 58.70\n"
          ]
        },
        {
          "name": "stderr",
          "output_type": "stream",
          "text": [
            "/tmp/ipython-input-28-1976214917.py:11: DeprecationWarning: Conversion of an array with ndim > 0 to a scalar is deprecated, and will error in future. Ensure you extract a single element from your array before performing this operation. (Deprecated NumPy 1.25.)\n",
            "  (bin_width*(j-1), size[1] - int(hist[j-1])),\n",
            "/tmp/ipython-input-28-1976214917.py:12: DeprecationWarning: Conversion of an array with ndim > 0 to a scalar is deprecated, and will error in future. Ensure you extract a single element from your array before performing this operation. (Deprecated NumPy 1.25.)\n",
            "  (bin_width*j, size[1] - int(hist[j])),\n"
          ]
        },
        {
          "name": "stdout",
          "output_type": "stream",
          "text": [
            "RMS Contrast – HE: 73.30, CLAHE: 58.68\n",
            "RMS Contrast – HE: 73.33, CLAHE: 58.59\n",
            "RMS Contrast – HE: 73.31, CLAHE: 58.60\n",
            "RMS Contrast – HE: 73.26, CLAHE: 58.68\n",
            "RMS Contrast – HE: 73.30, CLAHE: 58.78\n",
            "RMS Contrast – HE: 73.31, CLAHE: 58.80\n",
            "RMS Contrast – HE: 73.26, CLAHE: 58.71\n",
            "RMS Contrast – HE: 73.29, CLAHE: 58.74\n",
            "RMS Contrast – HE: 73.28, CLAHE: 58.69\n",
            "RMS Contrast – HE: 73.25, CLAHE: 58.65\n",
            "RMS Contrast – HE: 73.25, CLAHE: 58.82\n",
            "RMS Contrast – HE: 73.28, CLAHE: 58.85\n",
            "RMS Contrast – HE: 73.31, CLAHE: 58.88\n",
            "RMS Contrast – HE: 73.27, CLAHE: 58.86\n",
            "RMS Contrast – HE: 73.32, CLAHE: 58.72\n",
            "RMS Contrast – HE: 73.34, CLAHE: 58.66\n",
            "RMS Contrast – HE: 73.30, CLAHE: 58.95\n",
            "RMS Contrast – HE: 73.35, CLAHE: 58.92\n",
            "RMS Contrast – HE: 73.35, CLAHE: 58.81\n",
            "RMS Contrast – HE: 73.33, CLAHE: 58.90\n",
            "RMS Contrast – HE: 73.34, CLAHE: 58.77\n",
            "RMS Contrast – HE: 73.40, CLAHE: 58.83\n",
            "RMS Contrast – HE: 73.37, CLAHE: 58.75\n",
            "RMS Contrast – HE: 73.39, CLAHE: 58.79\n",
            "RMS Contrast – HE: 73.34, CLAHE: 58.68\n",
            "RMS Contrast – HE: 73.33, CLAHE: 58.57\n",
            "RMS Contrast – HE: 73.31, CLAHE: 58.55\n",
            "RMS Contrast – HE: 73.35, CLAHE: 58.63\n",
            "RMS Contrast – HE: 73.35, CLAHE: 58.73\n"
          ]
        },
        {
          "name": "stderr",
          "output_type": "stream",
          "text": [
            "/tmp/ipython-input-28-1976214917.py:11: DeprecationWarning: Conversion of an array with ndim > 0 to a scalar is deprecated, and will error in future. Ensure you extract a single element from your array before performing this operation. (Deprecated NumPy 1.25.)\n",
            "  (bin_width*(j-1), size[1] - int(hist[j-1])),\n",
            "/tmp/ipython-input-28-1976214917.py:12: DeprecationWarning: Conversion of an array with ndim > 0 to a scalar is deprecated, and will error in future. Ensure you extract a single element from your array before performing this operation. (Deprecated NumPy 1.25.)\n",
            "  (bin_width*j, size[1] - int(hist[j])),\n"
          ]
        },
        {
          "name": "stdout",
          "output_type": "stream",
          "text": [
            "RMS Contrast – HE: 73.38, CLAHE: 58.53\n",
            "RMS Contrast – HE: 73.36, CLAHE: 58.50\n",
            "RMS Contrast – HE: 73.39, CLAHE: 58.54\n",
            "RMS Contrast – HE: 73.32, CLAHE: 58.57\n",
            "RMS Contrast – HE: 73.32, CLAHE: 58.39\n",
            "RMS Contrast – HE: 73.34, CLAHE: 58.37\n",
            "RMS Contrast – HE: 73.37, CLAHE: 58.51\n",
            "RMS Contrast – HE: 73.35, CLAHE: 58.54\n"
          ]
        },
        {
          "name": "stderr",
          "output_type": "stream",
          "text": [
            "/tmp/ipython-input-28-1976214917.py:11: DeprecationWarning: Conversion of an array with ndim > 0 to a scalar is deprecated, and will error in future. Ensure you extract a single element from your array before performing this operation. (Deprecated NumPy 1.25.)\n",
            "  (bin_width*(j-1), size[1] - int(hist[j-1])),\n",
            "/tmp/ipython-input-28-1976214917.py:12: DeprecationWarning: Conversion of an array with ndim > 0 to a scalar is deprecated, and will error in future. Ensure you extract a single element from your array before performing this operation. (Deprecated NumPy 1.25.)\n",
            "  (bin_width*j, size[1] - int(hist[j])),\n"
          ]
        },
        {
          "name": "stdout",
          "output_type": "stream",
          "text": [
            "RMS Contrast – HE: 73.35, CLAHE: 58.28\n",
            "RMS Contrast – HE: 73.33, CLAHE: 58.29\n",
            "RMS Contrast – HE: 73.38, CLAHE: 58.38\n",
            "RMS Contrast – HE: 73.37, CLAHE: 58.39\n",
            "RMS Contrast – HE: 73.35, CLAHE: 58.44\n",
            "RMS Contrast – HE: 73.38, CLAHE: 58.37\n",
            "RMS Contrast – HE: 73.36, CLAHE: 58.40\n",
            "RMS Contrast – HE: 73.38, CLAHE: 58.38\n",
            "RMS Contrast – HE: 73.40, CLAHE: 58.43\n",
            "RMS Contrast – HE: 73.38, CLAHE: 58.43\n",
            "RMS Contrast – HE: 73.41, CLAHE: 58.33\n",
            "RMS Contrast – HE: 73.40, CLAHE: 58.23\n",
            "RMS Contrast – HE: 73.38, CLAHE: 58.20\n",
            "RMS Contrast – HE: 73.36, CLAHE: 58.27\n",
            "RMS Contrast – HE: 73.37, CLAHE: 58.23\n",
            "RMS Contrast – HE: 73.37, CLAHE: 58.27\n",
            "RMS Contrast – HE: 73.36, CLAHE: 58.26\n",
            "RMS Contrast – HE: 73.39, CLAHE: 58.30\n",
            "RMS Contrast – HE: 73.38, CLAHE: 58.26\n",
            "RMS Contrast – HE: 73.38, CLAHE: 58.22\n",
            "RMS Contrast – HE: 73.43, CLAHE: 58.07\n",
            "RMS Contrast – HE: 73.40, CLAHE: 58.03\n",
            "RMS Contrast – HE: 73.35, CLAHE: 58.15\n",
            "RMS Contrast – HE: 73.36, CLAHE: 58.13\n",
            "RMS Contrast – HE: 73.36, CLAHE: 58.18\n",
            "RMS Contrast – HE: 73.37, CLAHE: 58.06\n",
            "RMS Contrast – HE: 73.36, CLAHE: 58.07\n",
            "RMS Contrast – HE: 73.35, CLAHE: 58.01\n",
            "RMS Contrast – HE: 73.35, CLAHE: 58.06\n",
            "RMS Contrast – HE: 73.36, CLAHE: 58.07\n",
            "RMS Contrast – HE: 73.34, CLAHE: 58.09\n",
            "RMS Contrast – HE: 73.31, CLAHE: 58.07\n",
            "RMS Contrast – HE: 73.34, CLAHE: 58.06\n",
            "RMS Contrast – HE: 73.35, CLAHE: 58.05\n",
            "RMS Contrast – HE: 73.33, CLAHE: 58.02\n",
            "RMS Contrast – HE: 73.30, CLAHE: 58.04\n",
            "RMS Contrast – HE: 73.33, CLAHE: 58.06\n",
            "RMS Contrast – HE: 73.33, CLAHE: 58.09\n",
            "RMS Contrast – HE: 73.32, CLAHE: 58.08\n",
            "RMS Contrast – HE: 73.32, CLAHE: 58.12\n",
            "RMS Contrast – HE: 73.31, CLAHE: 58.07\n",
            "RMS Contrast – HE: 73.30, CLAHE: 58.06\n",
            "RMS Contrast – HE: 73.31, CLAHE: 58.10\n"
          ]
        },
        {
          "name": "stderr",
          "output_type": "stream",
          "text": [
            "/tmp/ipython-input-28-1976214917.py:11: DeprecationWarning: Conversion of an array with ndim > 0 to a scalar is deprecated, and will error in future. Ensure you extract a single element from your array before performing this operation. (Deprecated NumPy 1.25.)\n",
            "  (bin_width*(j-1), size[1] - int(hist[j-1])),\n",
            "/tmp/ipython-input-28-1976214917.py:12: DeprecationWarning: Conversion of an array with ndim > 0 to a scalar is deprecated, and will error in future. Ensure you extract a single element from your array before performing this operation. (Deprecated NumPy 1.25.)\n",
            "  (bin_width*j, size[1] - int(hist[j])),\n"
          ]
        },
        {
          "name": "stdout",
          "output_type": "stream",
          "text": [
            "RMS Contrast – HE: 73.32, CLAHE: 58.11\n",
            "RMS Contrast – HE: 73.33, CLAHE: 58.04\n",
            "RMS Contrast – HE: 73.31, CLAHE: 58.17\n",
            "RMS Contrast – HE: 73.34, CLAHE: 58.08\n",
            "RMS Contrast – HE: 73.35, CLAHE: 58.13\n",
            "RMS Contrast – HE: 73.34, CLAHE: 58.12\n",
            "RMS Contrast – HE: 73.31, CLAHE: 58.09\n",
            "RMS Contrast – HE: 73.34, CLAHE: 58.06\n",
            "RMS Contrast – HE: 73.35, CLAHE: 58.06\n",
            "RMS Contrast – HE: 73.33, CLAHE: 57.98\n",
            "RMS Contrast – HE: 73.29, CLAHE: 58.09\n",
            "RMS Contrast – HE: 73.31, CLAHE: 58.02\n",
            "RMS Contrast – HE: 73.33, CLAHE: 58.02\n",
            "RMS Contrast – HE: 73.29, CLAHE: 58.06\n",
            "RMS Contrast – HE: 73.30, CLAHE: 58.08\n",
            "RMS Contrast – HE: 73.34, CLAHE: 58.08\n",
            "RMS Contrast – HE: 73.34, CLAHE: 57.99\n",
            "RMS Contrast – HE: 73.33, CLAHE: 58.03\n",
            "RMS Contrast – HE: 73.30, CLAHE: 58.01\n",
            "RMS Contrast – HE: 73.31, CLAHE: 58.04\n",
            "RMS Contrast – HE: 73.31, CLAHE: 57.95\n",
            "RMS Contrast – HE: 73.30, CLAHE: 57.92\n",
            "RMS Contrast – HE: 73.30, CLAHE: 57.92\n",
            "RMS Contrast – HE: 73.32, CLAHE: 57.97\n",
            "RMS Contrast – HE: 73.33, CLAHE: 57.92\n"
          ]
        },
        {
          "name": "stderr",
          "output_type": "stream",
          "text": [
            "/tmp/ipython-input-28-1976214917.py:11: DeprecationWarning: Conversion of an array with ndim > 0 to a scalar is deprecated, and will error in future. Ensure you extract a single element from your array before performing this operation. (Deprecated NumPy 1.25.)\n",
            "  (bin_width*(j-1), size[1] - int(hist[j-1])),\n",
            "/tmp/ipython-input-28-1976214917.py:12: DeprecationWarning: Conversion of an array with ndim > 0 to a scalar is deprecated, and will error in future. Ensure you extract a single element from your array before performing this operation. (Deprecated NumPy 1.25.)\n",
            "  (bin_width*j, size[1] - int(hist[j])),\n"
          ]
        },
        {
          "name": "stdout",
          "output_type": "stream",
          "text": [
            "RMS Contrast – HE: 73.32, CLAHE: 58.00\n",
            "RMS Contrast – HE: 73.35, CLAHE: 58.06\n",
            "RMS Contrast – HE: 73.32, CLAHE: 58.02\n",
            "RMS Contrast – HE: 73.34, CLAHE: 57.97\n",
            "RMS Contrast – HE: 73.32, CLAHE: 57.99\n"
          ]
        },
        {
          "name": "stderr",
          "output_type": "stream",
          "text": [
            "/tmp/ipython-input-28-1976214917.py:11: DeprecationWarning: Conversion of an array with ndim > 0 to a scalar is deprecated, and will error in future. Ensure you extract a single element from your array before performing this operation. (Deprecated NumPy 1.25.)\n",
            "  (bin_width*(j-1), size[1] - int(hist[j-1])),\n",
            "/tmp/ipython-input-28-1976214917.py:12: DeprecationWarning: Conversion of an array with ndim > 0 to a scalar is deprecated, and will error in future. Ensure you extract a single element from your array before performing this operation. (Deprecated NumPy 1.25.)\n",
            "  (bin_width*j, size[1] - int(hist[j])),\n"
          ]
        },
        {
          "name": "stdout",
          "output_type": "stream",
          "text": [
            "RMS Contrast – HE: 73.31, CLAHE: 58.03\n",
            "RMS Contrast – HE: 73.32, CLAHE: 58.16\n",
            "RMS Contrast – HE: 73.36, CLAHE: 58.19\n",
            "RMS Contrast – HE: 73.34, CLAHE: 58.21\n",
            "RMS Contrast – HE: 73.35, CLAHE: 58.20\n",
            "RMS Contrast – HE: 73.33, CLAHE: 58.44\n",
            "RMS Contrast – HE: 73.35, CLAHE: 58.47\n",
            "RMS Contrast – HE: 73.34, CLAHE: 58.44\n",
            "RMS Contrast – HE: 73.33, CLAHE: 58.45\n",
            "RMS Contrast – HE: 73.36, CLAHE: 58.49\n",
            "RMS Contrast – HE: 73.36, CLAHE: 58.58\n",
            "RMS Contrast – HE: 73.34, CLAHE: 58.65\n",
            "RMS Contrast – HE: 73.33, CLAHE: 58.60\n",
            "RMS Contrast – HE: 73.37, CLAHE: 58.62\n",
            "RMS Contrast – HE: 73.36, CLAHE: 58.47\n",
            "RMS Contrast – HE: 73.38, CLAHE: 58.60\n",
            "RMS Contrast – HE: 73.34, CLAHE: 58.70\n",
            "RMS Contrast – HE: 73.35, CLAHE: 58.76\n",
            "RMS Contrast – HE: 73.37, CLAHE: 58.68\n",
            "RMS Contrast – HE: 73.33, CLAHE: 58.62\n",
            "RMS Contrast – HE: 73.37, CLAHE: 58.61\n",
            "RMS Contrast – HE: 73.35, CLAHE: 58.62\n",
            "RMS Contrast – HE: 73.39, CLAHE: 58.65\n",
            "RMS Contrast – HE: 73.41, CLAHE: 58.73\n",
            "RMS Contrast – HE: 73.35, CLAHE: 58.65\n",
            "RMS Contrast – HE: 73.36, CLAHE: 58.73\n",
            "RMS Contrast – HE: 73.32, CLAHE: 58.82\n",
            "RMS Contrast – HE: 73.41, CLAHE: 58.88\n",
            "RMS Contrast – HE: 73.36, CLAHE: 58.66\n",
            "RMS Contrast – HE: 73.34, CLAHE: 58.66\n"
          ]
        },
        {
          "name": "stderr",
          "output_type": "stream",
          "text": [
            "/tmp/ipython-input-28-1976214917.py:11: DeprecationWarning: Conversion of an array with ndim > 0 to a scalar is deprecated, and will error in future. Ensure you extract a single element from your array before performing this operation. (Deprecated NumPy 1.25.)\n",
            "  (bin_width*(j-1), size[1] - int(hist[j-1])),\n",
            "/tmp/ipython-input-28-1976214917.py:12: DeprecationWarning: Conversion of an array with ndim > 0 to a scalar is deprecated, and will error in future. Ensure you extract a single element from your array before performing this operation. (Deprecated NumPy 1.25.)\n",
            "  (bin_width*j, size[1] - int(hist[j])),\n"
          ]
        },
        {
          "name": "stdout",
          "output_type": "stream",
          "text": [
            "RMS Contrast – HE: 73.34, CLAHE: 58.72\n",
            "RMS Contrast – HE: 73.35, CLAHE: 58.69\n",
            "RMS Contrast – HE: 73.37, CLAHE: 58.65\n",
            "RMS Contrast – HE: 73.36, CLAHE: 58.77\n",
            "RMS Contrast – HE: 73.34, CLAHE: 58.70\n",
            "RMS Contrast – HE: 73.35, CLAHE: 58.74\n",
            "RMS Contrast – HE: 73.33, CLAHE: 58.64\n",
            "RMS Contrast – HE: 73.33, CLAHE: 58.44\n",
            "RMS Contrast – HE: 73.30, CLAHE: 58.57\n",
            "RMS Contrast – HE: 73.35, CLAHE: 58.58\n",
            "RMS Contrast – HE: 73.32, CLAHE: 58.52\n",
            "RMS Contrast – HE: 73.33, CLAHE: 58.47\n",
            "RMS Contrast – HE: 73.33, CLAHE: 58.34\n",
            "RMS Contrast – HE: 73.35, CLAHE: 58.26\n",
            "RMS Contrast – HE: 73.37, CLAHE: 58.28\n",
            "RMS Contrast – HE: 73.36, CLAHE: 58.14\n",
            "RMS Contrast – HE: 73.36, CLAHE: 58.23\n",
            "RMS Contrast – HE: 73.34, CLAHE: 58.48\n",
            "RMS Contrast – HE: 73.29, CLAHE: 58.23\n",
            "RMS Contrast – HE: 73.33, CLAHE: 58.14\n",
            "RMS Contrast – HE: 73.33, CLAHE: 57.98\n",
            "RMS Contrast – HE: 73.31, CLAHE: 58.16\n",
            "RMS Contrast – HE: 73.34, CLAHE: 57.98\n",
            "RMS Contrast – HE: 73.35, CLAHE: 57.95\n",
            "RMS Contrast – HE: 73.35, CLAHE: 57.89\n",
            "RMS Contrast – HE: 73.31, CLAHE: 57.81\n",
            "RMS Contrast – HE: 73.32, CLAHE: 57.87\n",
            "RMS Contrast – HE: 73.35, CLAHE: 57.90\n",
            "RMS Contrast – HE: 73.35, CLAHE: 57.85\n",
            "RMS Contrast – HE: 73.34, CLAHE: 57.94\n",
            "RMS Contrast – HE: 73.29, CLAHE: 57.82\n",
            "RMS Contrast – HE: 73.30, CLAHE: 57.85\n",
            "RMS Contrast – HE: 73.40, CLAHE: 57.76\n",
            "RMS Contrast – HE: 73.32, CLAHE: 57.74\n",
            "RMS Contrast – HE: 73.26, CLAHE: 57.61\n",
            "RMS Contrast – HE: 73.30, CLAHE: 57.60\n",
            "RMS Contrast – HE: 73.33, CLAHE: 57.61\n",
            "RMS Contrast – HE: 73.36, CLAHE: 57.40\n",
            "RMS Contrast – HE: 73.34, CLAHE: 57.28\n",
            "RMS Contrast – HE: 73.35, CLAHE: 57.33\n",
            "RMS Contrast – HE: 73.36, CLAHE: 57.26\n",
            "RMS Contrast – HE: 73.42, CLAHE: 57.30\n",
            "RMS Contrast – HE: 73.37, CLAHE: 57.23\n",
            "RMS Contrast – HE: 73.37, CLAHE: 57.28\n",
            "RMS Contrast – HE: 73.33, CLAHE: 57.27\n",
            "RMS Contrast – HE: 73.40, CLAHE: 57.26\n",
            "RMS Contrast – HE: 73.34, CLAHE: 57.28\n",
            "RMS Contrast – HE: 73.37, CLAHE: 57.37\n",
            "RMS Contrast – HE: 73.38, CLAHE: 57.34\n",
            "RMS Contrast – HE: 73.35, CLAHE: 57.25\n",
            "RMS Contrast – HE: 73.36, CLAHE: 57.33\n",
            "RMS Contrast – HE: 73.37, CLAHE: 57.38\n",
            "RMS Contrast – HE: 73.38, CLAHE: 57.29\n",
            "RMS Contrast – HE: 73.36, CLAHE: 57.30\n"
          ]
        },
        {
          "name": "stderr",
          "output_type": "stream",
          "text": [
            "/tmp/ipython-input-28-1976214917.py:11: DeprecationWarning: Conversion of an array with ndim > 0 to a scalar is deprecated, and will error in future. Ensure you extract a single element from your array before performing this operation. (Deprecated NumPy 1.25.)\n",
            "  (bin_width*(j-1), size[1] - int(hist[j-1])),\n",
            "/tmp/ipython-input-28-1976214917.py:12: DeprecationWarning: Conversion of an array with ndim > 0 to a scalar is deprecated, and will error in future. Ensure you extract a single element from your array before performing this operation. (Deprecated NumPy 1.25.)\n",
            "  (bin_width*j, size[1] - int(hist[j])),\n"
          ]
        },
        {
          "name": "stdout",
          "output_type": "stream",
          "text": [
            "RMS Contrast – HE: 73.35, CLAHE: 57.29\n",
            "RMS Contrast – HE: 73.43, CLAHE: 57.38\n",
            "RMS Contrast – HE: 73.40, CLAHE: 57.44\n",
            "RMS Contrast – HE: 73.38, CLAHE: 57.39\n",
            "RMS Contrast – HE: 73.42, CLAHE: 57.38\n",
            "RMS Contrast – HE: 73.31, CLAHE: 57.59\n",
            "RMS Contrast – HE: 73.38, CLAHE: 57.38\n",
            "RMS Contrast – HE: 73.39, CLAHE: 57.36\n",
            "RMS Contrast – HE: 73.38, CLAHE: 57.32\n",
            "RMS Contrast – HE: 73.41, CLAHE: 57.28\n",
            "RMS Contrast – HE: 73.41, CLAHE: 57.25\n",
            "RMS Contrast – HE: 73.39, CLAHE: 57.33\n",
            "RMS Contrast – HE: 73.42, CLAHE: 57.22\n",
            "RMS Contrast – HE: 73.39, CLAHE: 57.22\n"
          ]
        },
        {
          "name": "stderr",
          "output_type": "stream",
          "text": [
            "/tmp/ipython-input-28-1976214917.py:11: DeprecationWarning: Conversion of an array with ndim > 0 to a scalar is deprecated, and will error in future. Ensure you extract a single element from your array before performing this operation. (Deprecated NumPy 1.25.)\n",
            "  (bin_width*(j-1), size[1] - int(hist[j-1])),\n",
            "/tmp/ipython-input-28-1976214917.py:12: DeprecationWarning: Conversion of an array with ndim > 0 to a scalar is deprecated, and will error in future. Ensure you extract a single element from your array before performing this operation. (Deprecated NumPy 1.25.)\n",
            "  (bin_width*j, size[1] - int(hist[j])),\n"
          ]
        },
        {
          "name": "stdout",
          "output_type": "stream",
          "text": [
            "RMS Contrast – HE: 73.37, CLAHE: 57.24\n",
            "RMS Contrast – HE: 73.38, CLAHE: 57.13\n",
            "RMS Contrast – HE: 73.36, CLAHE: 57.20\n",
            "RMS Contrast – HE: 73.38, CLAHE: 57.36\n",
            "RMS Contrast – HE: 73.37, CLAHE: 57.18\n",
            "RMS Contrast – HE: 73.38, CLAHE: 57.12\n",
            "RMS Contrast – HE: 73.41, CLAHE: 57.34\n",
            "RMS Contrast – HE: 73.41, CLAHE: 57.15\n",
            "RMS Contrast – HE: 73.37, CLAHE: 57.15\n",
            "RMS Contrast – HE: 73.44, CLAHE: 57.19\n",
            "RMS Contrast – HE: 73.40, CLAHE: 57.06\n",
            "RMS Contrast – HE: 73.39, CLAHE: 57.10\n",
            "RMS Contrast – HE: 73.41, CLAHE: 57.16\n",
            "RMS Contrast – HE: 73.41, CLAHE: 57.14\n",
            "RMS Contrast – HE: 73.39, CLAHE: 57.09\n",
            "RMS Contrast – HE: 73.39, CLAHE: 57.12\n",
            "RMS Contrast – HE: 73.41, CLAHE: 57.00\n",
            "RMS Contrast – HE: 73.42, CLAHE: 57.07\n",
            "RMS Contrast – HE: 73.37, CLAHE: 57.15\n",
            "RMS Contrast – HE: 73.42, CLAHE: 57.12\n",
            "RMS Contrast – HE: 73.38, CLAHE: 57.13\n",
            "RMS Contrast – HE: 73.43, CLAHE: 57.04\n",
            "RMS Contrast – HE: 73.40, CLAHE: 56.99\n",
            "RMS Contrast – HE: 73.39, CLAHE: 57.03\n",
            "RMS Contrast – HE: 73.40, CLAHE: 57.17\n",
            "RMS Contrast – HE: 73.38, CLAHE: 56.93\n",
            "RMS Contrast – HE: 73.40, CLAHE: 56.91\n",
            "RMS Contrast – HE: 73.35, CLAHE: 57.04\n",
            "RMS Contrast – HE: 73.38, CLAHE: 56.97\n"
          ]
        },
        {
          "name": "stderr",
          "output_type": "stream",
          "text": [
            "/tmp/ipython-input-28-1976214917.py:11: DeprecationWarning: Conversion of an array with ndim > 0 to a scalar is deprecated, and will error in future. Ensure you extract a single element from your array before performing this operation. (Deprecated NumPy 1.25.)\n",
            "  (bin_width*(j-1), size[1] - int(hist[j-1])),\n",
            "/tmp/ipython-input-28-1976214917.py:12: DeprecationWarning: Conversion of an array with ndim > 0 to a scalar is deprecated, and will error in future. Ensure you extract a single element from your array before performing this operation. (Deprecated NumPy 1.25.)\n",
            "  (bin_width*j, size[1] - int(hist[j])),\n"
          ]
        },
        {
          "name": "stdout",
          "output_type": "stream",
          "text": [
            "RMS Contrast – HE: 73.35, CLAHE: 56.96\n",
            "RMS Contrast – HE: 73.32, CLAHE: 56.99\n",
            "RMS Contrast – HE: 73.37, CLAHE: 56.61\n",
            "RMS Contrast – HE: 73.33, CLAHE: 56.91\n",
            "RMS Contrast – HE: 73.37, CLAHE: 56.82\n",
            "RMS Contrast – HE: 73.35, CLAHE: 56.78\n",
            "RMS Contrast – HE: 73.32, CLAHE: 56.79\n",
            "RMS Contrast – HE: 73.33, CLAHE: 56.82\n",
            "RMS Contrast – HE: 73.35, CLAHE: 56.72\n",
            "RMS Contrast – HE: 73.34, CLAHE: 56.79\n",
            "RMS Contrast – HE: 73.36, CLAHE: 56.78\n",
            "RMS Contrast – HE: 73.36, CLAHE: 56.78\n",
            "RMS Contrast – HE: 73.32, CLAHE: 56.82\n",
            "RMS Contrast – HE: 73.30, CLAHE: 56.78\n",
            "RMS Contrast – HE: 73.34, CLAHE: 56.73\n",
            "RMS Contrast – HE: 73.37, CLAHE: 56.73\n",
            "RMS Contrast – HE: 73.36, CLAHE: 56.66\n",
            "RMS Contrast – HE: 73.37, CLAHE: 56.68\n",
            "RMS Contrast – HE: 73.39, CLAHE: 56.70\n",
            "RMS Contrast – HE: 73.41, CLAHE: 56.74\n",
            "RMS Contrast – HE: 73.38, CLAHE: 56.67\n",
            "RMS Contrast – HE: 73.38, CLAHE: 56.61\n",
            "RMS Contrast – HE: 73.39, CLAHE: 56.58\n",
            "RMS Contrast – HE: 73.38, CLAHE: 56.65\n",
            "RMS Contrast – HE: 73.36, CLAHE: 56.72\n",
            "RMS Contrast – HE: 73.35, CLAHE: 56.72\n",
            "RMS Contrast – HE: 73.39, CLAHE: 56.74\n",
            "RMS Contrast – HE: 73.38, CLAHE: 56.76\n",
            "RMS Contrast – HE: 73.40, CLAHE: 56.74\n",
            "RMS Contrast – HE: 73.39, CLAHE: 56.83\n",
            "RMS Contrast – HE: 73.37, CLAHE: 56.84\n",
            "RMS Contrast – HE: 73.35, CLAHE: 56.84\n",
            "RMS Contrast – HE: 73.34, CLAHE: 56.84\n",
            "RMS Contrast – HE: 73.34, CLAHE: 56.80\n",
            "RMS Contrast – HE: 73.35, CLAHE: 56.78\n",
            "RMS Contrast – HE: 73.37, CLAHE: 56.75\n",
            "RMS Contrast – HE: 73.37, CLAHE: 56.77\n",
            "RMS Contrast – HE: 73.36, CLAHE: 56.75\n",
            "RMS Contrast – HE: 73.34, CLAHE: 56.75\n",
            "RMS Contrast – HE: 73.31, CLAHE: 56.79\n",
            "RMS Contrast – HE: 73.37, CLAHE: 56.75\n",
            "RMS Contrast – HE: 73.34, CLAHE: 56.78\n",
            "RMS Contrast – HE: 73.31, CLAHE: 56.78\n",
            "RMS Contrast – HE: 73.31, CLAHE: 56.78\n",
            "RMS Contrast – HE: 73.35, CLAHE: 56.75\n",
            "RMS Contrast – HE: 73.35, CLAHE: 56.79\n",
            "RMS Contrast – HE: 73.31, CLAHE: 56.80\n",
            "RMS Contrast – HE: 73.34, CLAHE: 56.73\n",
            "RMS Contrast – HE: 73.37, CLAHE: 56.80\n",
            "RMS Contrast – HE: 73.36, CLAHE: 56.76\n",
            "RMS Contrast – HE: 73.33, CLAHE: 56.79\n",
            "RMS Contrast – HE: 73.34, CLAHE: 56.75\n",
            "RMS Contrast – HE: 73.38, CLAHE: 56.61\n",
            "RMS Contrast – HE: 73.32, CLAHE: 56.68\n",
            "RMS Contrast – HE: 73.35, CLAHE: 56.68\n",
            "RMS Contrast – HE: 73.33, CLAHE: 56.70\n",
            "RMS Contrast – HE: 73.36, CLAHE: 56.75\n",
            "RMS Contrast – HE: 73.40, CLAHE: 56.73\n",
            "RMS Contrast – HE: 73.37, CLAHE: 56.72\n",
            "RMS Contrast – HE: 73.40, CLAHE: 56.71\n",
            "RMS Contrast – HE: 73.37, CLAHE: 56.69\n",
            "RMS Contrast – HE: 73.35, CLAHE: 56.74\n"
          ]
        },
        {
          "name": "stderr",
          "output_type": "stream",
          "text": [
            "/tmp/ipython-input-28-1976214917.py:11: DeprecationWarning: Conversion of an array with ndim > 0 to a scalar is deprecated, and will error in future. Ensure you extract a single element from your array before performing this operation. (Deprecated NumPy 1.25.)\n",
            "  (bin_width*(j-1), size[1] - int(hist[j-1])),\n",
            "/tmp/ipython-input-28-1976214917.py:12: DeprecationWarning: Conversion of an array with ndim > 0 to a scalar is deprecated, and will error in future. Ensure you extract a single element from your array before performing this operation. (Deprecated NumPy 1.25.)\n",
            "  (bin_width*j, size[1] - int(hist[j])),\n"
          ]
        },
        {
          "name": "stdout",
          "output_type": "stream",
          "text": [
            "RMS Contrast – HE: 73.35, CLAHE: 56.81\n",
            "RMS Contrast – HE: 73.36, CLAHE: 56.80\n",
            "RMS Contrast – HE: 73.36, CLAHE: 56.85\n",
            "RMS Contrast – HE: 73.37, CLAHE: 56.80\n",
            "RMS Contrast – HE: 73.38, CLAHE: 56.80\n",
            "RMS Contrast – HE: 73.34, CLAHE: 56.64\n",
            "RMS Contrast – HE: 73.38, CLAHE: 56.84\n",
            "RMS Contrast – HE: 73.35, CLAHE: 56.82\n",
            "RMS Contrast – HE: 73.39, CLAHE: 56.79\n",
            "RMS Contrast – HE: 73.38, CLAHE: 56.84\n",
            "RMS Contrast – HE: 73.42, CLAHE: 56.79\n",
            "RMS Contrast – HE: 73.34, CLAHE: 56.76\n",
            "RMS Contrast – HE: 73.34, CLAHE: 56.77\n",
            "RMS Contrast – HE: 73.33, CLAHE: 56.80\n",
            "RMS Contrast – HE: 73.37, CLAHE: 56.82\n"
          ]
        },
        {
          "name": "stderr",
          "output_type": "stream",
          "text": [
            "/tmp/ipython-input-28-1976214917.py:11: DeprecationWarning: Conversion of an array with ndim > 0 to a scalar is deprecated, and will error in future. Ensure you extract a single element from your array before performing this operation. (Deprecated NumPy 1.25.)\n",
            "  (bin_width*(j-1), size[1] - int(hist[j-1])),\n",
            "/tmp/ipython-input-28-1976214917.py:12: DeprecationWarning: Conversion of an array with ndim > 0 to a scalar is deprecated, and will error in future. Ensure you extract a single element from your array before performing this operation. (Deprecated NumPy 1.25.)\n",
            "  (bin_width*j, size[1] - int(hist[j])),\n"
          ]
        },
        {
          "name": "stdout",
          "output_type": "stream",
          "text": [
            "RMS Contrast – HE: 73.37, CLAHE: 56.89\n",
            "RMS Contrast – HE: 73.38, CLAHE: 56.84\n",
            "RMS Contrast – HE: 73.34, CLAHE: 56.84\n",
            "RMS Contrast – HE: 73.37, CLAHE: 56.84\n",
            "RMS Contrast – HE: 73.36, CLAHE: 56.73\n",
            "RMS Contrast – HE: 73.36, CLAHE: 56.77\n",
            "RMS Contrast – HE: 73.31, CLAHE: 56.85\n",
            "RMS Contrast – HE: 73.33, CLAHE: 56.83\n",
            "RMS Contrast – HE: 73.34, CLAHE: 56.88\n",
            "RMS Contrast – HE: 73.33, CLAHE: 56.85\n",
            "RMS Contrast – HE: 73.33, CLAHE: 56.77\n",
            "RMS Contrast – HE: 73.34, CLAHE: 56.79\n",
            "RMS Contrast – HE: 73.33, CLAHE: 56.79\n",
            "RMS Contrast – HE: 73.33, CLAHE: 56.77\n",
            "RMS Contrast – HE: 73.35, CLAHE: 56.79\n",
            "RMS Contrast – HE: 73.33, CLAHE: 56.78\n",
            "RMS Contrast – HE: 73.32, CLAHE: 56.77\n",
            "RMS Contrast – HE: 73.33, CLAHE: 56.83\n",
            "RMS Contrast – HE: 73.33, CLAHE: 56.78\n",
            "RMS Contrast – HE: 73.32, CLAHE: 56.87\n",
            "RMS Contrast – HE: 73.36, CLAHE: 56.93\n",
            "RMS Contrast – HE: 73.36, CLAHE: 56.91\n",
            "RMS Contrast – HE: 73.37, CLAHE: 56.89\n",
            "RMS Contrast – HE: 73.34, CLAHE: 56.94\n",
            "RMS Contrast – HE: 73.32, CLAHE: 56.92\n",
            "RMS Contrast – HE: 73.32, CLAHE: 56.90\n",
            "RMS Contrast – HE: 73.34, CLAHE: 56.96\n",
            "RMS Contrast – HE: 73.34, CLAHE: 57.01\n",
            "RMS Contrast – HE: 73.34, CLAHE: 57.02\n",
            "RMS Contrast – HE: 73.37, CLAHE: 57.06\n",
            "RMS Contrast – HE: 73.38, CLAHE: 57.04\n"
          ]
        },
        {
          "name": "stderr",
          "output_type": "stream",
          "text": [
            "/tmp/ipython-input-28-1976214917.py:11: DeprecationWarning: Conversion of an array with ndim > 0 to a scalar is deprecated, and will error in future. Ensure you extract a single element from your array before performing this operation. (Deprecated NumPy 1.25.)\n",
            "  (bin_width*(j-1), size[1] - int(hist[j-1])),\n",
            "/tmp/ipython-input-28-1976214917.py:12: DeprecationWarning: Conversion of an array with ndim > 0 to a scalar is deprecated, and will error in future. Ensure you extract a single element from your array before performing this operation. (Deprecated NumPy 1.25.)\n",
            "  (bin_width*j, size[1] - int(hist[j])),\n"
          ]
        },
        {
          "name": "stdout",
          "output_type": "stream",
          "text": [
            "RMS Contrast – HE: 73.44, CLAHE: 56.87\n",
            "RMS Contrast – HE: 73.42, CLAHE: 57.10\n",
            "RMS Contrast – HE: 73.38, CLAHE: 57.08\n",
            "RMS Contrast – HE: 73.39, CLAHE: 57.20\n",
            "RMS Contrast – HE: 73.35, CLAHE: 57.21\n",
            "RMS Contrast – HE: 73.38, CLAHE: 57.20\n",
            "RMS Contrast – HE: 73.37, CLAHE: 57.05\n",
            "RMS Contrast – HE: 73.38, CLAHE: 57.09\n",
            "RMS Contrast – HE: 73.38, CLAHE: 57.04\n",
            "RMS Contrast – HE: 73.38, CLAHE: 56.99\n",
            "RMS Contrast – HE: 73.37, CLAHE: 57.17\n",
            "RMS Contrast – HE: 73.41, CLAHE: 57.21\n",
            "RMS Contrast – HE: 73.40, CLAHE: 57.07\n",
            "RMS Contrast – HE: 73.37, CLAHE: 57.17\n",
            "RMS Contrast – HE: 73.38, CLAHE: 57.05\n",
            "RMS Contrast – HE: 73.41, CLAHE: 57.00\n",
            "RMS Contrast – HE: 73.43, CLAHE: 57.04\n",
            "RMS Contrast – HE: 73.42, CLAHE: 57.07\n",
            "RMS Contrast – HE: 73.40, CLAHE: 57.13\n",
            "RMS Contrast – HE: 73.41, CLAHE: 57.26\n",
            "RMS Contrast – HE: 73.42, CLAHE: 57.15\n",
            "RMS Contrast – HE: 73.39, CLAHE: 57.01\n",
            "RMS Contrast – HE: 73.38, CLAHE: 57.05\n",
            "RMS Contrast – HE: 73.38, CLAHE: 57.08\n",
            "RMS Contrast – HE: 73.42, CLAHE: 57.13\n",
            "RMS Contrast – HE: 73.42, CLAHE: 57.23\n",
            "RMS Contrast – HE: 73.44, CLAHE: 57.17\n",
            "RMS Contrast – HE: 73.42, CLAHE: 57.21\n",
            "RMS Contrast – HE: 73.40, CLAHE: 57.14\n",
            "RMS Contrast – HE: 73.42, CLAHE: 57.11\n",
            "RMS Contrast – HE: 73.42, CLAHE: 57.14\n",
            "RMS Contrast – HE: 73.42, CLAHE: 57.29\n",
            "RMS Contrast – HE: 73.45, CLAHE: 57.32\n",
            "RMS Contrast – HE: 73.46, CLAHE: 57.30\n",
            "RMS Contrast – HE: 73.41, CLAHE: 57.26\n",
            "RMS Contrast – HE: 73.46, CLAHE: 57.19\n",
            "RMS Contrast – HE: 73.44, CLAHE: 57.24\n",
            "RMS Contrast – HE: 73.44, CLAHE: 57.25\n",
            "RMS Contrast – HE: 73.46, CLAHE: 57.29\n",
            "RMS Contrast – HE: 73.46, CLAHE: 57.30\n",
            "RMS Contrast – HE: 73.46, CLAHE: 57.37\n",
            "RMS Contrast – HE: 73.41, CLAHE: 57.27\n",
            "RMS Contrast – HE: 73.41, CLAHE: 57.23\n",
            "RMS Contrast – HE: 73.39, CLAHE: 57.27\n",
            "RMS Contrast – HE: 73.43, CLAHE: 57.24\n",
            "RMS Contrast – HE: 73.43, CLAHE: 57.32\n",
            "RMS Contrast – HE: 73.44, CLAHE: 57.36\n",
            "RMS Contrast – HE: 73.45, CLAHE: 57.28\n",
            "RMS Contrast – HE: 73.49, CLAHE: 57.27\n",
            "RMS Contrast – HE: 73.47, CLAHE: 57.19\n",
            "RMS Contrast – HE: 73.45, CLAHE: 57.20\n",
            "RMS Contrast – HE: 73.42, CLAHE: 57.19\n",
            "RMS Contrast – HE: 73.46, CLAHE: 57.33\n",
            "RMS Contrast – HE: 73.47, CLAHE: 57.33\n",
            "RMS Contrast – HE: 73.46, CLAHE: 57.40\n",
            "RMS Contrast – HE: 73.44, CLAHE: 57.33\n",
            "RMS Contrast – HE: 73.41, CLAHE: 57.29\n",
            "RMS Contrast – HE: 73.43, CLAHE: 57.35\n",
            "RMS Contrast – HE: 73.45, CLAHE: 57.42\n",
            "RMS Contrast – HE: 73.45, CLAHE: 57.34\n",
            "RMS Contrast – HE: 73.46, CLAHE: 57.33\n",
            "RMS Contrast – HE: 73.43, CLAHE: 57.24\n"
          ]
        },
        {
          "name": "stderr",
          "output_type": "stream",
          "text": [
            "/tmp/ipython-input-28-1976214917.py:11: DeprecationWarning: Conversion of an array with ndim > 0 to a scalar is deprecated, and will error in future. Ensure you extract a single element from your array before performing this operation. (Deprecated NumPy 1.25.)\n",
            "  (bin_width*(j-1), size[1] - int(hist[j-1])),\n",
            "/tmp/ipython-input-28-1976214917.py:12: DeprecationWarning: Conversion of an array with ndim > 0 to a scalar is deprecated, and will error in future. Ensure you extract a single element from your array before performing this operation. (Deprecated NumPy 1.25.)\n",
            "  (bin_width*j, size[1] - int(hist[j])),\n"
          ]
        },
        {
          "name": "stdout",
          "output_type": "stream",
          "text": [
            "RMS Contrast – HE: 73.47, CLAHE: 57.27\n",
            "RMS Contrast – HE: 73.44, CLAHE: 57.33\n",
            "RMS Contrast – HE: 73.48, CLAHE: 57.38\n",
            "RMS Contrast – HE: 73.47, CLAHE: 57.43\n",
            "RMS Contrast – HE: 73.45, CLAHE: 57.42\n",
            "RMS Contrast – HE: 73.46, CLAHE: 57.35\n",
            "RMS Contrast – HE: 73.46, CLAHE: 57.31\n",
            "RMS Contrast – HE: 73.45, CLAHE: 57.35\n",
            "RMS Contrast – HE: 73.43, CLAHE: 57.37\n",
            "RMS Contrast – HE: 73.46, CLAHE: 57.35\n",
            "RMS Contrast – HE: 73.48, CLAHE: 57.48\n",
            "RMS Contrast – HE: 73.45, CLAHE: 57.46\n",
            "RMS Contrast – HE: 73.46, CLAHE: 57.56\n",
            "RMS Contrast – HE: 73.45, CLAHE: 57.53\n"
          ]
        },
        {
          "name": "stderr",
          "output_type": "stream",
          "text": [
            "/tmp/ipython-input-28-1976214917.py:11: DeprecationWarning: Conversion of an array with ndim > 0 to a scalar is deprecated, and will error in future. Ensure you extract a single element from your array before performing this operation. (Deprecated NumPy 1.25.)\n",
            "  (bin_width*(j-1), size[1] - int(hist[j-1])),\n",
            "/tmp/ipython-input-28-1976214917.py:12: DeprecationWarning: Conversion of an array with ndim > 0 to a scalar is deprecated, and will error in future. Ensure you extract a single element from your array before performing this operation. (Deprecated NumPy 1.25.)\n",
            "  (bin_width*j, size[1] - int(hist[j])),\n"
          ]
        },
        {
          "name": "stdout",
          "output_type": "stream",
          "text": [
            "RMS Contrast – HE: 73.43, CLAHE: 57.57\n",
            "RMS Contrast – HE: 73.42, CLAHE: 57.52\n",
            "RMS Contrast – HE: 73.41, CLAHE: 57.65\n",
            "RMS Contrast – HE: 73.41, CLAHE: 57.58\n",
            "RMS Contrast – HE: 73.43, CLAHE: 57.54\n",
            "RMS Contrast – HE: 73.42, CLAHE: 57.45\n",
            "RMS Contrast – HE: 73.42, CLAHE: 57.49\n",
            "RMS Contrast – HE: 73.43, CLAHE: 57.47\n",
            "RMS Contrast – HE: 73.45, CLAHE: 57.61\n",
            "RMS Contrast – HE: 73.47, CLAHE: 57.56\n",
            "RMS Contrast – HE: 73.41, CLAHE: 57.58\n",
            "RMS Contrast – HE: 73.46, CLAHE: 57.54\n",
            "RMS Contrast – HE: 73.40, CLAHE: 57.42\n",
            "RMS Contrast – HE: 73.43, CLAHE: 57.52\n",
            "RMS Contrast – HE: 73.42, CLAHE: 57.54\n",
            "RMS Contrast – HE: 73.45, CLAHE: 57.56\n",
            "RMS Contrast – HE: 73.46, CLAHE: 57.54\n",
            "RMS Contrast – HE: 73.44, CLAHE: 57.56\n",
            "RMS Contrast – HE: 73.43, CLAHE: 57.42\n",
            "RMS Contrast – HE: 73.40, CLAHE: 57.41\n",
            "RMS Contrast – HE: 73.44, CLAHE: 57.61\n",
            "RMS Contrast – HE: 73.42, CLAHE: 57.63\n",
            "RMS Contrast – HE: 73.46, CLAHE: 57.58\n",
            "RMS Contrast – HE: 73.43, CLAHE: 57.59\n",
            "RMS Contrast – HE: 73.41, CLAHE: 57.47\n",
            "RMS Contrast – HE: 73.38, CLAHE: 57.45\n",
            "RMS Contrast – HE: 73.41, CLAHE: 57.60\n",
            "RMS Contrast – HE: 73.44, CLAHE: 57.60\n"
          ]
        },
        {
          "name": "stderr",
          "output_type": "stream",
          "text": [
            "/tmp/ipython-input-28-1976214917.py:11: DeprecationWarning: Conversion of an array with ndim > 0 to a scalar is deprecated, and will error in future. Ensure you extract a single element from your array before performing this operation. (Deprecated NumPy 1.25.)\n",
            "  (bin_width*(j-1), size[1] - int(hist[j-1])),\n",
            "/tmp/ipython-input-28-1976214917.py:12: DeprecationWarning: Conversion of an array with ndim > 0 to a scalar is deprecated, and will error in future. Ensure you extract a single element from your array before performing this operation. (Deprecated NumPy 1.25.)\n",
            "  (bin_width*j, size[1] - int(hist[j])),\n"
          ]
        },
        {
          "name": "stdout",
          "output_type": "stream",
          "text": [
            "RMS Contrast – HE: 73.45, CLAHE: 57.57\n",
            "RMS Contrast – HE: 73.41, CLAHE: 57.58\n",
            "RMS Contrast – HE: 73.40, CLAHE: 57.51\n",
            "RMS Contrast – HE: 73.39, CLAHE: 57.39\n",
            "RMS Contrast – HE: 73.37, CLAHE: 57.55\n",
            "RMS Contrast – HE: 73.42, CLAHE: 57.47\n",
            "RMS Contrast – HE: 73.42, CLAHE: 57.50\n",
            "RMS Contrast – HE: 73.41, CLAHE: 57.56\n",
            "RMS Contrast – HE: 73.41, CLAHE: 57.38\n",
            "RMS Contrast – HE: 73.42, CLAHE: 57.38\n",
            "RMS Contrast – HE: 73.37, CLAHE: 57.49\n",
            "RMS Contrast – HE: 73.41, CLAHE: 57.48\n",
            "RMS Contrast – HE: 73.43, CLAHE: 57.53\n",
            "RMS Contrast – HE: 73.39, CLAHE: 57.53\n",
            "RMS Contrast – HE: 73.39, CLAHE: 57.65\n",
            "RMS Contrast – HE: 73.36, CLAHE: 57.79\n",
            "RMS Contrast – HE: 73.35, CLAHE: 57.90\n",
            "RMS Contrast – HE: 73.38, CLAHE: 57.73\n",
            "RMS Contrast – HE: 73.42, CLAHE: 57.75\n",
            "RMS Contrast – HE: 73.38, CLAHE: 57.68\n",
            "RMS Contrast – HE: 73.36, CLAHE: 57.55\n",
            "RMS Contrast – HE: 73.40, CLAHE: 57.67\n",
            "RMS Contrast – HE: 73.40, CLAHE: 57.72\n",
            "RMS Contrast – HE: 73.36, CLAHE: 57.77\n",
            "RMS Contrast – HE: 73.38, CLAHE: 57.65\n",
            "RMS Contrast – HE: 73.37, CLAHE: 57.55\n",
            "RMS Contrast – HE: 73.38, CLAHE: 57.47\n",
            "RMS Contrast – HE: 73.37, CLAHE: 57.55\n",
            "RMS Contrast – HE: 73.38, CLAHE: 57.65\n",
            "RMS Contrast – HE: 73.40, CLAHE: 57.67\n",
            "RMS Contrast – HE: 73.37, CLAHE: 57.52\n",
            "RMS Contrast – HE: 73.37, CLAHE: 57.38\n",
            "RMS Contrast – HE: 73.38, CLAHE: 57.34\n",
            "RMS Contrast – HE: 73.40, CLAHE: 57.42\n"
          ]
        },
        {
          "name": "stderr",
          "output_type": "stream",
          "text": [
            "/tmp/ipython-input-28-1976214917.py:11: DeprecationWarning: Conversion of an array with ndim > 0 to a scalar is deprecated, and will error in future. Ensure you extract a single element from your array before performing this operation. (Deprecated NumPy 1.25.)\n",
            "  (bin_width*(j-1), size[1] - int(hist[j-1])),\n",
            "/tmp/ipython-input-28-1976214917.py:12: DeprecationWarning: Conversion of an array with ndim > 0 to a scalar is deprecated, and will error in future. Ensure you extract a single element from your array before performing this operation. (Deprecated NumPy 1.25.)\n",
            "  (bin_width*j, size[1] - int(hist[j])),\n"
          ]
        },
        {
          "name": "stdout",
          "output_type": "stream",
          "text": [
            "RMS Contrast – HE: 73.37, CLAHE: 57.48\n",
            "RMS Contrast – HE: 73.39, CLAHE: 57.55\n",
            "RMS Contrast – HE: 73.38, CLAHE: 57.43\n",
            "RMS Contrast – HE: 73.39, CLAHE: 57.34\n",
            "RMS Contrast – HE: 73.38, CLAHE: 57.33\n",
            "RMS Contrast – HE: 73.40, CLAHE: 57.35\n",
            "RMS Contrast – HE: 73.39, CLAHE: 57.44\n",
            "RMS Contrast – HE: 73.40, CLAHE: 57.49\n",
            "RMS Contrast – HE: 73.42, CLAHE: 57.36\n"
          ]
        },
        {
          "name": "stderr",
          "output_type": "stream",
          "text": [
            "/tmp/ipython-input-28-1976214917.py:11: DeprecationWarning: Conversion of an array with ndim > 0 to a scalar is deprecated, and will error in future. Ensure you extract a single element from your array before performing this operation. (Deprecated NumPy 1.25.)\n",
            "  (bin_width*(j-1), size[1] - int(hist[j-1])),\n",
            "/tmp/ipython-input-28-1976214917.py:12: DeprecationWarning: Conversion of an array with ndim > 0 to a scalar is deprecated, and will error in future. Ensure you extract a single element from your array before performing this operation. (Deprecated NumPy 1.25.)\n",
            "  (bin_width*j, size[1] - int(hist[j])),\n"
          ]
        },
        {
          "name": "stdout",
          "output_type": "stream",
          "text": [
            "RMS Contrast – HE: 73.36, CLAHE: 57.22\n",
            "RMS Contrast – HE: 73.40, CLAHE: 57.20\n",
            "RMS Contrast – HE: 73.42, CLAHE: 57.27\n",
            "RMS Contrast – HE: 73.40, CLAHE: 57.39\n",
            "RMS Contrast – HE: 73.39, CLAHE: 57.43\n",
            "RMS Contrast – HE: 73.40, CLAHE: 57.27\n",
            "RMS Contrast – HE: 73.38, CLAHE: 56.95\n",
            "RMS Contrast – HE: 73.36, CLAHE: 56.94\n",
            "RMS Contrast – HE: 73.40, CLAHE: 57.16\n",
            "RMS Contrast – HE: 73.41, CLAHE: 57.18\n",
            "RMS Contrast – HE: 73.39, CLAHE: 57.23\n",
            "RMS Contrast – HE: 73.42, CLAHE: 57.15\n",
            "RMS Contrast – HE: 73.40, CLAHE: 56.88\n",
            "RMS Contrast – HE: 73.40, CLAHE: 56.92\n",
            "RMS Contrast – HE: 73.40, CLAHE: 57.11\n",
            "RMS Contrast – HE: 73.44, CLAHE: 57.18\n",
            "RMS Contrast – HE: 73.41, CLAHE: 56.90\n",
            "RMS Contrast – HE: 73.40, CLAHE: 56.88\n",
            "RMS Contrast – HE: 73.41, CLAHE: 56.99\n",
            "RMS Contrast – HE: 73.40, CLAHE: 57.10\n",
            "RMS Contrast – HE: 73.43, CLAHE: 57.20\n",
            "RMS Contrast – HE: 73.42, CLAHE: 57.13\n"
          ]
        },
        {
          "name": "stderr",
          "output_type": "stream",
          "text": [
            "/tmp/ipython-input-28-1976214917.py:11: DeprecationWarning: Conversion of an array with ndim > 0 to a scalar is deprecated, and will error in future. Ensure you extract a single element from your array before performing this operation. (Deprecated NumPy 1.25.)\n",
            "  (bin_width*(j-1), size[1] - int(hist[j-1])),\n",
            "/tmp/ipython-input-28-1976214917.py:12: DeprecationWarning: Conversion of an array with ndim > 0 to a scalar is deprecated, and will error in future. Ensure you extract a single element from your array before performing this operation. (Deprecated NumPy 1.25.)\n",
            "  (bin_width*j, size[1] - int(hist[j])),\n"
          ]
        },
        {
          "name": "stdout",
          "output_type": "stream",
          "text": [
            "RMS Contrast – HE: 73.41, CLAHE: 56.93\n",
            "RMS Contrast – HE: 73.39, CLAHE: 57.02\n",
            "RMS Contrast – HE: 73.44, CLAHE: 57.21\n",
            "RMS Contrast – HE: 73.40, CLAHE: 57.26\n",
            "RMS Contrast – HE: 73.41, CLAHE: 57.14\n",
            "RMS Contrast – HE: 73.37, CLAHE: 56.96\n",
            "RMS Contrast – HE: 73.42, CLAHE: 57.01\n",
            "RMS Contrast – HE: 73.41, CLAHE: 57.10\n",
            "RMS Contrast – HE: 73.42, CLAHE: 57.23\n",
            "RMS Contrast – HE: 73.40, CLAHE: 57.15\n",
            "RMS Contrast – HE: 73.38, CLAHE: 56.93\n",
            "RMS Contrast – HE: 73.41, CLAHE: 57.01\n",
            "RMS Contrast – HE: 73.43, CLAHE: 57.16\n",
            "RMS Contrast – HE: 73.42, CLAHE: 57.26\n",
            "RMS Contrast – HE: 73.40, CLAHE: 57.18\n",
            "RMS Contrast – HE: 73.42, CLAHE: 56.90\n",
            "RMS Contrast – HE: 73.39, CLAHE: 56.82\n",
            "RMS Contrast – HE: 73.40, CLAHE: 57.02\n",
            "RMS Contrast – HE: 73.41, CLAHE: 57.22\n",
            "RMS Contrast – HE: 73.43, CLAHE: 57.27\n",
            "RMS Contrast – HE: 73.41, CLAHE: 57.20\n",
            "RMS Contrast – HE: 73.40, CLAHE: 57.01\n",
            "RMS Contrast – HE: 73.44, CLAHE: 56.97\n",
            "RMS Contrast – HE: 73.43, CLAHE: 57.20\n",
            "RMS Contrast – HE: 73.43, CLAHE: 57.43\n",
            "RMS Contrast – HE: 73.42, CLAHE: 57.52\n",
            "RMS Contrast – HE: 73.41, CLAHE: 57.24\n",
            "RMS Contrast – HE: 73.42, CLAHE: 57.15\n",
            "RMS Contrast – HE: 73.38, CLAHE: 57.45\n",
            "RMS Contrast – HE: 73.43, CLAHE: 57.45\n",
            "RMS Contrast – HE: 73.45, CLAHE: 57.24\n",
            "RMS Contrast – HE: 73.47, CLAHE: 57.17\n",
            "RMS Contrast – HE: 73.45, CLAHE: 57.34\n",
            "RMS Contrast – HE: 73.41, CLAHE: 57.50\n",
            "RMS Contrast – HE: 73.45, CLAHE: 57.30\n",
            "RMS Contrast – HE: 73.41, CLAHE: 57.18\n",
            "RMS Contrast – HE: 73.45, CLAHE: 57.30\n",
            "RMS Contrast – HE: 73.45, CLAHE: 57.50\n",
            "RMS Contrast – HE: 73.50, CLAHE: 57.61\n",
            "RMS Contrast – HE: 73.39, CLAHE: 57.51\n",
            "RMS Contrast – HE: 73.44, CLAHE: 57.31\n",
            "RMS Contrast – HE: 73.38, CLAHE: 57.30\n",
            "RMS Contrast – HE: 73.44, CLAHE: 57.52\n",
            "RMS Contrast – HE: 73.46, CLAHE: 57.63\n",
            "RMS Contrast – HE: 73.44, CLAHE: 57.51\n",
            "RMS Contrast – HE: 73.41, CLAHE: 57.32\n",
            "RMS Contrast – HE: 73.43, CLAHE: 57.41\n",
            "RMS Contrast – HE: 73.44, CLAHE: 57.75\n",
            "RMS Contrast – HE: 73.42, CLAHE: 57.79\n",
            "RMS Contrast – HE: 73.42, CLAHE: 57.73\n",
            "RMS Contrast – HE: 73.45, CLAHE: 57.55\n",
            "RMS Contrast – HE: 73.42, CLAHE: 57.45\n"
          ]
        },
        {
          "name": "stderr",
          "output_type": "stream",
          "text": [
            "/tmp/ipython-input-28-1976214917.py:11: DeprecationWarning: Conversion of an array with ndim > 0 to a scalar is deprecated, and will error in future. Ensure you extract a single element from your array before performing this operation. (Deprecated NumPy 1.25.)\n",
            "  (bin_width*(j-1), size[1] - int(hist[j-1])),\n",
            "/tmp/ipython-input-28-1976214917.py:12: DeprecationWarning: Conversion of an array with ndim > 0 to a scalar is deprecated, and will error in future. Ensure you extract a single element from your array before performing this operation. (Deprecated NumPy 1.25.)\n",
            "  (bin_width*j, size[1] - int(hist[j])),\n"
          ]
        },
        {
          "name": "stdout",
          "output_type": "stream",
          "text": [
            "RMS Contrast – HE: 73.40, CLAHE: 57.48\n",
            "RMS Contrast – HE: 73.44, CLAHE: 57.75\n",
            "RMS Contrast – HE: 73.45, CLAHE: 57.79\n",
            "RMS Contrast – HE: 73.44, CLAHE: 57.91\n",
            "RMS Contrast – HE: 73.46, CLAHE: 57.86\n",
            "RMS Contrast – HE: 73.46, CLAHE: 58.06\n",
            "RMS Contrast – HE: 73.42, CLAHE: 58.02\n",
            "RMS Contrast – HE: 73.45, CLAHE: 57.65\n",
            "RMS Contrast – HE: 73.43, CLAHE: 57.52\n",
            "RMS Contrast – HE: 73.48, CLAHE: 57.68\n",
            "RMS Contrast – HE: 73.44, CLAHE: 57.80\n",
            "RMS Contrast – HE: 73.50, CLAHE: 57.89\n",
            "RMS Contrast – HE: 73.41, CLAHE: 57.66\n",
            "RMS Contrast – HE: 73.47, CLAHE: 57.53\n"
          ]
        },
        {
          "name": "stderr",
          "output_type": "stream",
          "text": [
            "/tmp/ipython-input-28-1976214917.py:11: DeprecationWarning: Conversion of an array with ndim > 0 to a scalar is deprecated, and will error in future. Ensure you extract a single element from your array before performing this operation. (Deprecated NumPy 1.25.)\n",
            "  (bin_width*(j-1), size[1] - int(hist[j-1])),\n",
            "/tmp/ipython-input-28-1976214917.py:12: DeprecationWarning: Conversion of an array with ndim > 0 to a scalar is deprecated, and will error in future. Ensure you extract a single element from your array before performing this operation. (Deprecated NumPy 1.25.)\n",
            "  (bin_width*j, size[1] - int(hist[j])),\n"
          ]
        },
        {
          "name": "stdout",
          "output_type": "stream",
          "text": [
            "RMS Contrast – HE: 73.44, CLAHE: 57.67\n",
            "RMS Contrast – HE: 73.44, CLAHE: 57.99\n",
            "RMS Contrast – HE: 73.49, CLAHE: 57.99\n",
            "RMS Contrast – HE: 73.45, CLAHE: 57.89\n",
            "RMS Contrast – HE: 73.46, CLAHE: 57.58\n",
            "RMS Contrast – HE: 73.44, CLAHE: 57.60\n",
            "RMS Contrast – HE: 73.46, CLAHE: 57.92\n",
            "RMS Contrast – HE: 73.46, CLAHE: 58.03\n",
            "RMS Contrast – HE: 73.42, CLAHE: 57.78\n",
            "RMS Contrast – HE: 73.45, CLAHE: 57.70\n",
            "RMS Contrast – HE: 73.44, CLAHE: 58.04\n",
            "RMS Contrast – HE: 73.47, CLAHE: 58.11\n",
            "RMS Contrast – HE: 73.45, CLAHE: 57.75\n",
            "RMS Contrast – HE: 73.47, CLAHE: 57.75\n",
            "RMS Contrast – HE: 73.47, CLAHE: 58.01\n",
            "RMS Contrast – HE: 73.44, CLAHE: 58.16\n",
            "RMS Contrast – HE: 73.45, CLAHE: 57.77\n",
            "RMS Contrast – HE: 73.45, CLAHE: 57.72\n",
            "RMS Contrast – HE: 73.48, CLAHE: 58.02\n",
            "RMS Contrast – HE: 73.46, CLAHE: 58.13\n",
            "RMS Contrast – HE: 73.45, CLAHE: 57.74\n",
            "RMS Contrast – HE: 73.45, CLAHE: 57.68\n",
            "RMS Contrast – HE: 73.45, CLAHE: 57.97\n",
            "RMS Contrast – HE: 73.49, CLAHE: 58.13\n",
            "RMS Contrast – HE: 73.41, CLAHE: 57.76\n",
            "RMS Contrast – HE: 73.47, CLAHE: 57.71\n",
            "RMS Contrast – HE: 73.46, CLAHE: 57.95\n",
            "RMS Contrast – HE: 73.45, CLAHE: 58.08\n",
            "RMS Contrast – HE: 73.49, CLAHE: 57.74\n",
            "RMS Contrast – HE: 73.45, CLAHE: 57.69\n",
            "RMS Contrast – HE: 73.42, CLAHE: 58.01\n",
            "RMS Contrast – HE: 73.45, CLAHE: 58.08\n",
            "RMS Contrast – HE: 73.46, CLAHE: 57.84\n",
            "RMS Contrast – HE: 73.44, CLAHE: 57.70\n",
            "RMS Contrast – HE: 73.46, CLAHE: 58.03\n",
            "RMS Contrast – HE: 73.43, CLAHE: 58.13\n",
            "RMS Contrast – HE: 73.48, CLAHE: 57.77\n",
            "RMS Contrast – HE: 73.45, CLAHE: 57.66\n",
            "RMS Contrast – HE: 73.49, CLAHE: 57.94\n",
            "RMS Contrast – HE: 73.47, CLAHE: 58.02\n",
            "RMS Contrast – HE: 73.47, CLAHE: 57.75\n",
            "RMS Contrast – HE: 73.46, CLAHE: 57.73\n",
            "RMS Contrast – HE: 73.41, CLAHE: 58.01\n",
            "RMS Contrast – HE: 73.47, CLAHE: 58.13\n",
            "RMS Contrast – HE: 73.46, CLAHE: 57.85\n",
            "RMS Contrast – HE: 73.39, CLAHE: 57.63\n",
            "RMS Contrast – HE: 73.42, CLAHE: 57.73\n",
            "RMS Contrast – HE: 73.42, CLAHE: 58.02\n",
            "RMS Contrast – HE: 73.45, CLAHE: 58.14\n",
            "RMS Contrast – HE: 73.43, CLAHE: 57.98\n",
            "RMS Contrast – HE: 73.41, CLAHE: 57.78\n",
            "RMS Contrast – HE: 73.41, CLAHE: 57.82\n",
            "RMS Contrast – HE: 73.46, CLAHE: 58.18\n",
            "RMS Contrast – HE: 73.45, CLAHE: 58.20\n",
            "RMS Contrast – HE: 73.45, CLAHE: 58.14\n",
            "RMS Contrast – HE: 73.46, CLAHE: 57.74\n",
            "RMS Contrast – HE: 73.45, CLAHE: 57.76\n",
            "RMS Contrast – HE: 73.47, CLAHE: 58.17\n",
            "RMS Contrast – HE: 73.44, CLAHE: 58.20\n",
            "RMS Contrast – HE: 73.40, CLAHE: 57.98\n"
          ]
        },
        {
          "name": "stderr",
          "output_type": "stream",
          "text": [
            "/tmp/ipython-input-28-1976214917.py:11: DeprecationWarning: Conversion of an array with ndim > 0 to a scalar is deprecated, and will error in future. Ensure you extract a single element from your array before performing this operation. (Deprecated NumPy 1.25.)\n",
            "  (bin_width*(j-1), size[1] - int(hist[j-1])),\n",
            "/tmp/ipython-input-28-1976214917.py:12: DeprecationWarning: Conversion of an array with ndim > 0 to a scalar is deprecated, and will error in future. Ensure you extract a single element from your array before performing this operation. (Deprecated NumPy 1.25.)\n",
            "  (bin_width*j, size[1] - int(hist[j])),\n"
          ]
        },
        {
          "name": "stdout",
          "output_type": "stream",
          "text": [
            "RMS Contrast – HE: 73.46, CLAHE: 57.78\n",
            "RMS Contrast – HE: 73.47, CLAHE: 58.12\n",
            "RMS Contrast – HE: 73.43, CLAHE: 58.24\n",
            "RMS Contrast – HE: 73.42, CLAHE: 57.89\n",
            "RMS Contrast – HE: 73.44, CLAHE: 57.75\n",
            "RMS Contrast – HE: 73.44, CLAHE: 58.11\n",
            "RMS Contrast – HE: 73.49, CLAHE: 58.22\n",
            "RMS Contrast – HE: 73.42, CLAHE: 57.95\n",
            "RMS Contrast – HE: 73.47, CLAHE: 57.82\n",
            "RMS Contrast – HE: 73.44, CLAHE: 58.24\n",
            "RMS Contrast – HE: 73.49, CLAHE: 58.37\n",
            "RMS Contrast – HE: 73.42, CLAHE: 57.99\n",
            "RMS Contrast – HE: 73.44, CLAHE: 57.93\n",
            "RMS Contrast – HE: 73.38, CLAHE: 58.41\n",
            "RMS Contrast – HE: 73.45, CLAHE: 58.49\n",
            "RMS Contrast – HE: 73.44, CLAHE: 58.19\n",
            "RMS Contrast – HE: 73.41, CLAHE: 58.07\n",
            "RMS Contrast – HE: 73.39, CLAHE: 58.47\n",
            "RMS Contrast – HE: 73.45, CLAHE: 58.63\n",
            "RMS Contrast – HE: 73.40, CLAHE: 58.29\n",
            "RMS Contrast – HE: 73.43, CLAHE: 58.19\n",
            "RMS Contrast – HE: 73.43, CLAHE: 58.60\n",
            "RMS Contrast – HE: 73.50, CLAHE: 58.69\n",
            "RMS Contrast – HE: 73.44, CLAHE: 58.39\n",
            "RMS Contrast – HE: 73.43, CLAHE: 58.24\n",
            "RMS Contrast – HE: 73.45, CLAHE: 58.62\n",
            "RMS Contrast – HE: 73.45, CLAHE: 58.77\n",
            "RMS Contrast – HE: 73.39, CLAHE: 58.36\n"
          ]
        },
        {
          "name": "stderr",
          "output_type": "stream",
          "text": [
            "/tmp/ipython-input-28-1976214917.py:11: DeprecationWarning: Conversion of an array with ndim > 0 to a scalar is deprecated, and will error in future. Ensure you extract a single element from your array before performing this operation. (Deprecated NumPy 1.25.)\n",
            "  (bin_width*(j-1), size[1] - int(hist[j-1])),\n",
            "/tmp/ipython-input-28-1976214917.py:12: DeprecationWarning: Conversion of an array with ndim > 0 to a scalar is deprecated, and will error in future. Ensure you extract a single element from your array before performing this operation. (Deprecated NumPy 1.25.)\n",
            "  (bin_width*j, size[1] - int(hist[j])),\n"
          ]
        },
        {
          "name": "stdout",
          "output_type": "stream",
          "text": [
            "RMS Contrast – HE: 73.45, CLAHE: 58.33\n",
            "RMS Contrast – HE: 73.39, CLAHE: 58.64\n",
            "RMS Contrast – HE: 73.49, CLAHE: 58.82\n",
            "RMS Contrast – HE: 73.41, CLAHE: 58.46\n",
            "RMS Contrast – HE: 73.44, CLAHE: 58.25\n",
            "RMS Contrast – HE: 73.45, CLAHE: 58.62\n"
          ]
        },
        {
          "name": "stderr",
          "output_type": "stream",
          "text": [
            "/tmp/ipython-input-28-1976214917.py:11: DeprecationWarning: Conversion of an array with ndim > 0 to a scalar is deprecated, and will error in future. Ensure you extract a single element from your array before performing this operation. (Deprecated NumPy 1.25.)\n",
            "  (bin_width*(j-1), size[1] - int(hist[j-1])),\n",
            "/tmp/ipython-input-28-1976214917.py:12: DeprecationWarning: Conversion of an array with ndim > 0 to a scalar is deprecated, and will error in future. Ensure you extract a single element from your array before performing this operation. (Deprecated NumPy 1.25.)\n",
            "  (bin_width*j, size[1] - int(hist[j])),\n"
          ]
        },
        {
          "name": "stdout",
          "output_type": "stream",
          "text": [
            "RMS Contrast – HE: 73.48, CLAHE: 58.78\n",
            "RMS Contrast – HE: 73.40, CLAHE: 58.48\n",
            "RMS Contrast – HE: 73.43, CLAHE: 58.20\n",
            "RMS Contrast – HE: 73.44, CLAHE: 58.40\n",
            "RMS Contrast – HE: 73.42, CLAHE: 58.55\n",
            "RMS Contrast – HE: 73.45, CLAHE: 58.75\n",
            "RMS Contrast – HE: 73.46, CLAHE: 58.30\n",
            "RMS Contrast – HE: 73.44, CLAHE: 58.13\n",
            "RMS Contrast – HE: 73.44, CLAHE: 58.56\n",
            "RMS Contrast – HE: 73.46, CLAHE: 58.65\n",
            "RMS Contrast – HE: 73.44, CLAHE: 58.18\n",
            "RMS Contrast – HE: 73.44, CLAHE: 58.15\n",
            "RMS Contrast – HE: 73.44, CLAHE: 58.39\n",
            "RMS Contrast – HE: 73.42, CLAHE: 58.47\n",
            "RMS Contrast – HE: 73.38, CLAHE: 58.11\n",
            "RMS Contrast – HE: 73.44, CLAHE: 58.05\n",
            "RMS Contrast – HE: 73.43, CLAHE: 58.23\n",
            "RMS Contrast – HE: 73.41, CLAHE: 58.43\n",
            "RMS Contrast – HE: 73.41, CLAHE: 57.92\n",
            "RMS Contrast – HE: 73.43, CLAHE: 57.89\n",
            "RMS Contrast – HE: 73.41, CLAHE: 58.22\n",
            "RMS Contrast – HE: 73.44, CLAHE: 58.35\n",
            "RMS Contrast – HE: 73.40, CLAHE: 57.89\n",
            "RMS Contrast – HE: 73.41, CLAHE: 57.79\n",
            "RMS Contrast – HE: 73.39, CLAHE: 58.07\n",
            "RMS Contrast – HE: 73.42, CLAHE: 58.15\n",
            "RMS Contrast – HE: 73.39, CLAHE: 57.88\n",
            "RMS Contrast – HE: 73.41, CLAHE: 57.74\n",
            "RMS Contrast – HE: 73.44, CLAHE: 58.09\n",
            "RMS Contrast – HE: 73.39, CLAHE: 58.17\n",
            "RMS Contrast – HE: 73.39, CLAHE: 57.75\n",
            "RMS Contrast – HE: 73.41, CLAHE: 57.68\n",
            "RMS Contrast – HE: 73.38, CLAHE: 58.03\n",
            "RMS Contrast – HE: 73.41, CLAHE: 58.10\n"
          ]
        },
        {
          "name": "stderr",
          "output_type": "stream",
          "text": [
            "/tmp/ipython-input-28-1976214917.py:11: DeprecationWarning: Conversion of an array with ndim > 0 to a scalar is deprecated, and will error in future. Ensure you extract a single element from your array before performing this operation. (Deprecated NumPy 1.25.)\n",
            "  (bin_width*(j-1), size[1] - int(hist[j-1])),\n",
            "/tmp/ipython-input-28-1976214917.py:12: DeprecationWarning: Conversion of an array with ndim > 0 to a scalar is deprecated, and will error in future. Ensure you extract a single element from your array before performing this operation. (Deprecated NumPy 1.25.)\n",
            "  (bin_width*j, size[1] - int(hist[j])),\n"
          ]
        },
        {
          "name": "stdout",
          "output_type": "stream",
          "text": [
            "RMS Contrast – HE: 73.39, CLAHE: 57.70\n",
            "RMS Contrast – HE: 73.37, CLAHE: 57.62\n",
            "RMS Contrast – HE: 73.42, CLAHE: 57.96\n",
            "RMS Contrast – HE: 73.35, CLAHE: 58.04\n",
            "RMS Contrast – HE: 73.34, CLAHE: 57.66\n",
            "RMS Contrast – HE: 73.38, CLAHE: 57.57\n",
            "RMS Contrast – HE: 73.37, CLAHE: 57.84\n",
            "RMS Contrast – HE: 73.41, CLAHE: 57.96\n",
            "RMS Contrast – HE: 73.37, CLAHE: 57.55\n",
            "RMS Contrast – HE: 73.42, CLAHE: 57.36\n",
            "RMS Contrast – HE: 73.39, CLAHE: 57.75\n",
            "RMS Contrast – HE: 73.37, CLAHE: 57.85\n",
            "RMS Contrast – HE: 73.39, CLAHE: 57.40\n",
            "RMS Contrast – HE: 73.41, CLAHE: 57.70\n",
            "RMS Contrast – HE: 73.37, CLAHE: 57.83\n",
            "RMS Contrast – HE: 73.42, CLAHE: 58.17\n",
            "RMS Contrast – HE: 73.35, CLAHE: 58.08\n",
            "RMS Contrast – HE: 73.39, CLAHE: 57.55\n",
            "RMS Contrast – HE: 73.37, CLAHE: 57.60\n",
            "RMS Contrast – HE: 73.42, CLAHE: 58.04\n",
            "RMS Contrast – HE: 73.38, CLAHE: 58.15\n",
            "RMS Contrast – HE: 73.38, CLAHE: 57.72\n",
            "RMS Contrast – HE: 73.38, CLAHE: 57.63\n",
            "RMS Contrast – HE: 73.39, CLAHE: 57.58\n",
            "RMS Contrast – HE: 73.38, CLAHE: 58.04\n",
            "RMS Contrast – HE: 73.39, CLAHE: 58.21\n",
            "RMS Contrast – HE: 73.41, CLAHE: 57.67\n",
            "RMS Contrast – HE: 73.38, CLAHE: 57.57\n",
            "RMS Contrast – HE: 73.40, CLAHE: 58.04\n",
            "RMS Contrast – HE: 73.38, CLAHE: 58.08\n",
            "RMS Contrast – HE: 73.41, CLAHE: 57.71\n",
            "RMS Contrast – HE: 73.37, CLAHE: 57.54\n",
            "RMS Contrast – HE: 73.39, CLAHE: 58.04\n",
            "RMS Contrast – HE: 73.39, CLAHE: 58.22\n",
            "RMS Contrast – HE: 73.37, CLAHE: 57.94\n",
            "RMS Contrast – HE: 73.40, CLAHE: 57.52\n",
            "RMS Contrast – HE: 73.41, CLAHE: 57.77\n",
            "RMS Contrast – HE: 73.39, CLAHE: 58.19\n",
            "RMS Contrast – HE: 73.41, CLAHE: 58.27\n",
            "RMS Contrast – HE: 73.38, CLAHE: 58.00\n",
            "RMS Contrast – HE: 73.36, CLAHE: 57.84\n",
            "RMS Contrast – HE: 73.41, CLAHE: 58.19\n",
            "RMS Contrast – HE: 73.38, CLAHE: 58.35\n",
            "RMS Contrast – HE: 73.40, CLAHE: 57.90\n",
            "RMS Contrast – HE: 73.40, CLAHE: 57.81\n",
            "RMS Contrast – HE: 73.38, CLAHE: 58.09\n",
            "RMS Contrast – HE: 73.41, CLAHE: 58.23\n",
            "RMS Contrast – HE: 73.40, CLAHE: 57.81\n",
            "RMS Contrast – HE: 73.40, CLAHE: 57.64\n",
            "RMS Contrast – HE: 73.42, CLAHE: 58.00\n",
            "RMS Contrast – HE: 73.37, CLAHE: 58.06\n",
            "RMS Contrast – HE: 73.41, CLAHE: 57.70\n",
            "RMS Contrast – HE: 73.39, CLAHE: 57.72\n",
            "RMS Contrast – HE: 73.38, CLAHE: 58.10\n",
            "RMS Contrast – HE: 73.39, CLAHE: 58.23\n",
            "RMS Contrast – HE: 73.34, CLAHE: 57.87\n"
          ]
        },
        {
          "name": "stderr",
          "output_type": "stream",
          "text": [
            "/tmp/ipython-input-28-1976214917.py:11: DeprecationWarning: Conversion of an array with ndim > 0 to a scalar is deprecated, and will error in future. Ensure you extract a single element from your array before performing this operation. (Deprecated NumPy 1.25.)\n",
            "  (bin_width*(j-1), size[1] - int(hist[j-1])),\n",
            "/tmp/ipython-input-28-1976214917.py:12: DeprecationWarning: Conversion of an array with ndim > 0 to a scalar is deprecated, and will error in future. Ensure you extract a single element from your array before performing this operation. (Deprecated NumPy 1.25.)\n",
            "  (bin_width*j, size[1] - int(hist[j])),\n"
          ]
        },
        {
          "name": "stdout",
          "output_type": "stream",
          "text": [
            "RMS Contrast – HE: 73.37, CLAHE: 57.70\n",
            "RMS Contrast – HE: 73.39, CLAHE: 58.13\n",
            "RMS Contrast – HE: 73.41, CLAHE: 58.19\n",
            "RMS Contrast – HE: 73.38, CLAHE: 57.80\n",
            "RMS Contrast – HE: 73.41, CLAHE: 57.74\n",
            "RMS Contrast – HE: 73.40, CLAHE: 58.11\n",
            "RMS Contrast – HE: 73.40, CLAHE: 58.21\n",
            "RMS Contrast – HE: 73.40, CLAHE: 57.84\n",
            "RMS Contrast – HE: 73.37, CLAHE: 57.70\n",
            "RMS Contrast – HE: 73.38, CLAHE: 58.07\n",
            "RMS Contrast – HE: 73.42, CLAHE: 58.28\n",
            "RMS Contrast – HE: 73.38, CLAHE: 57.91\n",
            "RMS Contrast – HE: 73.40, CLAHE: 57.78\n",
            "RMS Contrast – HE: 73.39, CLAHE: 58.17\n"
          ]
        },
        {
          "name": "stderr",
          "output_type": "stream",
          "text": [
            "/tmp/ipython-input-28-1976214917.py:11: DeprecationWarning: Conversion of an array with ndim > 0 to a scalar is deprecated, and will error in future. Ensure you extract a single element from your array before performing this operation. (Deprecated NumPy 1.25.)\n",
            "  (bin_width*(j-1), size[1] - int(hist[j-1])),\n",
            "/tmp/ipython-input-28-1976214917.py:12: DeprecationWarning: Conversion of an array with ndim > 0 to a scalar is deprecated, and will error in future. Ensure you extract a single element from your array before performing this operation. (Deprecated NumPy 1.25.)\n",
            "  (bin_width*j, size[1] - int(hist[j])),\n"
          ]
        },
        {
          "name": "stdout",
          "output_type": "stream",
          "text": [
            "RMS Contrast – HE: 73.38, CLAHE: 58.31\n",
            "RMS Contrast – HE: 73.39, CLAHE: 57.84\n",
            "RMS Contrast – HE: 73.37, CLAHE: 57.71\n",
            "RMS Contrast – HE: 73.36, CLAHE: 58.18\n",
            "RMS Contrast – HE: 73.37, CLAHE: 58.21\n",
            "RMS Contrast – HE: 73.38, CLAHE: 57.90\n",
            "RMS Contrast – HE: 73.35, CLAHE: 57.82\n",
            "RMS Contrast – HE: 73.38, CLAHE: 58.27\n",
            "RMS Contrast – HE: 73.40, CLAHE: 58.39\n",
            "RMS Contrast – HE: 73.38, CLAHE: 58.01\n",
            "RMS Contrast – HE: 73.38, CLAHE: 57.91\n",
            "RMS Contrast – HE: 73.37, CLAHE: 58.29\n",
            "RMS Contrast – HE: 73.43, CLAHE: 58.41\n",
            "RMS Contrast – HE: 73.40, CLAHE: 57.94\n",
            "RMS Contrast – HE: 73.34, CLAHE: 57.78\n",
            "RMS Contrast – HE: 73.36, CLAHE: 58.22\n",
            "RMS Contrast – HE: 73.39, CLAHE: 58.33\n",
            "RMS Contrast – HE: 73.42, CLAHE: 58.01\n",
            "RMS Contrast – HE: 73.40, CLAHE: 57.94\n",
            "RMS Contrast – HE: 73.37, CLAHE: 58.39\n",
            "RMS Contrast – HE: 73.42, CLAHE: 58.53\n",
            "RMS Contrast – HE: 73.39, CLAHE: 58.14\n",
            "RMS Contrast – HE: 73.38, CLAHE: 57.91\n",
            "RMS Contrast – HE: 73.39, CLAHE: 58.25\n",
            "RMS Contrast – HE: 73.42, CLAHE: 58.37\n",
            "RMS Contrast – HE: 73.39, CLAHE: 57.84\n",
            "RMS Contrast – HE: 73.36, CLAHE: 57.76\n",
            "RMS Contrast – HE: 73.36, CLAHE: 58.06\n"
          ]
        },
        {
          "name": "stderr",
          "output_type": "stream",
          "text": [
            "/tmp/ipython-input-28-1976214917.py:11: DeprecationWarning: Conversion of an array with ndim > 0 to a scalar is deprecated, and will error in future. Ensure you extract a single element from your array before performing this operation. (Deprecated NumPy 1.25.)\n",
            "  (bin_width*(j-1), size[1] - int(hist[j-1])),\n",
            "/tmp/ipython-input-28-1976214917.py:12: DeprecationWarning: Conversion of an array with ndim > 0 to a scalar is deprecated, and will error in future. Ensure you extract a single element from your array before performing this operation. (Deprecated NumPy 1.25.)\n",
            "  (bin_width*j, size[1] - int(hist[j])),\n"
          ]
        },
        {
          "name": "stdout",
          "output_type": "stream",
          "text": [
            "RMS Contrast – HE: 73.39, CLAHE: 58.14\n",
            "RMS Contrast – HE: 73.41, CLAHE: 57.70\n",
            "RMS Contrast – HE: 73.37, CLAHE: 57.55\n",
            "RMS Contrast – HE: 73.38, CLAHE: 58.01\n",
            "RMS Contrast – HE: 73.39, CLAHE: 58.10\n",
            "RMS Contrast – HE: 73.38, CLAHE: 57.65\n",
            "RMS Contrast – HE: 73.39, CLAHE: 57.52\n",
            "RMS Contrast – HE: 73.35, CLAHE: 57.90\n",
            "RMS Contrast – HE: 73.41, CLAHE: 58.06\n",
            "RMS Contrast – HE: 73.35, CLAHE: 57.57\n",
            "RMS Contrast – HE: 73.42, CLAHE: 57.45\n",
            "RMS Contrast – HE: 73.39, CLAHE: 57.92\n",
            "RMS Contrast – HE: 73.38, CLAHE: 58.03\n",
            "RMS Contrast – HE: 73.40, CLAHE: 57.60\n",
            "RMS Contrast – HE: 73.36, CLAHE: 57.42\n",
            "RMS Contrast – HE: 73.41, CLAHE: 57.92\n",
            "RMS Contrast – HE: 73.37, CLAHE: 57.99\n",
            "RMS Contrast – HE: 73.38, CLAHE: 57.50\n",
            "RMS Contrast – HE: 73.37, CLAHE: 57.38\n",
            "RMS Contrast – HE: 73.40, CLAHE: 57.85\n",
            "RMS Contrast – HE: 73.36, CLAHE: 57.95\n",
            "RMS Contrast – HE: 73.36, CLAHE: 57.51\n",
            "RMS Contrast – HE: 73.37, CLAHE: 57.29\n",
            "RMS Contrast – HE: 73.39, CLAHE: 57.87\n",
            "RMS Contrast – HE: 73.36, CLAHE: 58.02\n",
            "RMS Contrast – HE: 73.39, CLAHE: 57.53\n",
            "RMS Contrast – HE: 73.35, CLAHE: 57.42\n",
            "RMS Contrast – HE: 73.39, CLAHE: 57.90\n",
            "RMS Contrast – HE: 73.39, CLAHE: 58.02\n",
            "RMS Contrast – HE: 73.38, CLAHE: 57.54\n",
            "RMS Contrast – HE: 73.35, CLAHE: 57.41\n",
            "RMS Contrast – HE: 73.37, CLAHE: 57.86\n",
            "RMS Contrast – HE: 73.36, CLAHE: 58.04\n",
            "RMS Contrast – HE: 73.37, CLAHE: 57.53\n",
            "RMS Contrast – HE: 73.36, CLAHE: 57.42\n",
            "RMS Contrast – HE: 73.38, CLAHE: 57.87\n",
            "RMS Contrast – HE: 73.40, CLAHE: 58.02\n",
            "RMS Contrast – HE: 73.35, CLAHE: 57.53\n",
            "RMS Contrast – HE: 73.35, CLAHE: 57.33\n",
            "RMS Contrast – HE: 73.35, CLAHE: 57.91\n",
            "RMS Contrast – HE: 73.37, CLAHE: 58.03\n",
            "RMS Contrast – HE: 73.35, CLAHE: 57.48\n",
            "RMS Contrast – HE: 73.33, CLAHE: 57.42\n",
            "RMS Contrast – HE: 73.37, CLAHE: 57.79\n",
            "RMS Contrast – HE: 73.37, CLAHE: 57.84\n",
            "RMS Contrast – HE: 73.37, CLAHE: 57.46\n",
            "RMS Contrast – HE: 73.33, CLAHE: 57.43\n"
          ]
        },
        {
          "name": "stderr",
          "output_type": "stream",
          "text": [
            "/tmp/ipython-input-28-1976214917.py:11: DeprecationWarning: Conversion of an array with ndim > 0 to a scalar is deprecated, and will error in future. Ensure you extract a single element from your array before performing this operation. (Deprecated NumPy 1.25.)\n",
            "  (bin_width*(j-1), size[1] - int(hist[j-1])),\n",
            "/tmp/ipython-input-28-1976214917.py:12: DeprecationWarning: Conversion of an array with ndim > 0 to a scalar is deprecated, and will error in future. Ensure you extract a single element from your array before performing this operation. (Deprecated NumPy 1.25.)\n",
            "  (bin_width*j, size[1] - int(hist[j])),\n"
          ]
        },
        {
          "name": "stdout",
          "output_type": "stream",
          "text": [
            "RMS Contrast – HE: 73.35, CLAHE: 57.88\n",
            "RMS Contrast – HE: 73.38, CLAHE: 57.99\n",
            "RMS Contrast – HE: 73.40, CLAHE: 57.55\n",
            "RMS Contrast – HE: 73.36, CLAHE: 57.44\n",
            "RMS Contrast – HE: 73.37, CLAHE: 57.82\n",
            "RMS Contrast – HE: 73.41, CLAHE: 57.95\n",
            "RMS Contrast – HE: 73.34, CLAHE: 57.42\n",
            "RMS Contrast – HE: 73.33, CLAHE: 57.47\n",
            "RMS Contrast – HE: 73.36, CLAHE: 57.79\n",
            "RMS Contrast – HE: 73.40, CLAHE: 57.87\n",
            "RMS Contrast – HE: 73.37, CLAHE: 57.43\n",
            "RMS Contrast – HE: 73.38, CLAHE: 57.26\n",
            "RMS Contrast – HE: 73.37, CLAHE: 57.68\n",
            "RMS Contrast – HE: 73.34, CLAHE: 57.78\n",
            "RMS Contrast – HE: 73.36, CLAHE: 57.35\n",
            "RMS Contrast – HE: 73.39, CLAHE: 57.19\n",
            "RMS Contrast – HE: 73.42, CLAHE: 57.65\n",
            "RMS Contrast – HE: 73.41, CLAHE: 57.67\n",
            "RMS Contrast – HE: 73.37, CLAHE: 57.29\n"
          ]
        },
        {
          "name": "stderr",
          "output_type": "stream",
          "text": [
            "/tmp/ipython-input-28-1976214917.py:11: DeprecationWarning: Conversion of an array with ndim > 0 to a scalar is deprecated, and will error in future. Ensure you extract a single element from your array before performing this operation. (Deprecated NumPy 1.25.)\n",
            "  (bin_width*(j-1), size[1] - int(hist[j-1])),\n",
            "/tmp/ipython-input-28-1976214917.py:12: DeprecationWarning: Conversion of an array with ndim > 0 to a scalar is deprecated, and will error in future. Ensure you extract a single element from your array before performing this operation. (Deprecated NumPy 1.25.)\n",
            "  (bin_width*j, size[1] - int(hist[j])),\n"
          ]
        },
        {
          "name": "stdout",
          "output_type": "stream",
          "text": [
            "RMS Contrast – HE: 73.37, CLAHE: 57.18\n",
            "RMS Contrast – HE: 73.41, CLAHE: 57.71\n",
            "RMS Contrast – HE: 73.37, CLAHE: 57.80\n",
            "RMS Contrast – HE: 73.38, CLAHE: 58.37\n",
            "RMS Contrast – HE: 73.39, CLAHE: 58.22\n",
            "RMS Contrast – HE: 73.37, CLAHE: 57.78\n",
            "RMS Contrast – HE: 73.37, CLAHE: 58.15\n",
            "RMS Contrast – HE: 73.38, CLAHE: 58.21\n",
            "RMS Contrast – HE: 73.37, CLAHE: 57.63\n",
            "RMS Contrast – HE: 73.38, CLAHE: 57.65\n",
            "RMS Contrast – HE: 73.36, CLAHE: 58.06\n",
            "RMS Contrast – HE: 73.44, CLAHE: 58.20\n",
            "RMS Contrast – HE: 73.38, CLAHE: 57.94\n",
            "RMS Contrast – HE: 73.37, CLAHE: 57.64\n",
            "RMS Contrast – HE: 73.36, CLAHE: 58.08\n",
            "RMS Contrast – HE: 73.41, CLAHE: 58.19\n",
            "RMS Contrast – HE: 73.37, CLAHE: 57.67\n",
            "RMS Contrast – HE: 73.35, CLAHE: 57.56\n",
            "RMS Contrast – HE: 73.40, CLAHE: 57.98\n",
            "RMS Contrast – HE: 73.40, CLAHE: 58.14\n"
          ]
        },
        {
          "name": "stderr",
          "output_type": "stream",
          "text": [
            "/tmp/ipython-input-28-1976214917.py:11: DeprecationWarning: Conversion of an array with ndim > 0 to a scalar is deprecated, and will error in future. Ensure you extract a single element from your array before performing this operation. (Deprecated NumPy 1.25.)\n",
            "  (bin_width*(j-1), size[1] - int(hist[j-1])),\n",
            "/tmp/ipython-input-28-1976214917.py:12: DeprecationWarning: Conversion of an array with ndim > 0 to a scalar is deprecated, and will error in future. Ensure you extract a single element from your array before performing this operation. (Deprecated NumPy 1.25.)\n",
            "  (bin_width*j, size[1] - int(hist[j])),\n"
          ]
        },
        {
          "name": "stdout",
          "output_type": "stream",
          "text": [
            "RMS Contrast – HE: 73.40, CLAHE: 57.77\n",
            "RMS Contrast – HE: 73.36, CLAHE: 57.57\n",
            "RMS Contrast – HE: 73.35, CLAHE: 58.12\n",
            "RMS Contrast – HE: 73.43, CLAHE: 58.27\n",
            "RMS Contrast – HE: 73.37, CLAHE: 57.94\n",
            "RMS Contrast – HE: 73.38, CLAHE: 57.85\n",
            "RMS Contrast – HE: 73.38, CLAHE: 58.30\n",
            "RMS Contrast – HE: 73.39, CLAHE: 58.34\n",
            "RMS Contrast – HE: 73.38, CLAHE: 57.96\n",
            "RMS Contrast – HE: 73.34, CLAHE: 57.83\n",
            "RMS Contrast – HE: 73.41, CLAHE: 58.13\n",
            "RMS Contrast – HE: 73.38, CLAHE: 58.29\n",
            "RMS Contrast – HE: 73.37, CLAHE: 57.94\n",
            "RMS Contrast – HE: 73.35, CLAHE: 57.87\n"
          ]
        },
        {
          "name": "stderr",
          "output_type": "stream",
          "text": [
            "/tmp/ipython-input-28-1976214917.py:11: DeprecationWarning: Conversion of an array with ndim > 0 to a scalar is deprecated, and will error in future. Ensure you extract a single element from your array before performing this operation. (Deprecated NumPy 1.25.)\n",
            "  (bin_width*(j-1), size[1] - int(hist[j-1])),\n",
            "/tmp/ipython-input-28-1976214917.py:12: DeprecationWarning: Conversion of an array with ndim > 0 to a scalar is deprecated, and will error in future. Ensure you extract a single element from your array before performing this operation. (Deprecated NumPy 1.25.)\n",
            "  (bin_width*j, size[1] - int(hist[j])),\n"
          ]
        },
        {
          "name": "stdout",
          "output_type": "stream",
          "text": [
            "RMS Contrast – HE: 73.36, CLAHE: 58.28\n",
            "RMS Contrast – HE: 73.36, CLAHE: 58.37\n",
            "RMS Contrast – HE: 73.39, CLAHE: 58.09\n",
            "RMS Contrast – HE: 73.35, CLAHE: 57.89\n",
            "RMS Contrast – HE: 73.39, CLAHE: 58.33\n",
            "RMS Contrast – HE: 73.38, CLAHE: 58.49\n",
            "RMS Contrast – HE: 73.41, CLAHE: 58.04\n",
            "RMS Contrast – HE: 73.36, CLAHE: 58.05\n",
            "RMS Contrast – HE: 73.39, CLAHE: 58.57\n",
            "RMS Contrast – HE: 73.39, CLAHE: 58.69\n",
            "RMS Contrast – HE: 73.35, CLAHE: 58.15\n",
            "RMS Contrast – HE: 73.32, CLAHE: 58.11\n",
            "RMS Contrast – HE: 73.35, CLAHE: 58.68\n",
            "RMS Contrast – HE: 73.40, CLAHE: 58.87\n",
            "RMS Contrast – HE: 73.37, CLAHE: 58.43\n",
            "RMS Contrast – HE: 73.39, CLAHE: 58.29\n",
            "RMS Contrast – HE: 73.39, CLAHE: 58.66\n",
            "RMS Contrast – HE: 73.37, CLAHE: 58.76\n",
            "RMS Contrast – HE: 73.37, CLAHE: 58.21\n",
            "RMS Contrast – HE: 73.37, CLAHE: 58.11\n",
            "RMS Contrast – HE: 73.37, CLAHE: 58.57\n",
            "RMS Contrast – HE: 73.38, CLAHE: 58.74\n",
            "RMS Contrast – HE: 73.37, CLAHE: 58.45\n",
            "RMS Contrast – HE: 73.35, CLAHE: 58.18\n",
            "RMS Contrast – HE: 73.39, CLAHE: 58.61\n",
            "RMS Contrast – HE: 73.41, CLAHE: 58.79\n",
            "RMS Contrast – HE: 73.36, CLAHE: 58.31\n"
          ]
        },
        {
          "name": "stderr",
          "output_type": "stream",
          "text": [
            "/tmp/ipython-input-28-1976214917.py:11: DeprecationWarning: Conversion of an array with ndim > 0 to a scalar is deprecated, and will error in future. Ensure you extract a single element from your array before performing this operation. (Deprecated NumPy 1.25.)\n",
            "  (bin_width*(j-1), size[1] - int(hist[j-1])),\n",
            "/tmp/ipython-input-28-1976214917.py:12: DeprecationWarning: Conversion of an array with ndim > 0 to a scalar is deprecated, and will error in future. Ensure you extract a single element from your array before performing this operation. (Deprecated NumPy 1.25.)\n",
            "  (bin_width*j, size[1] - int(hist[j])),\n"
          ]
        },
        {
          "name": "stdout",
          "output_type": "stream",
          "text": [
            "RMS Contrast – HE: 73.35, CLAHE: 58.14\n",
            "RMS Contrast – HE: 73.39, CLAHE: 58.67\n",
            "RMS Contrast – HE: 73.38, CLAHE: 58.79\n",
            "RMS Contrast – HE: 73.39, CLAHE: 58.57\n",
            "RMS Contrast – HE: 73.36, CLAHE: 57.97\n",
            "RMS Contrast – HE: 73.38, CLAHE: 58.29\n",
            "RMS Contrast – HE: 73.41, CLAHE: 58.61\n",
            "RMS Contrast – HE: 73.39, CLAHE: 58.77\n",
            "RMS Contrast – HE: 73.38, CLAHE: 58.56\n",
            "RMS Contrast – HE: 73.38, CLAHE: 58.05\n",
            "RMS Contrast – HE: 73.40, CLAHE: 58.33\n",
            "RMS Contrast – HE: 73.45, CLAHE: 58.58\n",
            "RMS Contrast – HE: 73.43, CLAHE: 58.65\n",
            "RMS Contrast – HE: 73.41, CLAHE: 58.40\n",
            "RMS Contrast – HE: 73.39, CLAHE: 57.95\n",
            "RMS Contrast – HE: 73.39, CLAHE: 58.22\n",
            "RMS Contrast – HE: 73.43, CLAHE: 58.45\n",
            "RMS Contrast – HE: 73.42, CLAHE: 58.52\n",
            "RMS Contrast – HE: 73.39, CLAHE: 58.13\n",
            "RMS Contrast – HE: 73.40, CLAHE: 57.97\n",
            "RMS Contrast – HE: 73.40, CLAHE: 58.46\n",
            "RMS Contrast – HE: 73.42, CLAHE: 58.51\n",
            "RMS Contrast – HE: 73.41, CLAHE: 58.13\n",
            "RMS Contrast – HE: 73.38, CLAHE: 57.88\n",
            "RMS Contrast – HE: 73.40, CLAHE: 58.34\n",
            "RMS Contrast – HE: 73.44, CLAHE: 58.41\n"
          ]
        },
        {
          "name": "stderr",
          "output_type": "stream",
          "text": [
            "/tmp/ipython-input-28-1976214917.py:11: DeprecationWarning: Conversion of an array with ndim > 0 to a scalar is deprecated, and will error in future. Ensure you extract a single element from your array before performing this operation. (Deprecated NumPy 1.25.)\n",
            "  (bin_width*(j-1), size[1] - int(hist[j-1])),\n",
            "/tmp/ipython-input-28-1976214917.py:12: DeprecationWarning: Conversion of an array with ndim > 0 to a scalar is deprecated, and will error in future. Ensure you extract a single element from your array before performing this operation. (Deprecated NumPy 1.25.)\n",
            "  (bin_width*j, size[1] - int(hist[j])),\n"
          ]
        },
        {
          "name": "stdout",
          "output_type": "stream",
          "text": [
            "RMS Contrast – HE: 73.39, CLAHE: 57.90\n",
            "RMS Contrast – HE: 73.40, CLAHE: 57.82\n",
            "RMS Contrast – HE: 73.40, CLAHE: 58.13\n",
            "RMS Contrast – HE: 73.42, CLAHE: 58.29\n",
            "RMS Contrast – HE: 73.37, CLAHE: 57.90\n",
            "RMS Contrast – HE: 73.40, CLAHE: 57.85\n",
            "RMS Contrast – HE: 73.40, CLAHE: 58.17\n",
            "RMS Contrast – HE: 73.41, CLAHE: 58.33\n",
            "RMS Contrast – HE: 73.37, CLAHE: 57.94\n",
            "RMS Contrast – HE: 73.38, CLAHE: 57.82\n",
            "RMS Contrast – HE: 73.40, CLAHE: 58.19\n",
            "RMS Contrast – HE: 73.42, CLAHE: 58.30\n",
            "RMS Contrast – HE: 73.41, CLAHE: 58.00\n",
            "RMS Contrast – HE: 73.41, CLAHE: 57.86\n",
            "RMS Contrast – HE: 73.42, CLAHE: 58.25\n",
            "RMS Contrast – HE: 73.42, CLAHE: 58.33\n",
            "RMS Contrast – HE: 73.42, CLAHE: 57.98\n",
            "RMS Contrast – HE: 73.37, CLAHE: 57.85\n",
            "RMS Contrast – HE: 73.42, CLAHE: 58.26\n",
            "RMS Contrast – HE: 73.42, CLAHE: 58.36\n",
            "RMS Contrast – HE: 73.40, CLAHE: 57.93\n",
            "RMS Contrast – HE: 73.40, CLAHE: 57.76\n",
            "RMS Contrast – HE: 73.41, CLAHE: 58.11\n",
            "RMS Contrast – HE: 73.42, CLAHE: 58.21\n",
            "RMS Contrast – HE: 73.41, CLAHE: 57.86\n",
            "RMS Contrast – HE: 73.40, CLAHE: 57.67\n",
            "RMS Contrast – HE: 73.41, CLAHE: 58.10\n",
            "RMS Contrast – HE: 73.41, CLAHE: 58.25\n",
            "RMS Contrast – HE: 73.39, CLAHE: 57.78\n",
            "RMS Contrast – HE: 73.41, CLAHE: 57.68\n",
            "RMS Contrast – HE: 73.40, CLAHE: 58.02\n",
            "RMS Contrast – HE: 73.43, CLAHE: 58.19\n",
            "RMS Contrast – HE: 73.39, CLAHE: 57.83\n",
            "RMS Contrast – HE: 73.41, CLAHE: 57.73\n",
            "RMS Contrast – HE: 73.43, CLAHE: 58.13\n",
            "RMS Contrast – HE: 73.41, CLAHE: 58.36\n",
            "RMS Contrast – HE: 73.37, CLAHE: 57.81\n",
            "RMS Contrast – HE: 73.41, CLAHE: 57.72\n",
            "RMS Contrast – HE: 73.41, CLAHE: 58.14\n",
            "RMS Contrast – HE: 73.43, CLAHE: 58.34\n",
            "RMS Contrast – HE: 73.41, CLAHE: 57.88\n",
            "RMS Contrast – HE: 73.38, CLAHE: 57.72\n",
            "RMS Contrast – HE: 73.44, CLAHE: 58.26\n",
            "RMS Contrast – HE: 73.41, CLAHE: 58.42\n",
            "RMS Contrast – HE: 73.41, CLAHE: 57.90\n",
            "RMS Contrast – HE: 73.42, CLAHE: 57.77\n",
            "RMS Contrast – HE: 73.43, CLAHE: 58.25\n",
            "RMS Contrast – HE: 73.45, CLAHE: 58.37\n",
            "RMS Contrast – HE: 73.39, CLAHE: 58.02\n",
            "RMS Contrast – HE: 73.39, CLAHE: 57.80\n",
            "RMS Contrast – HE: 73.40, CLAHE: 58.31\n",
            "RMS Contrast – HE: 73.39, CLAHE: 58.48\n",
            "RMS Contrast – HE: 73.39, CLAHE: 58.09\n",
            "RMS Contrast – HE: 73.38, CLAHE: 57.89\n",
            "RMS Contrast – HE: 73.40, CLAHE: 58.44\n",
            "RMS Contrast – HE: 73.42, CLAHE: 58.52\n",
            "RMS Contrast – HE: 73.40, CLAHE: 58.14\n"
          ]
        },
        {
          "name": "stderr",
          "output_type": "stream",
          "text": [
            "/tmp/ipython-input-28-1976214917.py:11: DeprecationWarning: Conversion of an array with ndim > 0 to a scalar is deprecated, and will error in future. Ensure you extract a single element from your array before performing this operation. (Deprecated NumPy 1.25.)\n",
            "  (bin_width*(j-1), size[1] - int(hist[j-1])),\n",
            "/tmp/ipython-input-28-1976214917.py:12: DeprecationWarning: Conversion of an array with ndim > 0 to a scalar is deprecated, and will error in future. Ensure you extract a single element from your array before performing this operation. (Deprecated NumPy 1.25.)\n",
            "  (bin_width*j, size[1] - int(hist[j])),\n"
          ]
        },
        {
          "name": "stdout",
          "output_type": "stream",
          "text": [
            "RMS Contrast – HE: 73.41, CLAHE: 58.09\n",
            "RMS Contrast – HE: 73.42, CLAHE: 58.62\n",
            "RMS Contrast – HE: 73.41, CLAHE: 58.70\n",
            "RMS Contrast – HE: 73.40, CLAHE: 58.26\n",
            "RMS Contrast – HE: 73.41, CLAHE: 58.19\n",
            "RMS Contrast – HE: 73.43, CLAHE: 58.64\n",
            "RMS Contrast – HE: 73.42, CLAHE: 58.78\n",
            "RMS Contrast – HE: 73.37, CLAHE: 58.35\n",
            "RMS Contrast – HE: 73.43, CLAHE: 58.29\n",
            "RMS Contrast – HE: 73.41, CLAHE: 58.88\n",
            "RMS Contrast – HE: 73.46, CLAHE: 58.99\n",
            "RMS Contrast – HE: 73.42, CLAHE: 59.45\n",
            "RMS Contrast – HE: 73.42, CLAHE: 59.32\n",
            "RMS Contrast – HE: 73.40, CLAHE: 58.85\n",
            "RMS Contrast – HE: 73.41, CLAHE: 59.24\n",
            "RMS Contrast – HE: 73.41, CLAHE: 59.34\n",
            "RMS Contrast – HE: 73.39, CLAHE: 58.77\n",
            "RMS Contrast – HE: 73.38, CLAHE: 58.71\n",
            "RMS Contrast – HE: 73.42, CLAHE: 59.15\n",
            "RMS Contrast – HE: 73.43, CLAHE: 59.23\n",
            "RMS Contrast – HE: 73.42, CLAHE: 58.81\n",
            "RMS Contrast – HE: 73.38, CLAHE: 58.64\n",
            "RMS Contrast – HE: 73.40, CLAHE: 58.98\n",
            "RMS Contrast – HE: 73.43, CLAHE: 59.13\n",
            "RMS Contrast – HE: 73.41, CLAHE: 58.66\n",
            "RMS Contrast – HE: 73.39, CLAHE: 58.42\n",
            "RMS Contrast – HE: 73.41, CLAHE: 58.87\n",
            "RMS Contrast – HE: 73.41, CLAHE: 59.03\n",
            "RMS Contrast – HE: 73.41, CLAHE: 58.80\n",
            "RMS Contrast – HE: 73.40, CLAHE: 58.29\n",
            "RMS Contrast – HE: 73.41, CLAHE: 58.46\n",
            "RMS Contrast – HE: 73.43, CLAHE: 58.86\n",
            "RMS Contrast – HE: 73.43, CLAHE: 58.91\n",
            "RMS Contrast – HE: 73.42, CLAHE: 58.65\n",
            "RMS Contrast – HE: 73.37, CLAHE: 58.40\n"
          ]
        },
        {
          "name": "stderr",
          "output_type": "stream",
          "text": [
            "/tmp/ipython-input-28-1976214917.py:11: DeprecationWarning: Conversion of an array with ndim > 0 to a scalar is deprecated, and will error in future. Ensure you extract a single element from your array before performing this operation. (Deprecated NumPy 1.25.)\n",
            "  (bin_width*(j-1), size[1] - int(hist[j-1])),\n",
            "/tmp/ipython-input-28-1976214917.py:12: DeprecationWarning: Conversion of an array with ndim > 0 to a scalar is deprecated, and will error in future. Ensure you extract a single element from your array before performing this operation. (Deprecated NumPy 1.25.)\n",
            "  (bin_width*j, size[1] - int(hist[j])),\n"
          ]
        },
        {
          "name": "stdout",
          "output_type": "stream",
          "text": [
            "RMS Contrast – HE: 73.40, CLAHE: 58.98\n",
            "RMS Contrast – HE: 73.43, CLAHE: 59.07\n",
            "RMS Contrast – HE: 73.40, CLAHE: 58.70\n",
            "RMS Contrast – HE: 73.40, CLAHE: 58.60\n",
            "RMS Contrast – HE: 73.42, CLAHE: 58.99\n",
            "RMS Contrast – HE: 73.40, CLAHE: 59.10\n",
            "RMS Contrast – HE: 73.42, CLAHE: 59.01\n",
            "RMS Contrast – HE: 73.39, CLAHE: 58.60\n",
            "RMS Contrast – HE: 73.44, CLAHE: 58.86\n",
            "RMS Contrast – HE: 73.39, CLAHE: 58.94\n",
            "RMS Contrast – HE: 73.38, CLAHE: 58.50\n",
            "RMS Contrast – HE: 73.39, CLAHE: 58.43\n",
            "RMS Contrast – HE: 73.39, CLAHE: 58.79\n",
            "RMS Contrast – HE: 73.42, CLAHE: 58.88\n"
          ]
        },
        {
          "name": "stderr",
          "output_type": "stream",
          "text": [
            "/tmp/ipython-input-28-1976214917.py:11: DeprecationWarning: Conversion of an array with ndim > 0 to a scalar is deprecated, and will error in future. Ensure you extract a single element from your array before performing this operation. (Deprecated NumPy 1.25.)\n",
            "  (bin_width*(j-1), size[1] - int(hist[j-1])),\n",
            "/tmp/ipython-input-28-1976214917.py:12: DeprecationWarning: Conversion of an array with ndim > 0 to a scalar is deprecated, and will error in future. Ensure you extract a single element from your array before performing this operation. (Deprecated NumPy 1.25.)\n",
            "  (bin_width*j, size[1] - int(hist[j])),\n"
          ]
        },
        {
          "name": "stdout",
          "output_type": "stream",
          "text": [
            "RMS Contrast – HE: 73.39, CLAHE: 58.46\n",
            "RMS Contrast – HE: 73.38, CLAHE: 58.32\n",
            "RMS Contrast – HE: 73.42, CLAHE: 58.78\n",
            "RMS Contrast – HE: 73.39, CLAHE: 58.88\n",
            "RMS Contrast – HE: 73.38, CLAHE: 58.40\n",
            "RMS Contrast – HE: 73.39, CLAHE: 58.34\n",
            "RMS Contrast – HE: 73.39, CLAHE: 58.77\n",
            "RMS Contrast – HE: 73.42, CLAHE: 58.84\n",
            "RMS Contrast – HE: 73.40, CLAHE: 58.46\n",
            "RMS Contrast – HE: 73.41, CLAHE: 58.41\n",
            "RMS Contrast – HE: 73.39, CLAHE: 58.70\n",
            "RMS Contrast – HE: 73.42, CLAHE: 58.77\n",
            "RMS Contrast – HE: 73.38, CLAHE: 58.40\n",
            "RMS Contrast – HE: 73.36, CLAHE: 58.18\n",
            "RMS Contrast – HE: 73.40, CLAHE: 58.59\n",
            "RMS Contrast – HE: 73.41, CLAHE: 58.69\n",
            "RMS Contrast – HE: 73.39, CLAHE: 58.24\n",
            "RMS Contrast – HE: 73.36, CLAHE: 58.13\n",
            "RMS Contrast – HE: 73.40, CLAHE: 58.52\n",
            "RMS Contrast – HE: 73.41, CLAHE: 58.61\n",
            "RMS Contrast – HE: 73.39, CLAHE: 58.22\n",
            "RMS Contrast – HE: 73.35, CLAHE: 58.15\n",
            "RMS Contrast – HE: 73.38, CLAHE: 58.48\n",
            "RMS Contrast – HE: 73.41, CLAHE: 58.65\n",
            "RMS Contrast – HE: 73.38, CLAHE: 58.17\n",
            "RMS Contrast – HE: 73.33, CLAHE: 58.09\n",
            "RMS Contrast – HE: 73.38, CLAHE: 58.48\n"
          ]
        },
        {
          "name": "stderr",
          "output_type": "stream",
          "text": [
            "/tmp/ipython-input-28-1976214917.py:11: DeprecationWarning: Conversion of an array with ndim > 0 to a scalar is deprecated, and will error in future. Ensure you extract a single element from your array before performing this operation. (Deprecated NumPy 1.25.)\n",
            "  (bin_width*(j-1), size[1] - int(hist[j-1])),\n",
            "/tmp/ipython-input-28-1976214917.py:12: DeprecationWarning: Conversion of an array with ndim > 0 to a scalar is deprecated, and will error in future. Ensure you extract a single element from your array before performing this operation. (Deprecated NumPy 1.25.)\n",
            "  (bin_width*j, size[1] - int(hist[j])),\n"
          ]
        },
        {
          "name": "stdout",
          "output_type": "stream",
          "text": [
            "RMS Contrast – HE: 73.36, CLAHE: 58.55\n",
            "RMS Contrast – HE: 73.35, CLAHE: 58.16\n",
            "RMS Contrast – HE: 73.35, CLAHE: 58.02\n",
            "RMS Contrast – HE: 73.41, CLAHE: 58.44\n",
            "RMS Contrast – HE: 73.38, CLAHE: 58.60\n",
            "RMS Contrast – HE: 73.36, CLAHE: 58.05\n",
            "RMS Contrast – HE: 73.40, CLAHE: 57.98\n",
            "RMS Contrast – HE: 73.42, CLAHE: 58.42\n",
            "RMS Contrast – HE: 73.42, CLAHE: 58.54\n",
            "RMS Contrast – HE: 73.39, CLAHE: 57.94\n",
            "RMS Contrast – HE: 73.38, CLAHE: 58.01\n",
            "RMS Contrast – HE: 73.39, CLAHE: 58.43\n",
            "RMS Contrast – HE: 73.42, CLAHE: 58.52\n",
            "RMS Contrast – HE: 73.39, CLAHE: 58.20\n",
            "RMS Contrast – HE: 73.35, CLAHE: 58.03\n",
            "RMS Contrast – HE: 73.38, CLAHE: 58.50\n",
            "RMS Contrast – HE: 73.37, CLAHE: 58.61\n",
            "RMS Contrast – HE: 73.32, CLAHE: 58.17\n",
            "RMS Contrast – HE: 73.36, CLAHE: 58.03\n",
            "RMS Contrast – HE: 73.36, CLAHE: 58.52\n",
            "RMS Contrast – HE: 73.38, CLAHE: 58.58\n",
            "RMS Contrast – HE: 73.38, CLAHE: 58.06\n",
            "RMS Contrast – HE: 73.37, CLAHE: 58.06\n",
            "RMS Contrast – HE: 73.43, CLAHE: 58.40\n",
            "RMS Contrast – HE: 73.43, CLAHE: 58.49\n",
            "RMS Contrast – HE: 73.42, CLAHE: 58.02\n",
            "RMS Contrast – HE: 73.36, CLAHE: 57.90\n",
            "RMS Contrast – HE: 73.39, CLAHE: 58.35\n",
            "RMS Contrast – HE: 73.41, CLAHE: 58.45\n",
            "RMS Contrast – HE: 73.40, CLAHE: 57.98\n",
            "RMS Contrast – HE: 73.39, CLAHE: 57.89\n",
            "RMS Contrast – HE: 73.41, CLAHE: 58.33\n",
            "RMS Contrast – HE: 73.41, CLAHE: 58.43\n",
            "RMS Contrast – HE: 73.36, CLAHE: 57.96\n",
            "RMS Contrast – HE: 73.39, CLAHE: 57.79\n"
          ]
        },
        {
          "name": "stderr",
          "output_type": "stream",
          "text": [
            "/tmp/ipython-input-28-1976214917.py:11: DeprecationWarning: Conversion of an array with ndim > 0 to a scalar is deprecated, and will error in future. Ensure you extract a single element from your array before performing this operation. (Deprecated NumPy 1.25.)\n",
            "  (bin_width*(j-1), size[1] - int(hist[j-1])),\n",
            "/tmp/ipython-input-28-1976214917.py:12: DeprecationWarning: Conversion of an array with ndim > 0 to a scalar is deprecated, and will error in future. Ensure you extract a single element from your array before performing this operation. (Deprecated NumPy 1.25.)\n",
            "  (bin_width*j, size[1] - int(hist[j])),\n"
          ]
        },
        {
          "name": "stdout",
          "output_type": "stream",
          "text": [
            "RMS Contrast – HE: 73.40, CLAHE: 58.34\n",
            "RMS Contrast – HE: 73.44, CLAHE: 58.38\n",
            "RMS Contrast – HE: 73.36, CLAHE: 58.03\n",
            "RMS Contrast – HE: 73.40, CLAHE: 57.83\n",
            "RMS Contrast – HE: 73.40, CLAHE: 58.33\n",
            "RMS Contrast – HE: 73.41, CLAHE: 58.41\n",
            "RMS Contrast – HE: 73.38, CLAHE: 58.00\n",
            "RMS Contrast – HE: 73.33, CLAHE: 57.85\n",
            "RMS Contrast – HE: 73.41, CLAHE: 58.40\n",
            "RMS Contrast – HE: 73.39, CLAHE: 58.47\n",
            "RMS Contrast – HE: 73.38, CLAHE: 58.01\n",
            "RMS Contrast – HE: 73.38, CLAHE: 57.94\n",
            "RMS Contrast – HE: 73.39, CLAHE: 58.41\n",
            "RMS Contrast – HE: 73.39, CLAHE: 58.43\n",
            "RMS Contrast – HE: 73.33, CLAHE: 57.97\n",
            "RMS Contrast – HE: 73.37, CLAHE: 57.91\n",
            "RMS Contrast – HE: 73.40, CLAHE: 58.37\n",
            "RMS Contrast – HE: 73.40, CLAHE: 58.52\n",
            "RMS Contrast – HE: 73.36, CLAHE: 58.07\n",
            "RMS Contrast – HE: 73.37, CLAHE: 57.97\n",
            "RMS Contrast – HE: 73.38, CLAHE: 58.35\n",
            "RMS Contrast – HE: 73.39, CLAHE: 58.50\n",
            "RMS Contrast – HE: 73.39, CLAHE: 58.16\n",
            "RMS Contrast – HE: 73.36, CLAHE: 57.94\n",
            "RMS Contrast – HE: 73.39, CLAHE: 58.58\n",
            "RMS Contrast – HE: 73.41, CLAHE: 58.62\n",
            "RMS Contrast – HE: 73.39, CLAHE: 58.14\n"
          ]
        },
        {
          "name": "stderr",
          "output_type": "stream",
          "text": [
            "/tmp/ipython-input-28-1976214917.py:11: DeprecationWarning: Conversion of an array with ndim > 0 to a scalar is deprecated, and will error in future. Ensure you extract a single element from your array before performing this operation. (Deprecated NumPy 1.25.)\n",
            "  (bin_width*(j-1), size[1] - int(hist[j-1])),\n",
            "/tmp/ipython-input-28-1976214917.py:12: DeprecationWarning: Conversion of an array with ndim > 0 to a scalar is deprecated, and will error in future. Ensure you extract a single element from your array before performing this operation. (Deprecated NumPy 1.25.)\n",
            "  (bin_width*j, size[1] - int(hist[j])),\n"
          ]
        },
        {
          "name": "stdout",
          "output_type": "stream",
          "text": [
            "RMS Contrast – HE: 73.33, CLAHE: 58.14\n",
            "RMS Contrast – HE: 73.40, CLAHE: 58.60\n",
            "RMS Contrast – HE: 73.38, CLAHE: 58.70\n",
            "RMS Contrast – HE: 73.34, CLAHE: 58.29\n",
            "RMS Contrast – HE: 73.38, CLAHE: 58.19\n",
            "RMS Contrast – HE: 73.41, CLAHE: 58.64\n",
            "RMS Contrast – HE: 73.41, CLAHE: 58.68\n",
            "RMS Contrast – HE: 73.38, CLAHE: 58.27\n",
            "RMS Contrast – HE: 73.35, CLAHE: 58.12\n",
            "RMS Contrast – HE: 73.41, CLAHE: 58.59\n",
            "RMS Contrast – HE: 73.41, CLAHE: 58.72\n",
            "RMS Contrast – HE: 73.39, CLAHE: 58.28\n",
            "RMS Contrast – HE: 73.36, CLAHE: 58.23\n",
            "RMS Contrast – HE: 73.39, CLAHE: 58.61\n",
            "RMS Contrast – HE: 73.40, CLAHE: 58.70\n",
            "RMS Contrast – HE: 73.34, CLAHE: 58.23\n",
            "RMS Contrast – HE: 73.37, CLAHE: 58.14\n",
            "RMS Contrast – HE: 73.40, CLAHE: 58.67\n",
            "RMS Contrast – HE: 73.38, CLAHE: 58.78\n",
            "RMS Contrast – HE: 73.38, CLAHE: 58.48\n",
            "RMS Contrast – HE: 73.35, CLAHE: 58.04\n",
            "RMS Contrast – HE: 73.36, CLAHE: 58.18\n",
            "RMS Contrast – HE: 73.39, CLAHE: 58.48\n",
            "RMS Contrast – HE: 73.39, CLAHE: 58.59\n",
            "RMS Contrast – HE: 73.39, CLAHE: 58.67\n",
            "RMS Contrast – HE: 73.37, CLAHE: 59.42\n",
            "RMS Contrast – HE: 73.33, CLAHE: 59.29\n",
            "RMS Contrast – HE: 73.33, CLAHE: 58.83\n",
            "RMS Contrast – HE: 73.36, CLAHE: 59.13\n",
            "RMS Contrast – HE: 73.35, CLAHE: 59.19\n",
            "RMS Contrast – HE: 73.32, CLAHE: 58.56\n",
            "RMS Contrast – HE: 73.33, CLAHE: 58.61\n",
            "RMS Contrast – HE: 73.37, CLAHE: 58.99\n",
            "RMS Contrast – HE: 73.36, CLAHE: 59.08\n",
            "RMS Contrast – HE: 73.32, CLAHE: 58.72\n",
            "RMS Contrast – HE: 73.32, CLAHE: 58.52\n",
            "RMS Contrast – HE: 73.28, CLAHE: 58.93\n",
            "RMS Contrast – HE: 73.31, CLAHE: 59.01\n",
            "RMS Contrast – HE: 73.26, CLAHE: 58.50\n",
            "RMS Contrast – HE: 73.26, CLAHE: 58.36\n",
            "RMS Contrast – HE: 73.29, CLAHE: 58.81\n",
            "RMS Contrast – HE: 73.30, CLAHE: 58.82\n",
            "RMS Contrast – HE: 73.28, CLAHE: 58.48\n",
            "RMS Contrast – HE: 73.26, CLAHE: 58.38\n",
            "RMS Contrast – HE: 73.27, CLAHE: 58.74\n",
            "RMS Contrast – HE: 73.29, CLAHE: 58.86\n",
            "RMS Contrast – HE: 73.29, CLAHE: 58.46\n",
            "RMS Contrast – HE: 73.27, CLAHE: 58.34\n",
            "RMS Contrast – HE: 73.30, CLAHE: 58.79\n",
            "RMS Contrast – HE: 73.30, CLAHE: 58.89\n",
            "RMS Contrast – HE: 73.22, CLAHE: 58.50\n",
            "RMS Contrast – HE: 73.27, CLAHE: 58.33\n",
            "RMS Contrast – HE: 73.27, CLAHE: 58.81\n",
            "RMS Contrast – HE: 73.26, CLAHE: 58.90\n",
            "RMS Contrast – HE: 73.24, CLAHE: 58.49\n"
          ]
        },
        {
          "name": "stderr",
          "output_type": "stream",
          "text": [
            "/tmp/ipython-input-28-1976214917.py:11: DeprecationWarning: Conversion of an array with ndim > 0 to a scalar is deprecated, and will error in future. Ensure you extract a single element from your array before performing this operation. (Deprecated NumPy 1.25.)\n",
            "  (bin_width*(j-1), size[1] - int(hist[j-1])),\n",
            "/tmp/ipython-input-28-1976214917.py:12: DeprecationWarning: Conversion of an array with ndim > 0 to a scalar is deprecated, and will error in future. Ensure you extract a single element from your array before performing this operation. (Deprecated NumPy 1.25.)\n",
            "  (bin_width*j, size[1] - int(hist[j])),\n"
          ]
        },
        {
          "name": "stdout",
          "output_type": "stream",
          "text": [
            "RMS Contrast – HE: 73.27, CLAHE: 58.40\n",
            "RMS Contrast – HE: 73.27, CLAHE: 58.93\n",
            "RMS Contrast – HE: 73.30, CLAHE: 59.03\n",
            "RMS Contrast – HE: 73.26, CLAHE: 58.57\n",
            "RMS Contrast – HE: 73.23, CLAHE: 58.36\n",
            "RMS Contrast – HE: 73.31, CLAHE: 58.96\n",
            "RMS Contrast – HE: 73.29, CLAHE: 59.08\n",
            "RMS Contrast – HE: 73.27, CLAHE: 58.67\n",
            "RMS Contrast – HE: 73.24, CLAHE: 58.55\n",
            "RMS Contrast – HE: 73.28, CLAHE: 59.09\n",
            "RMS Contrast – HE: 73.31, CLAHE: 59.17\n",
            "RMS Contrast – HE: 73.28, CLAHE: 58.64\n",
            "RMS Contrast – HE: 73.23, CLAHE: 58.53\n",
            "RMS Contrast – HE: 73.28, CLAHE: 59.07\n",
            "RMS Contrast – HE: 73.31, CLAHE: 59.16\n",
            "RMS Contrast – HE: 73.26, CLAHE: 58.71\n",
            "RMS Contrast – HE: 73.27, CLAHE: 58.88\n",
            "RMS Contrast – HE: 73.27, CLAHE: 59.31\n",
            "RMS Contrast – HE: 73.28, CLAHE: 59.33\n"
          ]
        },
        {
          "name": "stderr",
          "output_type": "stream",
          "text": [
            "/tmp/ipython-input-28-1976214917.py:11: DeprecationWarning: Conversion of an array with ndim > 0 to a scalar is deprecated, and will error in future. Ensure you extract a single element from your array before performing this operation. (Deprecated NumPy 1.25.)\n",
            "  (bin_width*(j-1), size[1] - int(hist[j-1])),\n",
            "/tmp/ipython-input-28-1976214917.py:12: DeprecationWarning: Conversion of an array with ndim > 0 to a scalar is deprecated, and will error in future. Ensure you extract a single element from your array before performing this operation. (Deprecated NumPy 1.25.)\n",
            "  (bin_width*j, size[1] - int(hist[j])),\n"
          ]
        },
        {
          "name": "stdout",
          "output_type": "stream",
          "text": [
            "RMS Contrast – HE: 73.27, CLAHE: 58.90\n",
            "RMS Contrast – HE: 73.24, CLAHE: 58.69\n",
            "RMS Contrast – HE: 73.29, CLAHE: 59.12\n",
            "RMS Contrast – HE: 73.27, CLAHE: 59.22\n",
            "RMS Contrast – HE: 73.27, CLAHE: 58.70\n",
            "RMS Contrast – HE: 73.26, CLAHE: 58.57\n",
            "RMS Contrast – HE: 73.30, CLAHE: 59.22\n",
            "RMS Contrast – HE: 73.29, CLAHE: 59.19\n",
            "RMS Contrast – HE: 73.28, CLAHE: 58.74\n"
          ]
        },
        {
          "name": "stderr",
          "output_type": "stream",
          "text": [
            "/tmp/ipython-input-28-1976214917.py:11: DeprecationWarning: Conversion of an array with ndim > 0 to a scalar is deprecated, and will error in future. Ensure you extract a single element from your array before performing this operation. (Deprecated NumPy 1.25.)\n",
            "  (bin_width*(j-1), size[1] - int(hist[j-1])),\n",
            "/tmp/ipython-input-28-1976214917.py:12: DeprecationWarning: Conversion of an array with ndim > 0 to a scalar is deprecated, and will error in future. Ensure you extract a single element from your array before performing this operation. (Deprecated NumPy 1.25.)\n",
            "  (bin_width*j, size[1] - int(hist[j])),\n"
          ]
        },
        {
          "name": "stdout",
          "output_type": "stream",
          "text": [
            "RMS Contrast – HE: 73.29, CLAHE: 58.57\n",
            "RMS Contrast – HE: 73.28, CLAHE: 59.07\n",
            "RMS Contrast – HE: 73.32, CLAHE: 59.17\n",
            "RMS Contrast – HE: 73.30, CLAHE: 58.68\n",
            "RMS Contrast – HE: 73.27, CLAHE: 58.51\n",
            "RMS Contrast – HE: 73.27, CLAHE: 58.99\n",
            "RMS Contrast – HE: 73.31, CLAHE: 59.07\n",
            "RMS Contrast – HE: 73.31, CLAHE: 58.67\n",
            "RMS Contrast – HE: 73.28, CLAHE: 58.50\n",
            "RMS Contrast – HE: 73.31, CLAHE: 58.96\n",
            "RMS Contrast – HE: 73.32, CLAHE: 59.06\n",
            "RMS Contrast – HE: 73.34, CLAHE: 58.71\n",
            "RMS Contrast – HE: 73.28, CLAHE: 58.38\n",
            "RMS Contrast – HE: 73.28, CLAHE: 58.79\n",
            "RMS Contrast – HE: 73.29, CLAHE: 59.04\n",
            "RMS Contrast – HE: 73.29, CLAHE: 58.57\n",
            "RMS Contrast – HE: 73.31, CLAHE: 58.33\n",
            "RMS Contrast – HE: 73.31, CLAHE: 58.86\n",
            "RMS Contrast – HE: 73.32, CLAHE: 58.95\n"
          ]
        },
        {
          "name": "stderr",
          "output_type": "stream",
          "text": [
            "/tmp/ipython-input-28-1976214917.py:11: DeprecationWarning: Conversion of an array with ndim > 0 to a scalar is deprecated, and will error in future. Ensure you extract a single element from your array before performing this operation. (Deprecated NumPy 1.25.)\n",
            "  (bin_width*(j-1), size[1] - int(hist[j-1])),\n",
            "/tmp/ipython-input-28-1976214917.py:12: DeprecationWarning: Conversion of an array with ndim > 0 to a scalar is deprecated, and will error in future. Ensure you extract a single element from your array before performing this operation. (Deprecated NumPy 1.25.)\n",
            "  (bin_width*j, size[1] - int(hist[j])),\n"
          ]
        },
        {
          "name": "stdout",
          "output_type": "stream",
          "text": [
            "RMS Contrast – HE: 73.31, CLAHE: 58.42\n",
            "RMS Contrast – HE: 73.28, CLAHE: 58.30\n",
            "RMS Contrast – HE: 73.33, CLAHE: 58.76\n",
            "RMS Contrast – HE: 73.31, CLAHE: 58.87\n",
            "RMS Contrast – HE: 73.31, CLAHE: 58.35\n",
            "RMS Contrast – HE: 73.31, CLAHE: 58.27\n",
            "RMS Contrast – HE: 73.30, CLAHE: 58.69\n",
            "RMS Contrast – HE: 73.35, CLAHE: 58.81\n",
            "RMS Contrast – HE: 73.30, CLAHE: 58.37\n",
            "RMS Contrast – HE: 73.30, CLAHE: 58.25\n",
            "RMS Contrast – HE: 73.31, CLAHE: 58.75\n",
            "RMS Contrast – HE: 73.31, CLAHE: 58.84\n",
            "RMS Contrast – HE: 73.29, CLAHE: 58.32\n",
            "RMS Contrast – HE: 73.25, CLAHE: 58.27\n",
            "RMS Contrast – HE: 73.30, CLAHE: 58.65\n",
            "RMS Contrast – HE: 73.31, CLAHE: 58.76\n",
            "RMS Contrast – HE: 73.29, CLAHE: 58.35\n",
            "RMS Contrast – HE: 73.28, CLAHE: 58.28\n",
            "RMS Contrast – HE: 73.30, CLAHE: 58.62\n",
            "RMS Contrast – HE: 73.31, CLAHE: 58.83\n",
            "RMS Contrast – HE: 73.25, CLAHE: 58.42\n",
            "RMS Contrast – HE: 73.29, CLAHE: 58.36\n",
            "RMS Contrast – HE: 73.31, CLAHE: 58.68\n",
            "RMS Contrast – HE: 73.32, CLAHE: 58.84\n",
            "RMS Contrast – HE: 73.29, CLAHE: 58.64\n",
            "RMS Contrast – HE: 73.28, CLAHE: 58.89\n",
            "RMS Contrast – HE: 73.28, CLAHE: 59.14\n",
            "RMS Contrast – HE: 73.30, CLAHE: 59.21\n",
            "RMS Contrast – HE: 73.29, CLAHE: 58.98\n",
            "RMS Contrast – HE: 73.29, CLAHE: 58.56\n",
            "RMS Contrast – HE: 73.29, CLAHE: 58.95\n"
          ]
        },
        {
          "name": "stderr",
          "output_type": "stream",
          "text": [
            "/tmp/ipython-input-28-1976214917.py:11: DeprecationWarning: Conversion of an array with ndim > 0 to a scalar is deprecated, and will error in future. Ensure you extract a single element from your array before performing this operation. (Deprecated NumPy 1.25.)\n",
            "  (bin_width*(j-1), size[1] - int(hist[j-1])),\n",
            "/tmp/ipython-input-28-1976214917.py:12: DeprecationWarning: Conversion of an array with ndim > 0 to a scalar is deprecated, and will error in future. Ensure you extract a single element from your array before performing this operation. (Deprecated NumPy 1.25.)\n",
            "  (bin_width*j, size[1] - int(hist[j])),\n"
          ]
        },
        {
          "name": "stdout",
          "output_type": "stream",
          "text": [
            "RMS Contrast – HE: 73.28, CLAHE: 59.00\n",
            "RMS Contrast – HE: 73.29, CLAHE: 58.47\n",
            "RMS Contrast – HE: 73.30, CLAHE: 58.45\n",
            "RMS Contrast – HE: 73.31, CLAHE: 58.94\n",
            "RMS Contrast – HE: 73.31, CLAHE: 59.04\n",
            "RMS Contrast – HE: 73.26, CLAHE: 58.68\n",
            "RMS Contrast – HE: 73.30, CLAHE: 58.39\n",
            "RMS Contrast – HE: 73.29, CLAHE: 58.82\n",
            "RMS Contrast – HE: 73.29, CLAHE: 58.87\n",
            "RMS Contrast – HE: 73.25, CLAHE: 58.24\n",
            "RMS Contrast – HE: 73.30, CLAHE: 58.10\n",
            "RMS Contrast – HE: 73.28, CLAHE: 58.64\n",
            "RMS Contrast – HE: 73.27, CLAHE: 58.70\n",
            "RMS Contrast – HE: 73.30, CLAHE: 58.25\n",
            "RMS Contrast – HE: 73.27, CLAHE: 58.05\n",
            "RMS Contrast – HE: 73.31, CLAHE: 58.55\n",
            "RMS Contrast – HE: 73.27, CLAHE: 58.68\n",
            "RMS Contrast – HE: 73.27, CLAHE: 58.22\n",
            "RMS Contrast – HE: 73.28, CLAHE: 58.11\n",
            "RMS Contrast – HE: 73.27, CLAHE: 58.63\n",
            "RMS Contrast – HE: 73.27, CLAHE: 58.65\n",
            "RMS Contrast – HE: 73.29, CLAHE: 58.29\n",
            "RMS Contrast – HE: 73.29, CLAHE: 58.14\n",
            "RMS Contrast – HE: 73.26, CLAHE: 58.51\n",
            "RMS Contrast – HE: 73.30, CLAHE: 58.56\n",
            "RMS Contrast – HE: 73.28, CLAHE: 58.20\n",
            "RMS Contrast – HE: 73.25, CLAHE: 58.10\n",
            "RMS Contrast – HE: 73.30, CLAHE: 58.55\n",
            "RMS Contrast – HE: 73.29, CLAHE: 58.60\n"
          ]
        },
        {
          "name": "stderr",
          "output_type": "stream",
          "text": [
            "/tmp/ipython-input-28-1976214917.py:11: DeprecationWarning: Conversion of an array with ndim > 0 to a scalar is deprecated, and will error in future. Ensure you extract a single element from your array before performing this operation. (Deprecated NumPy 1.25.)\n",
            "  (bin_width*(j-1), size[1] - int(hist[j-1])),\n",
            "/tmp/ipython-input-28-1976214917.py:12: DeprecationWarning: Conversion of an array with ndim > 0 to a scalar is deprecated, and will error in future. Ensure you extract a single element from your array before performing this operation. (Deprecated NumPy 1.25.)\n",
            "  (bin_width*j, size[1] - int(hist[j])),\n"
          ]
        },
        {
          "name": "stdout",
          "output_type": "stream",
          "text": [
            "RMS Contrast – HE: 73.27, CLAHE: 58.23\n",
            "RMS Contrast – HE: 73.27, CLAHE: 58.01\n",
            "RMS Contrast – HE: 73.28, CLAHE: 58.51\n",
            "RMS Contrast – HE: 73.29, CLAHE: 58.55\n",
            "RMS Contrast – HE: 73.30, CLAHE: 58.23\n",
            "RMS Contrast – HE: 73.33, CLAHE: 58.46\n",
            "RMS Contrast – HE: 73.36, CLAHE: 58.94\n",
            "RMS Contrast – HE: 73.39, CLAHE: 58.94\n",
            "RMS Contrast – HE: 73.37, CLAHE: 58.63\n",
            "RMS Contrast – HE: 73.35, CLAHE: 58.58\n",
            "RMS Contrast – HE: 73.38, CLAHE: 59.07\n",
            "RMS Contrast – HE: 73.36, CLAHE: 59.15\n",
            "RMS Contrast – HE: 73.33, CLAHE: 58.75\n",
            "RMS Contrast – HE: 73.37, CLAHE: 58.99\n",
            "RMS Contrast – HE: 73.38, CLAHE: 59.07\n",
            "RMS Contrast – HE: 73.33, CLAHE: 59.82\n",
            "RMS Contrast – HE: 73.35, CLAHE: 59.68\n",
            "RMS Contrast – HE: 73.36, CLAHE: 59.19\n",
            "RMS Contrast – HE: 73.39, CLAHE: 59.44\n",
            "RMS Contrast – HE: 73.41, CLAHE: 59.58\n",
            "RMS Contrast – HE: 73.34, CLAHE: 59.00\n",
            "RMS Contrast – HE: 73.37, CLAHE: 59.08\n",
            "RMS Contrast – HE: 73.36, CLAHE: 59.52\n",
            "RMS Contrast – HE: 73.37, CLAHE: 59.63\n",
            "RMS Contrast – HE: 73.36, CLAHE: 59.53\n",
            "RMS Contrast – HE: 73.37, CLAHE: 59.16\n",
            "RMS Contrast – HE: 73.42, CLAHE: 59.52\n",
            "RMS Contrast – HE: 73.40, CLAHE: 59.58\n"
          ]
        },
        {
          "name": "stderr",
          "output_type": "stream",
          "text": [
            "/tmp/ipython-input-28-1976214917.py:11: DeprecationWarning: Conversion of an array with ndim > 0 to a scalar is deprecated, and will error in future. Ensure you extract a single element from your array before performing this operation. (Deprecated NumPy 1.25.)\n",
            "  (bin_width*(j-1), size[1] - int(hist[j-1])),\n",
            "/tmp/ipython-input-28-1976214917.py:12: DeprecationWarning: Conversion of an array with ndim > 0 to a scalar is deprecated, and will error in future. Ensure you extract a single element from your array before performing this operation. (Deprecated NumPy 1.25.)\n",
            "  (bin_width*j, size[1] - int(hist[j])),\n"
          ]
        },
        {
          "name": "stdout",
          "output_type": "stream",
          "text": [
            "RMS Contrast – HE: 73.35, CLAHE: 59.15\n",
            "RMS Contrast – HE: 73.35, CLAHE: 59.05\n",
            "RMS Contrast – HE: 73.33, CLAHE: 59.41\n",
            "RMS Contrast – HE: 73.39, CLAHE: 59.56\n",
            "RMS Contrast – HE: 73.38, CLAHE: 59.30\n",
            "RMS Contrast – HE: 73.37, CLAHE: 58.90\n",
            "RMS Contrast – HE: 73.38, CLAHE: 59.31\n",
            "RMS Contrast – HE: 73.36, CLAHE: 59.47\n",
            "RMS Contrast – HE: 73.37, CLAHE: 59.11\n",
            "RMS Contrast – HE: 73.32, CLAHE: 59.07\n",
            "RMS Contrast – HE: 73.37, CLAHE: 59.50\n",
            "RMS Contrast – HE: 73.37, CLAHE: 59.56\n",
            "RMS Contrast – HE: 73.39, CLAHE: 59.09\n",
            "RMS Contrast – HE: 73.39, CLAHE: 59.03\n",
            "RMS Contrast – HE: 73.37, CLAHE: 59.41\n",
            "RMS Contrast – HE: 73.41, CLAHE: 59.44\n",
            "RMS Contrast – HE: 73.37, CLAHE: 59.21\n",
            "RMS Contrast – HE: 73.36, CLAHE: 59.06\n",
            "RMS Contrast – HE: 73.34, CLAHE: 59.54\n",
            "RMS Contrast – HE: 73.40, CLAHE: 59.71\n",
            "RMS Contrast – HE: 73.33, CLAHE: 59.28\n",
            "RMS Contrast – HE: 73.38, CLAHE: 59.29\n",
            "RMS Contrast – HE: 73.37, CLAHE: 59.62\n",
            "RMS Contrast – HE: 73.38, CLAHE: 59.67\n",
            "RMS Contrast – HE: 73.34, CLAHE: 59.42\n",
            "RMS Contrast – HE: 73.33, CLAHE: 59.19\n",
            "RMS Contrast – HE: 73.39, CLAHE: 59.62\n",
            "RMS Contrast – HE: 73.41, CLAHE: 59.77\n",
            "RMS Contrast – HE: 73.34, CLAHE: 59.38\n",
            "RMS Contrast – HE: 73.34, CLAHE: 59.21\n",
            "RMS Contrast – HE: 73.37, CLAHE: 59.69\n",
            "RMS Contrast – HE: 73.37, CLAHE: 59.74\n",
            "RMS Contrast – HE: 73.38, CLAHE: 59.33\n",
            "RMS Contrast – HE: 73.39, CLAHE: 59.09\n",
            "RMS Contrast – HE: 73.36, CLAHE: 59.55\n",
            "RMS Contrast – HE: 73.40, CLAHE: 59.60\n",
            "RMS Contrast – HE: 73.37, CLAHE: 59.12\n",
            "RMS Contrast – HE: 73.38, CLAHE: 59.09\n",
            "RMS Contrast – HE: 73.37, CLAHE: 59.52\n",
            "RMS Contrast – HE: 73.41, CLAHE: 59.60\n",
            "RMS Contrast – HE: 73.41, CLAHE: 59.12\n",
            "RMS Contrast – HE: 73.36, CLAHE: 58.99\n",
            "RMS Contrast – HE: 73.37, CLAHE: 59.49\n",
            "RMS Contrast – HE: 73.40, CLAHE: 59.55\n",
            "RMS Contrast – HE: 73.35, CLAHE: 59.05\n",
            "RMS Contrast – HE: 73.35, CLAHE: 58.97\n",
            "RMS Contrast – HE: 73.44, CLAHE: 59.40\n",
            "RMS Contrast – HE: 73.39, CLAHE: 59.48\n",
            "RMS Contrast – HE: 73.37, CLAHE: 59.05\n",
            "RMS Contrast – HE: 73.34, CLAHE: 58.95\n",
            "RMS Contrast – HE: 73.38, CLAHE: 59.35\n",
            "RMS Contrast – HE: 73.37, CLAHE: 59.40\n",
            "RMS Contrast – HE: 73.34, CLAHE: 58.97\n",
            "RMS Contrast – HE: 73.33, CLAHE: 58.92\n",
            "RMS Contrast – HE: 73.38, CLAHE: 59.24\n"
          ]
        },
        {
          "name": "stderr",
          "output_type": "stream",
          "text": [
            "/tmp/ipython-input-28-1976214917.py:11: DeprecationWarning: Conversion of an array with ndim > 0 to a scalar is deprecated, and will error in future. Ensure you extract a single element from your array before performing this operation. (Deprecated NumPy 1.25.)\n",
            "  (bin_width*(j-1), size[1] - int(hist[j-1])),\n",
            "/tmp/ipython-input-28-1976214917.py:12: DeprecationWarning: Conversion of an array with ndim > 0 to a scalar is deprecated, and will error in future. Ensure you extract a single element from your array before performing this operation. (Deprecated NumPy 1.25.)\n",
            "  (bin_width*j, size[1] - int(hist[j])),\n"
          ]
        },
        {
          "name": "stdout",
          "output_type": "stream",
          "text": [
            "RMS Contrast – HE: 73.39, CLAHE: 59.36\n",
            "RMS Contrast – HE: 73.36, CLAHE: 58.97\n",
            "RMS Contrast – HE: 73.35, CLAHE: 58.99\n",
            "RMS Contrast – HE: 73.38, CLAHE: 59.27\n",
            "RMS Contrast – HE: 73.42, CLAHE: 59.37\n",
            "RMS Contrast – HE: 73.38, CLAHE: 58.96\n",
            "RMS Contrast – HE: 73.34, CLAHE: 58.79\n",
            "RMS Contrast – HE: 73.40, CLAHE: 59.19\n",
            "RMS Contrast – HE: 73.38, CLAHE: 59.21\n",
            "RMS Contrast – HE: 73.37, CLAHE: 58.82\n",
            "RMS Contrast – HE: 73.40, CLAHE: 58.83\n",
            "RMS Contrast – HE: 73.42, CLAHE: 59.20\n",
            "RMS Contrast – HE: 73.40, CLAHE: 59.29\n"
          ]
        },
        {
          "name": "stderr",
          "output_type": "stream",
          "text": [
            "/tmp/ipython-input-28-1976214917.py:11: DeprecationWarning: Conversion of an array with ndim > 0 to a scalar is deprecated, and will error in future. Ensure you extract a single element from your array before performing this operation. (Deprecated NumPy 1.25.)\n",
            "  (bin_width*(j-1), size[1] - int(hist[j-1])),\n",
            "/tmp/ipython-input-28-1976214917.py:12: DeprecationWarning: Conversion of an array with ndim > 0 to a scalar is deprecated, and will error in future. Ensure you extract a single element from your array before performing this operation. (Deprecated NumPy 1.25.)\n",
            "  (bin_width*j, size[1] - int(hist[j])),\n"
          ]
        },
        {
          "name": "stdout",
          "output_type": "stream",
          "text": [
            "RMS Contrast – HE: 73.38, CLAHE: 58.86\n",
            "RMS Contrast – HE: 73.34, CLAHE: 58.83\n",
            "RMS Contrast – HE: 73.41, CLAHE: 59.16\n",
            "RMS Contrast – HE: 73.38, CLAHE: 59.27\n",
            "RMS Contrast – HE: 73.38, CLAHE: 58.82\n",
            "RMS Contrast – HE: 73.37, CLAHE: 58.73\n",
            "RMS Contrast – HE: 73.37, CLAHE: 59.13\n",
            "RMS Contrast – HE: 73.41, CLAHE: 59.25\n",
            "RMS Contrast – HE: 73.37, CLAHE: 58.82\n",
            "RMS Contrast – HE: 73.36, CLAHE: 58.73\n",
            "RMS Contrast – HE: 73.41, CLAHE: 58.99\n",
            "RMS Contrast – HE: 73.38, CLAHE: 59.15\n",
            "RMS Contrast – HE: 73.37, CLAHE: 58.70\n",
            "RMS Contrast – HE: 73.34, CLAHE: 58.61\n",
            "RMS Contrast – HE: 73.37, CLAHE: 59.03\n",
            "RMS Contrast – HE: 73.38, CLAHE: 59.09\n",
            "RMS Contrast – HE: 73.37, CLAHE: 58.65\n",
            "RMS Contrast – HE: 73.38, CLAHE: 58.69\n",
            "RMS Contrast – HE: 73.41, CLAHE: 59.15\n",
            "RMS Contrast – HE: 73.40, CLAHE: 59.21\n",
            "RMS Contrast – HE: 73.39, CLAHE: 58.76\n",
            "RMS Contrast – HE: 73.36, CLAHE: 58.83\n",
            "RMS Contrast – HE: 73.37, CLAHE: 58.98\n",
            "RMS Contrast – HE: 73.39, CLAHE: 59.15\n",
            "RMS Contrast – HE: 73.42, CLAHE: 58.81\n",
            "RMS Contrast – HE: 73.37, CLAHE: 58.71\n",
            "RMS Contrast – HE: 73.41, CLAHE: 59.17\n"
          ]
        },
        {
          "name": "stderr",
          "output_type": "stream",
          "text": [
            "/tmp/ipython-input-28-1976214917.py:11: DeprecationWarning: Conversion of an array with ndim > 0 to a scalar is deprecated, and will error in future. Ensure you extract a single element from your array before performing this operation. (Deprecated NumPy 1.25.)\n",
            "  (bin_width*(j-1), size[1] - int(hist[j-1])),\n",
            "/tmp/ipython-input-28-1976214917.py:12: DeprecationWarning: Conversion of an array with ndim > 0 to a scalar is deprecated, and will error in future. Ensure you extract a single element from your array before performing this operation. (Deprecated NumPy 1.25.)\n",
            "  (bin_width*j, size[1] - int(hist[j])),\n"
          ]
        },
        {
          "name": "stdout",
          "output_type": "stream",
          "text": [
            "RMS Contrast – HE: 73.40, CLAHE: 59.26\n",
            "RMS Contrast – HE: 73.36, CLAHE: 58.80\n",
            "RMS Contrast – HE: 73.36, CLAHE: 58.60\n",
            "RMS Contrast – HE: 73.39, CLAHE: 59.08\n",
            "RMS Contrast – HE: 73.36, CLAHE: 59.13\n",
            "RMS Contrast – HE: 73.38, CLAHE: 58.66\n",
            "RMS Contrast – HE: 73.36, CLAHE: 58.50\n",
            "RMS Contrast – HE: 73.40, CLAHE: 58.93\n",
            "RMS Contrast – HE: 73.41, CLAHE: 59.06\n",
            "RMS Contrast – HE: 73.41, CLAHE: 58.52\n",
            "RMS Contrast – HE: 73.40, CLAHE: 58.42\n",
            "RMS Contrast – HE: 73.43, CLAHE: 58.86\n",
            "RMS Contrast – HE: 73.45, CLAHE: 58.99\n",
            "RMS Contrast – HE: 73.41, CLAHE: 58.64\n",
            "RMS Contrast – HE: 73.40, CLAHE: 58.44\n",
            "RMS Contrast – HE: 73.44, CLAHE: 58.82\n",
            "RMS Contrast – HE: 73.45, CLAHE: 59.02\n",
            "RMS Contrast – HE: 73.40, CLAHE: 58.55\n",
            "RMS Contrast – HE: 73.42, CLAHE: 58.59\n",
            "RMS Contrast – HE: 73.41, CLAHE: 58.85\n",
            "RMS Contrast – HE: 73.46, CLAHE: 58.96\n",
            "RMS Contrast – HE: 73.40, CLAHE: 58.53\n",
            "RMS Contrast – HE: 73.42, CLAHE: 58.34\n",
            "RMS Contrast – HE: 73.44, CLAHE: 58.90\n",
            "RMS Contrast – HE: 73.40, CLAHE: 58.97\n",
            "RMS Contrast – HE: 73.42, CLAHE: 58.70\n",
            "RMS Contrast – HE: 73.42, CLAHE: 58.27\n",
            "RMS Contrast – HE: 73.42, CLAHE: 58.55\n",
            "RMS Contrast – HE: 73.42, CLAHE: 58.74\n",
            "RMS Contrast – HE: 73.47, CLAHE: 58.77\n",
            "RMS Contrast – HE: 73.42, CLAHE: 58.73\n",
            "RMS Contrast – HE: 73.38, CLAHE: 58.22\n",
            "RMS Contrast – HE: 73.40, CLAHE: 58.37\n",
            "RMS Contrast – HE: 73.39, CLAHE: 58.75\n",
            "RMS Contrast – HE: 73.42, CLAHE: 58.90\n",
            "RMS Contrast – HE: 73.43, CLAHE: 58.97\n",
            "RMS Contrast – HE: 73.43, CLAHE: 58.64\n",
            "RMS Contrast – HE: 73.38, CLAHE: 58.24\n",
            "RMS Contrast – HE: 73.40, CLAHE: 58.59\n",
            "RMS Contrast – HE: 73.37, CLAHE: 58.68\n",
            "RMS Contrast – HE: 73.39, CLAHE: 57.96\n",
            "RMS Contrast – HE: 73.39, CLAHE: 58.24\n",
            "RMS Contrast – HE: 73.38, CLAHE: 58.42\n",
            "RMS Contrast – HE: 73.39, CLAHE: 58.47\n",
            "RMS Contrast – HE: 73.36, CLAHE: 59.08\n",
            "RMS Contrast – HE: 73.37, CLAHE: 59.05\n",
            "RMS Contrast – HE: 73.36, CLAHE: 58.39\n",
            "RMS Contrast – HE: 73.35, CLAHE: 58.53\n",
            "RMS Contrast – HE: 73.34, CLAHE: 58.59\n",
            "RMS Contrast – HE: 73.37, CLAHE: 58.67\n",
            "RMS Contrast – HE: 73.35, CLAHE: 58.34\n",
            "RMS Contrast – HE: 73.35, CLAHE: 58.25\n",
            "RMS Contrast – HE: 73.36, CLAHE: 58.44\n",
            "RMS Contrast – HE: 73.37, CLAHE: 58.63\n",
            "RMS Contrast – HE: 73.36, CLAHE: 58.74\n"
          ]
        },
        {
          "name": "stderr",
          "output_type": "stream",
          "text": [
            "/tmp/ipython-input-28-1976214917.py:11: DeprecationWarning: Conversion of an array with ndim > 0 to a scalar is deprecated, and will error in future. Ensure you extract a single element from your array before performing this operation. (Deprecated NumPy 1.25.)\n",
            "  (bin_width*(j-1), size[1] - int(hist[j-1])),\n",
            "/tmp/ipython-input-28-1976214917.py:12: DeprecationWarning: Conversion of an array with ndim > 0 to a scalar is deprecated, and will error in future. Ensure you extract a single element from your array before performing this operation. (Deprecated NumPy 1.25.)\n",
            "  (bin_width*j, size[1] - int(hist[j])),\n"
          ]
        },
        {
          "name": "stdout",
          "output_type": "stream",
          "text": [
            "RMS Contrast – HE: 73.35, CLAHE: 58.62\n",
            "RMS Contrast – HE: 73.33, CLAHE: 58.33\n",
            "RMS Contrast – HE: 73.35, CLAHE: 58.41\n",
            "RMS Contrast – HE: 73.38, CLAHE: 58.73\n",
            "RMS Contrast – HE: 73.40, CLAHE: 58.92\n",
            "RMS Contrast – HE: 73.37, CLAHE: 58.66\n"
          ]
        },
        {
          "name": "stderr",
          "output_type": "stream",
          "text": [
            "/tmp/ipython-input-28-1976214917.py:11: DeprecationWarning: Conversion of an array with ndim > 0 to a scalar is deprecated, and will error in future. Ensure you extract a single element from your array before performing this operation. (Deprecated NumPy 1.25.)\n",
            "  (bin_width*(j-1), size[1] - int(hist[j-1])),\n",
            "/tmp/ipython-input-28-1976214917.py:12: DeprecationWarning: Conversion of an array with ndim > 0 to a scalar is deprecated, and will error in future. Ensure you extract a single element from your array before performing this operation. (Deprecated NumPy 1.25.)\n",
            "  (bin_width*j, size[1] - int(hist[j])),\n"
          ]
        },
        {
          "name": "stdout",
          "output_type": "stream",
          "text": [
            "RMS Contrast – HE: 73.35, CLAHE: 58.47\n",
            "RMS Contrast – HE: 73.36, CLAHE: 58.86\n",
            "RMS Contrast – HE: 73.40, CLAHE: 58.98\n",
            "RMS Contrast – HE: 73.36, CLAHE: 58.58\n",
            "RMS Contrast – HE: 73.38, CLAHE: 58.55\n",
            "RMS Contrast – HE: 73.36, CLAHE: 58.94\n",
            "RMS Contrast – HE: 73.42, CLAHE: 59.04\n",
            "RMS Contrast – HE: 73.34, CLAHE: 58.79\n",
            "RMS Contrast – HE: 73.36, CLAHE: 58.64\n",
            "RMS Contrast – HE: 73.40, CLAHE: 58.87\n",
            "RMS Contrast – HE: 73.42, CLAHE: 59.01\n",
            "RMS Contrast – HE: 73.38, CLAHE: 58.72\n",
            "RMS Contrast – HE: 73.38, CLAHE: 58.64\n",
            "RMS Contrast – HE: 73.37, CLAHE: 59.00\n",
            "RMS Contrast – HE: 73.40, CLAHE: 59.04\n",
            "RMS Contrast – HE: 73.36, CLAHE: 58.71\n",
            "RMS Contrast – HE: 73.32, CLAHE: 58.67\n",
            "RMS Contrast – HE: 73.37, CLAHE: 59.01\n",
            "RMS Contrast – HE: 73.43, CLAHE: 59.09\n",
            "RMS Contrast – HE: 73.37, CLAHE: 58.80\n",
            "RMS Contrast – HE: 73.35, CLAHE: 58.79\n",
            "RMS Contrast – HE: 73.42, CLAHE: 59.13\n",
            "RMS Contrast – HE: 73.42, CLAHE: 59.22\n",
            "RMS Contrast – HE: 73.41, CLAHE: 58.86\n",
            "RMS Contrast – HE: 73.36, CLAHE: 58.79\n",
            "RMS Contrast – HE: 73.39, CLAHE: 59.14\n",
            "RMS Contrast – HE: 73.42, CLAHE: 59.23\n",
            "RMS Contrast – HE: 73.39, CLAHE: 58.75\n",
            "RMS Contrast – HE: 73.38, CLAHE: 58.79\n",
            "RMS Contrast – HE: 73.42, CLAHE: 59.05\n",
            "RMS Contrast – HE: 73.42, CLAHE: 59.15\n",
            "RMS Contrast – HE: 73.38, CLAHE: 58.81\n",
            "RMS Contrast – HE: 73.38, CLAHE: 58.79\n",
            "RMS Contrast – HE: 73.40, CLAHE: 59.07\n",
            "RMS Contrast – HE: 73.43, CLAHE: 59.18\n",
            "RMS Contrast – HE: 73.37, CLAHE: 58.72\n",
            "RMS Contrast – HE: 73.43, CLAHE: 58.71\n"
          ]
        },
        {
          "name": "stderr",
          "output_type": "stream",
          "text": [
            "/tmp/ipython-input-28-1976214917.py:11: DeprecationWarning: Conversion of an array with ndim > 0 to a scalar is deprecated, and will error in future. Ensure you extract a single element from your array before performing this operation. (Deprecated NumPy 1.25.)\n",
            "  (bin_width*(j-1), size[1] - int(hist[j-1])),\n",
            "/tmp/ipython-input-28-1976214917.py:12: DeprecationWarning: Conversion of an array with ndim > 0 to a scalar is deprecated, and will error in future. Ensure you extract a single element from your array before performing this operation. (Deprecated NumPy 1.25.)\n",
            "  (bin_width*j, size[1] - int(hist[j])),\n"
          ]
        },
        {
          "name": "stdout",
          "output_type": "stream",
          "text": [
            "RMS Contrast – HE: 73.39, CLAHE: 58.97\n",
            "RMS Contrast – HE: 73.41, CLAHE: 59.13\n",
            "RMS Contrast – HE: 73.34, CLAHE: 58.77\n",
            "RMS Contrast – HE: 73.38, CLAHE: 58.64\n",
            "RMS Contrast – HE: 73.40, CLAHE: 59.00\n",
            "RMS Contrast – HE: 73.40, CLAHE: 59.09\n",
            "RMS Contrast – HE: 73.35, CLAHE: 58.72\n",
            "RMS Contrast – HE: 73.38, CLAHE: 58.61\n",
            "RMS Contrast – HE: 73.36, CLAHE: 58.99\n",
            "RMS Contrast – HE: 73.39, CLAHE: 59.05\n",
            "RMS Contrast – HE: 73.40, CLAHE: 58.76\n",
            "RMS Contrast – HE: 73.38, CLAHE: 58.64\n",
            "RMS Contrast – HE: 73.35, CLAHE: 58.91\n",
            "RMS Contrast – HE: 73.41, CLAHE: 59.02\n",
            "RMS Contrast – HE: 73.35, CLAHE: 58.86\n",
            "RMS Contrast – HE: 73.37, CLAHE: 58.44\n",
            "RMS Contrast – HE: 73.37, CLAHE: 58.78\n",
            "RMS Contrast – HE: 73.41, CLAHE: 59.09\n",
            "RMS Contrast – HE: 73.43, CLAHE: 59.18\n",
            "RMS Contrast – HE: 73.35, CLAHE: 58.97\n",
            "RMS Contrast – HE: 73.35, CLAHE: 58.96\n",
            "RMS Contrast – HE: 73.37, CLAHE: 59.30\n",
            "RMS Contrast – HE: 73.36, CLAHE: 59.42\n",
            "RMS Contrast – HE: 73.37, CLAHE: 59.09\n",
            "RMS Contrast – HE: 73.36, CLAHE: 58.94\n",
            "RMS Contrast – HE: 73.35, CLAHE: 59.36\n",
            "RMS Contrast – HE: 73.38, CLAHE: 59.44\n",
            "RMS Contrast – HE: 73.37, CLAHE: 59.11\n",
            "RMS Contrast – HE: 73.34, CLAHE: 58.97\n",
            "RMS Contrast – HE: 73.37, CLAHE: 59.40\n",
            "RMS Contrast – HE: 73.37, CLAHE: 59.43\n",
            "RMS Contrast – HE: 73.37, CLAHE: 59.16\n",
            "RMS Contrast – HE: 73.31, CLAHE: 58.83\n",
            "RMS Contrast – HE: 73.36, CLAHE: 59.07\n",
            "RMS Contrast – HE: 73.38, CLAHE: 59.28\n",
            "RMS Contrast – HE: 73.37, CLAHE: 59.42\n",
            "RMS Contrast – HE: 73.36, CLAHE: 59.03\n",
            "RMS Contrast – HE: 73.38, CLAHE: 58.96\n",
            "RMS Contrast – HE: 73.39, CLAHE: 59.19\n",
            "RMS Contrast – HE: 73.38, CLAHE: 59.28\n",
            "RMS Contrast – HE: 73.35, CLAHE: 58.85\n",
            "RMS Contrast – HE: 73.36, CLAHE: 58.72\n",
            "RMS Contrast – HE: 73.39, CLAHE: 58.91\n",
            "RMS Contrast – HE: 73.37, CLAHE: 59.13\n",
            "RMS Contrast – HE: 73.37, CLAHE: 59.26\n",
            "RMS Contrast – HE: 73.35, CLAHE: 59.06\n",
            "RMS Contrast – HE: 73.37, CLAHE: 58.67\n",
            "RMS Contrast – HE: 73.38, CLAHE: 58.89\n",
            "RMS Contrast – HE: 73.37, CLAHE: 59.09\n",
            "RMS Contrast – HE: 73.38, CLAHE: 59.22\n",
            "RMS Contrast – HE: 73.38, CLAHE: 58.99\n",
            "RMS Contrast – HE: 73.35, CLAHE: 58.54\n"
          ]
        },
        {
          "name": "stderr",
          "output_type": "stream",
          "text": [
            "/tmp/ipython-input-28-1976214917.py:11: DeprecationWarning: Conversion of an array with ndim > 0 to a scalar is deprecated, and will error in future. Ensure you extract a single element from your array before performing this operation. (Deprecated NumPy 1.25.)\n",
            "  (bin_width*(j-1), size[1] - int(hist[j-1])),\n",
            "/tmp/ipython-input-28-1976214917.py:12: DeprecationWarning: Conversion of an array with ndim > 0 to a scalar is deprecated, and will error in future. Ensure you extract a single element from your array before performing this operation. (Deprecated NumPy 1.25.)\n",
            "  (bin_width*j, size[1] - int(hist[j])),\n"
          ]
        },
        {
          "name": "stdout",
          "output_type": "stream",
          "text": [
            "RMS Contrast – HE: 73.32, CLAHE: 58.82\n",
            "RMS Contrast – HE: 73.35, CLAHE: 58.99\n",
            "RMS Contrast – HE: 73.37, CLAHE: 59.00\n",
            "RMS Contrast – HE: 73.37, CLAHE: 58.88\n",
            "RMS Contrast – HE: 73.35, CLAHE: 58.43\n",
            "RMS Contrast – HE: 73.39, CLAHE: 58.79\n",
            "RMS Contrast – HE: 73.36, CLAHE: 58.97\n",
            "RMS Contrast – HE: 73.35, CLAHE: 59.01\n",
            "RMS Contrast – HE: 73.35, CLAHE: 58.77\n"
          ]
        },
        {
          "name": "stderr",
          "output_type": "stream",
          "text": [
            "/tmp/ipython-input-28-1976214917.py:11: DeprecationWarning: Conversion of an array with ndim > 0 to a scalar is deprecated, and will error in future. Ensure you extract a single element from your array before performing this operation. (Deprecated NumPy 1.25.)\n",
            "  (bin_width*(j-1), size[1] - int(hist[j-1])),\n",
            "/tmp/ipython-input-28-1976214917.py:12: DeprecationWarning: Conversion of an array with ndim > 0 to a scalar is deprecated, and will error in future. Ensure you extract a single element from your array before performing this operation. (Deprecated NumPy 1.25.)\n",
            "  (bin_width*j, size[1] - int(hist[j])),\n"
          ]
        },
        {
          "name": "stdout",
          "output_type": "stream",
          "text": [
            "RMS Contrast – HE: 73.32, CLAHE: 58.50\n",
            "RMS Contrast – HE: 73.40, CLAHE: 58.66\n",
            "RMS Contrast – HE: 73.38, CLAHE: 58.93\n",
            "RMS Contrast – HE: 73.38, CLAHE: 59.00\n",
            "RMS Contrast – HE: 73.37, CLAHE: 58.87\n",
            "RMS Contrast – HE: 73.32, CLAHE: 58.38\n",
            "RMS Contrast – HE: 73.40, CLAHE: 58.55\n",
            "RMS Contrast – HE: 73.40, CLAHE: 58.86\n",
            "RMS Contrast – HE: 73.43, CLAHE: 58.82\n",
            "RMS Contrast – HE: 73.41, CLAHE: 58.68\n",
            "RMS Contrast – HE: 73.34, CLAHE: 58.24\n",
            "RMS Contrast – HE: 73.35, CLAHE: 58.43\n",
            "RMS Contrast – HE: 73.40, CLAHE: 58.82\n",
            "RMS Contrast – HE: 73.39, CLAHE: 58.85\n",
            "RMS Contrast – HE: 73.38, CLAHE: 58.72\n",
            "RMS Contrast – HE: 73.37, CLAHE: 58.29\n",
            "RMS Contrast – HE: 73.40, CLAHE: 58.43\n",
            "RMS Contrast – HE: 73.41, CLAHE: 58.83\n"
          ]
        },
        {
          "name": "stderr",
          "output_type": "stream",
          "text": [
            "/tmp/ipython-input-28-1976214917.py:11: DeprecationWarning: Conversion of an array with ndim > 0 to a scalar is deprecated, and will error in future. Ensure you extract a single element from your array before performing this operation. (Deprecated NumPy 1.25.)\n",
            "  (bin_width*(j-1), size[1] - int(hist[j-1])),\n",
            "/tmp/ipython-input-28-1976214917.py:12: DeprecationWarning: Conversion of an array with ndim > 0 to a scalar is deprecated, and will error in future. Ensure you extract a single element from your array before performing this operation. (Deprecated NumPy 1.25.)\n",
            "  (bin_width*j, size[1] - int(hist[j])),\n"
          ]
        },
        {
          "name": "stdout",
          "output_type": "stream",
          "text": [
            "RMS Contrast – HE: 73.39, CLAHE: 58.82\n",
            "RMS Contrast – HE: 73.35, CLAHE: 58.49\n",
            "RMS Contrast – HE: 73.38, CLAHE: 58.22\n",
            "RMS Contrast – HE: 73.41, CLAHE: 58.74\n",
            "RMS Contrast – HE: 73.42, CLAHE: 58.68\n",
            "RMS Contrast – HE: 73.39, CLAHE: 58.31\n",
            "RMS Contrast – HE: 73.35, CLAHE: 58.17\n",
            "RMS Contrast – HE: 73.39, CLAHE: 58.51\n",
            "RMS Contrast – HE: 73.39, CLAHE: 58.68\n",
            "RMS Contrast – HE: 73.41, CLAHE: 58.37\n",
            "RMS Contrast – HE: 73.43, CLAHE: 58.32\n",
            "RMS Contrast – HE: 73.42, CLAHE: 58.62\n",
            "RMS Contrast – HE: 73.41, CLAHE: 58.65\n",
            "RMS Contrast – HE: 73.42, CLAHE: 58.42\n",
            "RMS Contrast – HE: 73.38, CLAHE: 58.17\n",
            "RMS Contrast – HE: 73.35, CLAHE: 58.18\n",
            "RMS Contrast – HE: 73.39, CLAHE: 58.53\n",
            "RMS Contrast – HE: 73.43, CLAHE: 58.69\n",
            "RMS Contrast – HE: 73.45, CLAHE: 58.77\n",
            "RMS Contrast – HE: 73.43, CLAHE: 58.79\n",
            "RMS Contrast – HE: 73.43, CLAHE: 58.78\n",
            "RMS Contrast – HE: 73.43, CLAHE: 58.32\n",
            "RMS Contrast – HE: 73.42, CLAHE: 58.08\n",
            "RMS Contrast – HE: 73.40, CLAHE: 58.44\n",
            "RMS Contrast – HE: 73.43, CLAHE: 58.55\n",
            "RMS Contrast – HE: 73.37, CLAHE: 58.15\n",
            "RMS Contrast – HE: 73.39, CLAHE: 58.15\n",
            "RMS Contrast – HE: 73.41, CLAHE: 58.44\n",
            "RMS Contrast – HE: 73.43, CLAHE: 58.51\n",
            "RMS Contrast – HE: 73.36, CLAHE: 58.29\n",
            "RMS Contrast – HE: 73.40, CLAHE: 58.13\n"
          ]
        },
        {
          "name": "stderr",
          "output_type": "stream",
          "text": [
            "/tmp/ipython-input-28-1976214917.py:11: DeprecationWarning: Conversion of an array with ndim > 0 to a scalar is deprecated, and will error in future. Ensure you extract a single element from your array before performing this operation. (Deprecated NumPy 1.25.)\n",
            "  (bin_width*(j-1), size[1] - int(hist[j-1])),\n",
            "/tmp/ipython-input-28-1976214917.py:12: DeprecationWarning: Conversion of an array with ndim > 0 to a scalar is deprecated, and will error in future. Ensure you extract a single element from your array before performing this operation. (Deprecated NumPy 1.25.)\n",
            "  (bin_width*j, size[1] - int(hist[j])),\n"
          ]
        },
        {
          "name": "stdout",
          "output_type": "stream",
          "text": [
            "RMS Contrast – HE: 73.44, CLAHE: 58.35\n",
            "RMS Contrast – HE: 73.43, CLAHE: 58.47\n",
            "RMS Contrast – HE: 73.43, CLAHE: 58.25\n",
            "RMS Contrast – HE: 73.43, CLAHE: 58.10\n",
            "RMS Contrast – HE: 73.43, CLAHE: 58.41\n",
            "RMS Contrast – HE: 73.43, CLAHE: 58.49\n",
            "RMS Contrast – HE: 73.40, CLAHE: 58.09\n",
            "RMS Contrast – HE: 73.39, CLAHE: 58.21\n",
            "RMS Contrast – HE: 73.43, CLAHE: 58.43\n",
            "RMS Contrast – HE: 73.47, CLAHE: 58.62\n",
            "RMS Contrast – HE: 73.43, CLAHE: 58.38\n",
            "RMS Contrast – HE: 73.44, CLAHE: 58.30\n",
            "RMS Contrast – HE: 73.39, CLAHE: 58.59\n"
          ]
        },
        {
          "name": "stderr",
          "output_type": "stream",
          "text": [
            "/tmp/ipython-input-28-1976214917.py:11: DeprecationWarning: Conversion of an array with ndim > 0 to a scalar is deprecated, and will error in future. Ensure you extract a single element from your array before performing this operation. (Deprecated NumPy 1.25.)\n",
            "  (bin_width*(j-1), size[1] - int(hist[j-1])),\n",
            "/tmp/ipython-input-28-1976214917.py:12: DeprecationWarning: Conversion of an array with ndim > 0 to a scalar is deprecated, and will error in future. Ensure you extract a single element from your array before performing this operation. (Deprecated NumPy 1.25.)\n",
            "  (bin_width*j, size[1] - int(hist[j])),\n"
          ]
        },
        {
          "name": "stdout",
          "output_type": "stream",
          "text": [
            "RMS Contrast – HE: 73.43, CLAHE: 58.66\n",
            "RMS Contrast – HE: 73.42, CLAHE: 58.19\n",
            "RMS Contrast – HE: 73.37, CLAHE: 58.32\n",
            "RMS Contrast – HE: 73.39, CLAHE: 58.51\n",
            "RMS Contrast – HE: 73.43, CLAHE: 58.65\n",
            "RMS Contrast – HE: 73.40, CLAHE: 58.30\n",
            "RMS Contrast – HE: 73.38, CLAHE: 58.22\n",
            "RMS Contrast – HE: 73.42, CLAHE: 58.46\n",
            "RMS Contrast – HE: 73.40, CLAHE: 58.57\n",
            "RMS Contrast – HE: 73.39, CLAHE: 58.23\n",
            "RMS Contrast – HE: 73.41, CLAHE: 58.19\n",
            "RMS Contrast – HE: 73.46, CLAHE: 58.46\n",
            "RMS Contrast – HE: 73.46, CLAHE: 58.62\n",
            "RMS Contrast – HE: 73.37, CLAHE: 58.23\n",
            "RMS Contrast – HE: 73.41, CLAHE: 58.18\n",
            "RMS Contrast – HE: 73.41, CLAHE: 58.45\n",
            "RMS Contrast – HE: 73.41, CLAHE: 58.51\n",
            "RMS Contrast – HE: 73.41, CLAHE: 58.22\n",
            "RMS Contrast – HE: 73.39, CLAHE: 58.18\n",
            "RMS Contrast – HE: 73.42, CLAHE: 58.41\n",
            "RMS Contrast – HE: 73.43, CLAHE: 58.53\n",
            "RMS Contrast – HE: 73.41, CLAHE: 58.37\n",
            "RMS Contrast – HE: 73.38, CLAHE: 58.13\n",
            "RMS Contrast – HE: 73.40, CLAHE: 58.41\n",
            "RMS Contrast – HE: 73.40, CLAHE: 58.53\n",
            "RMS Contrast – HE: 73.41, CLAHE: 58.11\n",
            "RMS Contrast – HE: 73.43, CLAHE: 58.03\n",
            "RMS Contrast – HE: 73.41, CLAHE: 58.24\n"
          ]
        },
        {
          "name": "stderr",
          "output_type": "stream",
          "text": [
            "/tmp/ipython-input-28-1976214917.py:11: DeprecationWarning: Conversion of an array with ndim > 0 to a scalar is deprecated, and will error in future. Ensure you extract a single element from your array before performing this operation. (Deprecated NumPy 1.25.)\n",
            "  (bin_width*(j-1), size[1] - int(hist[j-1])),\n",
            "/tmp/ipython-input-28-1976214917.py:12: DeprecationWarning: Conversion of an array with ndim > 0 to a scalar is deprecated, and will error in future. Ensure you extract a single element from your array before performing this operation. (Deprecated NumPy 1.25.)\n",
            "  (bin_width*j, size[1] - int(hist[j])),\n"
          ]
        },
        {
          "name": "stdout",
          "output_type": "stream",
          "text": [
            "RMS Contrast – HE: 73.40, CLAHE: 58.37\n",
            "RMS Contrast – HE: 73.37, CLAHE: 58.02\n",
            "RMS Contrast – HE: 73.37, CLAHE: 58.09\n",
            "RMS Contrast – HE: 73.39, CLAHE: 58.35\n",
            "RMS Contrast – HE: 73.42, CLAHE: 58.52\n",
            "RMS Contrast – HE: 73.39, CLAHE: 58.25\n",
            "RMS Contrast – HE: 73.37, CLAHE: 57.97\n",
            "RMS Contrast – HE: 73.40, CLAHE: 58.12\n",
            "RMS Contrast – HE: 73.40, CLAHE: 58.47\n",
            "RMS Contrast – HE: 73.43, CLAHE: 58.52\n",
            "RMS Contrast – HE: 73.37, CLAHE: 58.33\n",
            "RMS Contrast – HE: 73.40, CLAHE: 58.08\n",
            "RMS Contrast – HE: 73.40, CLAHE: 58.28\n",
            "RMS Contrast – HE: 73.41, CLAHE: 58.36\n",
            "RMS Contrast – HE: 73.43, CLAHE: 58.46\n",
            "RMS Contrast – HE: 73.39, CLAHE: 58.19\n",
            "RMS Contrast – HE: 73.36, CLAHE: 58.02\n",
            "RMS Contrast – HE: 73.35, CLAHE: 58.22\n",
            "RMS Contrast – HE: 73.42, CLAHE: 58.32\n",
            "RMS Contrast – HE: 73.39, CLAHE: 58.44\n",
            "RMS Contrast – HE: 73.41, CLAHE: 58.25\n",
            "RMS Contrast – HE: 73.42, CLAHE: 57.97\n",
            "RMS Contrast – HE: 73.39, CLAHE: 58.04\n",
            "RMS Contrast – HE: 73.39, CLAHE: 58.19\n",
            "RMS Contrast – HE: 73.38, CLAHE: 58.26\n",
            "RMS Contrast – HE: 73.37, CLAHE: 58.00\n",
            "RMS Contrast – HE: 73.38, CLAHE: 57.75\n",
            "RMS Contrast – HE: 73.39, CLAHE: 57.89\n",
            "RMS Contrast – HE: 73.41, CLAHE: 58.07\n",
            "RMS Contrast – HE: 73.41, CLAHE: 58.20\n",
            "RMS Contrast – HE: 73.37, CLAHE: 57.97\n",
            "RMS Contrast – HE: 73.37, CLAHE: 57.76\n",
            "RMS Contrast – HE: 73.43, CLAHE: 58.12\n"
          ]
        },
        {
          "name": "stderr",
          "output_type": "stream",
          "text": [
            "/tmp/ipython-input-28-1976214917.py:11: DeprecationWarning: Conversion of an array with ndim > 0 to a scalar is deprecated, and will error in future. Ensure you extract a single element from your array before performing this operation. (Deprecated NumPy 1.25.)\n",
            "  (bin_width*(j-1), size[1] - int(hist[j-1])),\n",
            "/tmp/ipython-input-28-1976214917.py:12: DeprecationWarning: Conversion of an array with ndim > 0 to a scalar is deprecated, and will error in future. Ensure you extract a single element from your array before performing this operation. (Deprecated NumPy 1.25.)\n",
            "  (bin_width*j, size[1] - int(hist[j])),\n"
          ]
        },
        {
          "name": "stdout",
          "output_type": "stream",
          "text": [
            "RMS Contrast – HE: 73.44, CLAHE: 58.22\n",
            "RMS Contrast – HE: 73.36, CLAHE: 58.00\n",
            "RMS Contrast – HE: 73.39, CLAHE: 57.69\n",
            "RMS Contrast – HE: 73.39, CLAHE: 57.94\n",
            "RMS Contrast – HE: 73.44, CLAHE: 58.19\n",
            "RMS Contrast – HE: 73.43, CLAHE: 58.23\n",
            "RMS Contrast – HE: 73.40, CLAHE: 57.99\n",
            "RMS Contrast – HE: 73.39, CLAHE: 57.75\n",
            "RMS Contrast – HE: 73.44, CLAHE: 58.18\n",
            "RMS Contrast – HE: 73.39, CLAHE: 58.24\n",
            "RMS Contrast – HE: 73.38, CLAHE: 57.88\n",
            "RMS Contrast – HE: 73.39, CLAHE: 57.80\n",
            "RMS Contrast – HE: 73.42, CLAHE: 58.20\n"
          ]
        },
        {
          "name": "stderr",
          "output_type": "stream",
          "text": [
            "/tmp/ipython-input-28-1976214917.py:11: DeprecationWarning: Conversion of an array with ndim > 0 to a scalar is deprecated, and will error in future. Ensure you extract a single element from your array before performing this operation. (Deprecated NumPy 1.25.)\n",
            "  (bin_width*(j-1), size[1] - int(hist[j-1])),\n",
            "/tmp/ipython-input-28-1976214917.py:12: DeprecationWarning: Conversion of an array with ndim > 0 to a scalar is deprecated, and will error in future. Ensure you extract a single element from your array before performing this operation. (Deprecated NumPy 1.25.)\n",
            "  (bin_width*j, size[1] - int(hist[j])),\n"
          ]
        },
        {
          "name": "stdout",
          "output_type": "stream",
          "text": [
            "RMS Contrast – HE: 73.42, CLAHE: 58.27\n",
            "RMS Contrast – HE: 73.39, CLAHE: 57.91\n",
            "RMS Contrast – HE: 73.41, CLAHE: 57.89\n",
            "RMS Contrast – HE: 73.43, CLAHE: 58.26\n",
            "RMS Contrast – HE: 73.44, CLAHE: 58.31\n",
            "RMS Contrast – HE: 73.39, CLAHE: 57.97\n",
            "RMS Contrast – HE: 73.42, CLAHE: 57.90\n",
            "RMS Contrast – HE: 73.45, CLAHE: 58.31\n",
            "RMS Contrast – HE: 73.45, CLAHE: 58.38\n",
            "RMS Contrast – HE: 73.40, CLAHE: 57.89\n",
            "RMS Contrast – HE: 73.44, CLAHE: 57.88\n",
            "RMS Contrast – HE: 73.43, CLAHE: 58.17\n",
            "RMS Contrast – HE: 73.42, CLAHE: 58.15\n",
            "RMS Contrast – HE: 73.42, CLAHE: 57.80\n",
            "RMS Contrast – HE: 73.43, CLAHE: 57.73\n",
            "RMS Contrast – HE: 73.43, CLAHE: 58.03\n",
            "RMS Contrast – HE: 73.42, CLAHE: 58.14\n",
            "RMS Contrast – HE: 73.43, CLAHE: 57.78\n",
            "RMS Contrast – HE: 73.40, CLAHE: 57.70\n",
            "RMS Contrast – HE: 73.45, CLAHE: 58.03\n",
            "RMS Contrast – HE: 73.43, CLAHE: 58.10\n",
            "RMS Contrast – HE: 73.42, CLAHE: 57.70\n",
            "RMS Contrast – HE: 73.44, CLAHE: 57.66\n",
            "RMS Contrast – HE: 73.43, CLAHE: 57.97\n",
            "RMS Contrast – HE: 73.42, CLAHE: 58.03\n",
            "RMS Contrast – HE: 73.40, CLAHE: 57.63\n",
            "RMS Contrast – HE: 73.39, CLAHE: 57.61\n",
            "RMS Contrast – HE: 73.45, CLAHE: 57.80\n",
            "RMS Contrast – HE: 73.45, CLAHE: 57.92\n",
            "RMS Contrast – HE: 73.40, CLAHE: 57.64\n",
            "RMS Contrast – HE: 73.39, CLAHE: 57.54\n",
            "RMS Contrast – HE: 73.45, CLAHE: 57.81\n",
            "RMS Contrast – HE: 73.43, CLAHE: 57.97\n",
            "RMS Contrast – HE: 73.43, CLAHE: 57.59\n",
            "RMS Contrast – HE: 73.39, CLAHE: 57.56\n",
            "RMS Contrast – HE: 73.44, CLAHE: 57.82\n",
            "RMS Contrast – HE: 73.46, CLAHE: 57.97\n",
            "RMS Contrast – HE: 73.43, CLAHE: 57.56\n",
            "RMS Contrast – HE: 73.42, CLAHE: 57.36\n",
            "RMS Contrast – HE: 73.44, CLAHE: 57.80\n",
            "RMS Contrast – HE: 73.43, CLAHE: 57.84\n",
            "RMS Contrast – HE: 73.41, CLAHE: 57.47\n",
            "RMS Contrast – HE: 73.40, CLAHE: 57.39\n",
            "RMS Contrast – HE: 73.47, CLAHE: 57.75\n"
          ]
        },
        {
          "name": "stderr",
          "output_type": "stream",
          "text": [
            "/tmp/ipython-input-28-1976214917.py:11: DeprecationWarning: Conversion of an array with ndim > 0 to a scalar is deprecated, and will error in future. Ensure you extract a single element from your array before performing this operation. (Deprecated NumPy 1.25.)\n",
            "  (bin_width*(j-1), size[1] - int(hist[j-1])),\n",
            "/tmp/ipython-input-28-1976214917.py:12: DeprecationWarning: Conversion of an array with ndim > 0 to a scalar is deprecated, and will error in future. Ensure you extract a single element from your array before performing this operation. (Deprecated NumPy 1.25.)\n",
            "  (bin_width*j, size[1] - int(hist[j])),\n"
          ]
        },
        {
          "name": "stdout",
          "output_type": "stream",
          "text": [
            "RMS Contrast – HE: 73.46, CLAHE: 57.82\n",
            "RMS Contrast – HE: 73.42, CLAHE: 57.47\n",
            "RMS Contrast – HE: 73.42, CLAHE: 57.34\n",
            "RMS Contrast – HE: 73.44, CLAHE: 57.65\n",
            "RMS Contrast – HE: 73.44, CLAHE: 57.84\n",
            "RMS Contrast – HE: 73.43, CLAHE: 57.39\n",
            "RMS Contrast – HE: 73.42, CLAHE: 57.43\n",
            "RMS Contrast – HE: 73.47, CLAHE: 57.66\n",
            "RMS Contrast – HE: 73.46, CLAHE: 57.76\n",
            "RMS Contrast – HE: 73.42, CLAHE: 58.15\n",
            "RMS Contrast – HE: 73.42, CLAHE: 57.90\n",
            "RMS Contrast – HE: 73.41, CLAHE: 57.71\n",
            "RMS Contrast – HE: 73.45, CLAHE: 57.81\n",
            "RMS Contrast – HE: 73.45, CLAHE: 57.89\n"
          ]
        },
        {
          "name": "stderr",
          "output_type": "stream",
          "text": [
            "/tmp/ipython-input-28-1976214917.py:11: DeprecationWarning: Conversion of an array with ndim > 0 to a scalar is deprecated, and will error in future. Ensure you extract a single element from your array before performing this operation. (Deprecated NumPy 1.25.)\n",
            "  (bin_width*(j-1), size[1] - int(hist[j-1])),\n",
            "/tmp/ipython-input-28-1976214917.py:12: DeprecationWarning: Conversion of an array with ndim > 0 to a scalar is deprecated, and will error in future. Ensure you extract a single element from your array before performing this operation. (Deprecated NumPy 1.25.)\n",
            "  (bin_width*j, size[1] - int(hist[j])),\n"
          ]
        },
        {
          "name": "stdout",
          "output_type": "stream",
          "text": [
            "RMS Contrast – HE: 73.42, CLAHE: 57.58\n",
            "RMS Contrast – HE: 73.41, CLAHE: 57.64\n",
            "RMS Contrast – HE: 73.44, CLAHE: 57.85\n",
            "RMS Contrast – HE: 73.43, CLAHE: 57.93\n",
            "RMS Contrast – HE: 73.39, CLAHE: 57.67\n",
            "RMS Contrast – HE: 73.41, CLAHE: 57.50\n",
            "RMS Contrast – HE: 73.43, CLAHE: 57.81\n",
            "RMS Contrast – HE: 73.42, CLAHE: 57.89\n",
            "RMS Contrast – HE: 73.40, CLAHE: 57.62\n",
            "RMS Contrast – HE: 73.41, CLAHE: 57.51\n",
            "RMS Contrast – HE: 73.43, CLAHE: 57.80\n",
            "RMS Contrast – HE: 73.43, CLAHE: 57.82\n",
            "RMS Contrast – HE: 73.42, CLAHE: 57.54\n",
            "RMS Contrast – HE: 73.43, CLAHE: 57.52\n",
            "RMS Contrast – HE: 73.43, CLAHE: 57.69\n",
            "RMS Contrast – HE: 73.45, CLAHE: 57.83\n",
            "RMS Contrast – HE: 73.41, CLAHE: 57.57\n",
            "RMS Contrast – HE: 73.42, CLAHE: 57.46\n",
            "RMS Contrast – HE: 73.46, CLAHE: 57.73\n",
            "RMS Contrast – HE: 73.46, CLAHE: 57.84\n",
            "RMS Contrast – HE: 73.34, CLAHE: 57.38\n",
            "RMS Contrast – HE: 73.35, CLAHE: 57.18\n",
            "RMS Contrast – HE: 73.31, CLAHE: 57.47\n",
            "RMS Contrast – HE: 73.33, CLAHE: 57.59\n",
            "RMS Contrast – HE: 73.32, CLAHE: 57.37\n",
            "RMS Contrast – HE: 73.32, CLAHE: 57.21\n",
            "RMS Contrast – HE: 73.38, CLAHE: 57.59\n",
            "RMS Contrast – HE: 73.35, CLAHE: 57.67\n"
          ]
        },
        {
          "name": "stderr",
          "output_type": "stream",
          "text": [
            "/tmp/ipython-input-28-1976214917.py:11: DeprecationWarning: Conversion of an array with ndim > 0 to a scalar is deprecated, and will error in future. Ensure you extract a single element from your array before performing this operation. (Deprecated NumPy 1.25.)\n",
            "  (bin_width*(j-1), size[1] - int(hist[j-1])),\n",
            "/tmp/ipython-input-28-1976214917.py:12: DeprecationWarning: Conversion of an array with ndim > 0 to a scalar is deprecated, and will error in future. Ensure you extract a single element from your array before performing this operation. (Deprecated NumPy 1.25.)\n",
            "  (bin_width*j, size[1] - int(hist[j])),\n"
          ]
        },
        {
          "name": "stdout",
          "output_type": "stream",
          "text": [
            "RMS Contrast – HE: 73.33, CLAHE: 57.38\n",
            "RMS Contrast – HE: 73.33, CLAHE: 57.41\n",
            "RMS Contrast – HE: 73.35, CLAHE: 57.73\n",
            "RMS Contrast – HE: 73.34, CLAHE: 57.82\n",
            "RMS Contrast – HE: 73.35, CLAHE: 57.52\n",
            "RMS Contrast – HE: 73.36, CLAHE: 57.42\n",
            "RMS Contrast – HE: 73.34, CLAHE: 57.65\n",
            "RMS Contrast – HE: 73.37, CLAHE: 57.78\n",
            "RMS Contrast – HE: 73.35, CLAHE: 57.41\n",
            "RMS Contrast – HE: 73.36, CLAHE: 57.34\n",
            "RMS Contrast – HE: 73.37, CLAHE: 57.59\n",
            "RMS Contrast – HE: 73.39, CLAHE: 57.69\n",
            "RMS Contrast – HE: 73.37, CLAHE: 57.34\n",
            "RMS Contrast – HE: 73.32, CLAHE: 57.31\n",
            "RMS Contrast – HE: 73.38, CLAHE: 57.66\n",
            "RMS Contrast – HE: 73.40, CLAHE: 57.78\n",
            "RMS Contrast – HE: 73.36, CLAHE: 57.39\n",
            "RMS Contrast – HE: 73.34, CLAHE: 57.42\n",
            "RMS Contrast – HE: 73.37, CLAHE: 57.64\n",
            "RMS Contrast – HE: 73.37, CLAHE: 57.71\n",
            "RMS Contrast – HE: 73.37, CLAHE: 57.43\n",
            "RMS Contrast – HE: 73.36, CLAHE: 57.42\n",
            "RMS Contrast – HE: 73.38, CLAHE: 57.67\n",
            "RMS Contrast – HE: 73.38, CLAHE: 57.76\n",
            "RMS Contrast – HE: 73.37, CLAHE: 57.44\n",
            "RMS Contrast – HE: 73.39, CLAHE: 57.38\n",
            "RMS Contrast – HE: 73.41, CLAHE: 57.55\n",
            "RMS Contrast – HE: 73.39, CLAHE: 57.64\n",
            "RMS Contrast – HE: 73.36, CLAHE: 57.28\n",
            "RMS Contrast – HE: 73.37, CLAHE: 57.23\n",
            "RMS Contrast – HE: 73.39, CLAHE: 57.44\n",
            "RMS Contrast – HE: 73.37, CLAHE: 57.47\n",
            "RMS Contrast – HE: 73.36, CLAHE: 57.34\n",
            "RMS Contrast – HE: 73.37, CLAHE: 57.14\n"
          ]
        },
        {
          "name": "stderr",
          "output_type": "stream",
          "text": [
            "/tmp/ipython-input-28-1976214917.py:11: DeprecationWarning: Conversion of an array with ndim > 0 to a scalar is deprecated, and will error in future. Ensure you extract a single element from your array before performing this operation. (Deprecated NumPy 1.25.)\n",
            "  (bin_width*(j-1), size[1] - int(hist[j-1])),\n",
            "/tmp/ipython-input-28-1976214917.py:12: DeprecationWarning: Conversion of an array with ndim > 0 to a scalar is deprecated, and will error in future. Ensure you extract a single element from your array before performing this operation. (Deprecated NumPy 1.25.)\n",
            "  (bin_width*j, size[1] - int(hist[j])),\n"
          ]
        },
        {
          "name": "stdout",
          "output_type": "stream",
          "text": [
            "RMS Contrast – HE: 73.37, CLAHE: 57.45\n",
            "RMS Contrast – HE: 73.38, CLAHE: 57.51\n",
            "RMS Contrast – HE: 73.36, CLAHE: 57.16\n",
            "RMS Contrast – HE: 73.34, CLAHE: 57.15\n",
            "RMS Contrast – HE: 73.36, CLAHE: 57.38\n",
            "RMS Contrast – HE: 73.39, CLAHE: 57.43\n",
            "RMS Contrast – HE: 73.35, CLAHE: 57.11\n",
            "RMS Contrast – HE: 73.33, CLAHE: 57.12\n",
            "RMS Contrast – HE: 73.36, CLAHE: 57.30\n",
            "RMS Contrast – HE: 73.40, CLAHE: 57.38\n",
            "RMS Contrast – HE: 73.35, CLAHE: 57.07\n",
            "RMS Contrast – HE: 73.37, CLAHE: 57.00\n",
            "RMS Contrast – HE: 73.41, CLAHE: 57.31\n",
            "RMS Contrast – HE: 73.42, CLAHE: 57.35\n",
            "RMS Contrast – HE: 73.37, CLAHE: 57.02\n",
            "RMS Contrast – HE: 73.38, CLAHE: 57.02\n",
            "RMS Contrast – HE: 73.38, CLAHE: 57.23\n",
            "RMS Contrast – HE: 73.40, CLAHE: 57.27\n",
            "RMS Contrast – HE: 73.36, CLAHE: 57.01\n",
            "RMS Contrast – HE: 73.38, CLAHE: 57.01\n",
            "RMS Contrast – HE: 73.40, CLAHE: 57.21\n",
            "RMS Contrast – HE: 73.38, CLAHE: 57.27\n",
            "RMS Contrast – HE: 73.38, CLAHE: 56.93\n",
            "RMS Contrast – HE: 73.37, CLAHE: 56.94\n",
            "RMS Contrast – HE: 73.39, CLAHE: 57.28\n",
            "RMS Contrast – HE: 73.43, CLAHE: 57.32\n",
            "RMS Contrast – HE: 73.39, CLAHE: 57.04\n",
            "RMS Contrast – HE: 73.40, CLAHE: 57.00\n",
            "RMS Contrast – HE: 73.42, CLAHE: 57.27\n",
            "RMS Contrast – HE: 73.38, CLAHE: 57.32\n",
            "RMS Contrast – HE: 73.37, CLAHE: 57.14\n",
            "RMS Contrast – HE: 73.42, CLAHE: 57.07\n",
            "RMS Contrast – HE: 73.41, CLAHE: 57.28\n",
            "RMS Contrast – HE: 73.42, CLAHE: 57.35\n",
            "RMS Contrast – HE: 73.43, CLAHE: 57.10\n",
            "RMS Contrast – HE: 73.42, CLAHE: 56.99\n",
            "RMS Contrast – HE: 73.40, CLAHE: 57.26\n",
            "RMS Contrast – HE: 73.43, CLAHE: 57.32\n",
            "RMS Contrast – HE: 73.41, CLAHE: 57.07\n",
            "RMS Contrast – HE: 73.40, CLAHE: 56.98\n",
            "RMS Contrast – HE: 73.41, CLAHE: 57.21\n",
            "RMS Contrast – HE: 73.44, CLAHE: 57.25\n",
            "RMS Contrast – HE: 73.43, CLAHE: 56.96\n",
            "RMS Contrast – HE: 73.40, CLAHE: 56.89\n",
            "RMS Contrast – HE: 73.40, CLAHE: 57.20\n",
            "RMS Contrast – HE: 73.40, CLAHE: 57.30\n",
            "RMS Contrast – HE: 73.37, CLAHE: 56.97\n",
            "RMS Contrast – HE: 73.43, CLAHE: 56.94\n",
            "RMS Contrast – HE: 73.42, CLAHE: 57.12\n",
            "RMS Contrast – HE: 73.43, CLAHE: 57.17\n",
            "RMS Contrast – HE: 73.39, CLAHE: 56.93\n",
            "RMS Contrast – HE: 73.39, CLAHE: 56.77\n"
          ]
        },
        {
          "name": "stderr",
          "output_type": "stream",
          "text": [
            "/tmp/ipython-input-28-1976214917.py:11: DeprecationWarning: Conversion of an array with ndim > 0 to a scalar is deprecated, and will error in future. Ensure you extract a single element from your array before performing this operation. (Deprecated NumPy 1.25.)\n",
            "  (bin_width*(j-1), size[1] - int(hist[j-1])),\n",
            "/tmp/ipython-input-28-1976214917.py:12: DeprecationWarning: Conversion of an array with ndim > 0 to a scalar is deprecated, and will error in future. Ensure you extract a single element from your array before performing this operation. (Deprecated NumPy 1.25.)\n",
            "  (bin_width*j, size[1] - int(hist[j])),\n"
          ]
        },
        {
          "name": "stdout",
          "output_type": "stream",
          "text": [
            "RMS Contrast – HE: 73.42, CLAHE: 57.07\n",
            "RMS Contrast – HE: 73.45, CLAHE: 57.16\n",
            "RMS Contrast – HE: 73.39, CLAHE: 56.89\n",
            "RMS Contrast – HE: 73.40, CLAHE: 56.84\n",
            "RMS Contrast – HE: 73.43, CLAHE: 57.02\n",
            "RMS Contrast – HE: 73.41, CLAHE: 57.09\n",
            "RMS Contrast – HE: 73.40, CLAHE: 56.82\n",
            "RMS Contrast – HE: 73.43, CLAHE: 56.76\n",
            "RMS Contrast – HE: 73.39, CLAHE: 57.01\n",
            "RMS Contrast – HE: 73.40, CLAHE: 57.06\n",
            "RMS Contrast – HE: 73.39, CLAHE: 56.77\n",
            "RMS Contrast – HE: 73.38, CLAHE: 56.75\n",
            "RMS Contrast – HE: 73.38, CLAHE: 56.93\n",
            "RMS Contrast – HE: 73.40, CLAHE: 56.96\n"
          ]
        },
        {
          "name": "stderr",
          "output_type": "stream",
          "text": [
            "/tmp/ipython-input-28-1976214917.py:11: DeprecationWarning: Conversion of an array with ndim > 0 to a scalar is deprecated, and will error in future. Ensure you extract a single element from your array before performing this operation. (Deprecated NumPy 1.25.)\n",
            "  (bin_width*(j-1), size[1] - int(hist[j-1])),\n",
            "/tmp/ipython-input-28-1976214917.py:12: DeprecationWarning: Conversion of an array with ndim > 0 to a scalar is deprecated, and will error in future. Ensure you extract a single element from your array before performing this operation. (Deprecated NumPy 1.25.)\n",
            "  (bin_width*j, size[1] - int(hist[j])),\n"
          ]
        },
        {
          "name": "stdout",
          "output_type": "stream",
          "text": [
            "RMS Contrast – HE: 73.38, CLAHE: 56.71\n",
            "RMS Contrast – HE: 73.40, CLAHE: 56.62\n",
            "RMS Contrast – HE: 73.40, CLAHE: 56.77\n",
            "RMS Contrast – HE: 73.41, CLAHE: 56.90\n",
            "RMS Contrast – HE: 73.39, CLAHE: 56.97\n",
            "RMS Contrast – HE: 73.42, CLAHE: 56.77\n",
            "RMS Contrast – HE: 73.39, CLAHE: 56.65\n",
            "RMS Contrast – HE: 73.43, CLAHE: 56.88\n",
            "RMS Contrast – HE: 73.37, CLAHE: 56.90\n",
            "RMS Contrast – HE: 73.41, CLAHE: 56.70\n",
            "RMS Contrast – HE: 73.37, CLAHE: 56.57\n",
            "RMS Contrast – HE: 73.39, CLAHE: 56.76\n",
            "RMS Contrast – HE: 73.43, CLAHE: 56.89\n",
            "RMS Contrast – HE: 73.42, CLAHE: 57.00\n",
            "RMS Contrast – HE: 73.41, CLAHE: 56.88\n",
            "RMS Contrast – HE: 73.36, CLAHE: 56.73\n",
            "RMS Contrast – HE: 73.37, CLAHE: 56.79\n",
            "RMS Contrast – HE: 73.39, CLAHE: 57.00\n",
            "RMS Contrast – HE: 73.40, CLAHE: 57.06\n",
            "RMS Contrast – HE: 73.38, CLAHE: 57.23\n",
            "RMS Contrast – HE: 73.34, CLAHE: 57.24\n",
            "RMS Contrast – HE: 73.36, CLAHE: 56.98\n",
            "RMS Contrast – HE: 73.36, CLAHE: 56.96\n"
          ]
        },
        {
          "name": "stderr",
          "output_type": "stream",
          "text": [
            "/tmp/ipython-input-28-1976214917.py:11: DeprecationWarning: Conversion of an array with ndim > 0 to a scalar is deprecated, and will error in future. Ensure you extract a single element from your array before performing this operation. (Deprecated NumPy 1.25.)\n",
            "  (bin_width*(j-1), size[1] - int(hist[j-1])),\n",
            "/tmp/ipython-input-28-1976214917.py:12: DeprecationWarning: Conversion of an array with ndim > 0 to a scalar is deprecated, and will error in future. Ensure you extract a single element from your array before performing this operation. (Deprecated NumPy 1.25.)\n",
            "  (bin_width*j, size[1] - int(hist[j])),\n"
          ]
        },
        {
          "name": "stdout",
          "output_type": "stream",
          "text": [
            "RMS Contrast – HE: 73.36, CLAHE: 57.21\n",
            "RMS Contrast – HE: 73.33, CLAHE: 57.21\n",
            "RMS Contrast – HE: 73.37, CLAHE: 57.05\n",
            "RMS Contrast – HE: 73.34, CLAHE: 56.88\n",
            "RMS Contrast – HE: 73.38, CLAHE: 57.01\n",
            "RMS Contrast – HE: 73.40, CLAHE: 57.15\n",
            "RMS Contrast – HE: 73.34, CLAHE: 57.20\n",
            "RMS Contrast – HE: 73.36, CLAHE: 56.97\n",
            "RMS Contrast – HE: 73.37, CLAHE: 56.95\n",
            "RMS Contrast – HE: 73.38, CLAHE: 57.15\n",
            "RMS Contrast – HE: 73.35, CLAHE: 57.21\n",
            "RMS Contrast – HE: 73.36, CLAHE: 56.93\n",
            "RMS Contrast – HE: 73.36, CLAHE: 56.85\n",
            "RMS Contrast – HE: 73.38, CLAHE: 57.11\n",
            "RMS Contrast – HE: 73.36, CLAHE: 57.20\n",
            "RMS Contrast – HE: 73.36, CLAHE: 57.05\n",
            "RMS Contrast – HE: 73.34, CLAHE: 56.95\n",
            "RMS Contrast – HE: 73.34, CLAHE: 57.03\n",
            "RMS Contrast – HE: 73.40, CLAHE: 57.17\n",
            "RMS Contrast – HE: 73.36, CLAHE: 57.26\n",
            "RMS Contrast – HE: 73.39, CLAHE: 57.12\n",
            "RMS Contrast – HE: 73.35, CLAHE: 56.98\n",
            "RMS Contrast – HE: 73.37, CLAHE: 57.03\n",
            "RMS Contrast – HE: 73.43, CLAHE: 57.27\n",
            "RMS Contrast – HE: 73.39, CLAHE: 57.37\n",
            "RMS Contrast – HE: 73.39, CLAHE: 57.16\n",
            "RMS Contrast – HE: 73.35, CLAHE: 57.06\n",
            "RMS Contrast – HE: 73.37, CLAHE: 57.08\n",
            "RMS Contrast – HE: 73.40, CLAHE: 57.25\n",
            "RMS Contrast – HE: 73.41, CLAHE: 57.27\n",
            "RMS Contrast – HE: 73.36, CLAHE: 57.17\n",
            "RMS Contrast – HE: 73.35, CLAHE: 56.98\n",
            "RMS Contrast – HE: 73.36, CLAHE: 57.02\n",
            "RMS Contrast – HE: 73.37, CLAHE: 57.25\n",
            "RMS Contrast – HE: 73.40, CLAHE: 57.30\n",
            "RMS Contrast – HE: 73.36, CLAHE: 57.19\n",
            "RMS Contrast – HE: 73.35, CLAHE: 57.02\n",
            "RMS Contrast – HE: 73.33, CLAHE: 57.13\n",
            "RMS Contrast – HE: 73.32, CLAHE: 57.33\n",
            "RMS Contrast – HE: 73.29, CLAHE: 57.48\n"
          ]
        },
        {
          "name": "stderr",
          "output_type": "stream",
          "text": [
            "/tmp/ipython-input-28-1976214917.py:11: DeprecationWarning: Conversion of an array with ndim > 0 to a scalar is deprecated, and will error in future. Ensure you extract a single element from your array before performing this operation. (Deprecated NumPy 1.25.)\n",
            "  (bin_width*(j-1), size[1] - int(hist[j-1])),\n",
            "/tmp/ipython-input-28-1976214917.py:12: DeprecationWarning: Conversion of an array with ndim > 0 to a scalar is deprecated, and will error in future. Ensure you extract a single element from your array before performing this operation. (Deprecated NumPy 1.25.)\n",
            "  (bin_width*j, size[1] - int(hist[j])),\n"
          ]
        },
        {
          "name": "stdout",
          "output_type": "stream",
          "text": [
            "RMS Contrast – HE: 73.29, CLAHE: 57.22\n",
            "RMS Contrast – HE: 73.33, CLAHE: 57.08\n",
            "RMS Contrast – HE: 73.36, CLAHE: 57.17\n",
            "RMS Contrast – HE: 73.34, CLAHE: 57.20\n",
            "RMS Contrast – HE: 73.33, CLAHE: 57.02\n",
            "RMS Contrast – HE: 73.35, CLAHE: 56.95\n",
            "RMS Contrast – HE: 73.36, CLAHE: 56.96\n",
            "RMS Contrast – HE: 73.37, CLAHE: 57.17\n",
            "RMS Contrast – HE: 73.33, CLAHE: 57.28\n",
            "RMS Contrast – HE: 73.35, CLAHE: 57.10\n",
            "RMS Contrast – HE: 73.40, CLAHE: 56.97\n",
            "RMS Contrast – HE: 73.37, CLAHE: 57.03\n",
            "RMS Contrast – HE: 73.42, CLAHE: 57.14\n",
            "RMS Contrast – HE: 73.36, CLAHE: 57.13\n",
            "RMS Contrast – HE: 73.40, CLAHE: 57.00\n",
            "RMS Contrast – HE: 73.38, CLAHE: 56.92\n",
            "RMS Contrast – HE: 73.37, CLAHE: 56.93\n",
            "RMS Contrast – HE: 73.42, CLAHE: 57.07\n",
            "RMS Contrast – HE: 73.39, CLAHE: 57.06\n",
            "RMS Contrast – HE: 73.38, CLAHE: 56.89\n",
            "RMS Contrast – HE: 73.40, CLAHE: 56.80\n",
            "RMS Contrast – HE: 73.41, CLAHE: 56.76\n",
            "RMS Contrast – HE: 73.42, CLAHE: 57.02\n"
          ]
        },
        {
          "name": "stderr",
          "output_type": "stream",
          "text": [
            "/tmp/ipython-input-28-1976214917.py:11: DeprecationWarning: Conversion of an array with ndim > 0 to a scalar is deprecated, and will error in future. Ensure you extract a single element from your array before performing this operation. (Deprecated NumPy 1.25.)\n",
            "  (bin_width*(j-1), size[1] - int(hist[j-1])),\n",
            "/tmp/ipython-input-28-1976214917.py:12: DeprecationWarning: Conversion of an array with ndim > 0 to a scalar is deprecated, and will error in future. Ensure you extract a single element from your array before performing this operation. (Deprecated NumPy 1.25.)\n",
            "  (bin_width*j, size[1] - int(hist[j])),\n"
          ]
        },
        {
          "name": "stdout",
          "output_type": "stream",
          "text": [
            "RMS Contrast – HE: 73.44, CLAHE: 57.05\n",
            "RMS Contrast – HE: 73.41, CLAHE: 56.88\n",
            "RMS Contrast – HE: 73.43, CLAHE: 56.70\n",
            "RMS Contrast – HE: 73.44, CLAHE: 56.79\n",
            "RMS Contrast – HE: 73.39, CLAHE: 57.00\n",
            "RMS Contrast – HE: 73.39, CLAHE: 57.04\n",
            "RMS Contrast – HE: 73.42, CLAHE: 56.94\n",
            "RMS Contrast – HE: 73.42, CLAHE: 56.76\n",
            "RMS Contrast – HE: 73.41, CLAHE: 56.69\n",
            "RMS Contrast – HE: 73.43, CLAHE: 56.83\n",
            "RMS Contrast – HE: 73.43, CLAHE: 56.85\n",
            "RMS Contrast – HE: 73.39, CLAHE: 56.89\n",
            "RMS Contrast – HE: 73.42, CLAHE: 56.79\n",
            "RMS Contrast – HE: 73.43, CLAHE: 56.60\n"
          ]
        },
        {
          "name": "stderr",
          "output_type": "stream",
          "text": [
            "/tmp/ipython-input-28-1976214917.py:11: DeprecationWarning: Conversion of an array with ndim > 0 to a scalar is deprecated, and will error in future. Ensure you extract a single element from your array before performing this operation. (Deprecated NumPy 1.25.)\n",
            "  (bin_width*(j-1), size[1] - int(hist[j-1])),\n",
            "/tmp/ipython-input-28-1976214917.py:12: DeprecationWarning: Conversion of an array with ndim > 0 to a scalar is deprecated, and will error in future. Ensure you extract a single element from your array before performing this operation. (Deprecated NumPy 1.25.)\n",
            "  (bin_width*j, size[1] - int(hist[j])),\n"
          ]
        },
        {
          "name": "stdout",
          "output_type": "stream",
          "text": [
            "RMS Contrast – HE: 73.43, CLAHE: 56.56\n",
            "RMS Contrast – HE: 73.44, CLAHE: 56.84\n",
            "RMS Contrast – HE: 73.41, CLAHE: 56.90\n",
            "RMS Contrast – HE: 73.40, CLAHE: 56.73\n",
            "RMS Contrast – HE: 73.41, CLAHE: 56.61\n",
            "RMS Contrast – HE: 73.39, CLAHE: 56.64\n",
            "RMS Contrast – HE: 73.41, CLAHE: 56.76\n",
            "RMS Contrast – HE: 73.43, CLAHE: 56.75\n",
            "RMS Contrast – HE: 73.43, CLAHE: 56.57\n",
            "RMS Contrast – HE: 73.41, CLAHE: 56.52\n",
            "RMS Contrast – HE: 73.40, CLAHE: 56.68\n",
            "RMS Contrast – HE: 73.46, CLAHE: 56.79\n",
            "RMS Contrast – HE: 73.51, CLAHE: 56.84\n",
            "RMS Contrast – HE: 73.42, CLAHE: 56.68\n",
            "RMS Contrast – HE: 73.45, CLAHE: 56.53\n",
            "RMS Contrast – HE: 73.42, CLAHE: 56.58\n",
            "RMS Contrast – HE: 73.42, CLAHE: 56.70\n",
            "RMS Contrast – HE: 73.43, CLAHE: 56.76\n",
            "RMS Contrast – HE: 73.41, CLAHE: 56.60\n",
            "RMS Contrast – HE: 73.40, CLAHE: 56.43\n",
            "RMS Contrast – HE: 73.42, CLAHE: 56.55\n",
            "RMS Contrast – HE: 73.39, CLAHE: 56.63\n",
            "RMS Contrast – HE: 73.42, CLAHE: 56.70\n",
            "RMS Contrast – HE: 73.38, CLAHE: 56.52\n",
            "RMS Contrast – HE: 73.37, CLAHE: 56.40\n",
            "RMS Contrast – HE: 73.38, CLAHE: 56.37\n",
            "RMS Contrast – HE: 73.44, CLAHE: 56.57\n",
            "RMS Contrast – HE: 73.42, CLAHE: 56.63\n"
          ]
        },
        {
          "name": "stderr",
          "output_type": "stream",
          "text": [
            "/tmp/ipython-input-28-1976214917.py:11: DeprecationWarning: Conversion of an array with ndim > 0 to a scalar is deprecated, and will error in future. Ensure you extract a single element from your array before performing this operation. (Deprecated NumPy 1.25.)\n",
            "  (bin_width*(j-1), size[1] - int(hist[j-1])),\n",
            "/tmp/ipython-input-28-1976214917.py:12: DeprecationWarning: Conversion of an array with ndim > 0 to a scalar is deprecated, and will error in future. Ensure you extract a single element from your array before performing this operation. (Deprecated NumPy 1.25.)\n",
            "  (bin_width*j, size[1] - int(hist[j])),\n"
          ]
        },
        {
          "name": "stdout",
          "output_type": "stream",
          "text": [
            "RMS Contrast – HE: 73.43, CLAHE: 56.66\n",
            "RMS Contrast – HE: 73.42, CLAHE: 56.56\n",
            "RMS Contrast – HE: 73.40, CLAHE: 56.28\n",
            "RMS Contrast – HE: 73.42, CLAHE: 56.32\n",
            "RMS Contrast – HE: 73.39, CLAHE: 56.47\n",
            "RMS Contrast – HE: 73.42, CLAHE: 56.51\n",
            "RMS Contrast – HE: 73.42, CLAHE: 56.57\n",
            "RMS Contrast – HE: 73.40, CLAHE: 56.41\n",
            "RMS Contrast – HE: 73.38, CLAHE: 56.26\n",
            "RMS Contrast – HE: 73.36, CLAHE: 56.31\n",
            "RMS Contrast – HE: 73.38, CLAHE: 56.49\n",
            "RMS Contrast – HE: 73.42, CLAHE: 56.56\n",
            "RMS Contrast – HE: 73.38, CLAHE: 56.63\n",
            "RMS Contrast – HE: 73.42, CLAHE: 56.47\n",
            "RMS Contrast – HE: 73.41, CLAHE: 56.37\n",
            "RMS Contrast – HE: 73.38, CLAHE: 56.37\n",
            "RMS Contrast – HE: 73.42, CLAHE: 56.50\n",
            "RMS Contrast – HE: 73.38, CLAHE: 56.55\n",
            "RMS Contrast – HE: 73.40, CLAHE: 56.65\n",
            "RMS Contrast – HE: 73.41, CLAHE: 56.49\n",
            "RMS Contrast – HE: 73.35, CLAHE: 56.44\n",
            "RMS Contrast – HE: 73.36, CLAHE: 56.46\n",
            "RMS Contrast – HE: 73.40, CLAHE: 56.53\n",
            "RMS Contrast – HE: 73.38, CLAHE: 56.61\n",
            "RMS Contrast – HE: 73.35, CLAHE: 56.68\n",
            "RMS Contrast – HE: 73.41, CLAHE: 56.53\n",
            "RMS Contrast – HE: 73.37, CLAHE: 56.43\n",
            "RMS Contrast – HE: 73.37, CLAHE: 56.42\n",
            "RMS Contrast – HE: 73.41, CLAHE: 56.59\n",
            "RMS Contrast – HE: 73.40, CLAHE: 56.61\n",
            "RMS Contrast – HE: 73.41, CLAHE: 56.68\n",
            "RMS Contrast – HE: 73.38, CLAHE: 56.60\n",
            "RMS Contrast – HE: 73.34, CLAHE: 56.45\n",
            "RMS Contrast – HE: 73.36, CLAHE: 56.50\n",
            "RMS Contrast – HE: 73.40, CLAHE: 56.61\n",
            "RMS Contrast – HE: 73.42, CLAHE: 56.68\n",
            "RMS Contrast – HE: 73.43, CLAHE: 56.72\n"
          ]
        },
        {
          "name": "stderr",
          "output_type": "stream",
          "text": [
            "/tmp/ipython-input-28-1976214917.py:11: DeprecationWarning: Conversion of an array with ndim > 0 to a scalar is deprecated, and will error in future. Ensure you extract a single element from your array before performing this operation. (Deprecated NumPy 1.25.)\n",
            "  (bin_width*(j-1), size[1] - int(hist[j-1])),\n",
            "/tmp/ipython-input-28-1976214917.py:12: DeprecationWarning: Conversion of an array with ndim > 0 to a scalar is deprecated, and will error in future. Ensure you extract a single element from your array before performing this operation. (Deprecated NumPy 1.25.)\n",
            "  (bin_width*j, size[1] - int(hist[j])),\n"
          ]
        },
        {
          "name": "stdout",
          "output_type": "stream",
          "text": [
            "RMS Contrast – HE: 73.42, CLAHE: 56.62\n",
            "RMS Contrast – HE: 73.36, CLAHE: 56.50\n",
            "RMS Contrast – HE: 73.37, CLAHE: 56.51\n",
            "RMS Contrast – HE: 73.44, CLAHE: 56.70\n",
            "RMS Contrast – HE: 73.37, CLAHE: 56.74\n",
            "RMS Contrast – HE: 73.44, CLAHE: 56.76\n",
            "RMS Contrast – HE: 73.45, CLAHE: 56.90\n",
            "RMS Contrast – HE: 73.44, CLAHE: 56.86\n",
            "RMS Contrast – HE: 73.42, CLAHE: 56.73\n",
            "RMS Contrast – HE: 73.41, CLAHE: 56.70\n",
            "RMS Contrast – HE: 73.46, CLAHE: 56.83\n",
            "RMS Contrast – HE: 73.47, CLAHE: 56.91\n",
            "RMS Contrast – HE: 73.42, CLAHE: 56.95\n",
            "RMS Contrast – HE: 73.48, CLAHE: 56.84\n",
            "RMS Contrast – HE: 73.43, CLAHE: 56.62\n",
            "RMS Contrast – HE: 73.47, CLAHE: 56.64\n",
            "RMS Contrast – HE: 73.46, CLAHE: 56.73\n",
            "RMS Contrast – HE: 73.48, CLAHE: 56.79\n",
            "RMS Contrast – HE: 73.48, CLAHE: 56.82\n",
            "RMS Contrast – HE: 73.45, CLAHE: 56.71\n",
            "RMS Contrast – HE: 73.46, CLAHE: 56.56\n",
            "RMS Contrast – HE: 73.48, CLAHE: 56.54\n",
            "RMS Contrast – HE: 73.41, CLAHE: 56.70\n",
            "RMS Contrast – HE: 73.47, CLAHE: 56.77\n",
            "RMS Contrast – HE: 73.46, CLAHE: 56.85\n",
            "RMS Contrast – HE: 73.45, CLAHE: 56.75\n",
            "RMS Contrast – HE: 73.44, CLAHE: 56.68\n",
            "RMS Contrast – HE: 73.44, CLAHE: 56.61\n",
            "RMS Contrast – HE: 73.45, CLAHE: 56.74\n",
            "RMS Contrast – HE: 73.46, CLAHE: 56.88\n"
          ]
        },
        {
          "name": "stderr",
          "output_type": "stream",
          "text": [
            "/tmp/ipython-input-28-1976214917.py:11: DeprecationWarning: Conversion of an array with ndim > 0 to a scalar is deprecated, and will error in future. Ensure you extract a single element from your array before performing this operation. (Deprecated NumPy 1.25.)\n",
            "  (bin_width*(j-1), size[1] - int(hist[j-1])),\n",
            "/tmp/ipython-input-28-1976214917.py:12: DeprecationWarning: Conversion of an array with ndim > 0 to a scalar is deprecated, and will error in future. Ensure you extract a single element from your array before performing this operation. (Deprecated NumPy 1.25.)\n",
            "  (bin_width*j, size[1] - int(hist[j])),\n"
          ]
        },
        {
          "name": "stdout",
          "output_type": "stream",
          "text": [
            "RMS Contrast – HE: 73.45, CLAHE: 56.87\n",
            "RMS Contrast – HE: 73.44, CLAHE: 56.73\n",
            "RMS Contrast – HE: 73.48, CLAHE: 56.57\n",
            "RMS Contrast – HE: 73.42, CLAHE: 56.69\n",
            "RMS Contrast – HE: 73.43, CLAHE: 56.86\n",
            "RMS Contrast – HE: 73.47, CLAHE: 56.89\n",
            "RMS Contrast – HE: 73.44, CLAHE: 56.71\n",
            "RMS Contrast – HE: 73.40, CLAHE: 56.63\n",
            "RMS Contrast – HE: 73.40, CLAHE: 56.71\n",
            "RMS Contrast – HE: 73.47, CLAHE: 56.77\n",
            "RMS Contrast – HE: 73.43, CLAHE: 56.81\n",
            "RMS Contrast – HE: 73.45, CLAHE: 56.69\n",
            "RMS Contrast – HE: 73.44, CLAHE: 56.57\n",
            "RMS Contrast – HE: 73.42, CLAHE: 56.56\n",
            "RMS Contrast – HE: 73.46, CLAHE: 56.74\n",
            "RMS Contrast – HE: 73.43, CLAHE: 56.78\n",
            "RMS Contrast – HE: 73.44, CLAHE: 56.63\n",
            "RMS Contrast – HE: 73.44, CLAHE: 56.58\n",
            "RMS Contrast – HE: 73.46, CLAHE: 56.59\n",
            "RMS Contrast – HE: 73.43, CLAHE: 56.80\n",
            "RMS Contrast – HE: 73.44, CLAHE: 56.84\n",
            "RMS Contrast – HE: 73.43, CLAHE: 56.76\n",
            "RMS Contrast – HE: 73.39, CLAHE: 56.70\n",
            "RMS Contrast – HE: 73.44, CLAHE: 56.82\n",
            "RMS Contrast – HE: 73.41, CLAHE: 56.84\n",
            "RMS Contrast – HE: 73.44, CLAHE: 56.81\n",
            "RMS Contrast – HE: 73.42, CLAHE: 56.71\n",
            "RMS Contrast – HE: 73.44, CLAHE: 56.65\n",
            "RMS Contrast – HE: 73.42, CLAHE: 56.70\n",
            "RMS Contrast – HE: 73.40, CLAHE: 56.80\n",
            "RMS Contrast – HE: 73.44, CLAHE: 56.89\n",
            "RMS Contrast – HE: 73.42, CLAHE: 56.81\n",
            "RMS Contrast – HE: 73.43, CLAHE: 56.83\n",
            "RMS Contrast – HE: 73.43, CLAHE: 56.88\n",
            "RMS Contrast – HE: 73.42, CLAHE: 57.02\n",
            "RMS Contrast – HE: 73.44, CLAHE: 57.11\n",
            "RMS Contrast – HE: 73.41, CLAHE: 56.96\n",
            "RMS Contrast – HE: 73.43, CLAHE: 56.78\n",
            "RMS Contrast – HE: 73.42, CLAHE: 56.90\n",
            "RMS Contrast – HE: 73.44, CLAHE: 57.00\n",
            "RMS Contrast – HE: 73.43, CLAHE: 57.08\n",
            "RMS Contrast – HE: 73.41, CLAHE: 56.96\n",
            "RMS Contrast – HE: 73.41, CLAHE: 56.85\n",
            "RMS Contrast – HE: 73.43, CLAHE: 56.92\n",
            "RMS Contrast – HE: 73.42, CLAHE: 57.02\n",
            "RMS Contrast – HE: 73.46, CLAHE: 57.06\n",
            "RMS Contrast – HE: 73.40, CLAHE: 56.97\n",
            "RMS Contrast – HE: 73.43, CLAHE: 57.00\n",
            "RMS Contrast – HE: 73.43, CLAHE: 56.94\n",
            "RMS Contrast – HE: 73.45, CLAHE: 57.15\n",
            "RMS Contrast – HE: 73.46, CLAHE: 57.22\n",
            "RMS Contrast – HE: 73.43, CLAHE: 57.06\n",
            "RMS Contrast – HE: 73.44, CLAHE: 56.99\n",
            "RMS Contrast – HE: 73.44, CLAHE: 56.97\n",
            "RMS Contrast – HE: 73.45, CLAHE: 57.09\n",
            "RMS Contrast – HE: 73.47, CLAHE: 57.16\n",
            "RMS Contrast – HE: 73.42, CLAHE: 57.01\n",
            "RMS Contrast – HE: 73.40, CLAHE: 56.90\n"
          ]
        },
        {
          "name": "stderr",
          "output_type": "stream",
          "text": [
            "/tmp/ipython-input-28-1976214917.py:11: DeprecationWarning: Conversion of an array with ndim > 0 to a scalar is deprecated, and will error in future. Ensure you extract a single element from your array before performing this operation. (Deprecated NumPy 1.25.)\n",
            "  (bin_width*(j-1), size[1] - int(hist[j-1])),\n",
            "/tmp/ipython-input-28-1976214917.py:12: DeprecationWarning: Conversion of an array with ndim > 0 to a scalar is deprecated, and will error in future. Ensure you extract a single element from your array before performing this operation. (Deprecated NumPy 1.25.)\n",
            "  (bin_width*j, size[1] - int(hist[j])),\n"
          ]
        },
        {
          "name": "stdout",
          "output_type": "stream",
          "text": [
            "RMS Contrast – HE: 73.40, CLAHE: 56.94\n",
            "RMS Contrast – HE: 73.47, CLAHE: 56.95\n",
            "RMS Contrast – HE: 73.49, CLAHE: 56.99\n",
            "RMS Contrast – HE: 73.48, CLAHE: 56.94\n",
            "RMS Contrast – HE: 73.47, CLAHE: 56.85\n",
            "RMS Contrast – HE: 73.46, CLAHE: 56.93\n",
            "RMS Contrast – HE: 73.48, CLAHE: 57.05\n"
          ]
        },
        {
          "name": "stderr",
          "output_type": "stream",
          "text": [
            "/tmp/ipython-input-28-1976214917.py:11: DeprecationWarning: Conversion of an array with ndim > 0 to a scalar is deprecated, and will error in future. Ensure you extract a single element from your array before performing this operation. (Deprecated NumPy 1.25.)\n",
            "  (bin_width*(j-1), size[1] - int(hist[j-1])),\n",
            "/tmp/ipython-input-28-1976214917.py:12: DeprecationWarning: Conversion of an array with ndim > 0 to a scalar is deprecated, and will error in future. Ensure you extract a single element from your array before performing this operation. (Deprecated NumPy 1.25.)\n",
            "  (bin_width*j, size[1] - int(hist[j])),\n"
          ]
        },
        {
          "name": "stdout",
          "output_type": "stream",
          "text": [
            "RMS Contrast – HE: 73.44, CLAHE: 57.11\n",
            "RMS Contrast – HE: 73.47, CLAHE: 56.95\n",
            "RMS Contrast – HE: 73.43, CLAHE: 56.89\n",
            "RMS Contrast – HE: 73.46, CLAHE: 57.00\n",
            "RMS Contrast – HE: 73.45, CLAHE: 57.13\n",
            "RMS Contrast – HE: 73.45, CLAHE: 57.17\n",
            "RMS Contrast – HE: 73.45, CLAHE: 57.06\n",
            "RMS Contrast – HE: 73.44, CLAHE: 56.98\n",
            "RMS Contrast – HE: 73.42, CLAHE: 57.05\n",
            "RMS Contrast – HE: 73.43, CLAHE: 57.08\n",
            "RMS Contrast – HE: 73.46, CLAHE: 57.20\n",
            "RMS Contrast – HE: 73.48, CLAHE: 57.26\n",
            "RMS Contrast – HE: 73.48, CLAHE: 57.20\n",
            "RMS Contrast – HE: 73.43, CLAHE: 57.11\n",
            "RMS Contrast – HE: 73.42, CLAHE: 57.12\n",
            "RMS Contrast – HE: 73.45, CLAHE: 57.21\n",
            "RMS Contrast – HE: 73.46, CLAHE: 57.26\n",
            "RMS Contrast – HE: 73.45, CLAHE: 57.34\n",
            "RMS Contrast – HE: 73.46, CLAHE: 57.19\n",
            "RMS Contrast – HE: 73.43, CLAHE: 57.05\n",
            "RMS Contrast – HE: 73.44, CLAHE: 57.14\n",
            "RMS Contrast – HE: 73.48, CLAHE: 57.27\n",
            "RMS Contrast – HE: 73.48, CLAHE: 57.32\n",
            "RMS Contrast – HE: 73.47, CLAHE: 57.41\n",
            "RMS Contrast – HE: 73.48, CLAHE: 57.24\n",
            "RMS Contrast – HE: 73.45, CLAHE: 57.16\n",
            "RMS Contrast – HE: 73.46, CLAHE: 57.19\n",
            "RMS Contrast – HE: 73.43, CLAHE: 57.28\n",
            "RMS Contrast – HE: 73.46, CLAHE: 57.40\n",
            "RMS Contrast – HE: 73.46, CLAHE: 57.43\n",
            "RMS Contrast – HE: 73.43, CLAHE: 57.17\n",
            "RMS Contrast – HE: 73.46, CLAHE: 57.19\n",
            "RMS Contrast – HE: 73.45, CLAHE: 57.31\n",
            "RMS Contrast – HE: 73.44, CLAHE: 57.38\n",
            "RMS Contrast – HE: 73.46, CLAHE: 57.11\n",
            "RMS Contrast – HE: 73.45, CLAHE: 57.22\n",
            "RMS Contrast – HE: 73.42, CLAHE: 57.25\n"
          ]
        },
        {
          "name": "stderr",
          "output_type": "stream",
          "text": [
            "/tmp/ipython-input-28-1976214917.py:11: DeprecationWarning: Conversion of an array with ndim > 0 to a scalar is deprecated, and will error in future. Ensure you extract a single element from your array before performing this operation. (Deprecated NumPy 1.25.)\n",
            "  (bin_width*(j-1), size[1] - int(hist[j-1])),\n",
            "/tmp/ipython-input-28-1976214917.py:12: DeprecationWarning: Conversion of an array with ndim > 0 to a scalar is deprecated, and will error in future. Ensure you extract a single element from your array before performing this operation. (Deprecated NumPy 1.25.)\n",
            "  (bin_width*j, size[1] - int(hist[j])),\n"
          ]
        },
        {
          "name": "stdout",
          "output_type": "stream",
          "text": [
            "RMS Contrast – HE: 73.45, CLAHE: 57.31\n",
            "RMS Contrast – HE: 73.45, CLAHE: 57.33\n",
            "RMS Contrast – HE: 73.46, CLAHE: 57.43\n",
            "RMS Contrast – HE: 73.45, CLAHE: 57.29\n",
            "RMS Contrast – HE: 73.47, CLAHE: 57.21\n",
            "RMS Contrast – HE: 73.44, CLAHE: 57.25\n",
            "RMS Contrast – HE: 73.43, CLAHE: 57.41\n",
            "RMS Contrast – HE: 73.41, CLAHE: 57.48\n",
            "RMS Contrast – HE: 73.43, CLAHE: 57.29\n",
            "RMS Contrast – HE: 73.41, CLAHE: 57.19\n",
            "RMS Contrast – HE: 73.45, CLAHE: 57.30\n",
            "RMS Contrast – HE: 73.46, CLAHE: 57.32\n",
            "RMS Contrast – HE: 73.45, CLAHE: 57.33\n",
            "RMS Contrast – HE: 73.43, CLAHE: 57.33\n",
            "RMS Contrast – HE: 73.42, CLAHE: 57.21\n",
            "RMS Contrast – HE: 73.43, CLAHE: 57.21\n",
            "RMS Contrast – HE: 73.46, CLAHE: 57.34\n",
            "RMS Contrast – HE: 73.46, CLAHE: 57.29\n",
            "RMS Contrast – HE: 73.44, CLAHE: 57.32\n",
            "RMS Contrast – HE: 73.44, CLAHE: 57.28\n",
            "RMS Contrast – HE: 73.39, CLAHE: 57.18\n",
            "RMS Contrast – HE: 73.42, CLAHE: 57.13\n",
            "RMS Contrast – HE: 73.44, CLAHE: 57.20\n",
            "RMS Contrast – HE: 73.41, CLAHE: 57.24\n",
            "RMS Contrast – HE: 73.45, CLAHE: 57.25\n",
            "RMS Contrast – HE: 73.43, CLAHE: 57.29\n",
            "RMS Contrast – HE: 73.44, CLAHE: 57.31\n",
            "RMS Contrast – HE: 73.40, CLAHE: 57.29\n",
            "RMS Contrast – HE: 73.42, CLAHE: 57.14\n",
            "RMS Contrast – HE: 73.40, CLAHE: 57.14\n",
            "RMS Contrast – HE: 73.45, CLAHE: 57.22\n",
            "RMS Contrast – HE: 73.41, CLAHE: 57.24\n",
            "RMS Contrast – HE: 73.42, CLAHE: 57.13\n",
            "RMS Contrast – HE: 73.40, CLAHE: 57.18\n",
            "RMS Contrast – HE: 73.43, CLAHE: 57.25\n",
            "RMS Contrast – HE: 73.44, CLAHE: 57.26\n",
            "RMS Contrast – HE: 73.38, CLAHE: 57.16\n",
            "RMS Contrast – HE: 73.40, CLAHE: 57.17\n",
            "RMS Contrast – HE: 73.45, CLAHE: 57.28\n",
            "RMS Contrast – HE: 73.41, CLAHE: 57.40\n",
            "RMS Contrast – HE: 73.45, CLAHE: 57.22\n",
            "RMS Contrast – HE: 73.42, CLAHE: 57.15\n",
            "RMS Contrast – HE: 73.46, CLAHE: 57.23\n",
            "RMS Contrast – HE: 73.44, CLAHE: 57.26\n",
            "RMS Contrast – HE: 73.41, CLAHE: 57.23\n",
            "RMS Contrast – HE: 73.41, CLAHE: 57.13\n",
            "RMS Contrast – HE: 73.42, CLAHE: 57.12\n",
            "RMS Contrast – HE: 73.40, CLAHE: 57.13\n",
            "RMS Contrast – HE: 73.40, CLAHE: 57.00\n",
            "RMS Contrast – HE: 73.42, CLAHE: 56.95\n",
            "RMS Contrast – HE: 73.38, CLAHE: 57.04\n",
            "RMS Contrast – HE: 73.40, CLAHE: 57.06\n"
          ]
        },
        {
          "name": "stderr",
          "output_type": "stream",
          "text": [
            "/tmp/ipython-input-28-1976214917.py:11: DeprecationWarning: Conversion of an array with ndim > 0 to a scalar is deprecated, and will error in future. Ensure you extract a single element from your array before performing this operation. (Deprecated NumPy 1.25.)\n",
            "  (bin_width*(j-1), size[1] - int(hist[j-1])),\n",
            "/tmp/ipython-input-28-1976214917.py:12: DeprecationWarning: Conversion of an array with ndim > 0 to a scalar is deprecated, and will error in future. Ensure you extract a single element from your array before performing this operation. (Deprecated NumPy 1.25.)\n",
            "  (bin_width*j, size[1] - int(hist[j])),\n"
          ]
        },
        {
          "name": "stdout",
          "output_type": "stream",
          "text": [
            "RMS Contrast – HE: 73.39, CLAHE: 56.85\n",
            "RMS Contrast – HE: 73.42, CLAHE: 56.81\n",
            "RMS Contrast – HE: 73.41, CLAHE: 56.98\n",
            "RMS Contrast – HE: 73.41, CLAHE: 56.98\n",
            "RMS Contrast – HE: 73.40, CLAHE: 56.88\n",
            "RMS Contrast – HE: 73.43, CLAHE: 56.90\n",
            "RMS Contrast – HE: 73.41, CLAHE: 57.04\n",
            "RMS Contrast – HE: 73.41, CLAHE: 57.15\n",
            "RMS Contrast – HE: 73.42, CLAHE: 57.07\n",
            "RMS Contrast – HE: 73.43, CLAHE: 57.05\n",
            "RMS Contrast – HE: 73.41, CLAHE: 57.27\n",
            "RMS Contrast – HE: 73.41, CLAHE: 57.26\n",
            "RMS Contrast – HE: 73.42, CLAHE: 57.18\n",
            "RMS Contrast – HE: 73.42, CLAHE: 57.18\n"
          ]
        },
        {
          "name": "stderr",
          "output_type": "stream",
          "text": [
            "/tmp/ipython-input-28-1976214917.py:11: DeprecationWarning: Conversion of an array with ndim > 0 to a scalar is deprecated, and will error in future. Ensure you extract a single element from your array before performing this operation. (Deprecated NumPy 1.25.)\n",
            "  (bin_width*(j-1), size[1] - int(hist[j-1])),\n",
            "/tmp/ipython-input-28-1976214917.py:12: DeprecationWarning: Conversion of an array with ndim > 0 to a scalar is deprecated, and will error in future. Ensure you extract a single element from your array before performing this operation. (Deprecated NumPy 1.25.)\n",
            "  (bin_width*j, size[1] - int(hist[j])),\n"
          ]
        },
        {
          "name": "stdout",
          "output_type": "stream",
          "text": [
            "RMS Contrast – HE: 73.39, CLAHE: 57.31\n",
            "RMS Contrast – HE: 73.40, CLAHE: 57.30\n",
            "RMS Contrast – HE: 73.39, CLAHE: 57.20\n",
            "RMS Contrast – HE: 73.41, CLAHE: 57.22\n",
            "RMS Contrast – HE: 73.39, CLAHE: 57.50\n",
            "RMS Contrast – HE: 73.40, CLAHE: 57.50\n",
            "RMS Contrast – HE: 73.36, CLAHE: 57.31\n",
            "RMS Contrast – HE: 73.37, CLAHE: 57.31\n",
            "RMS Contrast – HE: 73.41, CLAHE: 57.43\n",
            "RMS Contrast – HE: 73.42, CLAHE: 57.55\n",
            "RMS Contrast – HE: 73.42, CLAHE: 57.38\n",
            "RMS Contrast – HE: 73.38, CLAHE: 57.31\n",
            "RMS Contrast – HE: 73.41, CLAHE: 57.49\n",
            "RMS Contrast – HE: 73.43, CLAHE: 57.54\n",
            "RMS Contrast – HE: 73.39, CLAHE: 57.50\n",
            "RMS Contrast – HE: 73.37, CLAHE: 57.46\n",
            "RMS Contrast – HE: 73.43, CLAHE: 57.58\n",
            "RMS Contrast – HE: 73.43, CLAHE: 57.57\n",
            "RMS Contrast – HE: 73.40, CLAHE: 57.48\n",
            "RMS Contrast – HE: 73.40, CLAHE: 57.56\n",
            "RMS Contrast – HE: 73.38, CLAHE: 57.57\n",
            "RMS Contrast – HE: 73.41, CLAHE: 57.67\n",
            "RMS Contrast – HE: 73.40, CLAHE: 57.45\n",
            "RMS Contrast – HE: 73.40, CLAHE: 57.56\n",
            "RMS Contrast – HE: 73.38, CLAHE: 57.72\n",
            "RMS Contrast – HE: 73.39, CLAHE: 57.77\n",
            "RMS Contrast – HE: 73.37, CLAHE: 57.68\n",
            "RMS Contrast – HE: 73.36, CLAHE: 57.70\n"
          ]
        },
        {
          "name": "stderr",
          "output_type": "stream",
          "text": [
            "/tmp/ipython-input-28-1976214917.py:11: DeprecationWarning: Conversion of an array with ndim > 0 to a scalar is deprecated, and will error in future. Ensure you extract a single element from your array before performing this operation. (Deprecated NumPy 1.25.)\n",
            "  (bin_width*(j-1), size[1] - int(hist[j-1])),\n",
            "/tmp/ipython-input-28-1976214917.py:12: DeprecationWarning: Conversion of an array with ndim > 0 to a scalar is deprecated, and will error in future. Ensure you extract a single element from your array before performing this operation. (Deprecated NumPy 1.25.)\n",
            "  (bin_width*j, size[1] - int(hist[j])),\n"
          ]
        },
        {
          "name": "stdout",
          "output_type": "stream",
          "text": [
            "RMS Contrast – HE: 73.39, CLAHE: 57.72\n",
            "RMS Contrast – HE: 73.40, CLAHE: 57.82\n",
            "RMS Contrast – HE: 73.38, CLAHE: 57.78\n",
            "RMS Contrast – HE: 73.43, CLAHE: 57.77\n",
            "RMS Contrast – HE: 73.42, CLAHE: 57.82\n",
            "RMS Contrast – HE: 73.40, CLAHE: 57.85\n",
            "RMS Contrast – HE: 73.39, CLAHE: 57.62\n",
            "RMS Contrast – HE: 73.39, CLAHE: 57.69\n",
            "RMS Contrast – HE: 73.39, CLAHE: 57.74\n",
            "RMS Contrast – HE: 73.40, CLAHE: 57.72\n",
            "RMS Contrast – HE: 73.40, CLAHE: 57.71\n",
            "RMS Contrast – HE: 73.42, CLAHE: 57.65\n",
            "RMS Contrast – HE: 73.38, CLAHE: 57.82\n",
            "RMS Contrast – HE: 73.41, CLAHE: 57.95\n",
            "RMS Contrast – HE: 73.41, CLAHE: 57.75\n",
            "RMS Contrast – HE: 73.37, CLAHE: 57.93\n",
            "RMS Contrast – HE: 73.36, CLAHE: 58.02\n",
            "RMS Contrast – HE: 73.35, CLAHE: 58.05\n",
            "RMS Contrast – HE: 73.32, CLAHE: 58.00\n",
            "RMS Contrast – HE: 73.32, CLAHE: 57.98\n",
            "RMS Contrast – HE: 73.38, CLAHE: 57.99\n",
            "RMS Contrast – HE: 73.39, CLAHE: 58.10\n",
            "RMS Contrast – HE: 73.35, CLAHE: 57.90\n",
            "RMS Contrast – HE: 73.35, CLAHE: 57.89\n",
            "RMS Contrast – HE: 73.37, CLAHE: 58.04\n",
            "RMS Contrast – HE: 73.38, CLAHE: 57.98\n",
            "RMS Contrast – HE: 73.36, CLAHE: 57.82\n",
            "RMS Contrast – HE: 73.35, CLAHE: 57.63\n",
            "RMS Contrast – HE: 73.37, CLAHE: 57.83\n",
            "RMS Contrast – HE: 73.38, CLAHE: 57.82\n",
            "RMS Contrast – HE: 73.35, CLAHE: 57.51\n",
            "RMS Contrast – HE: 73.38, CLAHE: 57.49\n",
            "RMS Contrast – HE: 73.39, CLAHE: 57.48\n",
            "RMS Contrast – HE: 73.38, CLAHE: 57.50\n",
            "RMS Contrast – HE: 73.37, CLAHE: 57.42\n",
            "RMS Contrast – HE: 73.39, CLAHE: 57.48\n",
            "RMS Contrast – HE: 73.41, CLAHE: 57.54\n",
            "RMS Contrast – HE: 73.39, CLAHE: 57.55\n",
            "RMS Contrast – HE: 73.39, CLAHE: 57.46\n",
            "RMS Contrast – HE: 73.39, CLAHE: 57.44\n",
            "RMS Contrast – HE: 73.38, CLAHE: 57.49\n",
            "RMS Contrast – HE: 73.38, CLAHE: 57.48\n",
            "RMS Contrast – HE: 73.38, CLAHE: 57.25\n"
          ]
        },
        {
          "name": "stderr",
          "output_type": "stream",
          "text": [
            "/tmp/ipython-input-28-1976214917.py:11: DeprecationWarning: Conversion of an array with ndim > 0 to a scalar is deprecated, and will error in future. Ensure you extract a single element from your array before performing this operation. (Deprecated NumPy 1.25.)\n",
            "  (bin_width*(j-1), size[1] - int(hist[j-1])),\n",
            "/tmp/ipython-input-28-1976214917.py:12: DeprecationWarning: Conversion of an array with ndim > 0 to a scalar is deprecated, and will error in future. Ensure you extract a single element from your array before performing this operation. (Deprecated NumPy 1.25.)\n",
            "  (bin_width*j, size[1] - int(hist[j])),\n"
          ]
        },
        {
          "name": "stdout",
          "output_type": "stream",
          "text": [
            "RMS Contrast – HE: 73.39, CLAHE: 57.32\n",
            "RMS Contrast – HE: 73.42, CLAHE: 57.40\n",
            "RMS Contrast – HE: 73.41, CLAHE: 57.59\n",
            "RMS Contrast – HE: 73.43, CLAHE: 57.41\n",
            "RMS Contrast – HE: 73.41, CLAHE: 57.32\n",
            "RMS Contrast – HE: 73.39, CLAHE: 57.52\n",
            "RMS Contrast – HE: 73.45, CLAHE: 57.66\n",
            "RMS Contrast – HE: 73.38, CLAHE: 57.53\n",
            "RMS Contrast – HE: 73.40, CLAHE: 57.62\n",
            "RMS Contrast – HE: 73.41, CLAHE: 57.47\n",
            "RMS Contrast – HE: 73.41, CLAHE: 57.47\n",
            "RMS Contrast – HE: 73.40, CLAHE: 57.41\n",
            "RMS Contrast – HE: 73.39, CLAHE: 57.46\n",
            "RMS Contrast – HE: 73.44, CLAHE: 57.49\n",
            "RMS Contrast – HE: 73.44, CLAHE: 57.53\n",
            "RMS Contrast – HE: 73.40, CLAHE: 57.68\n",
            "RMS Contrast – HE: 73.41, CLAHE: 57.43\n",
            "RMS Contrast – HE: 73.43, CLAHE: 57.44\n",
            "RMS Contrast – HE: 73.40, CLAHE: 57.52\n"
          ]
        },
        {
          "name": "stderr",
          "output_type": "stream",
          "text": [
            "/tmp/ipython-input-28-1976214917.py:11: DeprecationWarning: Conversion of an array with ndim > 0 to a scalar is deprecated, and will error in future. Ensure you extract a single element from your array before performing this operation. (Deprecated NumPy 1.25.)\n",
            "  (bin_width*(j-1), size[1] - int(hist[j-1])),\n",
            "/tmp/ipython-input-28-1976214917.py:12: DeprecationWarning: Conversion of an array with ndim > 0 to a scalar is deprecated, and will error in future. Ensure you extract a single element from your array before performing this operation. (Deprecated NumPy 1.25.)\n",
            "  (bin_width*j, size[1] - int(hist[j])),\n"
          ]
        },
        {
          "name": "stdout",
          "output_type": "stream",
          "text": [
            "RMS Contrast – HE: 73.39, CLAHE: 57.45\n",
            "RMS Contrast – HE: 73.36, CLAHE: 57.45\n",
            "RMS Contrast – HE: 73.42, CLAHE: 57.60\n",
            "RMS Contrast – HE: 73.42, CLAHE: 57.63\n",
            "RMS Contrast – HE: 73.37, CLAHE: 57.54\n",
            "RMS Contrast – HE: 73.40, CLAHE: 57.62\n",
            "RMS Contrast – HE: 73.42, CLAHE: 57.70\n",
            "RMS Contrast – HE: 73.42, CLAHE: 57.74\n",
            "RMS Contrast – HE: 73.40, CLAHE: 57.57\n",
            "RMS Contrast – HE: 73.40, CLAHE: 57.64\n",
            "RMS Contrast – HE: 73.40, CLAHE: 57.61\n",
            "RMS Contrast – HE: 73.42, CLAHE: 57.79\n",
            "RMS Contrast – HE: 73.40, CLAHE: 57.64\n",
            "RMS Contrast – HE: 73.43, CLAHE: 57.73\n",
            "RMS Contrast – HE: 73.42, CLAHE: 57.82\n",
            "RMS Contrast – HE: 73.42, CLAHE: 57.90\n",
            "RMS Contrast – HE: 73.41, CLAHE: 57.81\n",
            "RMS Contrast – HE: 73.41, CLAHE: 57.98\n",
            "RMS Contrast – HE: 73.41, CLAHE: 58.02\n",
            "RMS Contrast – HE: 73.45, CLAHE: 58.12\n",
            "RMS Contrast – HE: 73.42, CLAHE: 58.11\n",
            "RMS Contrast – HE: 73.44, CLAHE: 58.22\n",
            "RMS Contrast – HE: 73.42, CLAHE: 58.40\n",
            "RMS Contrast – HE: 73.39, CLAHE: 58.33\n"
          ]
        },
        {
          "name": "stderr",
          "output_type": "stream",
          "text": [
            "/tmp/ipython-input-28-1976214917.py:11: DeprecationWarning: Conversion of an array with ndim > 0 to a scalar is deprecated, and will error in future. Ensure you extract a single element from your array before performing this operation. (Deprecated NumPy 1.25.)\n",
            "  (bin_width*(j-1), size[1] - int(hist[j-1])),\n",
            "/tmp/ipython-input-28-1976214917.py:12: DeprecationWarning: Conversion of an array with ndim > 0 to a scalar is deprecated, and will error in future. Ensure you extract a single element from your array before performing this operation. (Deprecated NumPy 1.25.)\n",
            "  (bin_width*j, size[1] - int(hist[j])),\n"
          ]
        },
        {
          "name": "stdout",
          "output_type": "stream",
          "text": [
            "RMS Contrast – HE: 73.39, CLAHE: 58.30\n",
            "RMS Contrast – HE: 73.42, CLAHE: 58.28\n",
            "RMS Contrast – HE: 73.43, CLAHE: 58.39\n",
            "RMS Contrast – HE: 73.38, CLAHE: 58.22\n",
            "RMS Contrast – HE: 73.45, CLAHE: 58.12\n",
            "RMS Contrast – HE: 73.46, CLAHE: 58.28\n",
            "RMS Contrast – HE: 73.48, CLAHE: 58.28\n"
          ]
        },
        {
          "name": "stderr",
          "output_type": "stream",
          "text": [
            "/tmp/ipython-input-28-1976214917.py:11: DeprecationWarning: Conversion of an array with ndim > 0 to a scalar is deprecated, and will error in future. Ensure you extract a single element from your array before performing this operation. (Deprecated NumPy 1.25.)\n",
            "  (bin_width*(j-1), size[1] - int(hist[j-1])),\n",
            "/tmp/ipython-input-28-1976214917.py:12: DeprecationWarning: Conversion of an array with ndim > 0 to a scalar is deprecated, and will error in future. Ensure you extract a single element from your array before performing this operation. (Deprecated NumPy 1.25.)\n",
            "  (bin_width*j, size[1] - int(hist[j])),\n"
          ]
        },
        {
          "name": "stdout",
          "output_type": "stream",
          "text": [
            "RMS Contrast – HE: 73.45, CLAHE: 58.25\n",
            "RMS Contrast – HE: 73.43, CLAHE: 58.29\n",
            "RMS Contrast – HE: 73.42, CLAHE: 58.42\n",
            "RMS Contrast – HE: 73.48, CLAHE: 58.52\n",
            "RMS Contrast – HE: 73.42, CLAHE: 58.25\n",
            "RMS Contrast – HE: 73.41, CLAHE: 58.30\n",
            "RMS Contrast – HE: 73.48, CLAHE: 58.32\n",
            "RMS Contrast – HE: 73.45, CLAHE: 58.35\n",
            "RMS Contrast – HE: 73.42, CLAHE: 58.21\n",
            "RMS Contrast – HE: 73.44, CLAHE: 58.28\n",
            "RMS Contrast – HE: 73.44, CLAHE: 58.27\n",
            "RMS Contrast – HE: 73.44, CLAHE: 58.37\n",
            "RMS Contrast – HE: 73.41, CLAHE: 58.24\n",
            "RMS Contrast – HE: 73.42, CLAHE: 58.30\n",
            "RMS Contrast – HE: 73.43, CLAHE: 58.25\n",
            "RMS Contrast – HE: 73.44, CLAHE: 58.50\n",
            "RMS Contrast – HE: 73.43, CLAHE: 58.24\n",
            "RMS Contrast – HE: 73.42, CLAHE: 58.24\n",
            "RMS Contrast – HE: 73.41, CLAHE: 58.34\n",
            "RMS Contrast – HE: 73.46, CLAHE: 58.45\n",
            "RMS Contrast – HE: 73.42, CLAHE: 58.31\n",
            "RMS Contrast – HE: 73.39, CLAHE: 58.30\n",
            "RMS Contrast – HE: 73.42, CLAHE: 58.41\n",
            "RMS Contrast – HE: 73.44, CLAHE: 58.45\n",
            "RMS Contrast – HE: 73.42, CLAHE: 58.43\n",
            "RMS Contrast – HE: 73.42, CLAHE: 58.45\n",
            "RMS Contrast – HE: 73.41, CLAHE: 58.48\n",
            "RMS Contrast – HE: 73.44, CLAHE: 58.54\n",
            "RMS Contrast – HE: 73.37, CLAHE: 58.40\n",
            "RMS Contrast – HE: 73.39, CLAHE: 58.37\n",
            "RMS Contrast – HE: 73.39, CLAHE: 58.46\n",
            "RMS Contrast – HE: 73.44, CLAHE: 58.46\n",
            "RMS Contrast – HE: 73.42, CLAHE: 58.36\n"
          ]
        },
        {
          "name": "stderr",
          "output_type": "stream",
          "text": [
            "/tmp/ipython-input-28-1976214917.py:11: DeprecationWarning: Conversion of an array with ndim > 0 to a scalar is deprecated, and will error in future. Ensure you extract a single element from your array before performing this operation. (Deprecated NumPy 1.25.)\n",
            "  (bin_width*(j-1), size[1] - int(hist[j-1])),\n",
            "/tmp/ipython-input-28-1976214917.py:12: DeprecationWarning: Conversion of an array with ndim > 0 to a scalar is deprecated, and will error in future. Ensure you extract a single element from your array before performing this operation. (Deprecated NumPy 1.25.)\n",
            "  (bin_width*j, size[1] - int(hist[j])),\n"
          ]
        },
        {
          "name": "stdout",
          "output_type": "stream",
          "text": [
            "RMS Contrast – HE: 73.41, CLAHE: 58.37\n",
            "RMS Contrast – HE: 73.45, CLAHE: 58.31\n",
            "RMS Contrast – HE: 73.40, CLAHE: 58.38\n",
            "RMS Contrast – HE: 73.40, CLAHE: 58.37\n",
            "RMS Contrast – HE: 73.45, CLAHE: 58.26\n",
            "RMS Contrast – HE: 73.41, CLAHE: 58.18\n",
            "RMS Contrast – HE: 73.41, CLAHE: 58.23\n",
            "RMS Contrast – HE: 73.40, CLAHE: 58.03\n",
            "RMS Contrast – HE: 73.39, CLAHE: 58.10\n",
            "RMS Contrast – HE: 73.40, CLAHE: 58.27\n",
            "RMS Contrast – HE: 73.40, CLAHE: 58.21\n",
            "RMS Contrast – HE: 73.38, CLAHE: 58.19\n",
            "RMS Contrast – HE: 73.37, CLAHE: 58.28\n",
            "RMS Contrast – HE: 73.38, CLAHE: 58.38\n",
            "RMS Contrast – HE: 73.41, CLAHE: 58.55\n",
            "RMS Contrast – HE: 73.40, CLAHE: 58.54\n",
            "RMS Contrast – HE: 73.40, CLAHE: 58.54\n",
            "RMS Contrast – HE: 73.36, CLAHE: 58.46\n",
            "RMS Contrast – HE: 73.37, CLAHE: 58.45\n",
            "RMS Contrast – HE: 73.41, CLAHE: 58.34\n",
            "RMS Contrast – HE: 73.35, CLAHE: 58.47\n",
            "RMS Contrast – HE: 73.37, CLAHE: 58.42\n",
            "RMS Contrast – HE: 73.43, CLAHE: 58.49\n",
            "RMS Contrast – HE: 73.38, CLAHE: 58.44\n",
            "RMS Contrast – HE: 73.39, CLAHE: 58.40\n",
            "RMS Contrast – HE: 73.40, CLAHE: 58.45\n",
            "RMS Contrast – HE: 73.38, CLAHE: 58.59\n"
          ]
        },
        {
          "name": "stderr",
          "output_type": "stream",
          "text": [
            "/tmp/ipython-input-28-1976214917.py:11: DeprecationWarning: Conversion of an array with ndim > 0 to a scalar is deprecated, and will error in future. Ensure you extract a single element from your array before performing this operation. (Deprecated NumPy 1.25.)\n",
            "  (bin_width*(j-1), size[1] - int(hist[j-1])),\n",
            "/tmp/ipython-input-28-1976214917.py:12: DeprecationWarning: Conversion of an array with ndim > 0 to a scalar is deprecated, and will error in future. Ensure you extract a single element from your array before performing this operation. (Deprecated NumPy 1.25.)\n",
            "  (bin_width*j, size[1] - int(hist[j])),\n"
          ]
        },
        {
          "name": "stdout",
          "output_type": "stream",
          "text": [
            "RMS Contrast – HE: 73.35, CLAHE: 58.45\n",
            "RMS Contrast – HE: 73.39, CLAHE: 58.51\n",
            "RMS Contrast – HE: 73.34, CLAHE: 58.57\n",
            "RMS Contrast – HE: 73.38, CLAHE: 58.59\n",
            "RMS Contrast – HE: 73.39, CLAHE: 58.53\n",
            "RMS Contrast – HE: 73.40, CLAHE: 58.52\n",
            "RMS Contrast – HE: 73.39, CLAHE: 58.58\n",
            "RMS Contrast – HE: 73.39, CLAHE: 58.62\n",
            "RMS Contrast – HE: 73.36, CLAHE: 58.60\n",
            "RMS Contrast – HE: 73.34, CLAHE: 58.43\n",
            "RMS Contrast – HE: 73.40, CLAHE: 58.46\n",
            "RMS Contrast – HE: 73.40, CLAHE: 58.46\n",
            "RMS Contrast – HE: 73.33, CLAHE: 58.20\n",
            "RMS Contrast – HE: 73.32, CLAHE: 58.26\n",
            "RMS Contrast – HE: 73.40, CLAHE: 58.29\n",
            "RMS Contrast – HE: 73.36, CLAHE: 58.26\n",
            "RMS Contrast – HE: 73.31, CLAHE: 58.14\n",
            "RMS Contrast – HE: 73.33, CLAHE: 58.23\n",
            "RMS Contrast – HE: 73.37, CLAHE: 58.23\n",
            "RMS Contrast – HE: 73.38, CLAHE: 58.41\n",
            "RMS Contrast – HE: 73.34, CLAHE: 58.32\n",
            "RMS Contrast – HE: 73.35, CLAHE: 58.40\n",
            "RMS Contrast – HE: 73.37, CLAHE: 58.51\n",
            "RMS Contrast – HE: 73.44, CLAHE: 58.63\n",
            "RMS Contrast – HE: 73.34, CLAHE: 58.51\n",
            "RMS Contrast – HE: 73.34, CLAHE: 58.49\n",
            "RMS Contrast – HE: 73.31, CLAHE: 58.74\n",
            "RMS Contrast – HE: 73.34, CLAHE: 58.81\n"
          ]
        },
        {
          "name": "stderr",
          "output_type": "stream",
          "text": [
            "/tmp/ipython-input-28-1976214917.py:11: DeprecationWarning: Conversion of an array with ndim > 0 to a scalar is deprecated, and will error in future. Ensure you extract a single element from your array before performing this operation. (Deprecated NumPy 1.25.)\n",
            "  (bin_width*(j-1), size[1] - int(hist[j-1])),\n",
            "/tmp/ipython-input-28-1976214917.py:12: DeprecationWarning: Conversion of an array with ndim > 0 to a scalar is deprecated, and will error in future. Ensure you extract a single element from your array before performing this operation. (Deprecated NumPy 1.25.)\n",
            "  (bin_width*j, size[1] - int(hist[j])),\n"
          ]
        },
        {
          "name": "stdout",
          "output_type": "stream",
          "text": [
            "RMS Contrast – HE: 73.32, CLAHE: 58.66\n",
            "RMS Contrast – HE: 73.32, CLAHE: 58.76\n",
            "RMS Contrast – HE: 73.39, CLAHE: 58.88\n",
            "RMS Contrast – HE: 73.41, CLAHE: 58.89\n",
            "RMS Contrast – HE: 73.37, CLAHE: 58.89\n",
            "RMS Contrast – HE: 73.39, CLAHE: 58.91\n",
            "RMS Contrast – HE: 73.40, CLAHE: 58.98\n",
            "RMS Contrast – HE: 73.36, CLAHE: 58.91\n",
            "RMS Contrast – HE: 73.40, CLAHE: 58.74\n",
            "RMS Contrast – HE: 73.40, CLAHE: 58.77\n",
            "RMS Contrast – HE: 73.38, CLAHE: 58.80\n",
            "RMS Contrast – HE: 73.41, CLAHE: 58.77\n",
            "RMS Contrast – HE: 73.37, CLAHE: 58.63\n",
            "RMS Contrast – HE: 73.37, CLAHE: 58.64\n",
            "RMS Contrast – HE: 73.36, CLAHE: 58.63\n",
            "RMS Contrast – HE: 73.40, CLAHE: 58.64\n",
            "RMS Contrast – HE: 73.33, CLAHE: 58.44\n",
            "RMS Contrast – HE: 73.36, CLAHE: 58.38\n",
            "RMS Contrast – HE: 73.38, CLAHE: 58.44\n",
            "RMS Contrast – HE: 73.37, CLAHE: 58.35\n",
            "RMS Contrast – HE: 73.37, CLAHE: 58.10\n",
            "RMS Contrast – HE: 73.36, CLAHE: 58.06\n",
            "RMS Contrast – HE: 73.35, CLAHE: 58.21\n",
            "RMS Contrast – HE: 73.41, CLAHE: 58.09\n",
            "RMS Contrast – HE: 73.38, CLAHE: 57.87\n",
            "RMS Contrast – HE: 73.39, CLAHE: 57.85\n",
            "RMS Contrast – HE: 73.36, CLAHE: 57.81\n",
            "RMS Contrast – HE: 73.40, CLAHE: 57.79\n",
            "RMS Contrast – HE: 73.35, CLAHE: 57.76\n",
            "RMS Contrast – HE: 73.36, CLAHE: 57.72\n",
            "RMS Contrast – HE: 73.37, CLAHE: 57.94\n",
            "RMS Contrast – HE: 73.39, CLAHE: 57.96\n",
            "RMS Contrast – HE: 73.37, CLAHE: 57.73\n",
            "RMS Contrast – HE: 73.36, CLAHE: 57.80\n",
            "RMS Contrast – HE: 73.36, CLAHE: 57.90\n",
            "RMS Contrast – HE: 73.40, CLAHE: 57.82\n",
            "RMS Contrast – HE: 73.36, CLAHE: 57.80\n",
            "RMS Contrast – HE: 73.33, CLAHE: 57.75\n",
            "RMS Contrast – HE: 73.39, CLAHE: 57.84\n",
            "RMS Contrast – HE: 73.38, CLAHE: 58.04\n",
            "RMS Contrast – HE: 73.31, CLAHE: 57.93\n",
            "RMS Contrast – HE: 73.34, CLAHE: 57.89\n",
            "RMS Contrast – HE: 73.37, CLAHE: 57.96\n",
            "RMS Contrast – HE: 73.36, CLAHE: 58.05\n",
            "RMS Contrast – HE: 73.36, CLAHE: 57.86\n",
            "RMS Contrast – HE: 73.37, CLAHE: 57.88\n"
          ]
        },
        {
          "name": "stderr",
          "output_type": "stream",
          "text": [
            "/tmp/ipython-input-28-1976214917.py:11: DeprecationWarning: Conversion of an array with ndim > 0 to a scalar is deprecated, and will error in future. Ensure you extract a single element from your array before performing this operation. (Deprecated NumPy 1.25.)\n",
            "  (bin_width*(j-1), size[1] - int(hist[j-1])),\n",
            "/tmp/ipython-input-28-1976214917.py:12: DeprecationWarning: Conversion of an array with ndim > 0 to a scalar is deprecated, and will error in future. Ensure you extract a single element from your array before performing this operation. (Deprecated NumPy 1.25.)\n",
            "  (bin_width*j, size[1] - int(hist[j])),\n"
          ]
        },
        {
          "name": "stdout",
          "output_type": "stream",
          "text": [
            "RMS Contrast – HE: 73.35, CLAHE: 57.95\n",
            "RMS Contrast – HE: 73.37, CLAHE: 57.96\n",
            "RMS Contrast – HE: 73.37, CLAHE: 57.87\n",
            "RMS Contrast – HE: 73.38, CLAHE: 57.94\n",
            "RMS Contrast – HE: 73.38, CLAHE: 57.91\n",
            "RMS Contrast – HE: 73.40, CLAHE: 58.00\n",
            "RMS Contrast – HE: 73.39, CLAHE: 57.92\n",
            "RMS Contrast – HE: 73.41, CLAHE: 57.94\n",
            "RMS Contrast – HE: 73.40, CLAHE: 57.99\n",
            "RMS Contrast – HE: 73.38, CLAHE: 58.05\n",
            "RMS Contrast – HE: 73.40, CLAHE: 57.90\n",
            "RMS Contrast – HE: 73.40, CLAHE: 57.83\n",
            "RMS Contrast – HE: 73.41, CLAHE: 57.92\n",
            "RMS Contrast – HE: 73.40, CLAHE: 58.00\n",
            "RMS Contrast – HE: 73.36, CLAHE: 57.89\n",
            "RMS Contrast – HE: 73.37, CLAHE: 57.82\n",
            "RMS Contrast – HE: 73.40, CLAHE: 58.00\n",
            "RMS Contrast – HE: 73.40, CLAHE: 57.97\n",
            "RMS Contrast – HE: 73.35, CLAHE: 57.82\n",
            "RMS Contrast – HE: 73.36, CLAHE: 57.79\n",
            "RMS Contrast – HE: 73.40, CLAHE: 57.85\n",
            "RMS Contrast – HE: 73.44, CLAHE: 57.83\n",
            "RMS Contrast – HE: 73.41, CLAHE: 57.82\n",
            "RMS Contrast – HE: 73.42, CLAHE: 57.75\n",
            "RMS Contrast – HE: 73.45, CLAHE: 57.80\n",
            "RMS Contrast – HE: 73.41, CLAHE: 57.79\n",
            "RMS Contrast – HE: 73.43, CLAHE: 57.79\n",
            "RMS Contrast – HE: 73.43, CLAHE: 57.67\n"
          ]
        },
        {
          "name": "stderr",
          "output_type": "stream",
          "text": [
            "/tmp/ipython-input-28-1976214917.py:11: DeprecationWarning: Conversion of an array with ndim > 0 to a scalar is deprecated, and will error in future. Ensure you extract a single element from your array before performing this operation. (Deprecated NumPy 1.25.)\n",
            "  (bin_width*(j-1), size[1] - int(hist[j-1])),\n",
            "/tmp/ipython-input-28-1976214917.py:12: DeprecationWarning: Conversion of an array with ndim > 0 to a scalar is deprecated, and will error in future. Ensure you extract a single element from your array before performing this operation. (Deprecated NumPy 1.25.)\n",
            "  (bin_width*j, size[1] - int(hist[j])),\n"
          ]
        },
        {
          "name": "stdout",
          "output_type": "stream",
          "text": [
            "RMS Contrast – HE: 73.42, CLAHE: 57.72\n",
            "RMS Contrast – HE: 73.40, CLAHE: 57.77\n",
            "RMS Contrast – HE: 73.41, CLAHE: 57.65\n",
            "RMS Contrast – HE: 73.41, CLAHE: 57.56\n",
            "RMS Contrast – HE: 73.39, CLAHE: 57.76\n",
            "RMS Contrast – HE: 73.39, CLAHE: 57.76\n",
            "RMS Contrast – HE: 73.40, CLAHE: 57.71\n",
            "RMS Contrast – HE: 73.41, CLAHE: 57.85\n",
            "RMS Contrast – HE: 73.42, CLAHE: 57.86\n",
            "RMS Contrast – HE: 73.43, CLAHE: 57.94\n",
            "RMS Contrast – HE: 73.39, CLAHE: 57.81\n",
            "RMS Contrast – HE: 73.38, CLAHE: 57.76\n",
            "RMS Contrast – HE: 73.39, CLAHE: 57.77\n",
            "RMS Contrast – HE: 73.37, CLAHE: 57.74\n",
            "RMS Contrast – HE: 73.40, CLAHE: 57.41\n",
            "RMS Contrast – HE: 73.36, CLAHE: 57.37\n",
            "RMS Contrast – HE: 73.35, CLAHE: 57.41\n",
            "RMS Contrast – HE: 73.36, CLAHE: 57.41\n",
            "RMS Contrast – HE: 73.34, CLAHE: 57.48\n",
            "RMS Contrast – HE: 73.32, CLAHE: 57.48\n",
            "RMS Contrast – HE: 73.36, CLAHE: 57.45\n",
            "RMS Contrast – HE: 73.33, CLAHE: 57.45\n",
            "RMS Contrast – HE: 73.37, CLAHE: 57.56\n",
            "RMS Contrast – HE: 73.39, CLAHE: 57.57\n",
            "RMS Contrast – HE: 73.37, CLAHE: 57.57\n",
            "RMS Contrast – HE: 73.32, CLAHE: 57.60\n",
            "RMS Contrast – HE: 73.33, CLAHE: 57.53\n",
            "RMS Contrast – HE: 73.37, CLAHE: 57.78\n",
            "RMS Contrast – HE: 73.33, CLAHE: 57.79\n",
            "RMS Contrast – HE: 73.35, CLAHE: 57.64\n",
            "RMS Contrast – HE: 73.32, CLAHE: 57.61\n",
            "RMS Contrast – HE: 73.36, CLAHE: 57.63\n",
            "RMS Contrast – HE: 73.39, CLAHE: 57.64\n",
            "RMS Contrast – HE: 73.34, CLAHE: 57.77\n",
            "RMS Contrast – HE: 73.34, CLAHE: 57.60\n",
            "RMS Contrast – HE: 73.34, CLAHE: 57.62\n",
            "RMS Contrast – HE: 73.36, CLAHE: 57.64\n",
            "RMS Contrast – HE: 73.38, CLAHE: 57.66\n",
            "RMS Contrast – HE: 73.35, CLAHE: 57.50\n",
            "RMS Contrast – HE: 73.34, CLAHE: 57.52\n",
            "RMS Contrast – HE: 73.36, CLAHE: 57.67\n",
            "RMS Contrast – HE: 73.39, CLAHE: 57.65\n",
            "RMS Contrast – HE: 73.35, CLAHE: 57.59\n",
            "RMS Contrast – HE: 73.34, CLAHE: 57.58\n",
            "RMS Contrast – HE: 73.39, CLAHE: 57.58\n",
            "RMS Contrast – HE: 73.36, CLAHE: 57.67\n",
            "RMS Contrast – HE: 73.35, CLAHE: 57.51\n",
            "RMS Contrast – HE: 73.35, CLAHE: 57.59\n",
            "RMS Contrast – HE: 73.35, CLAHE: 57.65\n",
            "RMS Contrast – HE: 73.36, CLAHE: 57.66\n",
            "RMS Contrast – HE: 73.38, CLAHE: 57.56\n",
            "RMS Contrast – HE: 73.36, CLAHE: 57.71\n",
            "RMS Contrast – HE: 73.40, CLAHE: 57.73\n",
            "RMS Contrast – HE: 73.36, CLAHE: 57.73\n",
            "RMS Contrast – HE: 73.37, CLAHE: 57.71\n",
            "RMS Contrast – HE: 73.36, CLAHE: 57.69\n",
            "RMS Contrast – HE: 73.37, CLAHE: 57.58\n",
            "RMS Contrast – HE: 73.35, CLAHE: 57.79\n"
          ]
        },
        {
          "name": "stderr",
          "output_type": "stream",
          "text": [
            "/tmp/ipython-input-28-1976214917.py:11: DeprecationWarning: Conversion of an array with ndim > 0 to a scalar is deprecated, and will error in future. Ensure you extract a single element from your array before performing this operation. (Deprecated NumPy 1.25.)\n",
            "  (bin_width*(j-1), size[1] - int(hist[j-1])),\n",
            "/tmp/ipython-input-28-1976214917.py:12: DeprecationWarning: Conversion of an array with ndim > 0 to a scalar is deprecated, and will error in future. Ensure you extract a single element from your array before performing this operation. (Deprecated NumPy 1.25.)\n",
            "  (bin_width*j, size[1] - int(hist[j])),\n"
          ]
        },
        {
          "name": "stdout",
          "output_type": "stream",
          "text": [
            "RMS Contrast – HE: 73.33, CLAHE: 57.73\n",
            "RMS Contrast – HE: 73.36, CLAHE: 57.77\n",
            "RMS Contrast – HE: 73.33, CLAHE: 57.81\n",
            "RMS Contrast – HE: 73.37, CLAHE: 57.83\n",
            "RMS Contrast – HE: 73.37, CLAHE: 57.79\n",
            "RMS Contrast – HE: 73.36, CLAHE: 57.85\n",
            "RMS Contrast – HE: 73.39, CLAHE: 57.84\n",
            "RMS Contrast – HE: 73.40, CLAHE: 57.87\n",
            "RMS Contrast – HE: 73.34, CLAHE: 57.74\n",
            "RMS Contrast – HE: 73.37, CLAHE: 57.75\n",
            "RMS Contrast – HE: 73.35, CLAHE: 57.85\n",
            "RMS Contrast – HE: 73.37, CLAHE: 57.87\n",
            "RMS Contrast – HE: 73.38, CLAHE: 57.72\n",
            "RMS Contrast – HE: 73.37, CLAHE: 57.70\n",
            "RMS Contrast – HE: 73.43, CLAHE: 57.78\n",
            "RMS Contrast – HE: 73.43, CLAHE: 57.72\n",
            "RMS Contrast – HE: 73.34, CLAHE: 57.75\n",
            "RMS Contrast – HE: 73.40, CLAHE: 57.77\n",
            "RMS Contrast – HE: 73.37, CLAHE: 57.75\n",
            "RMS Contrast – HE: 73.36, CLAHE: 57.82\n",
            "RMS Contrast – HE: 73.38, CLAHE: 57.71\n",
            "RMS Contrast – HE: 73.38, CLAHE: 57.69\n",
            "RMS Contrast – HE: 73.41, CLAHE: 57.68\n",
            "RMS Contrast – HE: 73.38, CLAHE: 57.69\n",
            "RMS Contrast – HE: 73.36, CLAHE: 57.43\n",
            "RMS Contrast – HE: 73.34, CLAHE: 57.36\n",
            "RMS Contrast – HE: 73.36, CLAHE: 57.56\n",
            "RMS Contrast – HE: 73.40, CLAHE: 57.40\n"
          ]
        },
        {
          "name": "stderr",
          "output_type": "stream",
          "text": [
            "/tmp/ipython-input-28-1976214917.py:11: DeprecationWarning: Conversion of an array with ndim > 0 to a scalar is deprecated, and will error in future. Ensure you extract a single element from your array before performing this operation. (Deprecated NumPy 1.25.)\n",
            "  (bin_width*(j-1), size[1] - int(hist[j-1])),\n",
            "/tmp/ipython-input-28-1976214917.py:12: DeprecationWarning: Conversion of an array with ndim > 0 to a scalar is deprecated, and will error in future. Ensure you extract a single element from your array before performing this operation. (Deprecated NumPy 1.25.)\n",
            "  (bin_width*j, size[1] - int(hist[j])),\n"
          ]
        },
        {
          "name": "stdout",
          "output_type": "stream",
          "text": [
            "RMS Contrast – HE: 73.39, CLAHE: 57.31\n",
            "RMS Contrast – HE: 73.35, CLAHE: 57.34\n",
            "RMS Contrast – HE: 73.39, CLAHE: 57.32\n",
            "RMS Contrast – HE: 73.38, CLAHE: 57.36\n",
            "RMS Contrast – HE: 73.37, CLAHE: 57.41\n",
            "RMS Contrast – HE: 73.38, CLAHE: 57.33\n",
            "RMS Contrast – HE: 73.38, CLAHE: 57.24\n",
            "RMS Contrast – HE: 73.37, CLAHE: 57.30\n",
            "RMS Contrast – HE: 73.34, CLAHE: 57.24\n",
            "RMS Contrast – HE: 73.37, CLAHE: 57.26\n",
            "RMS Contrast – HE: 73.38, CLAHE: 57.25\n",
            "RMS Contrast – HE: 73.38, CLAHE: 57.33\n",
            "RMS Contrast – HE: 73.36, CLAHE: 57.33\n",
            "RMS Contrast – HE: 73.39, CLAHE: 57.28\n"
          ]
        },
        {
          "name": "stderr",
          "output_type": "stream",
          "text": [
            "/tmp/ipython-input-28-1976214917.py:11: DeprecationWarning: Conversion of an array with ndim > 0 to a scalar is deprecated, and will error in future. Ensure you extract a single element from your array before performing this operation. (Deprecated NumPy 1.25.)\n",
            "  (bin_width*(j-1), size[1] - int(hist[j-1])),\n",
            "/tmp/ipython-input-28-1976214917.py:12: DeprecationWarning: Conversion of an array with ndim > 0 to a scalar is deprecated, and will error in future. Ensure you extract a single element from your array before performing this operation. (Deprecated NumPy 1.25.)\n",
            "  (bin_width*j, size[1] - int(hist[j])),\n"
          ]
        },
        {
          "name": "stdout",
          "output_type": "stream",
          "text": [
            "RMS Contrast – HE: 73.37, CLAHE: 57.33\n",
            "RMS Contrast – HE: 73.40, CLAHE: 57.44\n",
            "RMS Contrast – HE: 73.38, CLAHE: 57.51\n",
            "RMS Contrast – HE: 73.37, CLAHE: 57.47\n",
            "RMS Contrast – HE: 73.40, CLAHE: 57.56\n",
            "RMS Contrast – HE: 73.39, CLAHE: 57.68\n",
            "RMS Contrast – HE: 73.37, CLAHE: 57.65\n",
            "RMS Contrast – HE: 73.39, CLAHE: 57.76\n",
            "RMS Contrast – HE: 73.39, CLAHE: 57.71\n",
            "RMS Contrast – HE: 73.39, CLAHE: 57.81\n",
            "RMS Contrast – HE: 73.35, CLAHE: 57.92\n",
            "RMS Contrast – HE: 73.37, CLAHE: 57.86\n",
            "RMS Contrast – HE: 73.39, CLAHE: 57.82\n",
            "RMS Contrast – HE: 73.39, CLAHE: 57.97\n",
            "RMS Contrast – HE: 73.41, CLAHE: 58.04\n",
            "RMS Contrast – HE: 73.38, CLAHE: 58.07\n",
            "RMS Contrast – HE: 73.34, CLAHE: 58.07\n",
            "RMS Contrast – HE: 73.37, CLAHE: 58.14\n",
            "RMS Contrast – HE: 73.37, CLAHE: 58.14\n",
            "RMS Contrast – HE: 73.34, CLAHE: 58.15\n",
            "RMS Contrast – HE: 73.36, CLAHE: 58.21\n",
            "RMS Contrast – HE: 73.35, CLAHE: 58.30\n",
            "RMS Contrast – HE: 73.37, CLAHE: 58.44\n",
            "RMS Contrast – HE: 73.33, CLAHE: 58.49\n"
          ]
        }
      ],
      "source": [
        "# 6. Main Processing Loop (same as before)\n",
        "clahe = cv2.createCLAHE(clipLimit=2.0, tileGridSize=(8, 8))\n",
        "\n",
        "while cap.isOpened():\n",
        "    ret, frame = cap.read()\n",
        "    if not ret:\n",
        "        break\n",
        "\n",
        "    original = frame.copy()\n",
        "\n",
        "    # === Global Histogram Equalisation ===\n",
        "    ycrcb = cv2.cvtColor(frame, cv2.COLOR_BGR2YCrCb)\n",
        "    y_eq = cv2.equalizeHist(ycrcb[:, :, 0])\n",
        "    ycrcb[:, :, 0] = y_eq\n",
        "    he_frame = cv2.cvtColor(ycrcb, cv2.COLOR_YCrCb2BGR)\n",
        "\n",
        "    # === CLAHE ===\n",
        "    ycrcb_clahe = cv2.cvtColor(frame, cv2.COLOR_BGR2YCrCb)\n",
        "    y_clahe = clahe.apply(ycrcb_clahe[:, :, 0])\n",
        "    ycrcb_clahe[:, :, 0] = y_clahe\n",
        "    clahe_frame = cv2.cvtColor(ycrcb_clahe, cv2.COLOR_YCrCb2BGR)\n",
        "\n",
        "    # === Histogram Panels ===\n",
        "    hist_orig = make_histogram_panel(original, size=(frame.shape[1], frame.shape[0]))\n",
        "    hist_eq = make_histogram_panel(he_frame, size=(frame.shape[1], frame.shape[0]))\n",
        "\n",
        "    # === 2x2 Grid for global HE ===\n",
        "    top_row = np.hstack((original, he_frame))\n",
        "    bottom_row = np.hstack((hist_orig, hist_eq))\n",
        "    grid = np.vstack((top_row, bottom_row))\n",
        "    out.write(grid)\n",
        "\n",
        "    # === 2x1 CLAHE comparison ===\n",
        "    comparison = np.hstack((he_frame, clahe_frame))\n",
        "    clahe_out.write(comparison)\n",
        "\n",
        "    # === Print RMS contrast (once or as debug info) ===\n",
        "    gray_he = cv2.cvtColor(he_frame, cv2.COLOR_BGR2GRAY)\n",
        "    gray_clahe = cv2.cvtColor(clahe_frame, cv2.COLOR_BGR2GRAY)\n",
        "    contrast_he = rms_contrast(gray_he)\n",
        "    contrast_clahe = rms_contrast(gray_clahe)\n",
        "    print(f\"RMS Contrast – HE: {contrast_he:.2f}, CLAHE: {contrast_clahe:.2f}\")\n",
        "\n"
      ]
    },
    {
      "cell_type": "markdown",
      "metadata": {
        "id": "bnud246GKCFl"
      },
      "source": [
        "# **Release Resources**\n",
        "Once the video is processed, the resources (video capture and output writers) are released."
      ]
    },
    {
      "cell_type": "code",
      "execution_count": null,
      "metadata": {
        "id": "QB5vZtdtJ-rn"
      },
      "outputs": [],
      "source": [
        "# 7. Release (same as before)\n",
        "cap.release()\n",
        "out.release()\n",
        "clahe_out.release()\n"
      ]
    },
    {
      "cell_type": "markdown",
      "metadata": {
        "id": "sOc3a466KIid"
      },
      "source": [
        "# **Convert .avi to .mp4 and Display Videos**\n",
        "\n",
        "If the output video is saved in .avi format, it is converted to .mp4 using ffmpeg. The final videos are then displayed using the IPython.display library.\n",
        "\n",
        "This section ensures that the processed videos are available for viewing in a notebook or a similar environment."
      ]
    },
    {
      "cell_type": "code",
      "execution_count": null,
      "metadata": {
        "colab": {
          "background_save": true
        },
        "id": "FF08bZCc1_gQ",
        "outputId": "9e1eb9e3-14ab-4f08-f78a-cfd16274f7de"
      },
      "outputs": [
        {
          "name": "stdout",
          "output_type": "stream",
          "text": [
            "Buffered data was truncated after reaching the output size limit."
          ]
        }
      ],
      "source": [
        "# Convert .avi to .mp4 if needed (use ffmpeg)\n",
        "os.system('ffmpeg -i outputyt_hist_eq_grid.mp4 outputyt_hist_eq_grid_final.mp4')\n",
        "os.system('ffmpeg -i outputyt_clahe_comparison.mp4 outputyt_clahe_comparison_final.mp4')\n",
        "\n",
        "# Display the video output in Colab\n",
        "display(Video(\"outputyt_hist_eq_grid_final.mp4\", embed=True))\n",
        "display(Video(\"outputyt_clahe_comparison_final.mp4\", embed=True))\n",
        "\n",
        "print(\"✅ Done! Global HE video: outputyt_hist_eq_grid_final.mp4\")\n",
        "print(\"✅ CLAHE comparison video: outputyt_clahe_comparison_final.mp4\")"
      ]
    },
    {
      "cell_type": "markdown",
      "metadata": {
        "id": "mlj6RTbQhV8M"
      },
      "source": [
        "# ***AFTER THIS PART WE WILL BE DOING THE RAW GITHUB VIDEO***"
      ]
    },
    {
      "cell_type": "markdown",
      "metadata": {
        "id": "qs72DczPh0Mp"
      },
      "source": [
        "# **Download or Mount a Test Video**\n",
        "\n",
        "This section checks whether the test video exists locally. If not, it downloads it from a URL.\n",
        "VIDEO_URL: The URL to the test video.\n",
        "\n",
        "VIDEO_PATH: The local file path where the video will be saved.\n",
        "\n",
        "urllib.request.urlretrieve(): Downloads the video if it doesn't already exist on the local machine."
      ]
    },
    {
      "cell_type": "code",
      "execution_count": null,
      "metadata": {
        "colab": {
          "background_save": true
        },
        "id": "mzdyR_J_hVk0"
      },
      "outputs": [],
      "source": [
        "VIDEO_URL = \"https://raw.githubusercontent.com/opencv/opencv/master/samples/data/vtest.avi\"\n",
        "VIDEO_PATH = \"input.avi\"\n",
        "\n",
        "if not os.path.exists(VIDEO_PATH):\n",
        "    urllib.request.urlretrieve(VIDEO_URL, VIDEO_PATH)"
      ]
    },
    {
      "cell_type": "markdown",
      "metadata": {
        "id": "GyRpS6xfh21K"
      },
      "source": [
        "# **Open Video Streams**\n",
        "\n",
        "The code uses OpenCV to open and extract details from the video, such as width, height, and frames per second (FPS).\n",
        "\n",
        "cv2.VideoCapture(): Opens the video file.\n",
        "\n",
        "cap.get(): Retrieves properties of the video, like frame dimensions and FPS."
      ]
    },
    {
      "cell_type": "code",
      "execution_count": null,
      "metadata": {
        "colab": {
          "background_save": true
        },
        "id": "s5QPvVnmh4_9"
      },
      "outputs": [],
      "source": [
        "cap = cv2.VideoCapture(VIDEO_PATH)\n",
        "\n",
        "frame_width = int(cap.get(cv2.CAP_PROP_FRAME_WIDTH))\n",
        "frame_height = int(cap.get(cv2.CAP_PROP_FRAME_HEIGHT))\n",
        "fps = cap.get(cv2.CAP_PROP_FPS)\n",
        "\n",
        "# Output video writer for 2x2 grid (convert to mp4)"
      ]
    },
    {
      "cell_type": "markdown",
      "metadata": {
        "id": "GzcZRJAdh_H4"
      },
      "source": [
        "# **Initialize Video Output Writers**\n",
        "Two video writers are initialized to save processed video outputs:\n",
        "\n",
        "Global Histogram Equalization (HE) Output: For saving the video with global histogram equalization applied.\n",
        "\n",
        "CLAHE Output: For saving the video with CLAHE applied."
      ]
    },
    {
      "cell_type": "code",
      "execution_count": null,
      "metadata": {
        "colab": {
          "background_save": true
        },
        "id": "8vkruQaHiBQT"
      },
      "outputs": [],
      "source": [
        "out = cv2.VideoWriter('output_hist_eq_grid.mp4',\n",
        "                      cv2.VideoWriter_fourcc(*'mp4v'),\n",
        "                      fps if fps > 0 else 24,\n",
        "                      (frame_width * 2, frame_height * 2))\n",
        "\n",
        "# Output writer for CLAHE comparison (convert to mp4)\n",
        "clahe_out = cv2.VideoWriter('output_clahe_comparison.mp4',\n",
        "                            cv2.VideoWriter_fourcc(*'mp4v'),\n",
        "                            fps if fps > 0 else 24,\n",
        "                            (frame_width * 2, frame_height))"
      ]
    },
    {
      "cell_type": "markdown",
      "metadata": {
        "id": "KDuNBg4ciDo8"
      },
      "source": [
        "# **Histogram Helper Function**\n",
        "The make_histogram_panel function is defined to generate the histogram of the image in three color channels (blue, green, red) using OpenCV.\n",
        "\n",
        "This function computes histograms for each color channel, normalizes the histogram values, and draws them as line plots on a panel."
      ]
    },
    {
      "cell_type": "code",
      "execution_count": null,
      "metadata": {
        "colab": {
          "background_save": true
        },
        "id": "b_DP5IAZiGJo"
      },
      "outputs": [],
      "source": [
        "def make_histogram_panel(bgr_frame, size=(320, 240), bins=64):\n",
        "    panel = np.zeros((size[1], size[0], 3), dtype=np.uint8)\n",
        "    colors = ('b', 'g', 'r')\n",
        "    for i, color in enumerate(colors):\n",
        "        hist = cv2.calcHist([bgr_frame], [i], None, [bins], [0, 256])\n",
        "        cv2.normalize(hist, hist, alpha=0, beta=size[1], norm_type=cv2.NORM_MINMAX)\n",
        "        bin_width = int(size[0] / bins)\n",
        "        for j in range(1, bins):\n",
        "            cv2.line(panel,\n",
        "                     (bin_width*(j-1), size[1] - int(hist[j-1])),\n",
        "                     (bin_width*j, size[1] - int(hist[j])),\n",
        "                     color=(255 if color == 'b' else 0,\n",
        "                            255 if color == 'g' else 0,\n",
        "                            255 if color == 'r' else 0),\n",
        "                     thickness=2)\n",
        "    return panel"
      ]
    },
    {
      "cell_type": "markdown",
      "metadata": {
        "id": "57d5f0rniJLE"
      },
      "source": [
        "# **RMS Contrast Calculator**\n",
        "\n",
        "The rms_contrast function calculates the root mean square contrast of a grayscale image.\n",
        "This function computes the contrast by taking the standard deviation of pixel intensities, which quantifies the variation in image brightness."
      ]
    },
    {
      "cell_type": "code",
      "execution_count": null,
      "metadata": {
        "colab": {
          "background_save": true
        },
        "id": "TDUzG0aPiLiq"
      },
      "outputs": [],
      "source": [
        "def rms_contrast(gray_img):\n",
        "    return np.sqrt(np.mean(np.square(gray_img - np.mean(gray_img))))"
      ]
    },
    {
      "cell_type": "markdown",
      "metadata": {
        "id": "3kyFPj_GiZ0a"
      },
      "source": [
        "# **Main Processing Loop**\n",
        "\n",
        "The code enters a loop where each video frame is processed. Two transformations are applied to each frame:\n",
        "\n",
        "Global Histogram Equalization (HE): Improves the contrast of the image by adjusting the intensity distribution.\n",
        "\n",
        "CLAHE (Contrast Limited Adaptive Histogram Equalization): A more advanced method for enhancing local contrast.\n",
        "cv2.createCLAHE(): Initializes the CLAHE algorithm.\n",
        "\n",
        "The loop reads each frame and applies both transformations."
      ]
    },
    {
      "cell_type": "code",
      "execution_count": null,
      "metadata": {
        "colab": {
          "background_save": true
        },
        "id": "RLkz5re1icDK",
        "outputId": "250dbe2f-0361-4c14-a503-cbe44879e029"
      },
      "outputs": [
        {
          "name": "stderr",
          "output_type": "stream",
          "text": [
            "/tmp/ipython-input-36-3245185099.py:10: DeprecationWarning: Conversion of an array with ndim > 0 to a scalar is deprecated, and will error in future. Ensure you extract a single element from your array before performing this operation. (Deprecated NumPy 1.25.)\n",
            "  (bin_width*(j-1), size[1] - int(hist[j-1])),\n",
            "/tmp/ipython-input-36-3245185099.py:11: DeprecationWarning: Conversion of an array with ndim > 0 to a scalar is deprecated, and will error in future. Ensure you extract a single element from your array before performing this operation. (Deprecated NumPy 1.25.)\n",
            "  (bin_width*j, size[1] - int(hist[j])),\n"
          ]
        },
        {
          "name": "stdout",
          "output_type": "stream",
          "text": [
            "RMS Contrast – HE: 73.15, CLAHE: 54.33\n",
            "RMS Contrast – HE: 73.13, CLAHE: 54.42\n",
            "RMS Contrast – HE: 73.11, CLAHE: 54.37\n",
            "RMS Contrast – HE: 73.09, CLAHE: 54.48\n",
            "RMS Contrast – HE: 73.07, CLAHE: 54.44\n",
            "RMS Contrast – HE: 73.10, CLAHE: 54.37\n",
            "RMS Contrast – HE: 73.08, CLAHE: 54.44\n",
            "RMS Contrast – HE: 73.06, CLAHE: 54.38\n",
            "RMS Contrast – HE: 73.07, CLAHE: 54.49\n",
            "RMS Contrast – HE: 73.07, CLAHE: 54.57\n",
            "RMS Contrast – HE: 73.04, CLAHE: 54.62\n",
            "RMS Contrast – HE: 73.12, CLAHE: 54.70\n",
            "RMS Contrast – HE: 73.18, CLAHE: 54.82\n",
            "RMS Contrast – HE: 73.14, CLAHE: 54.81\n",
            "RMS Contrast – HE: 73.17, CLAHE: 54.80\n",
            "RMS Contrast – HE: 73.15, CLAHE: 54.86\n",
            "RMS Contrast – HE: 73.14, CLAHE: 54.92\n",
            "RMS Contrast – HE: 73.29, CLAHE: 55.12\n",
            "RMS Contrast – HE: 73.29, CLAHE: 55.08\n",
            "RMS Contrast – HE: 73.31, CLAHE: 55.04\n",
            "RMS Contrast – HE: 73.30, CLAHE: 54.94\n",
            "RMS Contrast – HE: 73.27, CLAHE: 54.95\n",
            "RMS Contrast – HE: 73.31, CLAHE: 54.99\n",
            "RMS Contrast – HE: 73.28, CLAHE: 55.01\n",
            "RMS Contrast – HE: 73.31, CLAHE: 54.96\n",
            "RMS Contrast – HE: 73.25, CLAHE: 54.92\n",
            "RMS Contrast – HE: 73.27, CLAHE: 54.87\n"
          ]
        },
        {
          "name": "stderr",
          "output_type": "stream",
          "text": [
            "/tmp/ipython-input-36-3245185099.py:10: DeprecationWarning: Conversion of an array with ndim > 0 to a scalar is deprecated, and will error in future. Ensure you extract a single element from your array before performing this operation. (Deprecated NumPy 1.25.)\n",
            "  (bin_width*(j-1), size[1] - int(hist[j-1])),\n",
            "/tmp/ipython-input-36-3245185099.py:11: DeprecationWarning: Conversion of an array with ndim > 0 to a scalar is deprecated, and will error in future. Ensure you extract a single element from your array before performing this operation. (Deprecated NumPy 1.25.)\n",
            "  (bin_width*j, size[1] - int(hist[j])),\n"
          ]
        },
        {
          "name": "stdout",
          "output_type": "stream",
          "text": [
            "RMS Contrast – HE: 73.25, CLAHE: 54.89\n",
            "RMS Contrast – HE: 73.26, CLAHE: 54.85\n",
            "RMS Contrast – HE: 73.26, CLAHE: 54.86\n",
            "RMS Contrast – HE: 73.23, CLAHE: 54.81\n",
            "RMS Contrast – HE: 73.21, CLAHE: 54.81\n",
            "RMS Contrast – HE: 73.20, CLAHE: 54.71\n",
            "RMS Contrast – HE: 73.20, CLAHE: 54.74\n",
            "RMS Contrast – HE: 73.21, CLAHE: 54.65\n",
            "RMS Contrast – HE: 73.18, CLAHE: 54.65\n",
            "RMS Contrast – HE: 73.11, CLAHE: 54.64\n",
            "RMS Contrast – HE: 73.08, CLAHE: 54.61\n",
            "RMS Contrast – HE: 73.09, CLAHE: 54.65\n",
            "RMS Contrast – HE: 73.09, CLAHE: 54.92\n"
          ]
        },
        {
          "name": "stderr",
          "output_type": "stream",
          "text": [
            "/tmp/ipython-input-36-3245185099.py:10: DeprecationWarning: Conversion of an array with ndim > 0 to a scalar is deprecated, and will error in future. Ensure you extract a single element from your array before performing this operation. (Deprecated NumPy 1.25.)\n",
            "  (bin_width*(j-1), size[1] - int(hist[j-1])),\n",
            "/tmp/ipython-input-36-3245185099.py:11: DeprecationWarning: Conversion of an array with ndim > 0 to a scalar is deprecated, and will error in future. Ensure you extract a single element from your array before performing this operation. (Deprecated NumPy 1.25.)\n",
            "  (bin_width*j, size[1] - int(hist[j])),\n"
          ]
        },
        {
          "name": "stdout",
          "output_type": "stream",
          "text": [
            "RMS Contrast – HE: 73.18, CLAHE: 55.08\n",
            "RMS Contrast – HE: 73.25, CLAHE: 55.33\n",
            "RMS Contrast – HE: 73.24, CLAHE: 55.38\n",
            "RMS Contrast – HE: 73.32, CLAHE: 55.31\n",
            "RMS Contrast – HE: 73.32, CLAHE: 55.26\n",
            "RMS Contrast – HE: 73.27, CLAHE: 55.30\n",
            "RMS Contrast – HE: 73.27, CLAHE: 55.34\n",
            "RMS Contrast – HE: 73.20, CLAHE: 55.25\n",
            "RMS Contrast – HE: 73.19, CLAHE: 55.15\n",
            "RMS Contrast – HE: 73.19, CLAHE: 55.21\n",
            "RMS Contrast – HE: 73.10, CLAHE: 55.06\n",
            "RMS Contrast – HE: 73.09, CLAHE: 55.07\n",
            "RMS Contrast – HE: 73.11, CLAHE: 55.06\n",
            "RMS Contrast – HE: 73.11, CLAHE: 55.02\n",
            "RMS Contrast – HE: 73.05, CLAHE: 55.03\n",
            "RMS Contrast – HE: 73.07, CLAHE: 55.05\n",
            "RMS Contrast – HE: 73.08, CLAHE: 55.06\n",
            "RMS Contrast – HE: 73.08, CLAHE: 55.05\n",
            "RMS Contrast – HE: 73.02, CLAHE: 54.91\n",
            "RMS Contrast – HE: 72.99, CLAHE: 54.87\n",
            "RMS Contrast – HE: 73.09, CLAHE: 54.95\n",
            "RMS Contrast – HE: 73.07, CLAHE: 54.97\n"
          ]
        },
        {
          "name": "stderr",
          "output_type": "stream",
          "text": [
            "/tmp/ipython-input-36-3245185099.py:10: DeprecationWarning: Conversion of an array with ndim > 0 to a scalar is deprecated, and will error in future. Ensure you extract a single element from your array before performing this operation. (Deprecated NumPy 1.25.)\n",
            "  (bin_width*(j-1), size[1] - int(hist[j-1])),\n",
            "/tmp/ipython-input-36-3245185099.py:11: DeprecationWarning: Conversion of an array with ndim > 0 to a scalar is deprecated, and will error in future. Ensure you extract a single element from your array before performing this operation. (Deprecated NumPy 1.25.)\n",
            "  (bin_width*j, size[1] - int(hist[j])),\n"
          ]
        },
        {
          "name": "stdout",
          "output_type": "stream",
          "text": [
            "RMS Contrast – HE: 73.04, CLAHE: 54.94\n",
            "RMS Contrast – HE: 73.03, CLAHE: 54.97\n",
            "RMS Contrast – HE: 73.04, CLAHE: 54.81\n",
            "RMS Contrast – HE: 73.05, CLAHE: 54.78\n",
            "RMS Contrast – HE: 73.01, CLAHE: 54.79\n",
            "RMS Contrast – HE: 73.03, CLAHE: 54.82\n",
            "RMS Contrast – HE: 73.06, CLAHE: 54.84\n",
            "RMS Contrast – HE: 73.08, CLAHE: 54.81\n",
            "RMS Contrast – HE: 73.08, CLAHE: 54.87\n",
            "RMS Contrast – HE: 73.06, CLAHE: 54.88\n",
            "RMS Contrast – HE: 73.08, CLAHE: 54.96\n"
          ]
        },
        {
          "name": "stderr",
          "output_type": "stream",
          "text": [
            "/tmp/ipython-input-36-3245185099.py:10: DeprecationWarning: Conversion of an array with ndim > 0 to a scalar is deprecated, and will error in future. Ensure you extract a single element from your array before performing this operation. (Deprecated NumPy 1.25.)\n",
            "  (bin_width*(j-1), size[1] - int(hist[j-1])),\n",
            "/tmp/ipython-input-36-3245185099.py:11: DeprecationWarning: Conversion of an array with ndim > 0 to a scalar is deprecated, and will error in future. Ensure you extract a single element from your array before performing this operation. (Deprecated NumPy 1.25.)\n",
            "  (bin_width*j, size[1] - int(hist[j])),\n"
          ]
        },
        {
          "name": "stdout",
          "output_type": "stream",
          "text": [
            "RMS Contrast – HE: 73.07, CLAHE: 54.98\n",
            "RMS Contrast – HE: 73.11, CLAHE: 55.06\n",
            "RMS Contrast – HE: 73.11, CLAHE: 55.16\n",
            "RMS Contrast – HE: 73.08, CLAHE: 55.14\n",
            "RMS Contrast – HE: 73.08, CLAHE: 55.13\n",
            "RMS Contrast – HE: 73.10, CLAHE: 55.20\n",
            "RMS Contrast – HE: 73.09, CLAHE: 55.21\n",
            "RMS Contrast – HE: 73.09, CLAHE: 55.20\n",
            "RMS Contrast – HE: 73.06, CLAHE: 55.14\n",
            "RMS Contrast – HE: 73.04, CLAHE: 55.07\n",
            "RMS Contrast – HE: 73.04, CLAHE: 55.11\n",
            "RMS Contrast – HE: 73.07, CLAHE: 55.06\n"
          ]
        },
        {
          "name": "stderr",
          "output_type": "stream",
          "text": [
            "/tmp/ipython-input-36-3245185099.py:10: DeprecationWarning: Conversion of an array with ndim > 0 to a scalar is deprecated, and will error in future. Ensure you extract a single element from your array before performing this operation. (Deprecated NumPy 1.25.)\n",
            "  (bin_width*(j-1), size[1] - int(hist[j-1])),\n",
            "/tmp/ipython-input-36-3245185099.py:11: DeprecationWarning: Conversion of an array with ndim > 0 to a scalar is deprecated, and will error in future. Ensure you extract a single element from your array before performing this operation. (Deprecated NumPy 1.25.)\n",
            "  (bin_width*j, size[1] - int(hist[j])),\n"
          ]
        },
        {
          "name": "stdout",
          "output_type": "stream",
          "text": [
            "RMS Contrast – HE: 73.06, CLAHE: 55.09\n",
            "RMS Contrast – HE: 73.07, CLAHE: 55.05\n",
            "RMS Contrast – HE: 73.06, CLAHE: 55.10\n",
            "RMS Contrast – HE: 73.09, CLAHE: 55.11\n",
            "RMS Contrast – HE: 73.08, CLAHE: 55.13\n",
            "RMS Contrast – HE: 73.07, CLAHE: 55.14\n"
          ]
        },
        {
          "name": "stderr",
          "output_type": "stream",
          "text": [
            "/tmp/ipython-input-36-3245185099.py:10: DeprecationWarning: Conversion of an array with ndim > 0 to a scalar is deprecated, and will error in future. Ensure you extract a single element from your array before performing this operation. (Deprecated NumPy 1.25.)\n",
            "  (bin_width*(j-1), size[1] - int(hist[j-1])),\n",
            "/tmp/ipython-input-36-3245185099.py:11: DeprecationWarning: Conversion of an array with ndim > 0 to a scalar is deprecated, and will error in future. Ensure you extract a single element from your array before performing this operation. (Deprecated NumPy 1.25.)\n",
            "  (bin_width*j, size[1] - int(hist[j])),\n"
          ]
        },
        {
          "name": "stdout",
          "output_type": "stream",
          "text": [
            "RMS Contrast – HE: 73.08, CLAHE: 55.20\n",
            "RMS Contrast – HE: 73.08, CLAHE: 55.24\n",
            "RMS Contrast – HE: 73.08, CLAHE: 55.24\n",
            "RMS Contrast – HE: 73.09, CLAHE: 55.16\n",
            "RMS Contrast – HE: 73.07, CLAHE: 55.17\n",
            "RMS Contrast – HE: 73.05, CLAHE: 55.16\n",
            "RMS Contrast – HE: 73.06, CLAHE: 55.20\n",
            "RMS Contrast – HE: 73.05, CLAHE: 55.20\n",
            "RMS Contrast – HE: 73.06, CLAHE: 55.30\n",
            "RMS Contrast – HE: 73.09, CLAHE: 55.31\n",
            "RMS Contrast – HE: 73.08, CLAHE: 55.36\n",
            "RMS Contrast – HE: 73.08, CLAHE: 55.37\n"
          ]
        },
        {
          "name": "stderr",
          "output_type": "stream",
          "text": [
            "/tmp/ipython-input-36-3245185099.py:10: DeprecationWarning: Conversion of an array with ndim > 0 to a scalar is deprecated, and will error in future. Ensure you extract a single element from your array before performing this operation. (Deprecated NumPy 1.25.)\n",
            "  (bin_width*(j-1), size[1] - int(hist[j-1])),\n",
            "/tmp/ipython-input-36-3245185099.py:11: DeprecationWarning: Conversion of an array with ndim > 0 to a scalar is deprecated, and will error in future. Ensure you extract a single element from your array before performing this operation. (Deprecated NumPy 1.25.)\n",
            "  (bin_width*j, size[1] - int(hist[j])),\n"
          ]
        },
        {
          "name": "stdout",
          "output_type": "stream",
          "text": [
            "RMS Contrast – HE: 73.00, CLAHE: 55.34\n",
            "RMS Contrast – HE: 73.05, CLAHE: 55.29\n",
            "RMS Contrast – HE: 73.05, CLAHE: 55.37\n",
            "RMS Contrast – HE: 73.06, CLAHE: 55.41\n",
            "RMS Contrast – HE: 73.04, CLAHE: 55.38\n",
            "RMS Contrast – HE: 72.97, CLAHE: 55.30\n",
            "RMS Contrast – HE: 72.97, CLAHE: 55.24\n",
            "RMS Contrast – HE: 72.99, CLAHE: 55.28\n",
            "RMS Contrast – HE: 73.02, CLAHE: 55.39\n",
            "RMS Contrast – HE: 73.06, CLAHE: 55.41\n",
            "RMS Contrast – HE: 73.05, CLAHE: 55.40\n",
            "RMS Contrast – HE: 73.07, CLAHE: 55.52\n",
            "RMS Contrast – HE: 73.04, CLAHE: 55.57\n",
            "RMS Contrast – HE: 73.08, CLAHE: 55.65\n",
            "RMS Contrast – HE: 73.10, CLAHE: 55.71\n",
            "RMS Contrast – HE: 73.09, CLAHE: 55.63\n",
            "RMS Contrast – HE: 73.07, CLAHE: 55.56\n",
            "RMS Contrast – HE: 73.03, CLAHE: 55.44\n",
            "RMS Contrast – HE: 73.06, CLAHE: 55.44\n",
            "RMS Contrast – HE: 73.07, CLAHE: 55.44\n",
            "RMS Contrast – HE: 73.06, CLAHE: 55.43\n",
            "RMS Contrast – HE: 73.05, CLAHE: 55.30\n",
            "RMS Contrast – HE: 73.05, CLAHE: 55.23\n",
            "RMS Contrast – HE: 73.05, CLAHE: 55.24\n",
            "RMS Contrast – HE: 73.05, CLAHE: 55.17\n",
            "RMS Contrast – HE: 73.05, CLAHE: 55.15\n"
          ]
        },
        {
          "name": "stderr",
          "output_type": "stream",
          "text": [
            "/tmp/ipython-input-36-3245185099.py:10: DeprecationWarning: Conversion of an array with ndim > 0 to a scalar is deprecated, and will error in future. Ensure you extract a single element from your array before performing this operation. (Deprecated NumPy 1.25.)\n",
            "  (bin_width*(j-1), size[1] - int(hist[j-1])),\n",
            "/tmp/ipython-input-36-3245185099.py:11: DeprecationWarning: Conversion of an array with ndim > 0 to a scalar is deprecated, and will error in future. Ensure you extract a single element from your array before performing this operation. (Deprecated NumPy 1.25.)\n",
            "  (bin_width*j, size[1] - int(hist[j])),\n"
          ]
        },
        {
          "name": "stdout",
          "output_type": "stream",
          "text": [
            "RMS Contrast – HE: 73.07, CLAHE: 55.15\n",
            "RMS Contrast – HE: 73.07, CLAHE: 55.17\n",
            "RMS Contrast – HE: 73.04, CLAHE: 55.25\n",
            "RMS Contrast – HE: 73.06, CLAHE: 55.36\n",
            "RMS Contrast – HE: 73.07, CLAHE: 55.43\n",
            "RMS Contrast – HE: 73.07, CLAHE: 55.51\n",
            "RMS Contrast – HE: 73.12, CLAHE: 55.47\n",
            "RMS Contrast – HE: 73.13, CLAHE: 55.44\n",
            "RMS Contrast – HE: 73.15, CLAHE: 55.31\n",
            "RMS Contrast – HE: 73.17, CLAHE: 55.38\n",
            "RMS Contrast – HE: 73.13, CLAHE: 55.37\n"
          ]
        },
        {
          "name": "stderr",
          "output_type": "stream",
          "text": [
            "/tmp/ipython-input-36-3245185099.py:10: DeprecationWarning: Conversion of an array with ndim > 0 to a scalar is deprecated, and will error in future. Ensure you extract a single element from your array before performing this operation. (Deprecated NumPy 1.25.)\n",
            "  (bin_width*(j-1), size[1] - int(hist[j-1])),\n",
            "/tmp/ipython-input-36-3245185099.py:11: DeprecationWarning: Conversion of an array with ndim > 0 to a scalar is deprecated, and will error in future. Ensure you extract a single element from your array before performing this operation. (Deprecated NumPy 1.25.)\n",
            "  (bin_width*j, size[1] - int(hist[j])),\n"
          ]
        },
        {
          "name": "stdout",
          "output_type": "stream",
          "text": [
            "RMS Contrast – HE: 73.06, CLAHE: 55.16\n",
            "RMS Contrast – HE: 73.17, CLAHE: 55.36\n",
            "RMS Contrast – HE: 73.11, CLAHE: 55.31\n",
            "RMS Contrast – HE: 73.16, CLAHE: 55.48\n",
            "RMS Contrast – HE: 73.18, CLAHE: 55.45\n",
            "RMS Contrast – HE: 73.14, CLAHE: 55.49\n",
            "RMS Contrast – HE: 73.14, CLAHE: 55.39\n",
            "RMS Contrast – HE: 73.09, CLAHE: 55.38\n",
            "RMS Contrast – HE: 73.03, CLAHE: 55.31\n",
            "RMS Contrast – HE: 72.98, CLAHE: 55.19\n",
            "RMS Contrast – HE: 72.99, CLAHE: 55.17\n",
            "RMS Contrast – HE: 73.03, CLAHE: 55.19\n"
          ]
        },
        {
          "name": "stderr",
          "output_type": "stream",
          "text": [
            "/tmp/ipython-input-36-3245185099.py:10: DeprecationWarning: Conversion of an array with ndim > 0 to a scalar is deprecated, and will error in future. Ensure you extract a single element from your array before performing this operation. (Deprecated NumPy 1.25.)\n",
            "  (bin_width*(j-1), size[1] - int(hist[j-1])),\n",
            "/tmp/ipython-input-36-3245185099.py:11: DeprecationWarning: Conversion of an array with ndim > 0 to a scalar is deprecated, and will error in future. Ensure you extract a single element from your array before performing this operation. (Deprecated NumPy 1.25.)\n",
            "  (bin_width*j, size[1] - int(hist[j])),\n"
          ]
        },
        {
          "name": "stdout",
          "output_type": "stream",
          "text": [
            "RMS Contrast – HE: 73.02, CLAHE: 55.15\n",
            "RMS Contrast – HE: 73.01, CLAHE: 55.17\n",
            "RMS Contrast – HE: 73.02, CLAHE: 55.16\n",
            "RMS Contrast – HE: 73.01, CLAHE: 55.07\n",
            "RMS Contrast – HE: 73.01, CLAHE: 55.02\n",
            "RMS Contrast – HE: 72.98, CLAHE: 54.92\n",
            "RMS Contrast – HE: 73.01, CLAHE: 54.88\n",
            "RMS Contrast – HE: 73.02, CLAHE: 54.87\n",
            "RMS Contrast – HE: 73.05, CLAHE: 55.00\n",
            "RMS Contrast – HE: 73.03, CLAHE: 55.00\n",
            "RMS Contrast – HE: 72.99, CLAHE: 54.88\n",
            "RMS Contrast – HE: 72.94, CLAHE: 54.82\n"
          ]
        },
        {
          "name": "stderr",
          "output_type": "stream",
          "text": [
            "/tmp/ipython-input-36-3245185099.py:10: DeprecationWarning: Conversion of an array with ndim > 0 to a scalar is deprecated, and will error in future. Ensure you extract a single element from your array before performing this operation. (Deprecated NumPy 1.25.)\n",
            "  (bin_width*(j-1), size[1] - int(hist[j-1])),\n",
            "/tmp/ipython-input-36-3245185099.py:11: DeprecationWarning: Conversion of an array with ndim > 0 to a scalar is deprecated, and will error in future. Ensure you extract a single element from your array before performing this operation. (Deprecated NumPy 1.25.)\n",
            "  (bin_width*j, size[1] - int(hist[j])),\n"
          ]
        },
        {
          "name": "stdout",
          "output_type": "stream",
          "text": [
            "RMS Contrast – HE: 72.98, CLAHE: 54.93\n",
            "RMS Contrast – HE: 73.06, CLAHE: 55.06\n",
            "RMS Contrast – HE: 73.08, CLAHE: 54.99\n",
            "RMS Contrast – HE: 73.08, CLAHE: 54.98\n",
            "RMS Contrast – HE: 73.03, CLAHE: 54.97\n",
            "RMS Contrast – HE: 73.08, CLAHE: 54.96\n",
            "RMS Contrast – HE: 73.08, CLAHE: 54.98\n",
            "RMS Contrast – HE: 73.09, CLAHE: 54.96\n",
            "RMS Contrast – HE: 73.06, CLAHE: 54.92\n",
            "RMS Contrast – HE: 73.05, CLAHE: 54.86\n",
            "RMS Contrast – HE: 73.02, CLAHE: 54.88\n",
            "RMS Contrast – HE: 73.04, CLAHE: 54.91\n",
            "RMS Contrast – HE: 73.07, CLAHE: 54.94\n"
          ]
        },
        {
          "name": "stderr",
          "output_type": "stream",
          "text": [
            "/tmp/ipython-input-36-3245185099.py:10: DeprecationWarning: Conversion of an array with ndim > 0 to a scalar is deprecated, and will error in future. Ensure you extract a single element from your array before performing this operation. (Deprecated NumPy 1.25.)\n",
            "  (bin_width*(j-1), size[1] - int(hist[j-1])),\n",
            "/tmp/ipython-input-36-3245185099.py:11: DeprecationWarning: Conversion of an array with ndim > 0 to a scalar is deprecated, and will error in future. Ensure you extract a single element from your array before performing this operation. (Deprecated NumPy 1.25.)\n",
            "  (bin_width*j, size[1] - int(hist[j])),\n"
          ]
        },
        {
          "name": "stdout",
          "output_type": "stream",
          "text": [
            "RMS Contrast – HE: 73.05, CLAHE: 54.89\n",
            "RMS Contrast – HE: 73.08, CLAHE: 54.88\n",
            "RMS Contrast – HE: 73.03, CLAHE: 54.82\n",
            "RMS Contrast – HE: 73.04, CLAHE: 54.90\n",
            "RMS Contrast – HE: 73.00, CLAHE: 54.79\n",
            "RMS Contrast – HE: 73.03, CLAHE: 54.79\n",
            "RMS Contrast – HE: 72.99, CLAHE: 54.86\n",
            "RMS Contrast – HE: 72.99, CLAHE: 54.90\n",
            "RMS Contrast – HE: 73.01, CLAHE: 54.85\n",
            "RMS Contrast – HE: 73.01, CLAHE: 54.95\n",
            "RMS Contrast – HE: 73.02, CLAHE: 54.97\n",
            "RMS Contrast – HE: 73.06, CLAHE: 55.00\n"
          ]
        },
        {
          "name": "stderr",
          "output_type": "stream",
          "text": [
            "/tmp/ipython-input-36-3245185099.py:10: DeprecationWarning: Conversion of an array with ndim > 0 to a scalar is deprecated, and will error in future. Ensure you extract a single element from your array before performing this operation. (Deprecated NumPy 1.25.)\n",
            "  (bin_width*(j-1), size[1] - int(hist[j-1])),\n",
            "/tmp/ipython-input-36-3245185099.py:11: DeprecationWarning: Conversion of an array with ndim > 0 to a scalar is deprecated, and will error in future. Ensure you extract a single element from your array before performing this operation. (Deprecated NumPy 1.25.)\n",
            "  (bin_width*j, size[1] - int(hist[j])),\n"
          ]
        },
        {
          "name": "stdout",
          "output_type": "stream",
          "text": [
            "RMS Contrast – HE: 73.06, CLAHE: 55.02\n",
            "RMS Contrast – HE: 73.06, CLAHE: 55.04\n",
            "RMS Contrast – HE: 73.05, CLAHE: 55.10\n",
            "RMS Contrast – HE: 73.07, CLAHE: 55.06\n",
            "RMS Contrast – HE: 73.08, CLAHE: 55.03\n",
            "RMS Contrast – HE: 73.06, CLAHE: 54.92\n",
            "RMS Contrast – HE: 73.12, CLAHE: 55.01\n",
            "RMS Contrast – HE: 73.13, CLAHE: 54.94\n",
            "RMS Contrast – HE: 73.16, CLAHE: 54.98\n",
            "RMS Contrast – HE: 73.17, CLAHE: 54.86\n",
            "RMS Contrast – HE: 73.14, CLAHE: 54.85\n",
            "RMS Contrast – HE: 73.17, CLAHE: 54.92\n",
            "RMS Contrast – HE: 73.17, CLAHE: 54.95\n",
            "RMS Contrast – HE: 73.21, CLAHE: 55.03\n",
            "RMS Contrast – HE: 73.23, CLAHE: 55.08\n",
            "RMS Contrast – HE: 73.24, CLAHE: 55.22\n"
          ]
        },
        {
          "name": "stderr",
          "output_type": "stream",
          "text": [
            "/tmp/ipython-input-36-3245185099.py:10: DeprecationWarning: Conversion of an array with ndim > 0 to a scalar is deprecated, and will error in future. Ensure you extract a single element from your array before performing this operation. (Deprecated NumPy 1.25.)\n",
            "  (bin_width*(j-1), size[1] - int(hist[j-1])),\n",
            "/tmp/ipython-input-36-3245185099.py:11: DeprecationWarning: Conversion of an array with ndim > 0 to a scalar is deprecated, and will error in future. Ensure you extract a single element from your array before performing this operation. (Deprecated NumPy 1.25.)\n",
            "  (bin_width*j, size[1] - int(hist[j])),\n"
          ]
        },
        {
          "name": "stdout",
          "output_type": "stream",
          "text": [
            "RMS Contrast – HE: 73.27, CLAHE: 55.27\n",
            "RMS Contrast – HE: 73.28, CLAHE: 55.19\n",
            "RMS Contrast – HE: 73.23, CLAHE: 55.18\n",
            "RMS Contrast – HE: 73.21, CLAHE: 55.12\n",
            "RMS Contrast – HE: 73.19, CLAHE: 55.01\n",
            "RMS Contrast – HE: 73.12, CLAHE: 54.86\n",
            "RMS Contrast – HE: 73.06, CLAHE: 54.71\n",
            "RMS Contrast – HE: 73.05, CLAHE: 54.62\n",
            "RMS Contrast – HE: 73.05, CLAHE: 54.70\n",
            "RMS Contrast – HE: 73.05, CLAHE: 54.66\n",
            "RMS Contrast – HE: 73.05, CLAHE: 54.59\n",
            "RMS Contrast – HE: 73.02, CLAHE: 54.56\n",
            "RMS Contrast – HE: 73.01, CLAHE: 54.68\n"
          ]
        },
        {
          "name": "stderr",
          "output_type": "stream",
          "text": [
            "/tmp/ipython-input-36-3245185099.py:10: DeprecationWarning: Conversion of an array with ndim > 0 to a scalar is deprecated, and will error in future. Ensure you extract a single element from your array before performing this operation. (Deprecated NumPy 1.25.)\n",
            "  (bin_width*(j-1), size[1] - int(hist[j-1])),\n",
            "/tmp/ipython-input-36-3245185099.py:11: DeprecationWarning: Conversion of an array with ndim > 0 to a scalar is deprecated, and will error in future. Ensure you extract a single element from your array before performing this operation. (Deprecated NumPy 1.25.)\n",
            "  (bin_width*j, size[1] - int(hist[j])),\n"
          ]
        },
        {
          "name": "stdout",
          "output_type": "stream",
          "text": [
            "RMS Contrast – HE: 73.07, CLAHE: 54.80\n",
            "RMS Contrast – HE: 73.12, CLAHE: 54.82\n",
            "RMS Contrast – HE: 73.21, CLAHE: 54.88\n",
            "RMS Contrast – HE: 73.23, CLAHE: 55.03\n",
            "RMS Contrast – HE: 73.22, CLAHE: 55.02\n",
            "RMS Contrast – HE: 73.20, CLAHE: 54.95\n"
          ]
        },
        {
          "name": "stderr",
          "output_type": "stream",
          "text": [
            "/tmp/ipython-input-36-3245185099.py:10: DeprecationWarning: Conversion of an array with ndim > 0 to a scalar is deprecated, and will error in future. Ensure you extract a single element from your array before performing this operation. (Deprecated NumPy 1.25.)\n",
            "  (bin_width*(j-1), size[1] - int(hist[j-1])),\n",
            "/tmp/ipython-input-36-3245185099.py:11: DeprecationWarning: Conversion of an array with ndim > 0 to a scalar is deprecated, and will error in future. Ensure you extract a single element from your array before performing this operation. (Deprecated NumPy 1.25.)\n",
            "  (bin_width*j, size[1] - int(hist[j])),\n"
          ]
        },
        {
          "name": "stdout",
          "output_type": "stream",
          "text": [
            "RMS Contrast – HE: 73.18, CLAHE: 54.78\n",
            "RMS Contrast – HE: 73.17, CLAHE: 54.73\n",
            "RMS Contrast – HE: 73.19, CLAHE: 54.82\n",
            "RMS Contrast – HE: 73.24, CLAHE: 54.90\n",
            "RMS Contrast – HE: 73.29, CLAHE: 54.99\n",
            "RMS Contrast – HE: 73.35, CLAHE: 55.30\n",
            "RMS Contrast – HE: 73.38, CLAHE: 55.34\n",
            "RMS Contrast – HE: 73.43, CLAHE: 55.34\n",
            "RMS Contrast – HE: 73.37, CLAHE: 55.11\n",
            "RMS Contrast – HE: 73.38, CLAHE: 55.16\n",
            "RMS Contrast – HE: 73.37, CLAHE: 55.25\n",
            "RMS Contrast – HE: 73.32, CLAHE: 55.15\n"
          ]
        },
        {
          "name": "stderr",
          "output_type": "stream",
          "text": [
            "/tmp/ipython-input-36-3245185099.py:10: DeprecationWarning: Conversion of an array with ndim > 0 to a scalar is deprecated, and will error in future. Ensure you extract a single element from your array before performing this operation. (Deprecated NumPy 1.25.)\n",
            "  (bin_width*(j-1), size[1] - int(hist[j-1])),\n",
            "/tmp/ipython-input-36-3245185099.py:11: DeprecationWarning: Conversion of an array with ndim > 0 to a scalar is deprecated, and will error in future. Ensure you extract a single element from your array before performing this operation. (Deprecated NumPy 1.25.)\n",
            "  (bin_width*j, size[1] - int(hist[j])),\n"
          ]
        },
        {
          "name": "stdout",
          "output_type": "stream",
          "text": [
            "RMS Contrast – HE: 73.33, CLAHE: 55.14\n",
            "RMS Contrast – HE: 73.33, CLAHE: 55.18\n",
            "RMS Contrast – HE: 73.29, CLAHE: 55.21\n",
            "RMS Contrast – HE: 73.28, CLAHE: 55.18\n",
            "RMS Contrast – HE: 73.28, CLAHE: 55.12\n",
            "RMS Contrast – HE: 73.32, CLAHE: 55.06\n",
            "RMS Contrast – HE: 73.30, CLAHE: 55.04\n",
            "RMS Contrast – HE: 73.29, CLAHE: 55.10\n",
            "RMS Contrast – HE: 73.28, CLAHE: 54.94\n",
            "RMS Contrast – HE: 73.27, CLAHE: 54.93\n",
            "RMS Contrast – HE: 73.30, CLAHE: 54.88\n",
            "RMS Contrast – HE: 73.29, CLAHE: 55.00\n"
          ]
        },
        {
          "name": "stderr",
          "output_type": "stream",
          "text": [
            "/tmp/ipython-input-36-3245185099.py:10: DeprecationWarning: Conversion of an array with ndim > 0 to a scalar is deprecated, and will error in future. Ensure you extract a single element from your array before performing this operation. (Deprecated NumPy 1.25.)\n",
            "  (bin_width*(j-1), size[1] - int(hist[j-1])),\n",
            "/tmp/ipython-input-36-3245185099.py:11: DeprecationWarning: Conversion of an array with ndim > 0 to a scalar is deprecated, and will error in future. Ensure you extract a single element from your array before performing this operation. (Deprecated NumPy 1.25.)\n",
            "  (bin_width*j, size[1] - int(hist[j])),\n"
          ]
        },
        {
          "name": "stdout",
          "output_type": "stream",
          "text": [
            "RMS Contrast – HE: 73.27, CLAHE: 55.01\n",
            "RMS Contrast – HE: 73.25, CLAHE: 54.89\n",
            "RMS Contrast – HE: 73.28, CLAHE: 54.95\n",
            "RMS Contrast – HE: 73.25, CLAHE: 54.94\n",
            "RMS Contrast – HE: 73.23, CLAHE: 54.91\n",
            "RMS Contrast – HE: 73.25, CLAHE: 55.03\n",
            "RMS Contrast – HE: 73.24, CLAHE: 55.02\n",
            "RMS Contrast – HE: 73.22, CLAHE: 55.02\n",
            "RMS Contrast – HE: 73.21, CLAHE: 55.01\n",
            "RMS Contrast – HE: 73.24, CLAHE: 55.10\n",
            "RMS Contrast – HE: 73.23, CLAHE: 55.04\n",
            "RMS Contrast – HE: 73.21, CLAHE: 54.95\n",
            "RMS Contrast – HE: 73.23, CLAHE: 54.86\n",
            "RMS Contrast – HE: 73.20, CLAHE: 54.78\n",
            "RMS Contrast – HE: 73.20, CLAHE: 54.89\n"
          ]
        },
        {
          "name": "stderr",
          "output_type": "stream",
          "text": [
            "/tmp/ipython-input-36-3245185099.py:10: DeprecationWarning: Conversion of an array with ndim > 0 to a scalar is deprecated, and will error in future. Ensure you extract a single element from your array before performing this operation. (Deprecated NumPy 1.25.)\n",
            "  (bin_width*(j-1), size[1] - int(hist[j-1])),\n",
            "/tmp/ipython-input-36-3245185099.py:11: DeprecationWarning: Conversion of an array with ndim > 0 to a scalar is deprecated, and will error in future. Ensure you extract a single element from your array before performing this operation. (Deprecated NumPy 1.25.)\n",
            "  (bin_width*j, size[1] - int(hist[j])),\n"
          ]
        },
        {
          "name": "stdout",
          "output_type": "stream",
          "text": [
            "RMS Contrast – HE: 73.19, CLAHE: 54.86\n",
            "RMS Contrast – HE: 73.16, CLAHE: 54.74\n",
            "RMS Contrast – HE: 73.16, CLAHE: 54.74\n",
            "RMS Contrast – HE: 73.18, CLAHE: 54.73\n",
            "RMS Contrast – HE: 73.21, CLAHE: 54.75\n",
            "RMS Contrast – HE: 73.20, CLAHE: 54.77\n",
            "RMS Contrast – HE: 73.16, CLAHE: 54.72\n",
            "RMS Contrast – HE: 73.11, CLAHE: 54.57\n",
            "RMS Contrast – HE: 73.07, CLAHE: 54.50\n",
            "RMS Contrast – HE: 73.08, CLAHE: 54.56\n",
            "RMS Contrast – HE: 73.13, CLAHE: 54.65\n",
            "RMS Contrast – HE: 73.15, CLAHE: 54.66\n",
            "RMS Contrast – HE: 73.19, CLAHE: 54.78\n",
            "RMS Contrast – HE: 73.16, CLAHE: 54.76\n",
            "RMS Contrast – HE: 73.13, CLAHE: 54.74\n",
            "RMS Contrast – HE: 73.12, CLAHE: 54.72\n",
            "RMS Contrast – HE: 73.13, CLAHE: 54.80\n",
            "RMS Contrast – HE: 73.12, CLAHE: 54.77\n",
            "RMS Contrast – HE: 73.11, CLAHE: 54.79\n",
            "RMS Contrast – HE: 73.14, CLAHE: 54.82\n"
          ]
        },
        {
          "name": "stderr",
          "output_type": "stream",
          "text": [
            "/tmp/ipython-input-36-3245185099.py:10: DeprecationWarning: Conversion of an array with ndim > 0 to a scalar is deprecated, and will error in future. Ensure you extract a single element from your array before performing this operation. (Deprecated NumPy 1.25.)\n",
            "  (bin_width*(j-1), size[1] - int(hist[j-1])),\n",
            "/tmp/ipython-input-36-3245185099.py:11: DeprecationWarning: Conversion of an array with ndim > 0 to a scalar is deprecated, and will error in future. Ensure you extract a single element from your array before performing this operation. (Deprecated NumPy 1.25.)\n",
            "  (bin_width*j, size[1] - int(hist[j])),\n"
          ]
        },
        {
          "name": "stdout",
          "output_type": "stream",
          "text": [
            "RMS Contrast – HE: 73.13, CLAHE: 54.82\n",
            "RMS Contrast – HE: 73.13, CLAHE: 54.84\n",
            "RMS Contrast – HE: 73.09, CLAHE: 54.85\n",
            "RMS Contrast – HE: 73.08, CLAHE: 54.77\n",
            "RMS Contrast – HE: 73.04, CLAHE: 54.77\n",
            "RMS Contrast – HE: 73.08, CLAHE: 54.77\n",
            "RMS Contrast – HE: 73.08, CLAHE: 54.73\n",
            "RMS Contrast – HE: 73.07, CLAHE: 54.70\n",
            "RMS Contrast – HE: 73.06, CLAHE: 54.73\n",
            "RMS Contrast – HE: 73.08, CLAHE: 54.69\n",
            "RMS Contrast – HE: 73.08, CLAHE: 54.67\n",
            "RMS Contrast – HE: 72.99, CLAHE: 54.58\n",
            "RMS Contrast – HE: 73.04, CLAHE: 54.62\n",
            "RMS Contrast – HE: 73.07, CLAHE: 54.67\n"
          ]
        },
        {
          "name": "stderr",
          "output_type": "stream",
          "text": [
            "/tmp/ipython-input-36-3245185099.py:10: DeprecationWarning: Conversion of an array with ndim > 0 to a scalar is deprecated, and will error in future. Ensure you extract a single element from your array before performing this operation. (Deprecated NumPy 1.25.)\n",
            "  (bin_width*(j-1), size[1] - int(hist[j-1])),\n",
            "/tmp/ipython-input-36-3245185099.py:11: DeprecationWarning: Conversion of an array with ndim > 0 to a scalar is deprecated, and will error in future. Ensure you extract a single element from your array before performing this operation. (Deprecated NumPy 1.25.)\n",
            "  (bin_width*j, size[1] - int(hist[j])),\n"
          ]
        },
        {
          "name": "stdout",
          "output_type": "stream",
          "text": [
            "RMS Contrast – HE: 73.06, CLAHE: 54.67\n",
            "RMS Contrast – HE: 73.04, CLAHE: 54.68\n",
            "RMS Contrast – HE: 73.09, CLAHE: 54.67\n",
            "RMS Contrast – HE: 73.05, CLAHE: 54.62\n",
            "RMS Contrast – HE: 73.03, CLAHE: 54.61\n",
            "RMS Contrast – HE: 73.05, CLAHE: 54.62\n",
            "RMS Contrast – HE: 73.05, CLAHE: 54.63\n",
            "RMS Contrast – HE: 73.01, CLAHE: 54.52\n",
            "RMS Contrast – HE: 73.04, CLAHE: 54.54\n",
            "RMS Contrast – HE: 73.08, CLAHE: 54.62\n"
          ]
        },
        {
          "name": "stderr",
          "output_type": "stream",
          "text": [
            "/tmp/ipython-input-36-3245185099.py:10: DeprecationWarning: Conversion of an array with ndim > 0 to a scalar is deprecated, and will error in future. Ensure you extract a single element from your array before performing this operation. (Deprecated NumPy 1.25.)\n",
            "  (bin_width*(j-1), size[1] - int(hist[j-1])),\n",
            "/tmp/ipython-input-36-3245185099.py:11: DeprecationWarning: Conversion of an array with ndim > 0 to a scalar is deprecated, and will error in future. Ensure you extract a single element from your array before performing this operation. (Deprecated NumPy 1.25.)\n",
            "  (bin_width*j, size[1] - int(hist[j])),\n"
          ]
        },
        {
          "name": "stdout",
          "output_type": "stream",
          "text": [
            "RMS Contrast – HE: 73.09, CLAHE: 54.61\n",
            "RMS Contrast – HE: 73.06, CLAHE: 54.60\n",
            "RMS Contrast – HE: 73.08, CLAHE: 54.57\n",
            "RMS Contrast – HE: 73.07, CLAHE: 54.56\n",
            "RMS Contrast – HE: 73.06, CLAHE: 54.62\n",
            "RMS Contrast – HE: 73.09, CLAHE: 54.67\n",
            "RMS Contrast – HE: 73.08, CLAHE: 54.68\n",
            "RMS Contrast – HE: 73.09, CLAHE: 54.62\n",
            "RMS Contrast – HE: 73.10, CLAHE: 54.65\n",
            "RMS Contrast – HE: 73.10, CLAHE: 54.67\n",
            "RMS Contrast – HE: 73.12, CLAHE: 54.60\n",
            "RMS Contrast – HE: 73.10, CLAHE: 54.53\n",
            "RMS Contrast – HE: 73.09, CLAHE: 54.40\n",
            "RMS Contrast – HE: 73.10, CLAHE: 54.35\n",
            "RMS Contrast – HE: 73.11, CLAHE: 54.41\n",
            "RMS Contrast – HE: 73.09, CLAHE: 54.39\n",
            "RMS Contrast – HE: 73.10, CLAHE: 54.41\n",
            "RMS Contrast – HE: 73.11, CLAHE: 54.42\n",
            "RMS Contrast – HE: 73.08, CLAHE: 54.42\n"
          ]
        },
        {
          "name": "stderr",
          "output_type": "stream",
          "text": [
            "/tmp/ipython-input-36-3245185099.py:10: DeprecationWarning: Conversion of an array with ndim > 0 to a scalar is deprecated, and will error in future. Ensure you extract a single element from your array before performing this operation. (Deprecated NumPy 1.25.)\n",
            "  (bin_width*(j-1), size[1] - int(hist[j-1])),\n",
            "/tmp/ipython-input-36-3245185099.py:11: DeprecationWarning: Conversion of an array with ndim > 0 to a scalar is deprecated, and will error in future. Ensure you extract a single element from your array before performing this operation. (Deprecated NumPy 1.25.)\n",
            "  (bin_width*j, size[1] - int(hist[j])),\n"
          ]
        },
        {
          "name": "stdout",
          "output_type": "stream",
          "text": [
            "RMS Contrast – HE: 73.12, CLAHE: 54.59\n",
            "RMS Contrast – HE: 73.12, CLAHE: 54.60\n",
            "RMS Contrast – HE: 73.14, CLAHE: 54.59\n",
            "RMS Contrast – HE: 73.15, CLAHE: 54.58\n",
            "RMS Contrast – HE: 73.16, CLAHE: 54.59\n",
            "RMS Contrast – HE: 73.16, CLAHE: 54.65\n",
            "RMS Contrast – HE: 73.18, CLAHE: 54.63\n",
            "RMS Contrast – HE: 73.22, CLAHE: 54.67\n",
            "RMS Contrast – HE: 73.21, CLAHE: 54.70\n",
            "RMS Contrast – HE: 73.21, CLAHE: 54.58\n",
            "RMS Contrast – HE: 73.18, CLAHE: 54.61\n",
            "RMS Contrast – HE: 73.21, CLAHE: 54.60\n",
            "RMS Contrast – HE: 73.15, CLAHE: 54.50\n",
            "RMS Contrast – HE: 73.14, CLAHE: 54.48\n",
            "RMS Contrast – HE: 73.14, CLAHE: 54.56\n",
            "RMS Contrast – HE: 73.12, CLAHE: 54.55\n",
            "RMS Contrast – HE: 73.20, CLAHE: 54.63\n",
            "RMS Contrast – HE: 73.22, CLAHE: 54.68\n",
            "RMS Contrast – HE: 73.18, CLAHE: 54.63\n",
            "RMS Contrast – HE: 73.21, CLAHE: 54.59\n",
            "RMS Contrast – HE: 73.25, CLAHE: 54.74\n",
            "RMS Contrast – HE: 73.20, CLAHE: 54.73\n",
            "RMS Contrast – HE: 73.20, CLAHE: 54.69\n",
            "RMS Contrast – HE: 73.19, CLAHE: 54.71\n",
            "RMS Contrast – HE: 73.21, CLAHE: 54.58\n",
            "RMS Contrast – HE: 73.22, CLAHE: 54.61\n",
            "RMS Contrast – HE: 73.21, CLAHE: 54.65\n",
            "RMS Contrast – HE: 73.19, CLAHE: 54.60\n",
            "RMS Contrast – HE: 73.15, CLAHE: 54.51\n",
            "RMS Contrast – HE: 73.20, CLAHE: 54.55\n",
            "RMS Contrast – HE: 73.17, CLAHE: 54.54\n",
            "RMS Contrast – HE: 73.15, CLAHE: 54.56\n",
            "RMS Contrast – HE: 73.22, CLAHE: 54.61\n",
            "RMS Contrast – HE: 73.27, CLAHE: 54.69\n",
            "RMS Contrast – HE: 73.32, CLAHE: 54.75\n",
            "RMS Contrast – HE: 73.32, CLAHE: 54.77\n",
            "RMS Contrast – HE: 73.31, CLAHE: 54.78\n",
            "RMS Contrast – HE: 73.34, CLAHE: 54.80\n"
          ]
        },
        {
          "name": "stderr",
          "output_type": "stream",
          "text": [
            "/tmp/ipython-input-36-3245185099.py:10: DeprecationWarning: Conversion of an array with ndim > 0 to a scalar is deprecated, and will error in future. Ensure you extract a single element from your array before performing this operation. (Deprecated NumPy 1.25.)\n",
            "  (bin_width*(j-1), size[1] - int(hist[j-1])),\n",
            "/tmp/ipython-input-36-3245185099.py:11: DeprecationWarning: Conversion of an array with ndim > 0 to a scalar is deprecated, and will error in future. Ensure you extract a single element from your array before performing this operation. (Deprecated NumPy 1.25.)\n",
            "  (bin_width*j, size[1] - int(hist[j])),\n"
          ]
        },
        {
          "name": "stdout",
          "output_type": "stream",
          "text": [
            "RMS Contrast – HE: 73.28, CLAHE: 54.79\n",
            "RMS Contrast – HE: 73.25, CLAHE: 54.82\n",
            "RMS Contrast – HE: 73.25, CLAHE: 54.86\n",
            "RMS Contrast – HE: 73.26, CLAHE: 54.83\n"
          ]
        },
        {
          "name": "stderr",
          "output_type": "stream",
          "text": [
            "/tmp/ipython-input-36-3245185099.py:10: DeprecationWarning: Conversion of an array with ndim > 0 to a scalar is deprecated, and will error in future. Ensure you extract a single element from your array before performing this operation. (Deprecated NumPy 1.25.)\n",
            "  (bin_width*(j-1), size[1] - int(hist[j-1])),\n",
            "/tmp/ipython-input-36-3245185099.py:11: DeprecationWarning: Conversion of an array with ndim > 0 to a scalar is deprecated, and will error in future. Ensure you extract a single element from your array before performing this operation. (Deprecated NumPy 1.25.)\n",
            "  (bin_width*j, size[1] - int(hist[j])),\n"
          ]
        },
        {
          "name": "stdout",
          "output_type": "stream",
          "text": [
            "RMS Contrast – HE: 73.25, CLAHE: 54.80\n",
            "RMS Contrast – HE: 73.28, CLAHE: 54.73\n",
            "RMS Contrast – HE: 73.25, CLAHE: 54.71\n",
            "RMS Contrast – HE: 73.17, CLAHE: 54.61\n",
            "RMS Contrast – HE: 73.18, CLAHE: 54.54\n",
            "RMS Contrast – HE: 73.15, CLAHE: 54.45\n",
            "RMS Contrast – HE: 73.18, CLAHE: 54.41\n",
            "RMS Contrast – HE: 73.15, CLAHE: 54.34\n",
            "RMS Contrast – HE: 73.17, CLAHE: 54.45\n",
            "RMS Contrast – HE: 73.16, CLAHE: 54.41\n",
            "RMS Contrast – HE: 73.18, CLAHE: 54.48\n",
            "RMS Contrast – HE: 73.20, CLAHE: 54.48\n",
            "RMS Contrast – HE: 73.16, CLAHE: 54.50\n",
            "RMS Contrast – HE: 73.18, CLAHE: 54.43\n",
            "RMS Contrast – HE: 73.19, CLAHE: 54.42\n",
            "RMS Contrast – HE: 73.19, CLAHE: 54.40\n",
            "RMS Contrast – HE: 73.20, CLAHE: 54.30\n",
            "RMS Contrast – HE: 73.22, CLAHE: 54.43\n",
            "RMS Contrast – HE: 73.23, CLAHE: 54.44\n"
          ]
        },
        {
          "name": "stderr",
          "output_type": "stream",
          "text": [
            "/tmp/ipython-input-36-3245185099.py:10: DeprecationWarning: Conversion of an array with ndim > 0 to a scalar is deprecated, and will error in future. Ensure you extract a single element from your array before performing this operation. (Deprecated NumPy 1.25.)\n",
            "  (bin_width*(j-1), size[1] - int(hist[j-1])),\n",
            "/tmp/ipython-input-36-3245185099.py:11: DeprecationWarning: Conversion of an array with ndim > 0 to a scalar is deprecated, and will error in future. Ensure you extract a single element from your array before performing this operation. (Deprecated NumPy 1.25.)\n",
            "  (bin_width*j, size[1] - int(hist[j])),\n"
          ]
        },
        {
          "name": "stdout",
          "output_type": "stream",
          "text": [
            "RMS Contrast – HE: 73.22, CLAHE: 54.46\n",
            "RMS Contrast – HE: 73.28, CLAHE: 54.57\n",
            "RMS Contrast – HE: 73.31, CLAHE: 54.69\n",
            "RMS Contrast – HE: 73.29, CLAHE: 54.70\n",
            "RMS Contrast – HE: 73.28, CLAHE: 54.71\n",
            "RMS Contrast – HE: 73.25, CLAHE: 54.67\n",
            "RMS Contrast – HE: 73.22, CLAHE: 54.63\n",
            "RMS Contrast – HE: 73.21, CLAHE: 54.61\n",
            "RMS Contrast – HE: 73.14, CLAHE: 54.49\n",
            "RMS Contrast – HE: 73.18, CLAHE: 54.43\n",
            "RMS Contrast – HE: 73.20, CLAHE: 54.40\n",
            "RMS Contrast – HE: 73.19, CLAHE: 54.50\n",
            "RMS Contrast – HE: 73.24, CLAHE: 54.60\n",
            "RMS Contrast – HE: 73.25, CLAHE: 54.57\n",
            "RMS Contrast – HE: 73.25, CLAHE: 54.58\n",
            "RMS Contrast – HE: 73.22, CLAHE: 54.60\n",
            "RMS Contrast – HE: 73.21, CLAHE: 54.56\n",
            "RMS Contrast – HE: 72.95, CLAHE: 53.88\n",
            "RMS Contrast – HE: 72.95, CLAHE: 53.88\n",
            "RMS Contrast – HE: 72.94, CLAHE: 53.87\n",
            "RMS Contrast – HE: 72.92, CLAHE: 53.88\n",
            "RMS Contrast – HE: 72.92, CLAHE: 53.86\n",
            "RMS Contrast – HE: 72.93, CLAHE: 53.88\n",
            "RMS Contrast – HE: 72.93, CLAHE: 53.89\n",
            "RMS Contrast – HE: 72.93, CLAHE: 53.87\n",
            "RMS Contrast – HE: 72.94, CLAHE: 53.90\n",
            "RMS Contrast – HE: 72.92, CLAHE: 53.88\n",
            "RMS Contrast – HE: 72.96, CLAHE: 53.86\n",
            "RMS Contrast – HE: 72.96, CLAHE: 53.88\n",
            "RMS Contrast – HE: 72.96, CLAHE: 53.87\n",
            "RMS Contrast – HE: 72.94, CLAHE: 53.88\n",
            "RMS Contrast – HE: 72.95, CLAHE: 53.89\n",
            "RMS Contrast – HE: 72.95, CLAHE: 53.98\n",
            "RMS Contrast – HE: 73.00, CLAHE: 54.07\n",
            "RMS Contrast – HE: 73.01, CLAHE: 54.21\n",
            "RMS Contrast – HE: 72.97, CLAHE: 54.29\n",
            "RMS Contrast – HE: 72.97, CLAHE: 54.36\n",
            "RMS Contrast – HE: 72.97, CLAHE: 54.33\n",
            "RMS Contrast – HE: 72.95, CLAHE: 54.26\n"
          ]
        },
        {
          "name": "stderr",
          "output_type": "stream",
          "text": [
            "/tmp/ipython-input-36-3245185099.py:10: DeprecationWarning: Conversion of an array with ndim > 0 to a scalar is deprecated, and will error in future. Ensure you extract a single element from your array before performing this operation. (Deprecated NumPy 1.25.)\n",
            "  (bin_width*(j-1), size[1] - int(hist[j-1])),\n",
            "/tmp/ipython-input-36-3245185099.py:11: DeprecationWarning: Conversion of an array with ndim > 0 to a scalar is deprecated, and will error in future. Ensure you extract a single element from your array before performing this operation. (Deprecated NumPy 1.25.)\n",
            "  (bin_width*j, size[1] - int(hist[j])),\n"
          ]
        },
        {
          "name": "stdout",
          "output_type": "stream",
          "text": [
            "RMS Contrast – HE: 72.95, CLAHE: 54.21\n",
            "RMS Contrast – HE: 72.93, CLAHE: 54.20\n",
            "RMS Contrast – HE: 72.93, CLAHE: 54.15\n",
            "RMS Contrast – HE: 72.95, CLAHE: 54.21\n",
            "RMS Contrast – HE: 72.95, CLAHE: 54.19\n"
          ]
        },
        {
          "name": "stderr",
          "output_type": "stream",
          "text": [
            "/tmp/ipython-input-36-3245185099.py:10: DeprecationWarning: Conversion of an array with ndim > 0 to a scalar is deprecated, and will error in future. Ensure you extract a single element from your array before performing this operation. (Deprecated NumPy 1.25.)\n",
            "  (bin_width*(j-1), size[1] - int(hist[j-1])),\n",
            "/tmp/ipython-input-36-3245185099.py:11: DeprecationWarning: Conversion of an array with ndim > 0 to a scalar is deprecated, and will error in future. Ensure you extract a single element from your array before performing this operation. (Deprecated NumPy 1.25.)\n",
            "  (bin_width*j, size[1] - int(hist[j])),\n"
          ]
        },
        {
          "name": "stdout",
          "output_type": "stream",
          "text": [
            "RMS Contrast – HE: 72.96, CLAHE: 54.17\n",
            "RMS Contrast – HE: 72.96, CLAHE: 54.25\n",
            "RMS Contrast – HE: 72.95, CLAHE: 54.20\n",
            "RMS Contrast – HE: 72.96, CLAHE: 54.17\n",
            "RMS Contrast – HE: 72.94, CLAHE: 54.23\n",
            "RMS Contrast – HE: 72.93, CLAHE: 54.11\n",
            "RMS Contrast – HE: 72.97, CLAHE: 54.14\n",
            "RMS Contrast – HE: 72.93, CLAHE: 54.10\n",
            "RMS Contrast – HE: 72.93, CLAHE: 54.05\n",
            "RMS Contrast – HE: 72.94, CLAHE: 54.03\n",
            "RMS Contrast – HE: 72.94, CLAHE: 54.00\n",
            "RMS Contrast – HE: 72.93, CLAHE: 53.98\n",
            "RMS Contrast – HE: 72.93, CLAHE: 54.00\n",
            "RMS Contrast – HE: 72.96, CLAHE: 54.02\n",
            "RMS Contrast – HE: 72.97, CLAHE: 54.06\n",
            "RMS Contrast – HE: 72.97, CLAHE: 54.15\n",
            "RMS Contrast – HE: 72.96, CLAHE: 54.13\n",
            "RMS Contrast – HE: 72.96, CLAHE: 54.09\n",
            "RMS Contrast – HE: 72.96, CLAHE: 54.14\n",
            "RMS Contrast – HE: 72.99, CLAHE: 54.16\n",
            "RMS Contrast – HE: 72.99, CLAHE: 54.12\n",
            "RMS Contrast – HE: 72.98, CLAHE: 54.10\n",
            "RMS Contrast – HE: 72.98, CLAHE: 54.05\n",
            "RMS Contrast – HE: 72.99, CLAHE: 53.99\n",
            "RMS Contrast – HE: 72.98, CLAHE: 54.01\n",
            "RMS Contrast – HE: 73.01, CLAHE: 53.97\n",
            "RMS Contrast – HE: 73.01, CLAHE: 54.01\n",
            "RMS Contrast – HE: 73.03, CLAHE: 53.99\n",
            "RMS Contrast – HE: 73.00, CLAHE: 54.05\n",
            "RMS Contrast – HE: 72.98, CLAHE: 54.03\n",
            "RMS Contrast – HE: 73.03, CLAHE: 54.24\n",
            "RMS Contrast – HE: 73.11, CLAHE: 54.52\n",
            "RMS Contrast – HE: 73.15, CLAHE: 54.67\n",
            "RMS Contrast – HE: 73.21, CLAHE: 54.75\n",
            "RMS Contrast – HE: 73.22, CLAHE: 54.71\n",
            "RMS Contrast – HE: 73.26, CLAHE: 54.71\n",
            "RMS Contrast – HE: 73.25, CLAHE: 54.73\n",
            "RMS Contrast – HE: 73.21, CLAHE: 54.55\n",
            "RMS Contrast – HE: 73.15, CLAHE: 54.62\n"
          ]
        },
        {
          "name": "stderr",
          "output_type": "stream",
          "text": [
            "/tmp/ipython-input-36-3245185099.py:10: DeprecationWarning: Conversion of an array with ndim > 0 to a scalar is deprecated, and will error in future. Ensure you extract a single element from your array before performing this operation. (Deprecated NumPy 1.25.)\n",
            "  (bin_width*(j-1), size[1] - int(hist[j-1])),\n",
            "/tmp/ipython-input-36-3245185099.py:11: DeprecationWarning: Conversion of an array with ndim > 0 to a scalar is deprecated, and will error in future. Ensure you extract a single element from your array before performing this operation. (Deprecated NumPy 1.25.)\n",
            "  (bin_width*j, size[1] - int(hist[j])),\n"
          ]
        },
        {
          "name": "stdout",
          "output_type": "stream",
          "text": [
            "RMS Contrast – HE: 73.18, CLAHE: 54.56\n",
            "RMS Contrast – HE: 73.16, CLAHE: 54.58\n",
            "RMS Contrast – HE: 73.16, CLAHE: 54.60\n",
            "RMS Contrast – HE: 73.15, CLAHE: 54.59\n",
            "RMS Contrast – HE: 73.15, CLAHE: 54.56\n",
            "RMS Contrast – HE: 73.19, CLAHE: 54.49\n",
            "RMS Contrast – HE: 73.18, CLAHE: 54.44\n",
            "RMS Contrast – HE: 73.20, CLAHE: 54.31\n",
            "RMS Contrast – HE: 73.23, CLAHE: 54.25\n",
            "RMS Contrast – HE: 73.24, CLAHE: 54.23\n",
            "RMS Contrast – HE: 73.21, CLAHE: 54.27\n",
            "RMS Contrast – HE: 73.20, CLAHE: 54.27\n",
            "RMS Contrast – HE: 73.14, CLAHE: 54.17\n",
            "RMS Contrast – HE: 73.01, CLAHE: 54.03\n",
            "RMS Contrast – HE: 73.02, CLAHE: 54.05\n",
            "RMS Contrast – HE: 73.03, CLAHE: 54.13\n",
            "RMS Contrast – HE: 73.14, CLAHE: 54.27\n",
            "RMS Contrast – HE: 73.22, CLAHE: 54.34\n",
            "RMS Contrast – HE: 73.23, CLAHE: 54.39\n"
          ]
        },
        {
          "name": "stderr",
          "output_type": "stream",
          "text": [
            "/tmp/ipython-input-36-3245185099.py:10: DeprecationWarning: Conversion of an array with ndim > 0 to a scalar is deprecated, and will error in future. Ensure you extract a single element from your array before performing this operation. (Deprecated NumPy 1.25.)\n",
            "  (bin_width*(j-1), size[1] - int(hist[j-1])),\n",
            "/tmp/ipython-input-36-3245185099.py:11: DeprecationWarning: Conversion of an array with ndim > 0 to a scalar is deprecated, and will error in future. Ensure you extract a single element from your array before performing this operation. (Deprecated NumPy 1.25.)\n",
            "  (bin_width*j, size[1] - int(hist[j])),\n"
          ]
        },
        {
          "name": "stdout",
          "output_type": "stream",
          "text": [
            "RMS Contrast – HE: 73.23, CLAHE: 54.39\n",
            "RMS Contrast – HE: 73.22, CLAHE: 54.40\n",
            "RMS Contrast – HE: 73.22, CLAHE: 54.46\n",
            "RMS Contrast – HE: 73.21, CLAHE: 54.45\n",
            "RMS Contrast – HE: 73.23, CLAHE: 54.59\n",
            "RMS Contrast – HE: 73.25, CLAHE: 54.58\n",
            "RMS Contrast – HE: 73.24, CLAHE: 54.52\n",
            "RMS Contrast – HE: 73.21, CLAHE: 54.45\n"
          ]
        },
        {
          "name": "stderr",
          "output_type": "stream",
          "text": [
            "/tmp/ipython-input-36-3245185099.py:10: DeprecationWarning: Conversion of an array with ndim > 0 to a scalar is deprecated, and will error in future. Ensure you extract a single element from your array before performing this operation. (Deprecated NumPy 1.25.)\n",
            "  (bin_width*(j-1), size[1] - int(hist[j-1])),\n",
            "/tmp/ipython-input-36-3245185099.py:11: DeprecationWarning: Conversion of an array with ndim > 0 to a scalar is deprecated, and will error in future. Ensure you extract a single element from your array before performing this operation. (Deprecated NumPy 1.25.)\n",
            "  (bin_width*j, size[1] - int(hist[j])),\n"
          ]
        },
        {
          "name": "stdout",
          "output_type": "stream",
          "text": [
            "RMS Contrast – HE: 73.22, CLAHE: 54.40\n",
            "RMS Contrast – HE: 73.20, CLAHE: 54.29\n",
            "RMS Contrast – HE: 73.18, CLAHE: 54.37\n",
            "RMS Contrast – HE: 73.15, CLAHE: 54.47\n",
            "RMS Contrast – HE: 73.21, CLAHE: 54.68\n",
            "RMS Contrast – HE: 73.30, CLAHE: 54.75\n",
            "RMS Contrast – HE: 73.42, CLAHE: 54.87\n",
            "RMS Contrast – HE: 73.57, CLAHE: 55.17\n",
            "RMS Contrast – HE: 73.66, CLAHE: 55.42\n",
            "RMS Contrast – HE: 73.82, CLAHE: 55.79\n",
            "RMS Contrast – HE: 73.92, CLAHE: 56.01\n",
            "RMS Contrast – HE: 74.01, CLAHE: 56.18\n"
          ]
        },
        {
          "name": "stderr",
          "output_type": "stream",
          "text": [
            "/tmp/ipython-input-36-3245185099.py:10: DeprecationWarning: Conversion of an array with ndim > 0 to a scalar is deprecated, and will error in future. Ensure you extract a single element from your array before performing this operation. (Deprecated NumPy 1.25.)\n",
            "  (bin_width*(j-1), size[1] - int(hist[j-1])),\n",
            "/tmp/ipython-input-36-3245185099.py:11: DeprecationWarning: Conversion of an array with ndim > 0 to a scalar is deprecated, and will error in future. Ensure you extract a single element from your array before performing this operation. (Deprecated NumPy 1.25.)\n",
            "  (bin_width*j, size[1] - int(hist[j])),\n"
          ]
        },
        {
          "name": "stdout",
          "output_type": "stream",
          "text": [
            "RMS Contrast – HE: 74.00, CLAHE: 56.02\n",
            "RMS Contrast – HE: 73.91, CLAHE: 55.87\n",
            "RMS Contrast – HE: 73.99, CLAHE: 56.08\n",
            "RMS Contrast – HE: 74.03, CLAHE: 56.27\n",
            "RMS Contrast – HE: 73.98, CLAHE: 56.21\n",
            "RMS Contrast – HE: 73.88, CLAHE: 55.96\n",
            "RMS Contrast – HE: 73.85, CLAHE: 55.85\n",
            "RMS Contrast – HE: 73.91, CLAHE: 55.94\n",
            "RMS Contrast – HE: 73.92, CLAHE: 56.06\n",
            "RMS Contrast – HE: 73.91, CLAHE: 56.20\n",
            "RMS Contrast – HE: 73.75, CLAHE: 56.01\n",
            "RMS Contrast – HE: 73.60, CLAHE: 55.67\n",
            "RMS Contrast – HE: 73.54, CLAHE: 55.63\n",
            "RMS Contrast – HE: 73.52, CLAHE: 55.44\n",
            "RMS Contrast – HE: 73.47, CLAHE: 55.42\n",
            "RMS Contrast – HE: 73.47, CLAHE: 55.34\n",
            "RMS Contrast – HE: 73.48, CLAHE: 55.37\n",
            "RMS Contrast – HE: 73.52, CLAHE: 55.52\n",
            "RMS Contrast – HE: 73.56, CLAHE: 55.59\n",
            "RMS Contrast – HE: 73.57, CLAHE: 55.71\n",
            "RMS Contrast – HE: 73.48, CLAHE: 55.60\n",
            "RMS Contrast – HE: 73.54, CLAHE: 55.60\n",
            "RMS Contrast – HE: 73.58, CLAHE: 55.70\n",
            "RMS Contrast – HE: 73.58, CLAHE: 55.68\n"
          ]
        },
        {
          "name": "stderr",
          "output_type": "stream",
          "text": [
            "/tmp/ipython-input-36-3245185099.py:10: DeprecationWarning: Conversion of an array with ndim > 0 to a scalar is deprecated, and will error in future. Ensure you extract a single element from your array before performing this operation. (Deprecated NumPy 1.25.)\n",
            "  (bin_width*(j-1), size[1] - int(hist[j-1])),\n",
            "/tmp/ipython-input-36-3245185099.py:11: DeprecationWarning: Conversion of an array with ndim > 0 to a scalar is deprecated, and will error in future. Ensure you extract a single element from your array before performing this operation. (Deprecated NumPy 1.25.)\n",
            "  (bin_width*j, size[1] - int(hist[j])),\n"
          ]
        },
        {
          "name": "stdout",
          "output_type": "stream",
          "text": [
            "RMS Contrast – HE: 73.67, CLAHE: 55.76\n",
            "RMS Contrast – HE: 73.79, CLAHE: 55.97\n",
            "RMS Contrast – HE: 73.74, CLAHE: 55.99\n",
            "RMS Contrast – HE: 73.81, CLAHE: 56.12\n",
            "RMS Contrast – HE: 73.84, CLAHE: 56.15\n",
            "RMS Contrast – HE: 73.85, CLAHE: 56.07\n",
            "RMS Contrast – HE: 73.85, CLAHE: 56.11\n"
          ]
        },
        {
          "name": "stderr",
          "output_type": "stream",
          "text": [
            "/tmp/ipython-input-36-3245185099.py:10: DeprecationWarning: Conversion of an array with ndim > 0 to a scalar is deprecated, and will error in future. Ensure you extract a single element from your array before performing this operation. (Deprecated NumPy 1.25.)\n",
            "  (bin_width*(j-1), size[1] - int(hist[j-1])),\n",
            "/tmp/ipython-input-36-3245185099.py:11: DeprecationWarning: Conversion of an array with ndim > 0 to a scalar is deprecated, and will error in future. Ensure you extract a single element from your array before performing this operation. (Deprecated NumPy 1.25.)\n",
            "  (bin_width*j, size[1] - int(hist[j])),\n"
          ]
        },
        {
          "name": "stdout",
          "output_type": "stream",
          "text": [
            "RMS Contrast – HE: 73.82, CLAHE: 56.12\n",
            "RMS Contrast – HE: 73.81, CLAHE: 56.22\n",
            "RMS Contrast – HE: 73.92, CLAHE: 56.33\n",
            "RMS Contrast – HE: 73.94, CLAHE: 56.44\n",
            "RMS Contrast – HE: 74.07, CLAHE: 56.52\n",
            "RMS Contrast – HE: 74.06, CLAHE: 56.45\n",
            "RMS Contrast – HE: 74.04, CLAHE: 56.41\n",
            "RMS Contrast – HE: 74.04, CLAHE: 56.47\n",
            "RMS Contrast – HE: 73.98, CLAHE: 56.35\n",
            "RMS Contrast – HE: 74.03, CLAHE: 56.35\n",
            "RMS Contrast – HE: 74.05, CLAHE: 56.39\n",
            "RMS Contrast – HE: 74.05, CLAHE: 56.29\n",
            "RMS Contrast – HE: 74.06, CLAHE: 56.21\n",
            "RMS Contrast – HE: 74.06, CLAHE: 56.25\n",
            "RMS Contrast – HE: 74.03, CLAHE: 56.24\n",
            "RMS Contrast – HE: 74.05, CLAHE: 56.32\n",
            "RMS Contrast – HE: 73.97, CLAHE: 56.19\n",
            "RMS Contrast – HE: 73.99, CLAHE: 56.21\n",
            "RMS Contrast – HE: 73.97, CLAHE: 56.18\n"
          ]
        },
        {
          "name": "stderr",
          "output_type": "stream",
          "text": [
            "/tmp/ipython-input-36-3245185099.py:10: DeprecationWarning: Conversion of an array with ndim > 0 to a scalar is deprecated, and will error in future. Ensure you extract a single element from your array before performing this operation. (Deprecated NumPy 1.25.)\n",
            "  (bin_width*(j-1), size[1] - int(hist[j-1])),\n",
            "/tmp/ipython-input-36-3245185099.py:11: DeprecationWarning: Conversion of an array with ndim > 0 to a scalar is deprecated, and will error in future. Ensure you extract a single element from your array before performing this operation. (Deprecated NumPy 1.25.)\n",
            "  (bin_width*j, size[1] - int(hist[j])),\n"
          ]
        },
        {
          "name": "stdout",
          "output_type": "stream",
          "text": [
            "RMS Contrast – HE: 73.93, CLAHE: 55.97\n",
            "RMS Contrast – HE: 73.85, CLAHE: 55.85\n",
            "RMS Contrast – HE: 73.82, CLAHE: 55.74\n",
            "RMS Contrast – HE: 73.73, CLAHE: 55.56\n",
            "RMS Contrast – HE: 73.75, CLAHE: 55.68\n",
            "RMS Contrast – HE: 73.81, CLAHE: 55.74\n",
            "RMS Contrast – HE: 73.85, CLAHE: 55.75\n",
            "RMS Contrast – HE: 73.85, CLAHE: 55.78\n",
            "RMS Contrast – HE: 73.83, CLAHE: 55.81\n",
            "RMS Contrast – HE: 73.87, CLAHE: 55.95\n",
            "RMS Contrast – HE: 73.88, CLAHE: 55.93\n",
            "RMS Contrast – HE: 73.99, CLAHE: 56.23\n",
            "RMS Contrast – HE: 74.00, CLAHE: 56.38\n",
            "RMS Contrast – HE: 74.06, CLAHE: 56.43\n",
            "RMS Contrast – HE: 74.12, CLAHE: 56.50\n",
            "RMS Contrast – HE: 74.10, CLAHE: 56.50\n",
            "RMS Contrast – HE: 74.13, CLAHE: 56.47\n",
            "RMS Contrast – HE: 74.13, CLAHE: 56.32\n",
            "RMS Contrast – HE: 74.05, CLAHE: 56.18\n"
          ]
        },
        {
          "name": "stderr",
          "output_type": "stream",
          "text": [
            "/tmp/ipython-input-36-3245185099.py:10: DeprecationWarning: Conversion of an array with ndim > 0 to a scalar is deprecated, and will error in future. Ensure you extract a single element from your array before performing this operation. (Deprecated NumPy 1.25.)\n",
            "  (bin_width*(j-1), size[1] - int(hist[j-1])),\n",
            "/tmp/ipython-input-36-3245185099.py:11: DeprecationWarning: Conversion of an array with ndim > 0 to a scalar is deprecated, and will error in future. Ensure you extract a single element from your array before performing this operation. (Deprecated NumPy 1.25.)\n",
            "  (bin_width*j, size[1] - int(hist[j])),\n"
          ]
        },
        {
          "name": "stdout",
          "output_type": "stream",
          "text": [
            "RMS Contrast – HE: 73.95, CLAHE: 56.04\n",
            "RMS Contrast – HE: 74.00, CLAHE: 56.10\n",
            "RMS Contrast – HE: 73.97, CLAHE: 56.16\n",
            "RMS Contrast – HE: 73.96, CLAHE: 56.15\n",
            "RMS Contrast – HE: 73.88, CLAHE: 56.01\n",
            "RMS Contrast – HE: 73.85, CLAHE: 56.04\n",
            "RMS Contrast – HE: 73.89, CLAHE: 56.10\n",
            "RMS Contrast – HE: 73.90, CLAHE: 56.21\n",
            "RMS Contrast – HE: 73.75, CLAHE: 56.10\n",
            "RMS Contrast – HE: 73.76, CLAHE: 56.07\n",
            "RMS Contrast – HE: 73.76, CLAHE: 55.95\n",
            "RMS Contrast – HE: 73.71, CLAHE: 55.85\n",
            "RMS Contrast – HE: 73.75, CLAHE: 55.93\n",
            "RMS Contrast – HE: 73.81, CLAHE: 55.93\n",
            "RMS Contrast – HE: 73.87, CLAHE: 56.03\n",
            "RMS Contrast – HE: 73.85, CLAHE: 56.00\n",
            "RMS Contrast – HE: 73.87, CLAHE: 56.01\n",
            "RMS Contrast – HE: 73.86, CLAHE: 56.00\n",
            "RMS Contrast – HE: 73.90, CLAHE: 56.05\n",
            "RMS Contrast – HE: 73.89, CLAHE: 56.09\n",
            "RMS Contrast – HE: 73.87, CLAHE: 56.09\n",
            "RMS Contrast – HE: 73.85, CLAHE: 56.04\n",
            "RMS Contrast – HE: 73.76, CLAHE: 55.94\n",
            "RMS Contrast – HE: 73.71, CLAHE: 55.84\n"
          ]
        },
        {
          "name": "stderr",
          "output_type": "stream",
          "text": [
            "/tmp/ipython-input-36-3245185099.py:10: DeprecationWarning: Conversion of an array with ndim > 0 to a scalar is deprecated, and will error in future. Ensure you extract a single element from your array before performing this operation. (Deprecated NumPy 1.25.)\n",
            "  (bin_width*(j-1), size[1] - int(hist[j-1])),\n",
            "/tmp/ipython-input-36-3245185099.py:11: DeprecationWarning: Conversion of an array with ndim > 0 to a scalar is deprecated, and will error in future. Ensure you extract a single element from your array before performing this operation. (Deprecated NumPy 1.25.)\n",
            "  (bin_width*j, size[1] - int(hist[j])),\n"
          ]
        },
        {
          "name": "stdout",
          "output_type": "stream",
          "text": [
            "RMS Contrast – HE: 73.70, CLAHE: 55.98\n",
            "RMS Contrast – HE: 73.72, CLAHE: 56.00\n",
            "RMS Contrast – HE: 73.75, CLAHE: 55.97\n",
            "RMS Contrast – HE: 73.82, CLAHE: 56.01\n",
            "RMS Contrast – HE: 73.79, CLAHE: 55.95\n",
            "RMS Contrast – HE: 73.82, CLAHE: 56.00\n",
            "RMS Contrast – HE: 73.81, CLAHE: 56.00\n",
            "RMS Contrast – HE: 73.84, CLAHE: 55.93\n",
            "RMS Contrast – HE: 73.81, CLAHE: 55.88\n",
            "RMS Contrast – HE: 73.83, CLAHE: 55.93\n",
            "RMS Contrast – HE: 73.74, CLAHE: 55.89\n",
            "RMS Contrast – HE: 73.73, CLAHE: 55.95\n",
            "RMS Contrast – HE: 73.74, CLAHE: 55.98\n",
            "RMS Contrast – HE: 73.80, CLAHE: 56.03\n",
            "RMS Contrast – HE: 73.81, CLAHE: 56.02\n",
            "RMS Contrast – HE: 73.80, CLAHE: 55.96\n",
            "RMS Contrast – HE: 73.83, CLAHE: 55.99\n",
            "RMS Contrast – HE: 73.87, CLAHE: 56.12\n"
          ]
        },
        {
          "name": "stderr",
          "output_type": "stream",
          "text": [
            "/tmp/ipython-input-36-3245185099.py:10: DeprecationWarning: Conversion of an array with ndim > 0 to a scalar is deprecated, and will error in future. Ensure you extract a single element from your array before performing this operation. (Deprecated NumPy 1.25.)\n",
            "  (bin_width*(j-1), size[1] - int(hist[j-1])),\n",
            "/tmp/ipython-input-36-3245185099.py:11: DeprecationWarning: Conversion of an array with ndim > 0 to a scalar is deprecated, and will error in future. Ensure you extract a single element from your array before performing this operation. (Deprecated NumPy 1.25.)\n",
            "  (bin_width*j, size[1] - int(hist[j])),\n"
          ]
        },
        {
          "name": "stdout",
          "output_type": "stream",
          "text": [
            "RMS Contrast – HE: 73.89, CLAHE: 56.04\n",
            "RMS Contrast – HE: 73.84, CLAHE: 55.91\n",
            "RMS Contrast – HE: 73.80, CLAHE: 55.82\n",
            "RMS Contrast – HE: 73.74, CLAHE: 55.62\n",
            "RMS Contrast – HE: 73.72, CLAHE: 55.57\n",
            "RMS Contrast – HE: 73.72, CLAHE: 55.49\n",
            "RMS Contrast – HE: 73.74, CLAHE: 55.51\n",
            "RMS Contrast – HE: 73.75, CLAHE: 55.64\n",
            "RMS Contrast – HE: 73.71, CLAHE: 55.61\n",
            "RMS Contrast – HE: 73.63, CLAHE: 55.47\n",
            "RMS Contrast – HE: 73.65, CLAHE: 55.43\n",
            "RMS Contrast – HE: 73.67, CLAHE: 55.52\n",
            "RMS Contrast – HE: 73.66, CLAHE: 55.49\n",
            "RMS Contrast – HE: 73.63, CLAHE: 55.50\n",
            "RMS Contrast – HE: 73.66, CLAHE: 55.49\n",
            "RMS Contrast – HE: 73.63, CLAHE: 55.46\n",
            "RMS Contrast – HE: 73.63, CLAHE: 55.37\n",
            "RMS Contrast – HE: 73.67, CLAHE: 55.45\n",
            "RMS Contrast – HE: 73.66, CLAHE: 55.36\n",
            "RMS Contrast – HE: 73.62, CLAHE: 55.28\n",
            "RMS Contrast – HE: 73.60, CLAHE: 55.27\n",
            "RMS Contrast – HE: 73.62, CLAHE: 55.29\n",
            "RMS Contrast – HE: 73.61, CLAHE: 55.31\n",
            "RMS Contrast – HE: 73.60, CLAHE: 55.32\n",
            "RMS Contrast – HE: 73.60, CLAHE: 55.24\n",
            "RMS Contrast – HE: 73.55, CLAHE: 55.25\n",
            "RMS Contrast – HE: 73.56, CLAHE: 55.34\n",
            "RMS Contrast – HE: 73.57, CLAHE: 55.39\n",
            "RMS Contrast – HE: 73.54, CLAHE: 55.29\n",
            "RMS Contrast – HE: 73.50, CLAHE: 55.26\n",
            "RMS Contrast – HE: 73.49, CLAHE: 55.31\n",
            "RMS Contrast – HE: 73.53, CLAHE: 55.41\n",
            "RMS Contrast – HE: 73.51, CLAHE: 55.36\n",
            "RMS Contrast – HE: 73.48, CLAHE: 55.31\n"
          ]
        },
        {
          "name": "stderr",
          "output_type": "stream",
          "text": [
            "/tmp/ipython-input-36-3245185099.py:10: DeprecationWarning: Conversion of an array with ndim > 0 to a scalar is deprecated, and will error in future. Ensure you extract a single element from your array before performing this operation. (Deprecated NumPy 1.25.)\n",
            "  (bin_width*(j-1), size[1] - int(hist[j-1])),\n",
            "/tmp/ipython-input-36-3245185099.py:11: DeprecationWarning: Conversion of an array with ndim > 0 to a scalar is deprecated, and will error in future. Ensure you extract a single element from your array before performing this operation. (Deprecated NumPy 1.25.)\n",
            "  (bin_width*j, size[1] - int(hist[j])),\n"
          ]
        },
        {
          "name": "stdout",
          "output_type": "stream",
          "text": [
            "RMS Contrast – HE: 73.49, CLAHE: 55.31\n",
            "RMS Contrast – HE: 73.50, CLAHE: 55.55\n",
            "RMS Contrast – HE: 73.48, CLAHE: 55.68\n",
            "RMS Contrast – HE: 73.46, CLAHE: 55.76\n",
            "RMS Contrast – HE: 73.46, CLAHE: 55.62\n"
          ]
        },
        {
          "name": "stderr",
          "output_type": "stream",
          "text": [
            "/tmp/ipython-input-36-3245185099.py:10: DeprecationWarning: Conversion of an array with ndim > 0 to a scalar is deprecated, and will error in future. Ensure you extract a single element from your array before performing this operation. (Deprecated NumPy 1.25.)\n",
            "  (bin_width*(j-1), size[1] - int(hist[j-1])),\n",
            "/tmp/ipython-input-36-3245185099.py:11: DeprecationWarning: Conversion of an array with ndim > 0 to a scalar is deprecated, and will error in future. Ensure you extract a single element from your array before performing this operation. (Deprecated NumPy 1.25.)\n",
            "  (bin_width*j, size[1] - int(hist[j])),\n"
          ]
        },
        {
          "name": "stdout",
          "output_type": "stream",
          "text": [
            "RMS Contrast – HE: 73.39, CLAHE: 55.63\n",
            "RMS Contrast – HE: 73.38, CLAHE: 55.57\n",
            "RMS Contrast – HE: 73.44, CLAHE: 55.57\n",
            "RMS Contrast – HE: 73.42, CLAHE: 55.57\n",
            "RMS Contrast – HE: 73.44, CLAHE: 55.43\n",
            "RMS Contrast – HE: 73.42, CLAHE: 55.33\n",
            "RMS Contrast – HE: 73.40, CLAHE: 55.23\n",
            "RMS Contrast – HE: 73.37, CLAHE: 55.16\n",
            "RMS Contrast – HE: 73.36, CLAHE: 55.15\n",
            "RMS Contrast – HE: 73.38, CLAHE: 55.21\n",
            "RMS Contrast – HE: 73.41, CLAHE: 55.34\n",
            "RMS Contrast – HE: 73.42, CLAHE: 55.34\n",
            "RMS Contrast – HE: 73.43, CLAHE: 55.25\n",
            "RMS Contrast – HE: 73.43, CLAHE: 55.31\n",
            "RMS Contrast – HE: 73.44, CLAHE: 55.17\n",
            "RMS Contrast – HE: 73.40, CLAHE: 55.10\n",
            "RMS Contrast – HE: 73.40, CLAHE: 55.05\n",
            "RMS Contrast – HE: 73.42, CLAHE: 54.96\n",
            "RMS Contrast – HE: 73.34, CLAHE: 54.90\n"
          ]
        },
        {
          "name": "stderr",
          "output_type": "stream",
          "text": [
            "/tmp/ipython-input-36-3245185099.py:10: DeprecationWarning: Conversion of an array with ndim > 0 to a scalar is deprecated, and will error in future. Ensure you extract a single element from your array before performing this operation. (Deprecated NumPy 1.25.)\n",
            "  (bin_width*(j-1), size[1] - int(hist[j-1])),\n",
            "/tmp/ipython-input-36-3245185099.py:11: DeprecationWarning: Conversion of an array with ndim > 0 to a scalar is deprecated, and will error in future. Ensure you extract a single element from your array before performing this operation. (Deprecated NumPy 1.25.)\n",
            "  (bin_width*j, size[1] - int(hist[j])),\n"
          ]
        },
        {
          "name": "stdout",
          "output_type": "stream",
          "text": [
            "RMS Contrast – HE: 73.33, CLAHE: 54.94\n",
            "RMS Contrast – HE: 73.31, CLAHE: 54.99\n",
            "RMS Contrast – HE: 73.37, CLAHE: 54.95\n",
            "RMS Contrast – HE: 73.34, CLAHE: 55.05\n",
            "RMS Contrast – HE: 73.43, CLAHE: 55.10\n",
            "RMS Contrast – HE: 73.41, CLAHE: 54.90\n",
            "RMS Contrast – HE: 73.44, CLAHE: 54.98\n",
            "RMS Contrast – HE: 73.43, CLAHE: 54.99\n",
            "RMS Contrast – HE: 73.40, CLAHE: 55.03\n",
            "RMS Contrast – HE: 73.40, CLAHE: 55.06\n",
            "RMS Contrast – HE: 73.38, CLAHE: 55.05\n",
            "RMS Contrast – HE: 73.40, CLAHE: 55.01\n",
            "RMS Contrast – HE: 73.44, CLAHE: 55.10\n",
            "RMS Contrast – HE: 73.53, CLAHE: 55.19\n",
            "RMS Contrast – HE: 73.54, CLAHE: 55.25\n",
            "RMS Contrast – HE: 73.57, CLAHE: 55.28\n",
            "RMS Contrast – HE: 73.54, CLAHE: 55.29\n",
            "RMS Contrast – HE: 73.52, CLAHE: 55.25\n",
            "RMS Contrast – HE: 73.48, CLAHE: 55.17\n",
            "RMS Contrast – HE: 73.44, CLAHE: 55.14\n",
            "RMS Contrast – HE: 73.41, CLAHE: 55.10\n",
            "RMS Contrast – HE: 73.43, CLAHE: 55.13\n",
            "RMS Contrast – HE: 73.43, CLAHE: 55.10\n",
            "RMS Contrast – HE: 73.43, CLAHE: 55.10\n",
            "RMS Contrast – HE: 73.46, CLAHE: 55.06\n",
            "RMS Contrast – HE: 73.45, CLAHE: 55.04\n",
            "RMS Contrast – HE: 73.44, CLAHE: 55.02\n",
            "RMS Contrast – HE: 73.40, CLAHE: 55.08\n",
            "RMS Contrast – HE: 73.42, CLAHE: 55.12\n",
            "RMS Contrast – HE: 73.36, CLAHE: 55.07\n",
            "RMS Contrast – HE: 73.35, CLAHE: 55.00\n",
            "RMS Contrast – HE: 73.34, CLAHE: 54.90\n",
            "RMS Contrast – HE: 73.34, CLAHE: 54.86\n",
            "RMS Contrast – HE: 73.36, CLAHE: 54.85\n",
            "RMS Contrast – HE: 73.38, CLAHE: 54.88\n",
            "RMS Contrast – HE: 73.40, CLAHE: 54.88\n",
            "RMS Contrast – HE: 73.37, CLAHE: 54.88\n",
            "RMS Contrast – HE: 73.39, CLAHE: 54.86\n",
            "RMS Contrast – HE: 73.37, CLAHE: 54.92\n"
          ]
        },
        {
          "name": "stderr",
          "output_type": "stream",
          "text": [
            "/tmp/ipython-input-36-3245185099.py:10: DeprecationWarning: Conversion of an array with ndim > 0 to a scalar is deprecated, and will error in future. Ensure you extract a single element from your array before performing this operation. (Deprecated NumPy 1.25.)\n",
            "  (bin_width*(j-1), size[1] - int(hist[j-1])),\n",
            "/tmp/ipython-input-36-3245185099.py:11: DeprecationWarning: Conversion of an array with ndim > 0 to a scalar is deprecated, and will error in future. Ensure you extract a single element from your array before performing this operation. (Deprecated NumPy 1.25.)\n",
            "  (bin_width*j, size[1] - int(hist[j])),\n"
          ]
        },
        {
          "name": "stdout",
          "output_type": "stream",
          "text": [
            "RMS Contrast – HE: 73.33, CLAHE: 54.88\n",
            "RMS Contrast – HE: 73.33, CLAHE: 54.77\n",
            "RMS Contrast – HE: 73.33, CLAHE: 54.78\n",
            "RMS Contrast – HE: 73.34, CLAHE: 54.72\n",
            "RMS Contrast – HE: 73.31, CLAHE: 54.64\n"
          ]
        },
        {
          "name": "stderr",
          "output_type": "stream",
          "text": [
            "/tmp/ipython-input-36-3245185099.py:10: DeprecationWarning: Conversion of an array with ndim > 0 to a scalar is deprecated, and will error in future. Ensure you extract a single element from your array before performing this operation. (Deprecated NumPy 1.25.)\n",
            "  (bin_width*(j-1), size[1] - int(hist[j-1])),\n",
            "/tmp/ipython-input-36-3245185099.py:11: DeprecationWarning: Conversion of an array with ndim > 0 to a scalar is deprecated, and will error in future. Ensure you extract a single element from your array before performing this operation. (Deprecated NumPy 1.25.)\n",
            "  (bin_width*j, size[1] - int(hist[j])),\n"
          ]
        },
        {
          "name": "stdout",
          "output_type": "stream",
          "text": [
            "RMS Contrast – HE: 73.29, CLAHE: 54.63\n",
            "RMS Contrast – HE: 73.29, CLAHE: 54.63\n",
            "RMS Contrast – HE: 73.28, CLAHE: 54.61\n",
            "RMS Contrast – HE: 73.26, CLAHE: 54.52\n",
            "RMS Contrast – HE: 73.19, CLAHE: 54.50\n",
            "RMS Contrast – HE: 73.27, CLAHE: 54.65\n",
            "RMS Contrast – HE: 73.28, CLAHE: 54.61\n",
            "RMS Contrast – HE: 73.22, CLAHE: 54.65\n",
            "RMS Contrast – HE: 73.26, CLAHE: 54.73\n",
            "RMS Contrast – HE: 73.26, CLAHE: 54.74\n",
            "RMS Contrast – HE: 73.30, CLAHE: 54.69\n",
            "RMS Contrast – HE: 73.30, CLAHE: 54.75\n",
            "RMS Contrast – HE: 73.30, CLAHE: 54.87\n",
            "RMS Contrast – HE: 73.28, CLAHE: 54.82\n",
            "RMS Contrast – HE: 73.30, CLAHE: 54.82\n",
            "RMS Contrast – HE: 73.26, CLAHE: 54.75\n",
            "RMS Contrast – HE: 73.26, CLAHE: 54.72\n",
            "RMS Contrast – HE: 73.27, CLAHE: 54.89\n",
            "RMS Contrast – HE: 73.24, CLAHE: 54.89\n",
            "RMS Contrast – HE: 73.19, CLAHE: 54.83\n"
          ]
        },
        {
          "name": "stderr",
          "output_type": "stream",
          "text": [
            "/tmp/ipython-input-36-3245185099.py:10: DeprecationWarning: Conversion of an array with ndim > 0 to a scalar is deprecated, and will error in future. Ensure you extract a single element from your array before performing this operation. (Deprecated NumPy 1.25.)\n",
            "  (bin_width*(j-1), size[1] - int(hist[j-1])),\n",
            "/tmp/ipython-input-36-3245185099.py:11: DeprecationWarning: Conversion of an array with ndim > 0 to a scalar is deprecated, and will error in future. Ensure you extract a single element from your array before performing this operation. (Deprecated NumPy 1.25.)\n",
            "  (bin_width*j, size[1] - int(hist[j])),\n"
          ]
        },
        {
          "name": "stdout",
          "output_type": "stream",
          "text": [
            "RMS Contrast – HE: 73.11, CLAHE: 54.65\n",
            "RMS Contrast – HE: 73.15, CLAHE: 54.65\n",
            "RMS Contrast – HE: 73.14, CLAHE: 54.56\n",
            "RMS Contrast – HE: 73.17, CLAHE: 54.62\n",
            "RMS Contrast – HE: 73.18, CLAHE: 54.62\n",
            "RMS Contrast – HE: 73.13, CLAHE: 54.67\n",
            "RMS Contrast – HE: 73.15, CLAHE: 54.60\n",
            "RMS Contrast – HE: 73.17, CLAHE: 54.77\n",
            "RMS Contrast – HE: 73.21, CLAHE: 54.90\n",
            "RMS Contrast – HE: 73.25, CLAHE: 54.82\n",
            "RMS Contrast – HE: 73.28, CLAHE: 54.73\n",
            "RMS Contrast – HE: 73.31, CLAHE: 54.66\n",
            "RMS Contrast – HE: 73.29, CLAHE: 54.74\n",
            "RMS Contrast – HE: 73.28, CLAHE: 54.74\n",
            "RMS Contrast – HE: 73.25, CLAHE: 54.77\n",
            "RMS Contrast – HE: 73.24, CLAHE: 54.82\n",
            "RMS Contrast – HE: 73.21, CLAHE: 54.68\n",
            "RMS Contrast – HE: 73.17, CLAHE: 54.62\n",
            "RMS Contrast – HE: 73.14, CLAHE: 54.56\n",
            "RMS Contrast – HE: 73.17, CLAHE: 54.64\n",
            "RMS Contrast – HE: 73.21, CLAHE: 54.71\n",
            "RMS Contrast – HE: 73.18, CLAHE: 54.75\n",
            "RMS Contrast – HE: 73.19, CLAHE: 54.71\n",
            "RMS Contrast – HE: 73.11, CLAHE: 54.62\n",
            "RMS Contrast – HE: 73.09, CLAHE: 54.51\n"
          ]
        },
        {
          "name": "stderr",
          "output_type": "stream",
          "text": [
            "/tmp/ipython-input-36-3245185099.py:10: DeprecationWarning: Conversion of an array with ndim > 0 to a scalar is deprecated, and will error in future. Ensure you extract a single element from your array before performing this operation. (Deprecated NumPy 1.25.)\n",
            "  (bin_width*(j-1), size[1] - int(hist[j-1])),\n",
            "/tmp/ipython-input-36-3245185099.py:11: DeprecationWarning: Conversion of an array with ndim > 0 to a scalar is deprecated, and will error in future. Ensure you extract a single element from your array before performing this operation. (Deprecated NumPy 1.25.)\n",
            "  (bin_width*j, size[1] - int(hist[j])),\n"
          ]
        },
        {
          "name": "stdout",
          "output_type": "stream",
          "text": [
            "RMS Contrast – HE: 73.08, CLAHE: 54.44\n",
            "RMS Contrast – HE: 73.11, CLAHE: 54.57\n",
            "RMS Contrast – HE: 73.08, CLAHE: 54.65\n",
            "RMS Contrast – HE: 73.15, CLAHE: 54.64\n",
            "RMS Contrast – HE: 73.18, CLAHE: 54.64\n",
            "RMS Contrast – HE: 73.19, CLAHE: 54.64\n",
            "RMS Contrast – HE: 73.19, CLAHE: 54.69\n",
            "RMS Contrast – HE: 73.17, CLAHE: 54.62\n",
            "RMS Contrast – HE: 73.21, CLAHE: 54.58\n",
            "RMS Contrast – HE: 73.18, CLAHE: 54.60\n",
            "RMS Contrast – HE: 73.15, CLAHE: 54.47\n",
            "RMS Contrast – HE: 73.13, CLAHE: 54.47\n"
          ]
        },
        {
          "name": "stderr",
          "output_type": "stream",
          "text": [
            "/tmp/ipython-input-36-3245185099.py:10: DeprecationWarning: Conversion of an array with ndim > 0 to a scalar is deprecated, and will error in future. Ensure you extract a single element from your array before performing this operation. (Deprecated NumPy 1.25.)\n",
            "  (bin_width*(j-1), size[1] - int(hist[j-1])),\n",
            "/tmp/ipython-input-36-3245185099.py:11: DeprecationWarning: Conversion of an array with ndim > 0 to a scalar is deprecated, and will error in future. Ensure you extract a single element from your array before performing this operation. (Deprecated NumPy 1.25.)\n",
            "  (bin_width*j, size[1] - int(hist[j])),\n"
          ]
        },
        {
          "name": "stdout",
          "output_type": "stream",
          "text": [
            "RMS Contrast – HE: 73.12, CLAHE: 54.60\n",
            "RMS Contrast – HE: 73.13, CLAHE: 54.60\n",
            "RMS Contrast – HE: 73.15, CLAHE: 54.68\n",
            "RMS Contrast – HE: 73.20, CLAHE: 54.78\n",
            "RMS Contrast – HE: 73.22, CLAHE: 54.85\n",
            "RMS Contrast – HE: 73.21, CLAHE: 54.82\n",
            "RMS Contrast – HE: 73.19, CLAHE: 54.89\n",
            "RMS Contrast – HE: 73.25, CLAHE: 54.85\n",
            "RMS Contrast – HE: 73.24, CLAHE: 54.94\n",
            "RMS Contrast – HE: 73.21, CLAHE: 54.89\n",
            "RMS Contrast – HE: 73.19, CLAHE: 54.89\n",
            "RMS Contrast – HE: 73.23, CLAHE: 54.99\n",
            "RMS Contrast – HE: 73.25, CLAHE: 55.03\n",
            "RMS Contrast – HE: 73.26, CLAHE: 55.09\n"
          ]
        },
        {
          "name": "stderr",
          "output_type": "stream",
          "text": [
            "/tmp/ipython-input-36-3245185099.py:10: DeprecationWarning: Conversion of an array with ndim > 0 to a scalar is deprecated, and will error in future. Ensure you extract a single element from your array before performing this operation. (Deprecated NumPy 1.25.)\n",
            "  (bin_width*(j-1), size[1] - int(hist[j-1])),\n",
            "/tmp/ipython-input-36-3245185099.py:11: DeprecationWarning: Conversion of an array with ndim > 0 to a scalar is deprecated, and will error in future. Ensure you extract a single element from your array before performing this operation. (Deprecated NumPy 1.25.)\n",
            "  (bin_width*j, size[1] - int(hist[j])),\n"
          ]
        },
        {
          "name": "stdout",
          "output_type": "stream",
          "text": [
            "RMS Contrast – HE: 73.26, CLAHE: 55.12\n",
            "RMS Contrast – HE: 73.28, CLAHE: 55.13\n"
          ]
        }
      ],
      "source": [
        "clahe = cv2.createCLAHE(clipLimit=2.0, tileGridSize=(8, 8))\n",
        "\n",
        "while cap.isOpened():\n",
        "    ret, frame = cap.read()\n",
        "    if not ret:\n",
        "        break\n",
        "\n",
        "    original = frame.copy()\n",
        "\n",
        "    # === Global Histogram Equalisation ===\n",
        "    ycrcb = cv2.cvtColor(frame, cv2.COLOR_BGR2YCrCb)\n",
        "    y_eq = cv2.equalizeHist(ycrcb[:, :, 0])\n",
        "    ycrcb[:, :, 0] = y_eq\n",
        "    he_frame = cv2.cvtColor(ycrcb, cv2.COLOR_YCrCb2BGR)\n",
        "\n",
        "    # === CLAHE ===\n",
        "    ycrcb_clahe = cv2.cvtColor(frame, cv2.COLOR_BGR2YCrCb)\n",
        "    y_clahe = clahe.apply(ycrcb_clahe[:, :, 0])\n",
        "    ycrcb_clahe[:, :, 0] = y_clahe\n",
        "    clahe_frame = cv2.cvtColor(ycrcb_clahe, cv2.COLOR_YCrCb2BGR)\n",
        "\n",
        "    # === Histogram Panels ===\n",
        "    hist_orig = make_histogram_panel(original, size=(frame.shape[1], frame.shape[0]))\n",
        "    hist_eq = make_histogram_panel(he_frame, size=(frame.shape[1], frame.shape[0]))\n",
        "\n",
        "    # === 2x2 Grid for global HE ===\n",
        "    top_row = np.hstack((original, he_frame))\n",
        "    bottom_row = np.hstack((hist_orig, hist_eq))\n",
        "    grid = np.vstack((top_row, bottom_row))\n",
        "    out.write(grid)\n",
        "\n",
        "    # === 2x1 CLAHE comparison ===\n",
        "    comparison = np.hstack((he_frame, clahe_frame))\n",
        "    clahe_out.write(comparison)\n",
        "\n",
        "    # === Print RMS contrast (once or as debug info) ===\n",
        "    gray_he = cv2.cvtColor(he_frame, cv2.COLOR_BGR2GRAY)\n",
        "    gray_clahe = cv2.cvtColor(clahe_frame, cv2.COLOR_BGR2GRAY)\n",
        "    contrast_he = rms_contrast(gray_he)\n",
        "    contrast_clahe = rms_contrast(gray_clahe)\n",
        "    print(f\"RMS Contrast – HE: {contrast_he:.2f}, CLAHE: {contrast_clahe:.2f}\")"
      ]
    },
    {
      "cell_type": "markdown",
      "metadata": {
        "id": "qc_uluaXieN8"
      },
      "source": [
        "# **Output Video Writing**\n",
        "\n",
        "The processed frames are then written to the output video files:\n",
        "\n",
        "2x2 Grid for Global HE: A grid combining the original frame and the histogram equalized frame, along with their histograms.\n",
        "\n",
        "CLAHE Comparison: A side-by-side comparison of the global HE and CLAHE frames."
      ]
    },
    {
      "cell_type": "markdown",
      "metadata": {
        "id": "DQvJYIsfiiDh"
      },
      "source": [
        "# **Displaying RMS Contrast**\n",
        "\n",
        "The RMS contrast values for both the histogram equalized and CLAHE frames are calculated and printed.\n",
        "This helps in comparing the contrast improvements between the two methods."
      ]
    },
    {
      "cell_type": "markdown",
      "metadata": {
        "id": "YxBEWLaOimAr"
      },
      "source": [
        "# **Release Resources**\n",
        "\n",
        "Once the processing is complete, the resources are released.\n",
        "This ensures that the video streams and writers are properly closed."
      ]
    },
    {
      "cell_type": "code",
      "execution_count": null,
      "metadata": {
        "colab": {
          "background_save": true
        },
        "id": "Bbw1Ogp_in48"
      },
      "outputs": [],
      "source": [
        "cap.release()\n",
        "out.release()\n",
        "clahe_out.release()"
      ]
    },
    {
      "cell_type": "markdown",
      "metadata": {
        "id": "rFWPw6P4ipTW"
      },
      "source": [
        "# **Convert .avi to .mp4 and Display the Video**\n",
        "\n",
        "Finally, the .avi videos are converted to .mp4 format using ffmpeg, and the processed videos are displayed in the notebook:\n"
      ]
    },
    {
      "cell_type": "code",
      "execution_count": null,
      "metadata": {
        "colab": {
          "background_save": true
        },
        "id": "zpgwUDYMirVB",
        "outputId": "e7aa6cf4-3e7e-4c03-a331-53df9b7f4a22"
      },
      "outputs": [
        {
          "data": {
            "text/html": [
              "<video controls  >\n",
              " <source src=\"data:video/mp4;base64,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\" type=\"video/mp4\">\n",
              " Your browser does not support the video tag.\n",
              " </video>"
            ],
            "text/plain": [
              "<IPython.core.display.Video object>"
            ]
          },
          "metadata": {},
          "output_type": "display_data"
        },
        {
          "data": {
            "text/html": [
              "<video controls  >\n",
              " <source src=\"data:video/mp4;base64,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\" type=\"video/mp4\">\n",
              " Your browser does not support the video tag.\n",
              " </video>"
            ],
            "text/plain": [
              "<IPython.core.display.Video object>"
            ]
          },
          "metadata": {},
          "output_type": "display_data"
        },
        {
          "name": "stdout",
          "output_type": "stream",
          "text": [
            "✅ Done! Global HE video: output_hist_eq_grid_final.mp4\n",
            "✅ CLAHE comparison video: output_clahe_comparison_final.mp4\n"
          ]
        }
      ],
      "source": [
        "# Convert .avi to .mp4 if needed (use ffmpeg)\n",
        "os.system('ffmpeg -i output_hist_eq_grid.mp4 output_hist_eq_grid_final.mp4')\n",
        "os.system('ffmpeg -i output_clahe_comparison.mp4 output_clahe_comparison_final.mp4')\n",
        "\n",
        "# Display the video output in Colab\n",
        "display(Video(\"output_hist_eq_grid_final.mp4\", embed=True))\n",
        "display(Video(\"output_clahe_comparison_final.mp4\", embed=True))\n",
        "\n",
        "print(\"✅ Done! Global HE video: output_hist_eq_grid_final.mp4\")\n",
        "print(\"✅ CLAHE comparison video: output_clahe_comparison_final.mp4\")"
      ]
    }
  ],
  "metadata": {
    "colab": {
      "provenance": [],
      "authorship_tag": "ABX9TyNfOhQxMGaZqmquCaC/d7TL",
      "include_colab_link": true
    },
    "kernelspec": {
      "display_name": "Python 3",
      "name": "python3"
    },
    "language_info": {
      "name": "python"
    }
  },
  "nbformat": 4,
  "nbformat_minor": 0
}